{
 "cells": [
  {
   "cell_type": "code",
   "execution_count": 81,
   "metadata": {},
   "outputs": [],
   "source": [
    "import cx_Oracle as cx\n",
    "import oracledb\n",
    "import pickle\n",
    "import pandas as pd\n",
    "import numpy as np\n"
   ]
  },
  {
   "cell_type": "code",
   "execution_count": 82,
   "metadata": {},
   "outputs": [],
   "source": [
    "oracledb.init_oracle_client(lib_dir=\"/Users/minjoongkim/instantclient_19_8\")"
   ]
  },
  {
   "cell_type": "code",
   "execution_count": 83,
   "metadata": {},
   "outputs": [],
   "source": [
    "with open('data/world_bank_all.pkl', 'rb') as f:\n",
    "    wb_df = pickle.load(f)\n",
    "with open('data/global.pkl', 'rb') as f:\n",
    "    global_df = pickle.load(f)"
   ]
  },
  {
   "cell_type": "code",
   "execution_count": 84,
   "metadata": {},
   "outputs": [],
   "source": [
    "global_df['Year'] = global_df['Year'].astype(np.float64)"
   ]
  },
  {
   "cell_type": "code",
   "execution_count": 85,
   "metadata": {},
   "outputs": [],
   "source": [
    "g_rows = list(global_df.to_records(index=False))"
   ]
  },
  {
   "cell_type": "code",
   "execution_count": 86,
   "metadata": {},
   "outputs": [],
   "source": [
    "wb_df['date'] = wb_df['date'].astype(np.float64)"
   ]
  },
  {
   "cell_type": "code",
   "execution_count": null,
   "metadata": {},
   "outputs": [],
   "source": [
    "wb_df['co2e'].fillna('', inplace=True)\n",
    "wb_df['pm25'].fillna('', inplace=True)\n",
    "wb_df['gdp'].fillna('', inplace=True)\n",
    "wb_df['population'].fillna('', inplace=True)"
   ]
  },
  {
   "cell_type": "code",
   "execution_count": 91,
   "metadata": {},
   "outputs": [],
   "source": [
    "# Column 순서 수정, DB Column 순서에 맞춰서 재배치\n",
    "new_order = ['date', 'countryiso3code' , 'country_code', 'country', 'co2e', 'gdp', 'population', 'pm25']\n",
    "wb_df = wb_df[new_order]"
   ]
  },
  {
   "cell_type": "code",
   "execution_count": 93,
   "metadata": {},
   "outputs": [],
   "source": [
    "wb_df.index = range(1, len(wb_df) + 1)"
   ]
  },
  {
   "cell_type": "code",
   "execution_count": 94,
   "metadata": {},
   "outputs": [],
   "source": [
    "wb_rows = list(wb_df.to_records())"
   ]
  },
  {
   "cell_type": "code",
   "execution_count": 95,
   "metadata": {},
   "outputs": [],
   "source": [
    "wb_rows2 = []\n",
    "for row in wb_rows:\n",
    "    wb_rows2.append(list(row))"
   ]
  },
  {
   "cell_type": "code",
   "execution_count": 96,
   "metadata": {},
   "outputs": [],
   "source": [
    "converted_list = [[float(sublist[0])] + sublist[1:] for sublist in wb_rows2]\n"
   ]
  },
  {
   "cell_type": "code",
   "execution_count": 99,
   "metadata": {},
   "outputs": [
    {
     "data": {
      "text/plain": [
       "list"
      ]
     },
     "execution_count": 99,
     "metadata": {},
     "output_type": "execute_result"
    }
   ],
   "source": [
    "type(converted_list)"
   ]
  },
  {
   "cell_type": "code",
   "execution_count": null,
   "metadata": {},
   "outputs": [],
   "source": [
    "conn = cx.connect(user=\"lab02\", password=\"lab02\", dsn=\"localhost:1521/xe\")\n",
    "cursor = conn.cursor()\n",
    "cursor.executemany(\"insert into global_data values(:1, :2, :3, :4, :5, :6, :7, :8, :9, :10, :11)\", list(g_rows))\n",
    "cursor.execute('commit')\n",
    "cursor.executemany(\"insert into country_data values(:1, :2, :3, :4, :5, :6, :7, :8, :9)\", list(converted_list))\n",
    "cursor.execute('commit')\n",
    "conn.close()"
   ]
  },
  {
   "cell_type": "code",
   "execution_count": 114,
   "metadata": {},
   "outputs": [],
   "source": [
    "conn = cx.connect(user=\"lab02\", password=\"lab02\", dsn=\"localhost:1521/xe\")\n",
    "cursor = conn.cursor()\n",
    "cursor.execute(\"delete from country_data where \\\"year\\\" = 2021\")\n",
    "cursor.execute(\"delete from country_data where \\\"year\\\" < 1978\")\n",
    "cursor.execute('commit')\n",
    "conn.close()"
   ]
  },
  {
   "cell_type": "code",
   "execution_count": 115,
   "metadata": {},
   "outputs": [],
   "source": [
    "conn = cx.connect(user=\"lab02\", password=\"lab02\", dsn=\"localhost:1521/xe\")\n",
    "cursor = conn.cursor()\n",
    "cursor.execute(\"alter table country_data add constraint fk_year foreign key (\\\"year\\\") references global_data(\\\"year\\\")\")\n",
    "cursor.execute('commit')\n",
    "conn.close()"
   ]
  }
 ],
 "metadata": {
  "kernelspec": {
   "display_name": "study-env",
   "language": "python",
   "name": "python3"
  },
  "language_info": {
   "codemirror_mode": {
    "name": "ipython",
    "version": 3
   },
   "file_extension": ".py",
   "mimetype": "text/x-python",
   "name": "python",
   "nbconvert_exporter": "python",
   "pygments_lexer": "ipython3",
   "version": "3.9.18"
  }
 },
 "nbformat": 4,
 "nbformat_minor": 2
}
