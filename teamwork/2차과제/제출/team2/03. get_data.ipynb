{
 "cells": [
  {
   "cell_type": "code",
   "execution_count": null,
   "metadata": {},
   "outputs": [],
   "source": [
    "import cx_Oracle as cx\n",
    "import oracledb\n",
    "import pickle\n",
    "import pandas as pd\n",
    "import numpy as np\n"
   ]
  },
  {
   "cell_type": "code",
   "execution_count": null,
   "metadata": {},
   "outputs": [],
   "source": [
    "oracledb.init_oracle_client(lib_dir=\"/Users/minjoongkim/instantclient_19_8\")"
   ]
  },
  {
   "cell_type": "code",
   "execution_count": null,
   "metadata": {},
   "outputs": [],
   "source": [
    "conn = cx.connect(user=\"lab02\", password=\"lab02\", dsn=\"localhost:1521/xe\")\n",
    "cursor = conn.cursor()\n",
    "cursor.execute(\"select * from country_data\")\n",
    "country_data = cursor.fetchall()\n",
    "country_df = pd.DataFrame(country_data, columns=[column[0] for column in cursor.description])\n",
    "cursor.execute(\"select * from global_data\")\n",
    "global_data = cursor.fetchall()\n",
    "global_df = pd.DataFrame(global_data, columns=[column[0] for column in cursor.description])\n",
    "conn.close()"
   ]
  },
  {
   "cell_type": "code",
   "execution_count": null,
   "metadata": {},
   "outputs": [],
   "source": [
    "merged_df = pd.merge(country_df, global_df, how='inner', on='year')"
   ]
  },
  {
   "cell_type": "code",
   "execution_count": null,
   "metadata": {},
   "outputs": [],
   "source": [
    "merged_df.info()"
   ]
  },
  {
   "cell_type": "code",
   "execution_count": null,
   "metadata": {},
   "outputs": [],
   "source": [
    "regions = {\n",
    "    \"Asia\" : {\n",
    "        \"Korea\"             :       \"KOR\",\n",
    "        \"China\"             :       \"CHN\",\n",
    "        \"India\"             :       \"IND\",\n",
    "        \"Thailand\"          :       \"THA\"\n",
    "    },\n",
    "    \"Africa\" : {\n",
    "        \"South Africa\"      :       \"ZAF\",\n",
    "        \"Kenya\"             :       \"KEN\",\n",
    "        \"Egypt\"             :       \"EGY\",\n",
    "        \"Morocco\"           :       \"MAR\",\n",
    "        \"Nigeria\"           :       \"NGA\"\n",
    "    },\n",
    "    \"Europe\" : {\n",
    "        \"Russia\"            :       \"RUS\",\n",
    "        \"Germany\"           :       \"DEU\",\n",
    "        \"United Kingdom\"    :       \"GBR\",\n",
    "        \"Spain\"             :       \"ESP\",\n",
    "        \"Italy\"             :       \"ITA\",\n",
    "        \"Norway\"            :       \"NOR\"\n",
    "    },\n",
    "    \"America\" : {\n",
    "        \"United States\"     :       \"USA\",\n",
    "        \"Canada\"            :       \"CAN\",\n",
    "        \"Mexico\"            :       \"MEX\",\n",
    "        \"Brazil\"            :       \"BRA\",\n",
    "        \"Argentina\"         :       \"ARG\",\n",
    "    },\n",
    "    \"Middle East\" : {\n",
    "        \"Turkey\"            :       \"TUR\",\n",
    "        \"Iran\"              :       \"IRN\",\n",
    "        \"Saudi Arabia\"      :       \"SAU\"\n",
    "    },\n",
    "    \"Oceania\" : {\n",
    "        \"Austrailia\"        :       \"AUS\"\n",
    "    }\n",
    "}"
   ]
  },
  {
   "cell_type": "code",
   "execution_count": null,
   "metadata": {},
   "outputs": [],
   "source": [
    "merged_df['country_name'].value_counts()"
   ]
  },
  {
   "cell_type": "code",
   "execution_count": null,
   "metadata": {},
   "outputs": [],
   "source": [
    "pd.DataFrame(merged_df['country_name'].unique()).to_csv(\"Country_names.csv\")"
   ]
  },
  {
   "cell_type": "code",
   "execution_count": null,
   "metadata": {},
   "outputs": [],
   "source": [
    "merged_df.columns"
   ]
  },
  {
   "cell_type": "code",
   "execution_count": null,
   "metadata": {},
   "outputs": [],
   "source": [
    "new_regions = [\n",
    "    \"Arab World\",\n",
    "    \"East Asia & Pacific\",\n",
    "    \"European Union\",\n",
    "    \"High income\",\n",
    "    \"Latin America & Caribbean\",\n",
    "    \"Low income\",\n",
    "    \"Middle income\",\n",
    "    \"North America\",\n",
    "    \"OECD members\",\n",
    "    \"South Asia\",\n",
    "    \"Sub-Saharan Africa\",\n",
    "    \"World\"\n",
    "]"
   ]
  },
  {
   "cell_type": "code",
   "execution_count": null,
   "metadata": {},
   "outputs": [],
   "source": [
    "for region in new_regions:\n",
    "    new_df = merged_df[merged_df['country_name'] == region]\n",
    "    with open(f\"data/regional_data/{'_'.join(region.split(' '))}.pkl\", \"wb\") as f:\n",
    "        pickle.dump(new_df, f)"
   ]
  },
  {
   "cell_type": "markdown",
   "metadata": {},
   "source": []
  }
 ],
 "metadata": {
  "kernelspec": {
   "display_name": "study-env",
   "language": "python",
   "name": "python3"
  },
  "language_info": {
   "codemirror_mode": {
    "name": "ipython",
    "version": 3
   },
   "file_extension": ".py",
   "mimetype": "text/x-python",
   "name": "python",
   "nbconvert_exporter": "python",
   "pygments_lexer": "ipython3",
   "version": "3.9.18"
  }
 },
 "nbformat": 4,
 "nbformat_minor": 2
}
