{
 "cells": [
  {
   "cell_type": "code",
   "execution_count": 236,
   "metadata": {},
   "outputs": [],
   "source": [
    "import requests\n",
    "import pandas as pd\n",
    "import numpy as np\n",
    "import json"
   ]
  },
  {
   "cell_type": "code",
   "execution_count": 237,
   "metadata": {},
   "outputs": [],
   "source": [
    "def world_bank_api(target_country, indicat):  \n",
    "    api_params = {\n",
    "        'date' : '1960:2021',\n",
    "        'format' : 'json',\n",
    "        'frequency' : 'Y',\n",
    "        'per_page': 20000\n",
    "    }  \n",
    "    resp = requests.get(f'http://api.worldbank.org/v2/country/{target_country}/indicator/{indicat}', params=api_params)\n",
    "    return json.loads(resp.text)"
   ]
  },
  {
   "cell_type": "code",
   "execution_count": 238,
   "metadata": {},
   "outputs": [],
   "source": [
    "indicator = [\n",
    "    'NY.GDP.MKTP.CD',       # GDP\n",
    "    'SP.POP.TOTL',          # 인구\n",
    "    'EN.ATM.PM25.MC.M3',    # 초미세먼지\n",
    "    'EN.ATM.CO2E.PC'        # 이산화탄소 배출\n",
    "    ]\n",
    "country = 'all'"
   ]
  },
  {
   "cell_type": "code",
   "execution_count": 239,
   "metadata": {},
   "outputs": [],
   "source": [
    "world_gdp = world_bank_api(country, indicator[0])\n",
    "world_pop = world_bank_api(country, indicator[1])\n",
    "world_pm25 = world_bank_api(country, indicator[2])\n",
    "world_co2e = world_bank_api(country, indicator[3])"
   ]
  },
  {
   "cell_type": "code",
   "execution_count": 240,
   "metadata": {},
   "outputs": [],
   "source": [
    "df_gdp = pd.json_normalize(world_gdp[1])\n",
    "df_pop = pd.json_normalize(world_pop[1])\n",
    "df_pm25 = pd.json_normalize(world_pm25[1])\n",
    "df_co2e = pd.json_normalize(world_co2e[1])"
   ]
  },
  {
   "cell_type": "code",
   "execution_count": 241,
   "metadata": {},
   "outputs": [],
   "source": [
    "import pickle"
   ]
  },
  {
   "cell_type": "code",
   "execution_count": 242,
   "metadata": {},
   "outputs": [],
   "source": [
    "df_gdp['date'] = pd.to_numeric(df_gdp['date'])\n",
    "df_pop['date'] = pd.to_numeric(df_pop['date'])\n",
    "df_pm25['date'] = pd.to_numeric(df_pm25['date'])\n",
    "df_co2e['date'] = pd.to_numeric(df_co2e['date'])"
   ]
  },
  {
   "cell_type": "code",
   "execution_count": 243,
   "metadata": {},
   "outputs": [],
   "source": [
    "dfs = [\n",
    "    df_gdp,\n",
    "    df_pop,\n",
    "    df_pm25,\n",
    "    df_co2e\n",
    "]\n",
    "\n",
    "for df in dfs:\n",
    "    df.drop(columns=['unit', 'obs_status', 'decimal', 'indicator.id'], inplace=True)\n",
    "    df.rename(columns={'indicator.value':'measure', 'country.id':'country_code', 'country.value': 'country'}, inplace=True)"
   ]
  },
  {
   "cell_type": "code",
   "execution_count": 285,
   "metadata": {},
   "outputs": [],
   "source": [
    "df_gdp.rename(columns={'value': 'gdp'}, inplace=True)\n",
    "df_pop.rename(columns={'value': 'population'}, inplace=True)\n",
    "df_pm25.rename(columns={'value': 'pm25'}, inplace=True)\n",
    "df_co2e.rename(columns={'value': 'co2e'}, inplace=True)"
   ]
  },
  {
   "cell_type": "code",
   "execution_count": 288,
   "metadata": {},
   "outputs": [
    {
     "data": {
      "text/plain": [
       "Index(['countryiso3code', 'date', 'co2e', 'measure', 'country_code',\n",
       "       'country'],\n",
       "      dtype='object')"
      ]
     },
     "execution_count": 288,
     "metadata": {},
     "output_type": "execute_result"
    }
   ],
   "source": [
    "df_co2e.columns"
   ]
  },
  {
   "cell_type": "code",
   "execution_count": 290,
   "metadata": {},
   "outputs": [],
   "source": [
    "for df in dfs:\n",
    "    df.drop(columns=['measure'], inplace=True)"
   ]
  },
  {
   "cell_type": "code",
   "execution_count": 291,
   "metadata": {},
   "outputs": [],
   "source": [
    "ttl_df = pd.merge(df_gdp, df_pop, how='inner', on=['countryiso3code', 'date', 'country_code','country'])"
   ]
  },
  {
   "cell_type": "code",
   "execution_count": 293,
   "metadata": {},
   "outputs": [],
   "source": [
    "ttl_df = pd.merge(ttl_df, df_co2e, how='inner', on=['countryiso3code', 'date', 'country_code','country'])\n",
    "ttl_df = pd.merge(ttl_df, df_pm25, how='inner', on=['countryiso3code', 'date', 'country_code','country'])"
   ]
  },
  {
   "cell_type": "code",
   "execution_count": 298,
   "metadata": {},
   "outputs": [],
   "source": [
    "with open('data/world_bank_all.pkl', 'wb') as f:\n",
    "    pickle.dump(ttl_df, f)"
   ]
  },
  {
   "cell_type": "code",
   "execution_count": 245,
   "metadata": {},
   "outputs": [],
   "source": [
    "with open('data/world_bank_gdp.pkl', 'wb') as f:\n",
    "    pickle.dump(df_gdp, f)"
   ]
  },
  {
   "cell_type": "code",
   "execution_count": 246,
   "metadata": {},
   "outputs": [],
   "source": [
    "with open('data/world_bank_pop.pkl', 'wb') as f:\n",
    "    pickle.dump(df_pop, f)"
   ]
  },
  {
   "cell_type": "code",
   "execution_count": 247,
   "metadata": {},
   "outputs": [],
   "source": [
    "with open('data/world_bank_pm25.pkl', 'wb') as f:\n",
    "    pickle.dump(df_pm25, f)"
   ]
  },
  {
   "cell_type": "code",
   "execution_count": 248,
   "metadata": {},
   "outputs": [],
   "source": [
    "with open('data/world_bank_co2e.pkl', 'wb') as f:\n",
    "    pickle.dump(df_co2e, f)"
   ]
  },
  {
   "cell_type": "code",
   "execution_count": 249,
   "metadata": {},
   "outputs": [
    {
     "data": {
      "text/html": [
       "<div>\n",
       "<style scoped>\n",
       "    .dataframe tbody tr th:only-of-type {\n",
       "        vertical-align: middle;\n",
       "    }\n",
       "\n",
       "    .dataframe tbody tr th {\n",
       "        vertical-align: top;\n",
       "    }\n",
       "\n",
       "    .dataframe thead th {\n",
       "        text-align: right;\n",
       "    }\n",
       "</style>\n",
       "<table border=\"1\" class=\"dataframe\">\n",
       "  <thead>\n",
       "    <tr style=\"text-align: right;\">\n",
       "      <th></th>\n",
       "      <th>countryiso3code</th>\n",
       "      <th>date</th>\n",
       "      <th>value</th>\n",
       "      <th>measure</th>\n",
       "      <th>country_code</th>\n",
       "      <th>country</th>\n",
       "    </tr>\n",
       "  </thead>\n",
       "  <tbody>\n",
       "    <tr>\n",
       "      <th>2976</th>\n",
       "      <td>WLD</td>\n",
       "      <td>2021</td>\n",
       "      <td>9.752968e+13</td>\n",
       "      <td>GDP (current US$)</td>\n",
       "      <td>1W</td>\n",
       "      <td>World</td>\n",
       "    </tr>\n",
       "  </tbody>\n",
       "</table>\n",
       "</div>"
      ],
      "text/plain": [
       "     countryiso3code  date         value            measure country_code  \\\n",
       "2976             WLD  2021  9.752968e+13  GDP (current US$)           1W   \n",
       "\n",
       "     country  \n",
       "2976   World  "
      ]
     },
     "execution_count": 249,
     "metadata": {},
     "output_type": "execute_result"
    }
   ],
   "source": [
    "df_gdp[df_gdp['value'] == df_gdp['value'].max()]"
   ]
  },
  {
   "cell_type": "code",
   "execution_count": 265,
   "metadata": {},
   "outputs": [
    {
     "data": {
      "text/plain": [
       "country\n",
       "Afghanistan                    61.865329\n",
       "Africa Eastern and Southern    33.833868\n",
       "Africa Western and Central     68.843374\n",
       "Albania                        24.947482\n",
       "Algeria                        35.376846\n",
       "                                 ...    \n",
       "West Bank and Gaza             36.061285\n",
       "World                          47.655591\n",
       "Yemen, Rep.                    54.411846\n",
       "Zambia                         28.360616\n",
       "Zimbabwe                       26.288251\n",
       "Name: value, Length: 266, dtype: float64"
      ]
     },
     "execution_count": 265,
     "metadata": {},
     "output_type": "execute_result"
    }
   ],
   "source": [
    "df_pm25.groupby('country')['value'].max()"
   ]
  },
  {
   "cell_type": "code",
   "execution_count": 269,
   "metadata": {},
   "outputs": [],
   "source": [
    "df_co2e[df_co2e['country']=='China'].to_csv('china_co2e.csv')"
   ]
  },
  {
   "cell_type": "code",
   "execution_count": 271,
   "metadata": {},
   "outputs": [
    {
     "data": {
      "text/plain": [
       "(47.6569620139265, 0.0)"
      ]
     },
     "execution_count": 271,
     "metadata": {},
     "output_type": "execute_result"
    }
   ],
   "source": [
    "df_co2e['value'].max(), df_co2e['value'].min()"
   ]
  },
  {
   "cell_type": "code",
   "execution_count": 272,
   "metadata": {},
   "outputs": [
    {
     "data": {
      "text/plain": [
       "(95.24264397, 5.163300753)"
      ]
     },
     "execution_count": 272,
     "metadata": {},
     "output_type": "execute_result"
    }
   ],
   "source": [
    "df_pm25['value'].max(), df_pm25['value'].min()"
   ]
  },
  {
   "cell_type": "code",
   "execution_count": 273,
   "metadata": {},
   "outputs": [
    {
     "data": {
      "text/plain": [
       "(7888305693.0, 2646.0)"
      ]
     },
     "execution_count": 273,
     "metadata": {},
     "output_type": "execute_result"
    }
   ],
   "source": [
    "df_pop['value'].max(), df_pop['value'].min()"
   ]
  },
  {
   "cell_type": "code",
   "execution_count": 274,
   "metadata": {},
   "outputs": [
    {
     "data": {
      "text/plain": [
       "(97529676807424.8, 8824743.94191672)"
      ]
     },
     "execution_count": 274,
     "metadata": {},
     "output_type": "execute_result"
    }
   ],
   "source": [
    "df_gdp['value'].max(), df_gdp['value'].min()"
   ]
  },
  {
   "cell_type": "code",
   "execution_count": 280,
   "metadata": {},
   "outputs": [
    {
     "name": "stdout",
     "output_type": "stream",
     "text": [
      "52\n"
     ]
    }
   ],
   "source": [
    "max_len = 0\n",
    "for item in df_gdp['country']:\n",
    "    # print(item)\n",
    "    # print(len(item))\n",
    "    # break\n",
    "    max_len = max(len(item), max_len)\n",
    "\n",
    "print(max_len)"
   ]
  },
  {
   "cell_type": "code",
   "execution_count": 305,
   "metadata": {},
   "outputs": [],
   "source": [
    "df_sl = pd.read_csv('data/2.Sea_Level.csv', index_col=0)\n",
    "df_clm = pd.read_csv('data/1.climate.csv', index_col=0)"
   ]
  },
  {
   "cell_type": "code",
   "execution_count": 306,
   "metadata": {},
   "outputs": [],
   "source": [
    "df_sl.rename(columns={'year':'Year'}, inplace=True)"
   ]
  },
  {
   "cell_type": "code",
   "execution_count": 308,
   "metadata": {},
   "outputs": [],
   "source": [
    "combined_df = pd.merge(df_clm, df_sl, how='inner', on=['Year'])"
   ]
  },
  {
   "cell_type": "code",
   "execution_count": 310,
   "metadata": {},
   "outputs": [],
   "source": [
    "with open('data/global.pkl', 'wb') as f:\n",
    "    pickle.dump(combined_df, f)"
   ]
  }
 ],
 "metadata": {
  "kernelspec": {
   "display_name": "study-env",
   "language": "python",
   "name": "python3"
  },
  "language_info": {
   "codemirror_mode": {
    "name": "ipython",
    "version": 3
   },
   "file_extension": ".py",
   "mimetype": "text/x-python",
   "name": "python",
   "nbconvert_exporter": "python",
   "pygments_lexer": "ipython3",
   "version": "3.9.18"
  }
 },
 "nbformat": 4,
 "nbformat_minor": 2
}
