{
 "cells": [
  {
   "cell_type": "code",
   "execution_count": 1,
   "metadata": {},
   "outputs": [],
   "source": [
    "import numpy as np\n",
    "import pandas as pd\n",
    "import matplotlib.pyplot as plt"
   ]
  },
  {
   "cell_type": "code",
   "execution_count": 2,
   "metadata": {},
   "outputs": [],
   "source": [
    "# 데이터 준비\n",
    "from sklearn.datasets import load_files # 여러 개의 파일로부터 데이터를 읽는 함수\n",
    "\n",
    "reviews_train = load_files('data-files/aclImdb/train/')\n",
    "reviews_test = load_files('data-files/aclImdb/test/')"
   ]
  },
  {
   "cell_type": "code",
   "execution_count": 4,
   "metadata": {},
   "outputs": [
    {
     "data": {
      "text/plain": [
       "dict_keys(['data', 'filenames', 'target_names', 'target', 'DESCR'])"
      ]
     },
     "execution_count": 4,
     "metadata": {},
     "output_type": "execute_result"
    }
   ],
   "source": [
    "reviews_train.keys()"
   ]
  },
  {
   "cell_type": "code",
   "execution_count": 12,
   "metadata": {},
   "outputs": [
    {
     "data": {
      "text/plain": [
       "25000"
      ]
     },
     "execution_count": 12,
     "metadata": {},
     "output_type": "execute_result"
    }
   ],
   "source": [
    "reviews_train['data']\n",
    "reviews_train['target_names']\n",
    "reviews_train['target']\n",
    "np.unique(reviews_train['target'], return_counts=True)\n",
    "np.unique(reviews_test['target'], return_counts=True)\n",
    "len(reviews_train['data'])"
   ]
  },
  {
   "cell_type": "code",
   "execution_count": 13,
   "metadata": {},
   "outputs": [],
   "source": [
    "# DataFrame으로 구성\n",
    "reviews_train_df = pd.DataFrame({'label': reviews_train['target'],\n",
    "                                 'review': reviews_train['data']})\n",
    "reviews_test_df = pd.DataFrame({'label': reviews_test['target'],\n",
    "                                'review': reviews_test['data']})"
   ]
  },
  {
   "cell_type": "code",
   "execution_count": 15,
   "metadata": {},
   "outputs": [
    {
     "data": {
      "text/html": [
       "<div>\n",
       "<style scoped>\n",
       "    .dataframe tbody tr th:only-of-type {\n",
       "        vertical-align: middle;\n",
       "    }\n",
       "\n",
       "    .dataframe tbody tr th {\n",
       "        vertical-align: top;\n",
       "    }\n",
       "\n",
       "    .dataframe thead th {\n",
       "        text-align: right;\n",
       "    }\n",
       "</style>\n",
       "<table border=\"1\" class=\"dataframe\">\n",
       "  <thead>\n",
       "    <tr style=\"text-align: right;\">\n",
       "      <th></th>\n",
       "      <th>label</th>\n",
       "      <th>review</th>\n",
       "    </tr>\n",
       "  </thead>\n",
       "  <tbody>\n",
       "    <tr>\n",
       "      <th>0</th>\n",
       "      <td>1</td>\n",
       "      <td>b\"Zero Day leads you to think, even re-think w...</td>\n",
       "    </tr>\n",
       "    <tr>\n",
       "      <th>1</th>\n",
       "      <td>0</td>\n",
       "      <td>b'Words can\\'t describe how bad this movie is....</td>\n",
       "    </tr>\n",
       "    <tr>\n",
       "      <th>2</th>\n",
       "      <td>1</td>\n",
       "      <td>b'Everyone plays their part pretty well in thi...</td>\n",
       "    </tr>\n",
       "    <tr>\n",
       "      <th>3</th>\n",
       "      <td>0</td>\n",
       "      <td>b'There are a lot of highly talented filmmaker...</td>\n",
       "    </tr>\n",
       "    <tr>\n",
       "      <th>4</th>\n",
       "      <td>0</td>\n",
       "      <td>b'I\\'ve just had the evidence that confirmed m...</td>\n",
       "    </tr>\n",
       "  </tbody>\n",
       "</table>\n",
       "</div>"
      ],
      "text/plain": [
       "   label                                             review\n",
       "0      1  b\"Zero Day leads you to think, even re-think w...\n",
       "1      0  b'Words can\\'t describe how bad this movie is....\n",
       "2      1  b'Everyone plays their part pretty well in thi...\n",
       "3      0  b'There are a lot of highly talented filmmaker...\n",
       "4      0  b'I\\'ve just had the evidence that confirmed m..."
      ]
     },
     "execution_count": 15,
     "metadata": {},
     "output_type": "execute_result"
    }
   ],
   "source": [
    "reviews_train_df.head()"
   ]
  },
  {
   "cell_type": "code",
   "execution_count": 16,
   "metadata": {},
   "outputs": [],
   "source": [
    "# binary text -> char text\n",
    "reviews_train_df['review2'] = reviews_train_df['review'].map(lambda v: v.decode('utf-8'))\n",
    "reviews_test_df['review2'] = reviews_test_df['review'].map(lambda v: v.decode('utf-8'))"
   ]
  },
  {
   "cell_type": "code",
   "execution_count": 17,
   "metadata": {},
   "outputs": [
    {
     "data": {
      "text/html": [
       "<div>\n",
       "<style scoped>\n",
       "    .dataframe tbody tr th:only-of-type {\n",
       "        vertical-align: middle;\n",
       "    }\n",
       "\n",
       "    .dataframe tbody tr th {\n",
       "        vertical-align: top;\n",
       "    }\n",
       "\n",
       "    .dataframe thead th {\n",
       "        text-align: right;\n",
       "    }\n",
       "</style>\n",
       "<table border=\"1\" class=\"dataframe\">\n",
       "  <thead>\n",
       "    <tr style=\"text-align: right;\">\n",
       "      <th></th>\n",
       "      <th>label</th>\n",
       "      <th>review</th>\n",
       "      <th>review2</th>\n",
       "    </tr>\n",
       "  </thead>\n",
       "  <tbody>\n",
       "    <tr>\n",
       "      <th>0</th>\n",
       "      <td>1</td>\n",
       "      <td>b\"Zero Day leads you to think, even re-think w...</td>\n",
       "      <td>Zero Day leads you to think, even re-think why...</td>\n",
       "    </tr>\n",
       "    <tr>\n",
       "      <th>1</th>\n",
       "      <td>0</td>\n",
       "      <td>b'Words can\\'t describe how bad this movie is....</td>\n",
       "      <td>Words can't describe how bad this movie is. I ...</td>\n",
       "    </tr>\n",
       "    <tr>\n",
       "      <th>2</th>\n",
       "      <td>1</td>\n",
       "      <td>b'Everyone plays their part pretty well in thi...</td>\n",
       "      <td>Everyone plays their part pretty well in this ...</td>\n",
       "    </tr>\n",
       "    <tr>\n",
       "      <th>3</th>\n",
       "      <td>0</td>\n",
       "      <td>b'There are a lot of highly talented filmmaker...</td>\n",
       "      <td>There are a lot of highly talented filmmakers/...</td>\n",
       "    </tr>\n",
       "    <tr>\n",
       "      <th>4</th>\n",
       "      <td>0</td>\n",
       "      <td>b'I\\'ve just had the evidence that confirmed m...</td>\n",
       "      <td>I've just had the evidence that confirmed my s...</td>\n",
       "    </tr>\n",
       "  </tbody>\n",
       "</table>\n",
       "</div>"
      ],
      "text/plain": [
       "   label                                             review  \\\n",
       "0      1  b\"Zero Day leads you to think, even re-think w...   \n",
       "1      0  b'Words can\\'t describe how bad this movie is....   \n",
       "2      1  b'Everyone plays their part pretty well in thi...   \n",
       "3      0  b'There are a lot of highly talented filmmaker...   \n",
       "4      0  b'I\\'ve just had the evidence that confirmed m...   \n",
       "\n",
       "                                             review2  \n",
       "0  Zero Day leads you to think, even re-think why...  \n",
       "1  Words can't describe how bad this movie is. I ...  \n",
       "2  Everyone plays their part pretty well in this ...  \n",
       "3  There are a lot of highly talented filmmakers/...  \n",
       "4  I've just had the evidence that confirmed my s...  "
      ]
     },
     "execution_count": 17,
     "metadata": {},
     "output_type": "execute_result"
    }
   ],
   "source": [
    "reviews_train_df.head()"
   ]
  },
  {
   "cell_type": "code",
   "execution_count": 18,
   "metadata": {},
   "outputs": [],
   "source": [
    "# 처리된 데이터를 파일로 저장\n",
    "reviews_train_df.to_csv('data-files/imdb-reviews-train.csv', encoding='utf-8', index=False)\n",
    "reviews_test_df.to_csv('data-files/imdb-reviews-test.csv', encoding='utf-8', index=False)"
   ]
  },
  {
   "cell_type": "code",
   "execution_count": 19,
   "metadata": {},
   "outputs": [
    {
     "data": {
      "text/html": [
       "<div>\n",
       "<style scoped>\n",
       "    .dataframe tbody tr th:only-of-type {\n",
       "        vertical-align: middle;\n",
       "    }\n",
       "\n",
       "    .dataframe tbody tr th {\n",
       "        vertical-align: top;\n",
       "    }\n",
       "\n",
       "    .dataframe thead th {\n",
       "        text-align: right;\n",
       "    }\n",
       "</style>\n",
       "<table border=\"1\" class=\"dataframe\">\n",
       "  <thead>\n",
       "    <tr style=\"text-align: right;\">\n",
       "      <th></th>\n",
       "      <th>label</th>\n",
       "      <th>review</th>\n",
       "      <th>review2</th>\n",
       "    </tr>\n",
       "  </thead>\n",
       "  <tbody>\n",
       "    <tr>\n",
       "      <th>0</th>\n",
       "      <td>1</td>\n",
       "      <td>b\"Zero Day leads you to think, even re-think w...</td>\n",
       "      <td>Zero Day leads you to think, even re-think why...</td>\n",
       "    </tr>\n",
       "    <tr>\n",
       "      <th>1</th>\n",
       "      <td>0</td>\n",
       "      <td>b'Words can\\'t describe how bad this movie is....</td>\n",
       "      <td>Words can't describe how bad this movie is. I ...</td>\n",
       "    </tr>\n",
       "    <tr>\n",
       "      <th>2</th>\n",
       "      <td>1</td>\n",
       "      <td>b'Everyone plays their part pretty well in thi...</td>\n",
       "      <td>Everyone plays their part pretty well in this ...</td>\n",
       "    </tr>\n",
       "    <tr>\n",
       "      <th>3</th>\n",
       "      <td>0</td>\n",
       "      <td>b'There are a lot of highly talented filmmaker...</td>\n",
       "      <td>There are a lot of highly talented filmmakers/...</td>\n",
       "    </tr>\n",
       "    <tr>\n",
       "      <th>4</th>\n",
       "      <td>0</td>\n",
       "      <td>b'I\\'ve just had the evidence that confirmed m...</td>\n",
       "      <td>I've just had the evidence that confirmed my s...</td>\n",
       "    </tr>\n",
       "  </tbody>\n",
       "</table>\n",
       "</div>"
      ],
      "text/plain": [
       "   label                                             review  \\\n",
       "0      1  b\"Zero Day leads you to think, even re-think w...   \n",
       "1      0  b'Words can\\'t describe how bad this movie is....   \n",
       "2      1  b'Everyone plays their part pretty well in thi...   \n",
       "3      0  b'There are a lot of highly talented filmmaker...   \n",
       "4      0  b'I\\'ve just had the evidence that confirmed m...   \n",
       "\n",
       "                                             review2  \n",
       "0  Zero Day leads you to think, even re-think why...  \n",
       "1  Words can't describe how bad this movie is. I ...  \n",
       "2  Everyone plays their part pretty well in this ...  \n",
       "3  There are a lot of highly talented filmmakers/...  \n",
       "4  I've just had the evidence that confirmed my s...  "
      ]
     },
     "execution_count": 19,
     "metadata": {},
     "output_type": "execute_result"
    }
   ],
   "source": [
    "pd.read_csv(\"data-files/imdb-reviews-train.csv\").head()"
   ]
  },
  {
   "cell_type": "code",
   "execution_count": 21,
   "metadata": {},
   "outputs": [
    {
     "name": "stdout",
     "output_type": "stream",
     "text": [
      "<class 'pandas.core.frame.DataFrame'>\n",
      "RangeIndex: 25000 entries, 0 to 24999\n",
      "Data columns (total 3 columns):\n",
      " #   Column   Non-Null Count  Dtype \n",
      "---  ------   --------------  ----- \n",
      " 0   label    25000 non-null  int32 \n",
      " 1   review   25000 non-null  object\n",
      " 2   review2  25000 non-null  object\n",
      "dtypes: int32(1), object(2)\n",
      "memory usage: 488.4+ KB\n",
      "<class 'pandas.core.frame.DataFrame'>\n",
      "RangeIndex: 25000 entries, 0 to 24999\n",
      "Data columns (total 3 columns):\n",
      " #   Column   Non-Null Count  Dtype \n",
      "---  ------   --------------  ----- \n",
      " 0   label    25000 non-null  int32 \n",
      " 1   review   25000 non-null  object\n",
      " 2   review2  25000 non-null  object\n",
      "dtypes: int32(1), object(2)\n",
      "memory usage: 488.4+ KB\n"
     ]
    }
   ],
   "source": [
    "reviews_test_df.info()\n",
    "reviews_train_df.info()"
   ]
  },
  {
   "cell_type": "code",
   "execution_count": 22,
   "metadata": {},
   "outputs": [],
   "source": [
    "# 모두 소문자로 변경\n",
    "reviews_train_df['review2'] = reviews_train_df['review2'].str.lower()\n",
    "reviews_test_df['review2'] = reviews_test_df['review2'].str.lower()"
   ]
  },
  {
   "cell_type": "code",
   "execution_count": 23,
   "metadata": {},
   "outputs": [
    {
     "data": {
      "text/plain": [
       "\"zero day leads you to think, even re-think why two boys/young men would do what they did - commit mutual suicide via slaughtering their classmates. it captures what must be beyond a bizarre mode of being for two humans who have decided to withdraw from common civility in order to define their own/mutual world via coupled destruction.<br /><br />it is not a perfect movie but given what money/time the filmmaker and actors had - it is a remarkable product. in terms of explaining the motives and actions of the two young suicide/murderers it is better than 'elephant' - in terms of being a film that gets under our 'rationalistic' skin it is a far, far better film than almost anything you are likely to see. <br /><br />flawed but honest with a terrible honesty.\""
      ]
     },
     "execution_count": 23,
     "metadata": {},
     "output_type": "execute_result"
    }
   ],
   "source": [
    "# 문서 내용 확인 --> html 마크업 포함 확인 (<br />)\n",
    "reviews_train_df['review2'][0]"
   ]
  },
  {
   "cell_type": "code",
   "execution_count": 27,
   "metadata": {},
   "outputs": [
    {
     "name": "stderr",
     "output_type": "stream",
     "text": [
      "C:\\Users\\Administrator.User -2023YNCQT\\AppData\\Local\\Temp\\ipykernel_10308\\1581259362.py:6: MarkupResemblesLocatorWarning: The input looks more like a filename than markup. You may want to open this file and pass the filehandle into Beautiful Soup.\n",
      "  reviews_train_df['review2'].map(lambda v: BeautifulSoup(v, \"html5lib\").get_text())\n",
      "C:\\Users\\Administrator.User -2023YNCQT\\AppData\\Local\\Temp\\ipykernel_10308\\1581259362.py:8: MarkupResemblesLocatorWarning: The input looks more like a filename than markup. You may want to open this file and pass the filehandle into Beautiful Soup.\n",
      "  reviews_test_df['review2'].map(lambda v: BeautifulSoup(v, \"html5lib\").get_text())\n"
     ]
    }
   ],
   "source": [
    "# reviews_train_df['review2'].str.replace('<br />', '')\n",
    "\n",
    "from bs4 import BeautifulSoup\n",
    "\n",
    "reviews_train_df['review2'] = \\\n",
    "    reviews_train_df['review2'].map(lambda v: BeautifulSoup(v, \"html5lib\").get_text())\n",
    "reviews_test_df['review2'] = \\\n",
    "    reviews_test_df['review2'].map(lambda v: BeautifulSoup(v, \"html5lib\").get_text())"
   ]
  },
  {
   "cell_type": "code",
   "execution_count": 28,
   "metadata": {},
   "outputs": [
    {
     "data": {
      "text/plain": [
       "\"zero day leads you to think, even re-think why two boys/young men would do what they did - commit mutual suicide via slaughtering their classmates. it captures what must be beyond a bizarre mode of being for two humans who have decided to withdraw from common civility in order to define their own/mutual world via coupled destruction.it is not a perfect movie but given what money/time the filmmaker and actors had - it is a remarkable product. in terms of explaining the motives and actions of the two young suicide/murderers it is better than 'elephant' - in terms of being a film that gets under our 'rationalistic' skin it is a far, far better film than almost anything you are likely to see. flawed but honest with a terrible honesty.\""
      ]
     },
     "execution_count": 28,
     "metadata": {},
     "output_type": "execute_result"
    }
   ],
   "source": [
    "reviews_train_df['review2'][0]"
   ]
  },
  {
   "cell_type": "code",
   "execution_count": 29,
   "metadata": {},
   "outputs": [],
   "source": [
    "# 특수문자 제거 ( 영문자만 남기기 )\n",
    "import re\n",
    "\n",
    "reviews_train_df['review2'] = reviews_train_df['review2'].map(lambda v: re.sub('[^A-Za-z]', ' ', v))\n",
    "reviews_test_df['review2'] = reviews_test_df['review2'].map(lambda v: re.sub('[^A-Za-z]', ' ', v))"
   ]
  },
  {
   "cell_type": "code",
   "execution_count": 30,
   "metadata": {},
   "outputs": [
    {
     "data": {
      "text/plain": [
       "'zero day leads you to think  even re think why two boys young men would do what they did   commit mutual suicide via slaughtering their classmates  it captures what must be beyond a bizarre mode of being for two humans who have decided to withdraw from common civility in order to define their own mutual world via coupled destruction it is not a perfect movie but given what money time the filmmaker and actors had   it is a remarkable product  in terms of explaining the motives and actions of the two young suicide murderers it is better than  elephant    in terms of being a film that gets under our  rationalistic  skin it is a far  far better film than almost anything you are likely to see  flawed but honest with a terrible honesty '"
      ]
     },
     "execution_count": 30,
     "metadata": {},
     "output_type": "execute_result"
    }
   ],
   "source": [
    "reviews_train_df['review2'][0]"
   ]
  },
  {
   "cell_type": "code",
   "execution_count": 31,
   "metadata": {},
   "outputs": [],
   "source": [
    "# 문장 -> 단어의 리스트 변환\n",
    "import nltk\n",
    "\n",
    "# reviews_train_df['review2'] = reviews_train_df['review2'].str.split(' ')\n",
    "reviews_train_df['review2'] = reviews_train_df['review2'].map(nltk.word_tokenize)\n",
    "reviews_test_df['review2'] = reviews_test_df['review2'].map(nltk.word_tokenize)"
   ]
  },
  {
   "cell_type": "code",
   "execution_count": 34,
   "metadata": {},
   "outputs": [
    {
     "name": "stdout",
     "output_type": "stream",
     "text": [
      "['zero', 'day', 'leads', 'you', 'to', 'think', 'even', 're', 'think', 'why']\n"
     ]
    },
    {
     "data": {
      "text/html": [
       "<div>\n",
       "<style scoped>\n",
       "    .dataframe tbody tr th:only-of-type {\n",
       "        vertical-align: middle;\n",
       "    }\n",
       "\n",
       "    .dataframe tbody tr th {\n",
       "        vertical-align: top;\n",
       "    }\n",
       "\n",
       "    .dataframe thead th {\n",
       "        text-align: right;\n",
       "    }\n",
       "</style>\n",
       "<table border=\"1\" class=\"dataframe\">\n",
       "  <thead>\n",
       "    <tr style=\"text-align: right;\">\n",
       "      <th></th>\n",
       "      <th>label</th>\n",
       "      <th>review</th>\n",
       "      <th>review2</th>\n",
       "    </tr>\n",
       "  </thead>\n",
       "  <tbody>\n",
       "    <tr>\n",
       "      <th>0</th>\n",
       "      <td>1</td>\n",
       "      <td>b\"Zero Day leads you to think, even re-think w...</td>\n",
       "      <td>[zero, day, leads, you, to, think, even, re, t...</td>\n",
       "    </tr>\n",
       "    <tr>\n",
       "      <th>1</th>\n",
       "      <td>0</td>\n",
       "      <td>b'Words can\\'t describe how bad this movie is....</td>\n",
       "      <td>[words, can, t, describe, how, bad, this, movi...</td>\n",
       "    </tr>\n",
       "    <tr>\n",
       "      <th>2</th>\n",
       "      <td>1</td>\n",
       "      <td>b'Everyone plays their part pretty well in thi...</td>\n",
       "      <td>[everyone, plays, their, part, pretty, well, i...</td>\n",
       "    </tr>\n",
       "    <tr>\n",
       "      <th>3</th>\n",
       "      <td>0</td>\n",
       "      <td>b'There are a lot of highly talented filmmaker...</td>\n",
       "      <td>[there, are, a, lot, of, highly, talented, fil...</td>\n",
       "    </tr>\n",
       "    <tr>\n",
       "      <th>4</th>\n",
       "      <td>0</td>\n",
       "      <td>b'I\\'ve just had the evidence that confirmed m...</td>\n",
       "      <td>[i, ve, just, had, the, evidence, that, confir...</td>\n",
       "    </tr>\n",
       "  </tbody>\n",
       "</table>\n",
       "</div>"
      ],
      "text/plain": [
       "   label                                             review  \\\n",
       "0      1  b\"Zero Day leads you to think, even re-think w...   \n",
       "1      0  b'Words can\\'t describe how bad this movie is....   \n",
       "2      1  b'Everyone plays their part pretty well in thi...   \n",
       "3      0  b'There are a lot of highly talented filmmaker...   \n",
       "4      0  b'I\\'ve just had the evidence that confirmed m...   \n",
       "\n",
       "                                             review2  \n",
       "0  [zero, day, leads, you, to, think, even, re, t...  \n",
       "1  [words, can, t, describe, how, bad, this, movi...  \n",
       "2  [everyone, plays, their, part, pretty, well, i...  \n",
       "3  [there, are, a, lot, of, highly, talented, fil...  \n",
       "4  [i, ve, just, had, the, evidence, that, confir...  "
      ]
     },
     "execution_count": 34,
     "metadata": {},
     "output_type": "execute_result"
    }
   ],
   "source": [
    "print( reviews_train_df['review2'][0][:10] )\n",
    "reviews_train_df.head()"
   ]
  }
 ],
 "metadata": {
  "kernelspec": {
   "display_name": "study-env",
   "language": "python",
   "name": "python3"
  },
  "language_info": {
   "codemirror_mode": {
    "name": "ipython",
    "version": 3
   },
   "file_extension": ".py",
   "mimetype": "text/x-python",
   "name": "python",
   "nbconvert_exporter": "python",
   "pygments_lexer": "ipython3",
   "version": "3.9.18"
  }
 },
 "nbformat": 4,
 "nbformat_minor": 2
}
