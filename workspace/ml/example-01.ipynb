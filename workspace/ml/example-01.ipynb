{
 "cells": [
  {
   "cell_type": "code",
   "execution_count": 6,
   "metadata": {},
   "outputs": [],
   "source": [
    "import numpy as np\n",
    "import pandas as pd\n",
    "import matplotlib.pyplot as plt\n",
    "\n",
    "from sklearn.datasets import load_iris"
   ]
  },
  {
   "cell_type": "code",
   "execution_count": 54,
   "metadata": {},
   "outputs": [
    {
     "data": {
      "text/plain": [
       "10.939999999999998"
      ]
     },
     "execution_count": 54,
     "metadata": {},
     "output_type": "execute_result"
    }
   ],
   "source": [
    "# 각 X입력에 가중치를 곱하고 합을 구한 후 반환\n",
    "def net_input(X, w):\n",
    "    # X: list, w: list\n",
    "    # return sum([vx * vw for vx, vw in zip(X, w[1:])]) + w[0]\n",
    "    return np.dot(X, w[1:]) + w[0]\n",
    "\n",
    "net_input(X=[5.1, 3.5, 1.4, 0.2], w=[0.2, 1.5, -0.5, 3.1, 2.5])"
   ]
  },
  {
   "cell_type": "code",
   "execution_count": 55,
   "metadata": {},
   "outputs": [
    {
     "data": {
      "text/plain": [
       "(1, -1)"
      ]
     },
     "execution_count": 55,
     "metadata": {},
     "output_type": "execute_result"
    }
   ],
   "source": [
    "def activation(v):\n",
    "    # if v > 0:\n",
    "    #     return 1\n",
    "    # else:\n",
    "    #     return -1\n",
    "    \n",
    "    return 1 if v > 0 else -1\n",
    "\n",
    "activation(0.7), activation(-0.3)"
   ]
  },
  {
   "cell_type": "code",
   "execution_count": 5,
   "metadata": {},
   "outputs": [
    {
     "data": {
      "text/plain": [
       "-1"
      ]
     },
     "execution_count": 5,
     "metadata": {},
     "output_type": "execute_result"
    }
   ],
   "source": [
    "def predict(X, w):\n",
    "    net_value = net_input(X, w)\n",
    "    activated_value = activation(net_value)\n",
    "    return activated_value\n",
    "\n",
    "predict([1, 2, 3, 4], [0.5, 10, -6, 4, -13])"
   ]
  },
  {
   "cell_type": "code",
   "execution_count": 17,
   "metadata": {},
   "outputs": [],
   "source": [
    "def fit(X, y, eta, n_iter):\n",
    "    w = np.zeros(1 + X.shape[1]) # 가중치 배열 생성 및 초기화 : 갯수는 X의 컬럼 갯수 + 1\n",
    "    errors = [] # error log용 리스트 (각 반복마다 error 값을 저장)\n",
    "\n",
    "    for _ in np.arange(n_iter):\n",
    "        error_sum = 0\n",
    "        for xv, t in zip(X, y): # 한 행의 값(X, y)을 뽑아서 -> 총 100번 반복\n",
    "            output = predict(xv, w) # net_input + activation -> -1 or 1을 도출\n",
    "            error = t - output # 오차 계산 (실제값 - 출력값)\n",
    "            error_sum += error # 발생한 오차를 기록에 남기기\n",
    "\n",
    "            delta = eta * error # 학습률을 적용해서 업데이트할 값을 도출 -> 실제 조정에 적용할 비율\n",
    "            w[1:] += delta * xv # 기존 입력값에 대한 가중치에 조정할 값을 적용\n",
    "            w[0] += delta * 1 # 기존 절편(편향) 가중치에 조정할 값을 적용\n",
    "\n",
    "        errors.append(error_sum)\n",
    "    \n",
    "    return w, errors"
   ]
  },
  {
   "cell_type": "code",
   "execution_count": 47,
   "metadata": {},
   "outputs": [
    {
     "data": {
      "text/plain": [
       "array([0, 0, 0, 0, 0, 0, 0, 0, 0, 0, 0, 0, 0, 0, 0, 0, 0, 0, 0, 0, 0, 0,\n",
       "       0, 0, 0, 0, 0, 0, 0, 0, 0, 0, 0, 0, 0, 0, 0, 0, 0, 0, 0, 0, 0, 0,\n",
       "       0, 0, 0, 0, 0, 0, 1, 1, 1, 1, 1, 1, 1, 1, 1, 1, 1, 1, 1, 1, 1, 1,\n",
       "       1, 1, 1, 1, 1, 1, 1, 1, 1, 1, 1, 1, 1, 1, 1, 1, 1, 1, 1, 1, 1, 1,\n",
       "       1, 1, 1, 1, 1, 1, 1, 1, 1, 1, 1, 1, 2, 2, 2, 2, 2, 2, 2, 2, 2, 2,\n",
       "       2, 2, 2, 2, 2, 2, 2, 2, 2, 2, 2, 2, 2, 2, 2, 2, 2, 2, 2, 2, 2, 2,\n",
       "       2, 2, 2, 2, 2, 2, 2, 2, 2, 2, 2, 2, 2, 2, 2, 2, 2, 2])"
      ]
     },
     "execution_count": 47,
     "metadata": {},
     "output_type": "execute_result"
    }
   ],
   "source": [
    "iris_dataset = load_iris()\n",
    "iris_dataset.keys() # iris_dataset에 포함된 정보의 이름\n",
    "# print( iris_dataset['DESCR'] )\n",
    "# iris_dataset['data'] # X : shape -> 150 x 4\n",
    "iris_dataset['target'] # y : shape -> 150 X 1\n",
    "# iris_dataset['target_names']\n",
    "\n",
    "# [ list(x) + [y] for x, y in zip(iris_dataset[\"data\"], iris_dataset['target']) ]"
   ]
  },
  {
   "cell_type": "code",
   "execution_count": 52,
   "metadata": {},
   "outputs": [
    {
     "data": {
      "image/png": "[encoded data removed]",
      "text/plain": [
       "<Figure size 640x480 with 1 Axes>"
      ]
     },
     "metadata": {},
     "output_type": "display_data"
    }
   ],
   "source": [
    "X = iris_dataset['data']\n",
    "y = iris_dataset['target']\n",
    "\n",
    "# 분류가 잘되는 품종 찾기\n",
    "plt.scatter(X[:50,0], X[:50, 1])\n",
    "plt.scatter(X[50:100, 0], X[50:100, 1])\n",
    "plt.scatter(X[100:, 0], X[100:, 1])\n",
    "plt.show()"
   ]
  },
  {
   "cell_type": "code",
   "execution_count": 49,
   "metadata": {},
   "outputs": [
    {
     "data": {
      "text/plain": [
       "array([0, 1, 2])"
      ]
     },
     "execution_count": 49,
     "metadata": {},
     "output_type": "execute_result"
    }
   ],
   "source": [
    "np.unique( iris_dataset['target'] ) # 원본 데이터의 target 값은 세 종류 : perceptron에 적합하지 않음"
   ]
  },
  {
   "cell_type": "code",
   "execution_count": 36,
   "metadata": {},
   "outputs": [],
   "source": [
    "# 2진 분류가 가능하도록 y가 두 개의 값만 갖는 범위로 제한 + y값은 1, -1로 변경\n",
    "X = X[:100]\n",
    "# y = list(map(lambda v: 1 if v == 0 else -1, y))\n",
    "y = np.where(y[:100] == 0, 1, -1) # setosa = 1, versicolor = -1"
   ]
  },
  {
   "cell_type": "code",
   "execution_count": 39,
   "metadata": {},
   "outputs": [
    {
     "data": {
      "text/plain": [
       "((100, 4), (100,), array([1, 1, 1, 1, 1]), array([-1, -1, -1, -1, -1]))"
      ]
     },
     "execution_count": 39,
     "metadata": {},
     "output_type": "execute_result"
    }
   ],
   "source": [
    "X.shape, y.shape, y[:5], y[-5:]"
   ]
  },
  {
   "cell_type": "code",
   "execution_count": 40,
   "metadata": {},
   "outputs": [],
   "source": [
    "# w, errors = fit(iris_dataset['data'], iris_dataset['target'], 0.1, 10)\n",
    "w, errors = fit(X, y, 0.1, 10)"
   ]
  },
  {
   "cell_type": "code",
   "execution_count": 41,
   "metadata": {},
   "outputs": [
    {
     "data": {
      "text/plain": [
       "(array([ 0.2 ,  0.26,  0.82, -1.04, -0.44]), [0, 0, 2, 0, 0, 0, 0, 0, 0, 0])"
      ]
     },
     "execution_count": 41,
     "metadata": {},
     "output_type": "execute_result"
    }
   ],
   "source": [
    "w, errors"
   ]
  }
 ],
 "metadata": {
  "kernelspec": {
   "display_name": "study-env",
   "language": "python",
   "name": "python3"
  },
  "language_info": {
   "codemirror_mode": {
    "name": "ipython",
    "version": 3
   },
   "file_extension": ".py",
   "mimetype": "text/x-python",
   "name": "python",
   "nbconvert_exporter": "python",
   "pygments_lexer": "ipython3",
   "version": "3.9.18"
  }
 },
 "nbformat": 4,
 "nbformat_minor": 2
}
