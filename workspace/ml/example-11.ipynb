{
 "cells": [
  {
   "cell_type": "code",
   "execution_count": 13,
   "metadata": {},
   "outputs": [],
   "source": [
    "import numpy as np\n",
    "import pandas as pd\n",
    "import matplotlib.pyplot as plt\n",
    "\n",
    "from sklearn.model_selection import train_test_split, cross_val_score, KFold, StratifiedKFold"
   ]
  },
  {
   "cell_type": "code",
   "execution_count": 3,
   "metadata": {},
   "outputs": [],
   "source": [
    "from sklearn.datasets import load_iris\n",
    "from sklearn.linear_model import LogisticRegression\n",
    "\n",
    "iris = load_iris()\n",
    "X = iris['data']\n",
    "y = iris['target']\n",
    "\n",
    "# X_train, X_test, y_train_y_test = train_test_split(X, y, random_state=42)\n",
    "logreg = LogisticRegression(max_iter=1000)\n",
    "scores = cross_val_score(logreg, X, y, cv=5)"
   ]
  },
  {
   "cell_type": "code",
   "execution_count": 5,
   "metadata": {},
   "outputs": [
    {
     "name": "stdout",
     "output_type": "stream",
     "text": [
      "[0.96666667 1.         0.93333333 0.96666667 1.        ]\n",
      "0.9733333333333334\n"
     ]
    }
   ],
   "source": [
    "print( scores )\n",
    "print( scores.mean() )"
   ]
  },
  {
   "cell_type": "code",
   "execution_count": 14,
   "metadata": {},
   "outputs": [
    {
     "name": "stdout",
     "output_type": "stream",
     "text": [
      "[0. 0. 0.] [1.   0.92 0.98] [0.98 0.96 0.98]\n"
     ]
    }
   ],
   "source": [
    "fold = KFold(n_splits=3)\n",
    "fold2 = KFold(n_splits=3, shuffle=True, random_state=42)\n",
    "fold3 = StratifiedKFold(n_splits=3)\n",
    "logreg = LogisticRegression(max_iter=1000)\n",
    "scores = cross_val_score(logreg, X, y, cv=fold)\n",
    "scores2 = cross_val_score(logreg, X, y, cv=fold2)\n",
    "scores3 = cross_val_score(logreg, X, y, cv=fold3)\n",
    "\n",
    "print( scores,  scores2, scores3 )"
   ]
  },
  {
   "cell_type": "code",
   "execution_count": 16,
   "metadata": {},
   "outputs": [
    {
     "data": {
      "text/plain": [
       "[(array([ 17,  18,  19,  20,  21,  22,  23,  24,  25,  26,  27,  28,  29,\n",
       "          30,  31,  32,  33,  34,  35,  36,  37,  38,  39,  40,  41,  42,\n",
       "          43,  44,  45,  46,  47,  48,  49,  67,  68,  69,  70,  71,  72,\n",
       "          73,  74,  75,  76,  77,  78,  79,  80,  81,  82,  83,  84,  85,\n",
       "          86,  87,  88,  89,  90,  91,  92,  93,  94,  95,  96,  97,  98,\n",
       "          99, 116, 117, 118, 119, 120, 121, 122, 123, 124, 125, 126, 127,\n",
       "         128, 129, 130, 131, 132, 133, 134, 135, 136, 137, 138, 139, 140,\n",
       "         141, 142, 143, 144, 145, 146, 147, 148, 149]),\n",
       "  array([  0,   1,   2,   3,   4,   5,   6,   7,   8,   9,  10,  11,  12,\n",
       "          13,  14,  15,  16,  50,  51,  52,  53,  54,  55,  56,  57,  58,\n",
       "          59,  60,  61,  62,  63,  64,  65,  66, 100, 101, 102, 103, 104,\n",
       "         105, 106, 107, 108, 109, 110, 111, 112, 113, 114, 115])),\n",
       " (array([  0,   1,   2,   3,   4,   5,   6,   7,   8,   9,  10,  11,  12,\n",
       "          13,  14,  15,  16,  34,  35,  36,  37,  38,  39,  40,  41,  42,\n",
       "          43,  44,  45,  46,  47,  48,  49,  50,  51,  52,  53,  54,  55,\n",
       "          56,  57,  58,  59,  60,  61,  62,  63,  64,  65,  66,  83,  84,\n",
       "          85,  86,  87,  88,  89,  90,  91,  92,  93,  94,  95,  96,  97,\n",
       "          98,  99, 100, 101, 102, 103, 104, 105, 106, 107, 108, 109, 110,\n",
       "         111, 112, 113, 114, 115, 133, 134, 135, 136, 137, 138, 139, 140,\n",
       "         141, 142, 143, 144, 145, 146, 147, 148, 149]),\n",
       "  array([ 17,  18,  19,  20,  21,  22,  23,  24,  25,  26,  27,  28,  29,\n",
       "          30,  31,  32,  33,  67,  68,  69,  70,  71,  72,  73,  74,  75,\n",
       "          76,  77,  78,  79,  80,  81,  82, 116, 117, 118, 119, 120, 121,\n",
       "         122, 123, 124, 125, 126, 127, 128, 129, 130, 131, 132])),\n",
       " (array([  0,   1,   2,   3,   4,   5,   6,   7,   8,   9,  10,  11,  12,\n",
       "          13,  14,  15,  16,  17,  18,  19,  20,  21,  22,  23,  24,  25,\n",
       "          26,  27,  28,  29,  30,  31,  32,  33,  50,  51,  52,  53,  54,\n",
       "          55,  56,  57,  58,  59,  60,  61,  62,  63,  64,  65,  66,  67,\n",
       "          68,  69,  70,  71,  72,  73,  74,  75,  76,  77,  78,  79,  80,\n",
       "          81,  82, 100, 101, 102, 103, 104, 105, 106, 107, 108, 109, 110,\n",
       "         111, 112, 113, 114, 115, 116, 117, 118, 119, 120, 121, 122, 123,\n",
       "         124, 125, 126, 127, 128, 129, 130, 131, 132]),\n",
       "  array([ 34,  35,  36,  37,  38,  39,  40,  41,  42,  43,  44,  45,  46,\n",
       "          47,  48,  49,  83,  84,  85,  86,  87,  88,  89,  90,  91,  92,\n",
       "          93,  94,  95,  96,  97,  98,  99, 133, 134, 135, 136, 137, 138,\n",
       "         139, 140, 141, 142, 143, 144, 145, 146, 147, 148, 149]))]"
      ]
     },
     "execution_count": 16,
     "metadata": {},
     "output_type": "execute_result"
    }
   ],
   "source": [
    "list( fold.split(iris['target']) )\n",
    "list( fold2.split(iris['target']) )\n",
    "list( fold3.split(iris['target'], iris['target']) )"
   ]
  },
  {
   "cell_type": "code",
   "execution_count": 17,
   "metadata": {},
   "outputs": [
    {
     "name": "stdout",
     "output_type": "stream",
     "text": [
      "교차 검증 분할 횟수:  150\n",
      "평균 정확도: 0.97\n"
     ]
    }
   ],
   "source": [
    "from sklearn.model_selection import LeaveOneOut\n",
    "loo = LeaveOneOut()\n",
    "scores = cross_val_score(logreg, iris.data, iris.target, cv=loo)\n",
    "print(\"교차 검증 분할 횟수: \", len(scores))\n",
    "print(\"평균 정확도: {:.2f}\".format(scores.mean()))"
   ]
  },
  {
   "cell_type": "code",
   "execution_count": 19,
   "metadata": {},
   "outputs": [
    {
     "name": "stdout",
     "output_type": "stream",
     "text": [
      "교차 검증 점수:\n",
      "[0.94666667 0.96       0.96       0.97333333 0.98666667 0.96\n",
      " 0.98666667 0.98666667 0.94666667 1.        ]\n"
     ]
    }
   ],
   "source": [
    "from sklearn.model_selection import ShuffleSplit\n",
    "shuffle_split = ShuffleSplit(test_size=.5, train_size=.5, n_splits=10)\n",
    "scores = cross_val_score(logreg, iris.data, iris.target, cv=shuffle_split)\n",
    "print(\"교차 검증 점수:\\n{}\".format(scores))"
   ]
  },
  {
   "cell_type": "code",
   "execution_count": 22,
   "metadata": {},
   "outputs": [
    {
     "name": "stdout",
     "output_type": "stream",
     "text": [
      "교차 검증 점수:\n",
      "[0.75       0.6        0.66666667]\n"
     ]
    }
   ],
   "source": [
    "from sklearn.datasets import make_blobs\n",
    "from sklearn.model_selection import GroupKFold\n",
    "# 인위적 데이터셋 생성\n",
    "X, y = make_blobs(n_samples=12, random_state=0)\n",
    "# 처음 세 개의 샘플은 같은 그룹에 속하고, 다음은 네 개의 샘플이 같습니다.\n",
    "groups = [0, 0, 0, 1, 1, 1, 1, 2, 2, 3, 3, 3]\n",
    "scores = cross_val_score(logreg, X, y, groups=groups, cv=GroupKFold(n_splits=3))\n",
    "print(\"교차 검증 점수:\\n{}\".format(scores))"
   ]
  },
  {
   "cell_type": "code",
   "execution_count": 24,
   "metadata": {},
   "outputs": [
    {
     "data": {
      "text/plain": [
       "[(array([ 0,  1,  2,  7,  8,  9, 10, 11]), array([3, 4, 5, 6])),\n",
       " (array([0, 1, 2, 3, 4, 5, 6]), array([ 7,  8,  9, 10, 11])),\n",
       " (array([ 3,  4,  5,  6,  7,  8,  9, 10, 11]), array([0, 1, 2]))]"
      ]
     },
     "execution_count": 24,
     "metadata": {},
     "output_type": "execute_result"
    }
   ],
   "source": [
    "list( GroupKFold(n_splits=3).split(X, y, groups) )"
   ]
  },
  {
   "cell_type": "code",
   "execution_count": null,
   "metadata": {},
   "outputs": [],
   "source": []
  },
  {
   "cell_type": "code",
   "execution_count": 26,
   "metadata": {},
   "outputs": [
    {
     "name": "stdout",
     "output_type": "stream",
     "text": [
      "매개변수 그리드:\n",
      "{'C': [0.001, 0.01, 0.1, 1, 10, 100], 'gamma': [0.001, 0.01, 0.1, 1, 10, 100]}\n",
      "테스트 세트 점수: 0.97\n"
     ]
    }
   ],
   "source": [
    "# 딕셔너리 형식의 매개변수 그리드 만들기\n",
    "param_grid = {'C': [0.001, 0.01, 0.1, 1, 10, 100],\n",
    "              'gamma': [0.001, 0.01, 0.1, 1, 10, 100] }\n",
    "print(\"매개변수 그리드:\\n{}\".format(param_grid))\n",
    "\n",
    "# GridSearchCV 객체 만들기\n",
    "from sklearn.model_selection import GridSearchCV\n",
    "from sklearn.svm import SVC\n",
    "\n",
    "grid_search = GridSearchCV(SVC(), param_grid, cv=5, return_train_score=True) # 훈련 / 검증 분할 + 테스트\n",
    "\n",
    "X_train, X_test, y_train, y_test = train_test_split(iris.data, iris.target, random_state=0)\n",
    "grid_search.fit(X_train, y_train)\n",
    "\n",
    "print(\"테스트 세트 점수: {:.2f}\".format(grid_search.score(X_test, y_test))) # 최종 모델 검증\n"
   ]
  },
  {
   "cell_type": "code",
   "execution_count": 35,
   "metadata": {},
   "outputs": [
    {
     "data": {
      "text/plain": [
       "(36,)"
      ]
     },
     "execution_count": 35,
     "metadata": {},
     "output_type": "execute_result"
    }
   ],
   "source": [
    "grid_search.best_estimator_\n",
    "grid_search.best_params_\n",
    "grid_search.best_score_\n",
    "grid_search.cv_results_.keys()\n",
    "grid_search.cv_results_['split0_test_score'].shape"
   ]
  },
  {
   "cell_type": "code",
   "execution_count": 37,
   "metadata": {},
   "outputs": [
    {
     "data": {
      "text/plain": [
       "[(array([ 10,  11,  12,  13,  14,  15,  16,  17,  18,  19,  20,  21,  22,\n",
       "          23,  24,  25,  26,  27,  28,  29,  30,  31,  32,  33,  34,  35,\n",
       "          36,  37,  38,  39,  40,  41,  42,  43,  44,  45,  46,  47,  48,\n",
       "          49,  60,  61,  62,  63,  64,  65,  66,  67,  68,  69,  70,  71,\n",
       "          72,  73,  74,  75,  76,  77,  78,  79,  80,  81,  82,  83,  84,\n",
       "          85,  86,  87,  88,  89,  90,  91,  92,  93,  94,  95,  96,  97,\n",
       "          98,  99, 110, 111, 112, 113, 114, 115, 116, 117, 118, 119, 120,\n",
       "         121, 122, 123, 124, 125, 126, 127, 128, 129, 130, 131, 132, 133,\n",
       "         134, 135, 136, 137, 138, 139, 140, 141, 142, 143, 144, 145, 146,\n",
       "         147, 148, 149]),\n",
       "  array([  0,   1,   2,   3,   4,   5,   6,   7,   8,   9,  50,  51,  52,\n",
       "          53,  54,  55,  56,  57,  58,  59, 100, 101, 102, 103, 104, 105,\n",
       "         106, 107, 108, 109])),\n",
       " (array([  0,   1,   2,   3,   4,   5,   6,   7,   8,   9,  20,  21,  22,\n",
       "          23,  24,  25,  26,  27,  28,  29,  30,  31,  32,  33,  34,  35,\n",
       "          36,  37,  38,  39,  40,  41,  42,  43,  44,  45,  46,  47,  48,\n",
       "          49,  50,  51,  52,  53,  54,  55,  56,  57,  58,  59,  70,  71,\n",
       "          72,  73,  74,  75,  76,  77,  78,  79,  80,  81,  82,  83,  84,\n",
       "          85,  86,  87,  88,  89,  90,  91,  92,  93,  94,  95,  96,  97,\n",
       "          98,  99, 100, 101, 102, 103, 104, 105, 106, 107, 108, 109, 120,\n",
       "         121, 122, 123, 124, 125, 126, 127, 128, 129, 130, 131, 132, 133,\n",
       "         134, 135, 136, 137, 138, 139, 140, 141, 142, 143, 144, 145, 146,\n",
       "         147, 148, 149]),\n",
       "  array([ 10,  11,  12,  13,  14,  15,  16,  17,  18,  19,  60,  61,  62,\n",
       "          63,  64,  65,  66,  67,  68,  69, 110, 111, 112, 113, 114, 115,\n",
       "         116, 117, 118, 119])),\n",
       " (array([  0,   1,   2,   3,   4,   5,   6,   7,   8,   9,  10,  11,  12,\n",
       "          13,  14,  15,  16,  17,  18,  19,  30,  31,  32,  33,  34,  35,\n",
       "          36,  37,  38,  39,  40,  41,  42,  43,  44,  45,  46,  47,  48,\n",
       "          49,  50,  51,  52,  53,  54,  55,  56,  57,  58,  59,  60,  61,\n",
       "          62,  63,  64,  65,  66,  67,  68,  69,  80,  81,  82,  83,  84,\n",
       "          85,  86,  87,  88,  89,  90,  91,  92,  93,  94,  95,  96,  97,\n",
       "          98,  99, 100, 101, 102, 103, 104, 105, 106, 107, 108, 109, 110,\n",
       "         111, 112, 113, 114, 115, 116, 117, 118, 119, 130, 131, 132, 133,\n",
       "         134, 135, 136, 137, 138, 139, 140, 141, 142, 143, 144, 145, 146,\n",
       "         147, 148, 149]),\n",
       "  array([ 20,  21,  22,  23,  24,  25,  26,  27,  28,  29,  70,  71,  72,\n",
       "          73,  74,  75,  76,  77,  78,  79, 120, 121, 122, 123, 124, 125,\n",
       "         126, 127, 128, 129])),\n",
       " (array([  0,   1,   2,   3,   4,   5,   6,   7,   8,   9,  10,  11,  12,\n",
       "          13,  14,  15,  16,  17,  18,  19,  20,  21,  22,  23,  24,  25,\n",
       "          26,  27,  28,  29,  40,  41,  42,  43,  44,  45,  46,  47,  48,\n",
       "          49,  50,  51,  52,  53,  54,  55,  56,  57,  58,  59,  60,  61,\n",
       "          62,  63,  64,  65,  66,  67,  68,  69,  70,  71,  72,  73,  74,\n",
       "          75,  76,  77,  78,  79,  90,  91,  92,  93,  94,  95,  96,  97,\n",
       "          98,  99, 100, 101, 102, 103, 104, 105, 106, 107, 108, 109, 110,\n",
       "         111, 112, 113, 114, 115, 116, 117, 118, 119, 120, 121, 122, 123,\n",
       "         124, 125, 126, 127, 128, 129, 140, 141, 142, 143, 144, 145, 146,\n",
       "         147, 148, 149]),\n",
       "  array([ 30,  31,  32,  33,  34,  35,  36,  37,  38,  39,  80,  81,  82,\n",
       "          83,  84,  85,  86,  87,  88,  89, 130, 131, 132, 133, 134, 135,\n",
       "         136, 137, 138, 139])),\n",
       " (array([  0,   1,   2,   3,   4,   5,   6,   7,   8,   9,  10,  11,  12,\n",
       "          13,  14,  15,  16,  17,  18,  19,  20,  21,  22,  23,  24,  25,\n",
       "          26,  27,  28,  29,  30,  31,  32,  33,  34,  35,  36,  37,  38,\n",
       "          39,  50,  51,  52,  53,  54,  55,  56,  57,  58,  59,  60,  61,\n",
       "          62,  63,  64,  65,  66,  67,  68,  69,  70,  71,  72,  73,  74,\n",
       "          75,  76,  77,  78,  79,  80,  81,  82,  83,  84,  85,  86,  87,\n",
       "          88,  89, 100, 101, 102, 103, 104, 105, 106, 107, 108, 109, 110,\n",
       "         111, 112, 113, 114, 115, 116, 117, 118, 119, 120, 121, 122, 123,\n",
       "         124, 125, 126, 127, 128, 129, 130, 131, 132, 133, 134, 135, 136,\n",
       "         137, 138, 139]),\n",
       "  array([ 40,  41,  42,  43,  44,  45,  46,  47,  48,  49,  90,  91,  92,\n",
       "          93,  94,  95,  96,  97,  98,  99, 140, 141, 142, 143, 144, 145,\n",
       "         146, 147, 148, 149]))]"
      ]
     },
     "execution_count": 37,
     "metadata": {},
     "output_type": "execute_result"
    }
   ],
   "source": [
    "sfold = StratifiedKFold(n_splits=5)\n",
    "splits = sfold.split(iris.data, iris.target)\n",
    "list(splits)"
   ]
  },
  {
   "cell_type": "code",
   "execution_count": 41,
   "metadata": {},
   "outputs": [],
   "source": [
    "sfold = StratifiedKFold(n_splits=5)\n",
    "splits = sfold.split(iris.data, iris.target)\n",
    "param_grid = {'C': [0.001, 0.01, 0.1, 1, 10, 100],\n",
    "              'gamma': [0.001, 0.01, 0.1, 1, 10, 100] }\n",
    "\n",
    "scores = []\n",
    "best_score = -1\n",
    "best_params = None\n",
    "for train_idx_set, test_idx_set in splits:\n",
    "    \n",
    "    grid_search = GridSearchCV(SVC(), param_grid, cv=5, return_train_score=True) # 훈련 / 검증 분할 + 검증\n",
    "    grid_search.fit(iris.data[train_idx_set], iris.target[train_idx_set])\n",
    "    # print(grid_search.best_score_) # 최적의 하이퍼파라미터를 사용한 테스트 값\n",
    "    score = grid_search.score(iris.data[test_idx_set], iris.target[test_idx_set]) # w + parameter 테스트\n",
    "    scores.append(score)\n",
    "    if best_score < score:\n",
    "        best_score = score\n",
    "        best_params = grid_search.best_params_"
   ]
  },
  {
   "cell_type": "code",
   "execution_count": 43,
   "metadata": {},
   "outputs": [
    {
     "data": {
      "text/plain": [
       "([0.9666666666666667, 1.0, 0.9666666666666667, 0.9666666666666667, 1.0],\n",
       " {'C': 10, 'gamma': 0.01})"
      ]
     },
     "execution_count": 43,
     "metadata": {},
     "output_type": "execute_result"
    }
   ],
   "source": [
    "scores, best_params"
   ]
  },
  {
   "cell_type": "code",
   "execution_count": 45,
   "metadata": {},
   "outputs": [
    {
     "data": {
      "text/html": [
       "<style>#sk-container-id-3 {color: black;}#sk-container-id-3 pre{padding: 0;}#sk-container-id-3 div.sk-toggleable {background-color: white;}#sk-container-id-3 label.sk-toggleable__label {cursor: pointer;display: block;width: 100%;margin-bottom: 0;padding: 0.3em;box-sizing: border-box;text-align: center;}#sk-container-id-3 label.sk-toggleable__label-arrow:before {content: \"▸\";float: left;margin-right: 0.25em;color: #696969;}#sk-container-id-3 label.sk-toggleable__label-arrow:hover:before {color: black;}#sk-container-id-3 div.sk-estimator:hover label.sk-toggleable__label-arrow:before {color: black;}#sk-container-id-3 div.sk-toggleable__content {max-height: 0;max-width: 0;overflow: hidden;text-align: left;background-color: #f0f8ff;}#sk-container-id-3 div.sk-toggleable__content pre {margin: 0.2em;color: black;border-radius: 0.25em;background-color: #f0f8ff;}#sk-container-id-3 input.sk-toggleable__control:checked~div.sk-toggleable__content {max-height: 200px;max-width: 100%;overflow: auto;}#sk-container-id-3 input.sk-toggleable__control:checked~label.sk-toggleable__label-arrow:before {content: \"▾\";}#sk-container-id-3 div.sk-estimator input.sk-toggleable__control:checked~label.sk-toggleable__label {background-color: #d4ebff;}#sk-container-id-3 div.sk-label input.sk-toggleable__control:checked~label.sk-toggleable__label {background-color: #d4ebff;}#sk-container-id-3 input.sk-hidden--visually {border: 0;clip: rect(1px 1px 1px 1px);clip: rect(1px, 1px, 1px, 1px);height: 1px;margin: -1px;overflow: hidden;padding: 0;position: absolute;width: 1px;}#sk-container-id-3 div.sk-estimator {font-family: monospace;background-color: #f0f8ff;border: 1px dotted black;border-radius: 0.25em;box-sizing: border-box;margin-bottom: 0.5em;}#sk-container-id-3 div.sk-estimator:hover {background-color: #d4ebff;}#sk-container-id-3 div.sk-parallel-item::after {content: \"\";width: 100%;border-bottom: 1px solid gray;flex-grow: 1;}#sk-container-id-3 div.sk-label:hover label.sk-toggleable__label {background-color: #d4ebff;}#sk-container-id-3 div.sk-serial::before {content: \"\";position: absolute;border-left: 1px solid gray;box-sizing: border-box;top: 0;bottom: 0;left: 50%;z-index: 0;}#sk-container-id-3 div.sk-serial {display: flex;flex-direction: column;align-items: center;background-color: white;padding-right: 0.2em;padding-left: 0.2em;position: relative;}#sk-container-id-3 div.sk-item {position: relative;z-index: 1;}#sk-container-id-3 div.sk-parallel {display: flex;align-items: stretch;justify-content: center;background-color: white;position: relative;}#sk-container-id-3 div.sk-item::before, #sk-container-id-3 div.sk-parallel-item::before {content: \"\";position: absolute;border-left: 1px solid gray;box-sizing: border-box;top: 0;bottom: 0;left: 50%;z-index: -1;}#sk-container-id-3 div.sk-parallel-item {display: flex;flex-direction: column;z-index: 1;position: relative;background-color: white;}#sk-container-id-3 div.sk-parallel-item:first-child::after {align-self: flex-end;width: 50%;}#sk-container-id-3 div.sk-parallel-item:last-child::after {align-self: flex-start;width: 50%;}#sk-container-id-3 div.sk-parallel-item:only-child::after {width: 0;}#sk-container-id-3 div.sk-dashed-wrapped {border: 1px dashed gray;margin: 0 0.4em 0.5em 0.4em;box-sizing: border-box;padding-bottom: 0.4em;background-color: white;}#sk-container-id-3 div.sk-label label {font-family: monospace;font-weight: bold;display: inline-block;line-height: 1.2em;}#sk-container-id-3 div.sk-label-container {text-align: center;}#sk-container-id-3 div.sk-container {/* jupyter's `normalize.less` sets `[hidden] { display: none; }` but bootstrap.min.css set `[hidden] { display: none !important; }` so we also need the `!important` here to be able to override the default hidden behavior on the sphinx rendered scikit-learn.org. See: https://github.com/scikit-learn/scikit-learn/issues/21755 */display: inline-block !important;position: relative;}#sk-container-id-3 div.sk-text-repr-fallback {display: none;}</style><div id=\"sk-container-id-3\" class=\"sk-top-container\"><div class=\"sk-text-repr-fallback\"><pre>SVC(C=10, gamma=0.01)</pre><b>In a Jupyter environment, please rerun this cell to show the HTML representation or trust the notebook. <br />On GitHub, the HTML representation is unable to render, please try loading this page with nbviewer.org.</b></div><div class=\"sk-container\" hidden><div class=\"sk-item\"><div class=\"sk-estimator sk-toggleable\"><input class=\"sk-toggleable__control sk-hidden--visually\" id=\"sk-estimator-id-3\" type=\"checkbox\" checked><label for=\"sk-estimator-id-3\" class=\"sk-toggleable__label sk-toggleable__label-arrow\">SVC</label><div class=\"sk-toggleable__content\"><pre>SVC(C=10, gamma=0.01)</pre></div></div></div></div></div>"
      ],
      "text/plain": [
       "SVC(C=10, gamma=0.01)"
      ]
     },
     "execution_count": 45,
     "metadata": {},
     "output_type": "execute_result"
    }
   ],
   "source": [
    "# best_svc = SVC(C=10, gamma=0.01) # 최적 파라미터로 모델 생성\n",
    "best_svc = SVC(**best_params) # **{ 'C': 10, 'gamma': 0.01 } --> C=10, gamma=0.01\n",
    "best_svc.fit(iris['data'], iris['target']) # 전체 데이터로 훈련"
   ]
  },
  {
   "cell_type": "code",
   "execution_count": 46,
   "metadata": {},
   "outputs": [],
   "source": [
    "gcv = GridSearchCV(SVC(), param_grid, cv=5, return_train_score=True)\n",
    "scores = cross_val_score(gcv, # train / val cross_val\n",
    "                         iris['data'], iris['target'], \n",
    "                         cv=5) # train / test cross_validation"
   ]
  },
  {
   "cell_type": "code",
   "execution_count": 49,
   "metadata": {},
   "outputs": [
    {
     "name": "stdout",
     "output_type": "stream",
     "text": [
      "[0.96666667 1.         0.96666667 0.96666667 1.        ]\n"
     ]
    },
    {
     "ename": "AttributeError",
     "evalue": "'GridSearchCV' object has no attribute 'best_estimator_'",
     "output_type": "error",
     "traceback": [
      "\u001b[1;31m---------------------------------------------------------------------------\u001b[0m",
      "\u001b[1;31mAttributeError\u001b[0m                            Traceback (most recent call last)",
      "Cell \u001b[1;32mIn[49], line 2\u001b[0m\n\u001b[0;32m      1\u001b[0m \u001b[38;5;28mprint\u001b[39m( scores )\n\u001b[1;32m----> 2\u001b[0m \u001b[43mgcv\u001b[49m\u001b[38;5;241;43m.\u001b[39;49m\u001b[43mbest_estimator_\u001b[49m\n",
      "\u001b[1;31mAttributeError\u001b[0m: 'GridSearchCV' object has no attribute 'best_estimator_'"
     ]
    }
   ],
   "source": [
    "print( scores )\n",
    "gcv"
   ]
  }
 ],
 "metadata": {
  "kernelspec": {
   "display_name": "study-env",
   "language": "python",
   "name": "python3"
  },
  "language_info": {
   "codemirror_mode": {
    "name": "ipython",
    "version": 3
   },
   "file_extension": ".py",
   "mimetype": "text/x-python",
   "name": "python",
   "nbconvert_exporter": "python",
   "pygments_lexer": "ipython3",
   "version": "3.9.18"
  }
 },
 "nbformat": 4,
 "nbformat_minor": 2
}
