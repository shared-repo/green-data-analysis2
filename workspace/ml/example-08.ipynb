{
 "cells": [
  {
   "cell_type": "code",
   "execution_count": 1,
   "metadata": {},
   "outputs": [],
   "source": [
    "import numpy as np\n",
    "import pandas as pd\n",
    "import matplotlib.pyplot as plt\n",
    "\n",
    "from sklearn.model_selection import train_test_split\n",
    "from sklearn.metrics import mean_absolute_error, mean_squared_error"
   ]
  },
  {
   "cell_type": "code",
   "execution_count": 2,
   "metadata": {},
   "outputs": [
    {
     "name": "stdout",
     "output_type": "stream",
     "text": [
      "(1797, 64)\n",
      "0\n"
     ]
    },
    {
     "data": {
      "image/png": "[encoded data removed]",
      "text/plain": [
       "<Figure size 100x100 with 1 Axes>"
      ]
     },
     "metadata": {},
     "output_type": "display_data"
    }
   ],
   "source": [
    "# 데이터 준비\n",
    "from sklearn.datasets import load_digits\n",
    "\n",
    "digits = load_digits()\n",
    "X = digits['data']\n",
    "y = digits['target']\n",
    "\n",
    "print(X.shape)\n",
    "\n",
    "print(y[0])\n",
    "plt.figure(figsize=(1, 1))\n",
    "# plt.imshow(X[0].reshape(1, 64), cmap=\"gray\") # 이미지 표시\n",
    "plt.imshow(X[0].reshape(8, 8), cmap=\"gray\") # 이미지 표시\n",
    "plt.axis(\"off\")\n",
    "plt.show()"
   ]
  },
  {
   "cell_type": "code",
   "execution_count": 3,
   "metadata": {},
   "outputs": [
    {
     "data": {
      "text/html": [
       "<style>#sk-container-id-1 {color: black;}#sk-container-id-1 pre{padding: 0;}#sk-container-id-1 div.sk-toggleable {background-color: white;}#sk-container-id-1 label.sk-toggleable__label {cursor: pointer;display: block;width: 100%;margin-bottom: 0;padding: 0.3em;box-sizing: border-box;text-align: center;}#sk-container-id-1 label.sk-toggleable__label-arrow:before {content: \"▸\";float: left;margin-right: 0.25em;color: #696969;}#sk-container-id-1 label.sk-toggleable__label-arrow:hover:before {color: black;}#sk-container-id-1 div.sk-estimator:hover label.sk-toggleable__label-arrow:before {color: black;}#sk-container-id-1 div.sk-toggleable__content {max-height: 0;max-width: 0;overflow: hidden;text-align: left;background-color: #f0f8ff;}#sk-container-id-1 div.sk-toggleable__content pre {margin: 0.2em;color: black;border-radius: 0.25em;background-color: #f0f8ff;}#sk-container-id-1 input.sk-toggleable__control:checked~div.sk-toggleable__content {max-height: 200px;max-width: 100%;overflow: auto;}#sk-container-id-1 input.sk-toggleable__control:checked~label.sk-toggleable__label-arrow:before {content: \"▾\";}#sk-container-id-1 div.sk-estimator input.sk-toggleable__control:checked~label.sk-toggleable__label {background-color: #d4ebff;}#sk-container-id-1 div.sk-label input.sk-toggleable__control:checked~label.sk-toggleable__label {background-color: #d4ebff;}#sk-container-id-1 input.sk-hidden--visually {border: 0;clip: rect(1px 1px 1px 1px);clip: rect(1px, 1px, 1px, 1px);height: 1px;margin: -1px;overflow: hidden;padding: 0;position: absolute;width: 1px;}#sk-container-id-1 div.sk-estimator {font-family: monospace;background-color: #f0f8ff;border: 1px dotted black;border-radius: 0.25em;box-sizing: border-box;margin-bottom: 0.5em;}#sk-container-id-1 div.sk-estimator:hover {background-color: #d4ebff;}#sk-container-id-1 div.sk-parallel-item::after {content: \"\";width: 100%;border-bottom: 1px solid gray;flex-grow: 1;}#sk-container-id-1 div.sk-label:hover label.sk-toggleable__label {background-color: #d4ebff;}#sk-container-id-1 div.sk-serial::before {content: \"\";position: absolute;border-left: 1px solid gray;box-sizing: border-box;top: 0;bottom: 0;left: 50%;z-index: 0;}#sk-container-id-1 div.sk-serial {display: flex;flex-direction: column;align-items: center;background-color: white;padding-right: 0.2em;padding-left: 0.2em;position: relative;}#sk-container-id-1 div.sk-item {position: relative;z-index: 1;}#sk-container-id-1 div.sk-parallel {display: flex;align-items: stretch;justify-content: center;background-color: white;position: relative;}#sk-container-id-1 div.sk-item::before, #sk-container-id-1 div.sk-parallel-item::before {content: \"\";position: absolute;border-left: 1px solid gray;box-sizing: border-box;top: 0;bottom: 0;left: 50%;z-index: -1;}#sk-container-id-1 div.sk-parallel-item {display: flex;flex-direction: column;z-index: 1;position: relative;background-color: white;}#sk-container-id-1 div.sk-parallel-item:first-child::after {align-self: flex-end;width: 50%;}#sk-container-id-1 div.sk-parallel-item:last-child::after {align-self: flex-start;width: 50%;}#sk-container-id-1 div.sk-parallel-item:only-child::after {width: 0;}#sk-container-id-1 div.sk-dashed-wrapped {border: 1px dashed gray;margin: 0 0.4em 0.5em 0.4em;box-sizing: border-box;padding-bottom: 0.4em;background-color: white;}#sk-container-id-1 div.sk-label label {font-family: monospace;font-weight: bold;display: inline-block;line-height: 1.2em;}#sk-container-id-1 div.sk-label-container {text-align: center;}#sk-container-id-1 div.sk-container {/* jupyter's `normalize.less` sets `[hidden] { display: none; }` but bootstrap.min.css set `[hidden] { display: none !important; }` so we also need the `!important` here to be able to override the default hidden behavior on the sphinx rendered scikit-learn.org. See: https://github.com/scikit-learn/scikit-learn/issues/21755 */display: inline-block !important;position: relative;}#sk-container-id-1 div.sk-text-repr-fallback {display: none;}</style><div id=\"sk-container-id-1\" class=\"sk-top-container\"><div class=\"sk-text-repr-fallback\"><pre>LogisticRegression(max_iter=1000)</pre><b>In a Jupyter environment, please rerun this cell to show the HTML representation or trust the notebook. <br />On GitHub, the HTML representation is unable to render, please try loading this page with nbviewer.org.</b></div><div class=\"sk-container\" hidden><div class=\"sk-item\"><div class=\"sk-estimator sk-toggleable\"><input class=\"sk-toggleable__control sk-hidden--visually\" id=\"sk-estimator-id-1\" type=\"checkbox\" checked><label for=\"sk-estimator-id-1\" class=\"sk-toggleable__label sk-toggleable__label-arrow\">LogisticRegression</label><div class=\"sk-toggleable__content\"><pre>LogisticRegression(max_iter=1000)</pre></div></div></div></div></div>"
      ],
      "text/plain": [
       "LogisticRegression(max_iter=1000)"
      ]
     },
     "execution_count": 3,
     "metadata": {},
     "output_type": "execute_result"
    }
   ],
   "source": [
    "# 3과 3이 아닌 숫자 분류 모델 만들기\n",
    "\n",
    "from sklearn.linear_model import LogisticRegression\n",
    "\n",
    "yis3 = (y==3).astype(int)\n",
    "np.unique(yis3, return_counts=True)\n",
    "\n",
    "X_train, X_test, y_train, y_test = train_test_split(X, yis3, stratify=yis3, random_state=42)\n",
    "\n",
    "\n",
    "logreg = LogisticRegression(max_iter=1000)\n",
    "logreg.fit(X_train, y_train)"
   ]
  },
  {
   "cell_type": "code",
   "execution_count": 4,
   "metadata": {},
   "outputs": [
    {
     "name": "stdout",
     "output_type": "stream",
     "text": [
      "0.98\n",
      "0.8977777777777778\n"
     ]
    }
   ],
   "source": [
    "# logreg.score(X_train, y_train), logreg.score(X_test, y_test)\n",
    "\n",
    "test_predicted = logreg.predict(X_test)\n",
    "print( (test_predicted == y_test).sum() / len(y_test) ) # 정답의 갯수 / 전체 갯수 : 정확도 (accuracy)\n",
    "\n",
    "dummy_predicted = np.zeros(len(y_test))\n",
    "print( (dummy_predicted == y_test).sum() / len(y_test) )"
   ]
  },
  {
   "cell_type": "code",
   "execution_count": 5,
   "metadata": {},
   "outputs": [],
   "source": [
    "test_predicted_proba = logreg.predict_proba(X_test)"
   ]
  },
  {
   "cell_type": "code",
   "execution_count": 6,
   "metadata": {},
   "outputs": [
    {
     "data": {
      "text/plain": [
       "array([[1.00000000e+00, 1.86968575e-17],\n",
       "       [1.00000000e+00, 1.65694343e-19],\n",
       "       [1.00000000e+00, 3.46578011e-18],\n",
       "       [1.00000000e+00, 2.01620117e-11],\n",
       "       [1.00000000e+00, 9.40398309e-19],\n",
       "       [6.58778177e-01, 3.41221823e-01],\n",
       "       [9.99999982e-01, 1.79738446e-08],\n",
       "       [9.99999507e-01, 4.92927540e-07],\n",
       "       [1.00000000e+00, 1.52579158e-10],\n",
       "       [9.99999074e-01, 9.26316081e-07]])"
      ]
     },
     "execution_count": 6,
     "metadata": {},
     "output_type": "execute_result"
    }
   ],
   "source": [
    "test_predicted_proba[:10]"
   ]
  },
  {
   "cell_type": "code",
   "execution_count": 7,
   "metadata": {},
   "outputs": [],
   "source": [
    "test_predicted_score = logreg.decision_function(X_test)"
   ]
  },
  {
   "cell_type": "code",
   "execution_count": 8,
   "metadata": {},
   "outputs": [
    {
     "data": {
      "text/plain": [
       "array([-3.85181762e+01, -4.32441422e+01, -4.02035939e+01, -2.46272209e+01,\n",
       "       -4.15079834e+01, -6.57854100e-01, -1.78343482e+01, -1.45229032e+01,\n",
       "       -2.26033376e+01, -1.38920494e+01, -4.59459860e+01, -1.68578076e+01,\n",
       "       -1.69882649e+01, -5.13192294e+01, -1.37331877e+01, -3.71365399e+01,\n",
       "       -2.46320914e+01, -3.13535445e+01, -5.73294985e+01, -2.83958314e+01,\n",
       "       -2.15805766e+01,  2.14749261e+01, -2.69901258e+01, -1.08094369e+01,\n",
       "       -3.25276024e+00, -4.34307185e+01,  2.33236674e+01, -3.46249782e+01,\n",
       "       -4.05772607e+01, -2.10150192e+01, -1.18042086e+01, -1.48058740e+01,\n",
       "        2.93305122e+01, -7.26426637e+01, -4.14884079e+01, -4.57968829e+01,\n",
       "       -4.31851353e+01, -3.12432663e+01, -9.57638242e+00, -2.27566255e+01,\n",
       "       -4.97957045e+01,  1.06043322e+01, -2.50871452e+01,  2.52484607e+01,\n",
       "       -6.46842157e+01, -4.19873069e+01,  1.98662334e+01, -1.88684210e+01,\n",
       "       -1.47429850e+01, -2.21070849e+01, -3.02175560e+01,  2.84141730e+01,\n",
       "       -2.45973049e+01, -7.43231268e+00, -3.73167346e+00,  8.95742840e+00,\n",
       "       -1.68146576e+01, -3.32786747e+01, -9.45281764e+00, -3.45331441e+01,\n",
       "       -3.55226797e+01, -1.00667737e+01, -4.85664376e+01, -1.10163554e+01,\n",
       "       -1.93934319e+01, -4.90189790e+01, -2.37570912e+01, -1.90612539e+01,\n",
       "       -3.02027898e+01, -2.47415732e+01, -3.99402067e+01, -3.94254209e+01,\n",
       "       -4.13011116e+01, -2.23391822e+01, -1.32486253e+01, -3.77965930e+01,\n",
       "       -2.64864586e+01, -4.29021888e+01, -2.29567964e+01, -3.07751832e+01,\n",
       "       -4.50782450e+01, -2.89605928e+01, -3.00886065e+01, -8.81551979e+00,\n",
       "       -2.07876591e+01, -7.95594494e+01, -5.75603035e+01, -6.09252184e+00,\n",
       "       -6.14698425e+01, -4.95833968e+01, -1.63196568e+01, -1.71700737e+01,\n",
       "       -1.95047997e+01, -6.10700094e+01, -2.07477989e+01, -4.50251685e+01,\n",
       "       -3.31152895e+01, -4.81106482e+01, -4.00628044e+01,  1.76966629e+01,\n",
       "       -3.94360046e+01, -2.40879558e+01, -2.87888104e+01, -9.70013845e+00,\n",
       "       -1.48260593e+01,  1.74333284e+01, -6.86707624e+01,  1.06273388e+01,\n",
       "       -1.66246480e+01, -2.30915470e+01, -6.44170036e+01,  2.00487089e+01,\n",
       "        7.74921762e-01, -4.99333665e+01, -2.92592624e+01, -3.47606148e+01,\n",
       "       -3.21365825e+01, -3.30793932e+01,  2.63262439e+01, -3.25771743e+01,\n",
       "       -2.43773892e+01, -4.65963764e+01, -2.31890218e+01, -2.30586121e+01,\n",
       "       -3.40160827e+01, -5.22929355e+01, -5.00081175e+01, -8.93342564e+00,\n",
       "       -4.73604987e+00, -5.41841978e+01, -2.96050445e+01, -3.18202754e+01,\n",
       "       -5.19469599e+01, -9.84068548e-01, -1.53284153e+01, -4.30609967e+01,\n",
       "       -3.14393841e+01, -3.61311705e+01, -2.97903008e+01, -2.70735588e+01,\n",
       "       -1.57497579e+01,  2.50501026e+01, -2.00619426e+00, -2.33109045e+01,\n",
       "       -1.41174299e+01, -3.32276605e+01, -4.18441621e+01, -3.74419924e+01,\n",
       "       -2.71587896e+01,  4.57745656e+00, -2.52087575e+01, -6.89384489e+00,\n",
       "       -2.25707186e+01, -1.29139982e+01, -1.15781295e+01, -1.17535548e+01,\n",
       "       -1.86301412e+01, -4.27116031e+01, -4.87836086e+01, -5.24399924e+01,\n",
       "        1.97819000e+01, -2.14689651e+01, -4.00751495e+01, -2.42643698e+01,\n",
       "       -2.28906312e+01, -4.12136754e+01, -2.52934016e+01, -6.39764531e+01,\n",
       "       -2.10628201e+01, -1.30415562e+01, -4.85407691e+01, -3.82150076e+01,\n",
       "       -5.09607050e+01, -3.07844236e+01, -4.35783556e+00, -3.37885628e+01,\n",
       "       -7.72403660e+00, -5.33496509e+00, -3.86956331e+01, -1.88750297e+01,\n",
       "       -3.60757527e+01, -2.01859859e+01,  4.14889344e+00, -1.36902733e+01,\n",
       "       -2.17827952e+00, -8.36126667e+00, -1.98029110e+01, -1.59779309e+01,\n",
       "        7.79853564e+00, -8.38915177e+00, -3.54625481e+01,  1.89678012e+01,\n",
       "       -1.69010233e+01,  1.29482518e+01, -2.92340808e+01, -9.69832323e+00,\n",
       "       -3.09795115e+01,  2.82148842e+01, -1.29112090e+01, -2.32424620e+01,\n",
       "       -2.94337993e+01, -3.42999681e+01, -3.97811089e+01, -2.41987917e+01,\n",
       "       -2.95158353e+01,  1.38477332e+01, -2.18186492e+01, -4.20384176e+01,\n",
       "       -2.58106102e-01,  2.61577643e+01, -2.73363671e+01, -1.80414764e+01,\n",
       "       -2.56568121e+01, -1.64429023e+01, -2.91678770e+01, -2.35822482e+01,\n",
       "       -2.24920000e+01,  9.28959548e+00, -1.93856350e+01, -2.55724462e+01,\n",
       "       -8.11183188e+00, -3.72624069e+01, -4.53634377e+01, -2.10897634e+01,\n",
       "       -4.94478261e+01, -1.37967726e+01, -5.79916879e+01, -9.92588057e+00,\n",
       "       -1.04203981e+01, -4.95917061e+01, -2.17502926e+01, -4.78660228e+01,\n",
       "       -1.27644460e+01, -4.72855552e+01, -2.03909175e+01, -7.96263690e+00,\n",
       "       -5.43922492e+00, -4.04923918e+01, -4.77806410e+01, -2.74868895e+01,\n",
       "       -2.27078485e+01, -1.11131213e+01, -2.30503884e+01, -1.90515200e+01,\n",
       "       -2.56236913e+01, -2.78763562e+01,  2.42498075e+01, -3.65780647e+01,\n",
       "       -4.44851245e+01, -8.73378346e+00, -1.31211719e+01, -2.94205008e+01,\n",
       "        9.66041108e+00, -5.33558544e+00, -1.34449659e+01, -3.80940782e+01,\n",
       "       -7.15758051e+01, -1.24480558e+01, -3.22769616e+01, -4.50796857e+01,\n",
       "       -3.92798415e+01, -2.26036019e+01, -4.82562986e+01, -1.29025736e+01,\n",
       "       -4.06185416e+01, -7.07197460e+01, -4.07522809e+01, -3.40003955e+01,\n",
       "       -1.63535428e+01, -2.59606676e+01, -1.74620598e+01,  2.17864348e+01,\n",
       "       -1.01088299e+01,  2.03389293e+01, -3.64340849e+01, -2.17363774e+01,\n",
       "       -1.82230474e+01, -3.02052734e+01, -3.37030256e+01, -2.65537887e+01,\n",
       "       -1.39133541e+01, -4.75909955e+01, -5.00845476e+01,  2.01407990e+01,\n",
       "       -2.77425766e-01, -7.56067313e+00, -3.22882358e+01,  2.38961046e+01,\n",
       "       -3.09438245e+01, -5.32476177e+00, -1.63717805e+01, -2.00089048e+01,\n",
       "       -3.23385503e+01, -3.75917896e+01, -3.09876670e+01,  2.09533602e+01,\n",
       "       -9.30590922e+00, -3.00131580e+01, -4.17918638e+01, -1.92529943e+01,\n",
       "       -2.41289512e+01, -1.66394846e+01, -1.62881793e+01, -2.72611309e+01,\n",
       "       -2.12049725e+01,  2.94505872e+01, -2.85671948e+01, -4.39865293e+01,\n",
       "       -1.12956265e+01, -4.14020055e+01,  3.75492328e+00, -3.18787689e+01,\n",
       "       -2.68034215e+01, -2.89632418e+01, -1.19313959e+01, -5.89711833e+01,\n",
       "       -2.79160828e+01, -1.48502961e+01, -3.01852969e+01, -4.87425005e+01,\n",
       "       -2.44504936e+01, -1.96572351e+01, -2.36450217e+01, -1.83565192e+01,\n",
       "       -2.00437196e+01,  1.20841372e+00, -3.18515064e+01, -6.46442639e+00,\n",
       "       -3.27619324e+01, -1.43517095e+01, -2.60882518e+01, -4.53869013e+01,\n",
       "       -1.33813526e+01, -3.49789561e+01, -3.16561717e+01, -2.23107769e+01,\n",
       "       -4.80141078e+01, -3.87009518e+01, -3.25914308e+01,  2.61559689e+01,\n",
       "       -2.96739494e+01, -2.11607977e+01, -6.38729426e+01, -1.59908930e+01,\n",
       "       -1.16707363e+01, -3.58252629e+01, -4.25040255e+01, -3.68315736e+01,\n",
       "        2.15303119e+01, -1.50634863e+01, -2.57406054e+01, -1.39659975e+01,\n",
       "        2.95388534e+01, -2.22639727e+01, -2.26130191e+01, -1.56115160e+01,\n",
       "       -1.15788173e+01, -5.81745517e+00, -1.02127355e+01, -2.61360578e+01,\n",
       "       -2.69406033e+01, -4.15688517e+01, -3.93719114e+01, -3.62316432e+01,\n",
       "       -6.49082801e+00,  1.84225725e+01, -1.78773403e+01, -9.75665084e+00,\n",
       "       -5.51364199e+01, -5.77348547e-02, -1.74784010e+01, -3.40030161e+01,\n",
       "       -1.20389336e+01, -1.75805908e+01, -1.26657755e+01, -1.73832358e+01,\n",
       "       -2.90569655e+01,  2.05943774e+01, -1.68632515e+01, -4.57772579e+01,\n",
       "       -2.21680766e+01,  1.84873957e+01, -3.84105469e+01, -4.67863555e+01,\n",
       "       -5.60484627e+01, -1.34633956e+01,  7.29570476e+00, -6.42452224e+01,\n",
       "        2.57542562e+01, -1.16372134e+01, -3.94362195e+01, -2.65045056e+01,\n",
       "       -3.32457817e+01, -9.91885209e+00, -3.51373019e+01, -1.61176495e+01,\n",
       "       -5.36627141e+01, -2.53694283e+01, -8.84713911e+01, -3.21942344e+01,\n",
       "       -1.45095373e+01, -1.14343438e+01, -3.15914947e+01, -3.47016188e+01,\n",
       "       -1.79680310e+01, -3.86323821e+01, -5.37016951e+01, -6.73340724e+00,\n",
       "       -5.03486696e+00, -1.45816149e+01, -2.14796431e+01, -1.33399155e+01,\n",
       "        4.57177491e+00, -1.56762579e+01, -5.59310516e+01, -3.20506279e+01,\n",
       "       -3.41644808e+01, -2.37615544e+01, -1.38119874e+01, -5.36230653e+01,\n",
       "       -2.41577801e+01, -8.18662545e+01, -1.80118470e+01,  1.45659595e+01,\n",
       "       -2.88848408e+01, -3.21708485e+01,  2.67236989e+01, -4.75799354e+01,\n",
       "        1.95606065e+01, -2.76577605e+00, -3.18569760e+01, -9.30073875e+00,\n",
       "        1.42335865e+01, -3.21588649e+01, -3.60072929e+01, -5.34658809e+00,\n",
       "       -2.56276657e+01, -3.72206142e+01, -2.35656592e+01, -2.05619160e+01,\n",
       "       -4.08028759e+01, -3.29261842e+01, -4.68178370e+01, -5.65051525e+00,\n",
       "       -3.13717453e+01, -2.01670566e+01,  1.46432528e+01, -5.38030190e+01,\n",
       "       -3.11142176e+01, -5.18600562e+01])"
      ]
     },
     "execution_count": 8,
     "metadata": {},
     "output_type": "execute_result"
    }
   ],
   "source": [
    "test_predicted_score"
   ]
  },
  {
   "cell_type": "code",
   "execution_count": 10,
   "metadata": {},
   "outputs": [],
   "source": [
    "import pickle\n",
    "\n",
    "with open('data-files/logreg-model.pickle', 'wb') as f:\n",
    "    pickle.dump(logreg, f)"
   ]
  },
  {
   "cell_type": "code",
   "execution_count": 11,
   "metadata": {},
   "outputs": [],
   "source": [
    "with open('data-files/logreg-model.pickle', 'rb') as f:\n",
    "    logreg2 = pickle.load(f)"
   ]
  }
 ],
 "metadata": {
  "kernelspec": {
   "display_name": "study-env",
   "language": "python",
   "name": "python3"
  },
  "language_info": {
   "codemirror_mode": {
    "name": "ipython",
    "version": 3
   },
   "file_extension": ".py",
   "mimetype": "text/x-python",
   "name": "python",
   "nbconvert_exporter": "python",
   "pygments_lexer": "ipython3",
   "version": "3.9.18"
  }
 },
 "nbformat": 4,
 "nbformat_minor": 2
}
