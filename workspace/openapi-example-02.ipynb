{
 "cells": [
  {
   "cell_type": "code",
   "execution_count": 16,
   "metadata": {},
   "outputs": [],
   "source": [
    "import numpy as np\n",
    "import pandas as pd\n",
    "import matplotlib.pyplot as plt\n",
    "\n",
    "import requests\n",
    "import json\n",
    "import time"
   ]
  },
  {
   "cell_type": "code",
   "execution_count": 32,
   "metadata": {},
   "outputs": [],
   "source": [
    "url = \"http://apis.data.go.kr/B552584/MsrstnInfoInqireSvc/getMsrstnList\"\n",
    "\n",
    "pageNo = 1\n",
    "numOfRows = 100\n",
    "stations = []\n",
    "while True:\n",
    "    params ={\n",
    "        'serviceKey' : 'R+BEwJ49XVmTutdoCAdNq4m7wjOsdFNhVtlzkxWVeZJPhwQqWbGcD7CNeQPipFzIWAanQVw/rPLsGkfcYvD4AQ==', \n",
    "        'returnType' : 'json', \n",
    "        'pageNo' : str(pageNo), \n",
    "        'numOfRows' : str(numOfRows),\n",
    "    }\n",
    "\n",
    "    response = requests.get(url, params=params)\n",
    "    try:\n",
    "        station_info = json.loads(response.text)\n",
    "    except:\n",
    "        break\n",
    "    totalCount = int(station_info[\"response\"][\"body\"][\"totalCount\"])\n",
    "    stations += station_info[\"response\"][\"body\"][\"items\"]\n",
    "\n",
    "    if pageNo * numOfRows < totalCount:\n",
    "        pageNo += 1\n",
    "    else:\n",
    "        break\n",
    "    time.sleep(1)\n"
   ]
  },
  {
   "cell_type": "code",
   "execution_count": 35,
   "metadata": {},
   "outputs": [
    {
     "name": "stdout",
     "output_type": "stream",
     "text": [
      "651\n"
     ]
    }
   ],
   "source": [
    "print( len(stations) )\n",
    "stations_df = pd.DataFrame(stations)"
   ]
  },
  {
   "cell_type": "code",
   "execution_count": 51,
   "metadata": {},
   "outputs": [],
   "source": [
    "url = 'http://apis.data.go.kr/B552584/ArpltnStatsSvc/getMsrstnAcctoRDyrg'\n",
    "page_no = 1\n",
    "num_of_rows = 100\n",
    "rows = []\n",
    "while True:\n",
    "    params ={\n",
    "        'serviceKey' : 'R+BEwJ49XVmTutdoCAdNq4m7wjOsdFNhVtlzkxWVeZJPhwQqWbGcD7CNeQPipFzIWAanQVw/rPLsGkfcYvD4AQ==', \n",
    "        'returnType' : 'json', \n",
    "        'pageNo' : page_no, \n",
    "        'numOfRows' : num_of_rows,\n",
    "        'inqBginDt' : '20230101', \n",
    "        'inqEndDt' : '20231231', \n",
    "        'msrstnName' : '비전동' \n",
    "    }\n",
    "    response = requests.get(url, params=params)\n",
    "    try:\n",
    "        data = json.loads(response.text)\n",
    "    except Exception as e:\n",
    "        print(e)\n",
    "        break\n",
    "\n",
    "    total_count = int(data[\"response\"][\"body\"][\"totalCount\"])\n",
    "    rows += data[\"response\"][\"body\"][\"items\"]\n",
    "\n",
    "    if page_no * num_of_rows < total_count:\n",
    "        page_no += 1\n",
    "    else:\n",
    "        break\n",
    "    time.sleep(1)\n",
    "\n",
    "    "
   ]
  },
  {
   "cell_type": "code",
   "execution_count": 57,
   "metadata": {},
   "outputs": [],
   "source": [
    "pollution_df = pd.DataFrame(rows)"
   ]
  }
 ],
 "metadata": {
  "kernelspec": {
   "display_name": "study-env",
   "language": "python",
   "name": "python3"
  },
  "language_info": {
   "codemirror_mode": {
    "name": "ipython",
    "version": 3
   },
   "file_extension": ".py",
   "mimetype": "text/x-python",
   "name": "python",
   "nbconvert_exporter": "python",
   "pygments_lexer": "ipython3",
   "version": "3.9.18"
  }
 },
 "nbformat": 4,
 "nbformat_minor": 2
}
