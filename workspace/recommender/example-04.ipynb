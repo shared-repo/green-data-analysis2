{
 "cells": [
  {
   "cell_type": "code",
   "execution_count": 2,
   "metadata": {},
   "outputs": [],
   "source": [
    "import numpy as np\n",
    "import pandas as pd\n",
    "import matplotlib.pyplot as plt\n",
    "import seaborn as sns\n",
    "\n",
    "from surprise import Dataset, Reader"
   ]
  },
  {
   "cell_type": "code",
   "execution_count": 24,
   "metadata": {},
   "outputs": [],
   "source": [
    "# 데이터 준비\n",
    "\n",
    "from surprise import Reader\n",
    "\n",
    "movies_small = pd.read_csv('data-files/ml-latest-small/movies.csv')\n",
    "ratings_small = pd.read_csv('data-files/ml-latest-small/ratings.csv')\n",
    "data = Dataset.load_from_df(ratings_small[[\"userId\", \"movieId\", \"rating\"]],\n",
    "                            Reader(rating_scale=(0.5, 5.0)))"
   ]
  },
  {
   "cell_type": "code",
   "execution_count": 9,
   "metadata": {},
   "outputs": [
    {
     "data": {
      "text/plain": [
       "(100836, (1, 1, 4.0))"
      ]
     },
     "execution_count": 9,
     "metadata": {},
     "output_type": "execute_result"
    }
   ],
   "source": [
    "trainset = data.build_full_trainset()\n",
    "# trainset.all_ratings()\n",
    "testset = trainset.build_testset()\n",
    "len(testset), testset[0]"
   ]
  },
  {
   "cell_type": "code",
   "execution_count": 10,
   "metadata": {},
   "outputs": [],
   "source": [
    "# 모델 만들기\n",
    "import random\n",
    "from surprise import SVD\n",
    "\n",
    "svd = SVD(n_factors=100, n_epochs=20, random_state=42)"
   ]
  },
  {
   "cell_type": "code",
   "execution_count": 11,
   "metadata": {},
   "outputs": [
    {
     "data": {
      "text/plain": [
       "<surprise.prediction_algorithms.matrix_factorization.SVD at 0x1dd2fa50eb0>"
      ]
     },
     "execution_count": 11,
     "metadata": {},
     "output_type": "execute_result"
    }
   ],
   "source": [
    "# 모델 훈련\n",
    "svd.fit(trainset)"
   ]
  },
  {
   "cell_type": "code",
   "execution_count": 23,
   "metadata": {},
   "outputs": [
    {
     "name": "stdout",
     "output_type": "stream",
     "text": [
      "26\n",
      "6\n"
     ]
    },
    {
     "data": {
      "text/plain": [
       "Prediction(uid=25, iid=250, r_ui=None, est=3.975116005774669, details={'was_impossible': False})"
      ]
     },
     "execution_count": 23,
     "metadata": {},
     "output_type": "execute_result"
    }
   ],
   "source": [
    "# 시청하지 않은 영화 평점 예측\n",
    "print( (ratings_small[\"userId\"] == 25).sum() )\n",
    "\n",
    "uid_mask = ratings_small[\"userId\"] == 25        # 25번 사용자의 평점 부여 목록 조회\n",
    "ratings_small[uid_mask][['userId', 'movieId']]  # 25번 사용자의 평점 부여 영화 조회\n",
    "print( (ratings_small['movieId'] == 250).sum() )\n",
    "\n",
    "svd.predict(uid=25, iid=250)"
   ]
  },
  {
   "cell_type": "code",
   "execution_count": 36,
   "metadata": {},
   "outputs": [],
   "source": [
    "# 시청하지 않은 영화 목록 조회 함수\n",
    "def unrated_movies(ratings, user_id):\n",
    "    all_movie_id = ratings[\"movieId\"].unique()\n",
    "    rated_movie_ids = ratings[ratings[\"userId\"] == user_id][\"movieId\"].values\n",
    "    not_rated_movies = [movie_id for movie_id in all_movie_id if movie_id not in rated_movie_ids]\n",
    "    return not_rated_movies\n",
    "    # return rated_movie_ids\n",
    "\n",
    "# sorted(unrated_movies(ratings_small, movies_small, 25))[200:]\n",
    "# unrated_movies(ratings_small, movies_small, 25)"
   ]
  },
  {
   "cell_type": "code",
   "execution_count": 45,
   "metadata": {},
   "outputs": [
    {
     "data": {
      "text/plain": [
       "'Heavyweights (Heavy Weights) (1995)'"
      ]
     },
     "execution_count": 45,
     "metadata": {},
     "output_type": "execute_result"
    }
   ],
   "source": [
    "movies_small[movies_small['movieId'] == 250]['title'].values[0]"
   ]
  },
  {
   "cell_type": "code",
   "execution_count": 46,
   "metadata": {},
   "outputs": [
    {
     "ename": "TypeError",
     "evalue": "tuple indices must be integers or slices, not str",
     "output_type": "error",
     "traceback": [
      "\u001b[1;31m---------------------------------------------------------------------------\u001b[0m",
      "\u001b[1;31mTypeError\u001b[0m                                 Traceback (most recent call last)",
      "Cell \u001b[1;32mIn[46], line 14\u001b[0m\n\u001b[0;32m     11\u001b[0m     \u001b[38;5;66;03m# return top_n_predictions\u001b[39;00m\n\u001b[0;32m     12\u001b[0m     \u001b[38;5;28;01mreturn\u001b[39;00m recommendations\n\u001b[1;32m---> 14\u001b[0m \u001b[43mrecommend_movies\u001b[49m\u001b[43m(\u001b[49m\u001b[43mratings_small\u001b[49m\u001b[43m,\u001b[49m\u001b[43m \u001b[49m\u001b[43mmovies_small\u001b[49m\u001b[43m,\u001b[49m\u001b[43m \u001b[49m\u001b[38;5;241;43m25\u001b[39;49m\u001b[43m)\u001b[49m\n",
      "Cell \u001b[1;32mIn[46], line 6\u001b[0m, in \u001b[0;36mrecommend_movies\u001b[1;34m(ratings, movies, user_id, top_n)\u001b[0m\n\u001b[0;32m      3\u001b[0m not_rated_movie_ids \u001b[38;5;241m=\u001b[39m unrated_movies(ratings, user_id)\n\u001b[0;32m      4\u001b[0m predictions \u001b[38;5;241m=\u001b[39m [svd\u001b[38;5;241m.\u001b[39mpredict(user_id, movie_id) \u001b[38;5;28;01mfor\u001b[39;00m movie_id \u001b[38;5;129;01min\u001b[39;00m not_rated_movie_ids]\n\u001b[1;32m----> 6\u001b[0m \u001b[43mpredictions\u001b[49m\u001b[38;5;241;43m.\u001b[39;49m\u001b[43msort\u001b[49m\u001b[43m(\u001b[49m\u001b[43mkey\u001b[49m\u001b[38;5;241;43m=\u001b[39;49m\u001b[38;5;28;43;01mlambda\u001b[39;49;00m\u001b[43m \u001b[49m\u001b[43mprediction\u001b[49m\u001b[43m:\u001b[49m\u001b[43m \u001b[49m\u001b[43mprediction\u001b[49m\u001b[43m[\u001b[49m\u001b[38;5;124;43m\"\u001b[39;49m\u001b[38;5;124;43mest\u001b[39;49m\u001b[38;5;124;43m\"\u001b[39;49m\u001b[43m]\u001b[49m\u001b[43m,\u001b[49m\u001b[43m \u001b[49m\u001b[43mreverse\u001b[49m\u001b[38;5;241;43m=\u001b[39;49m\u001b[38;5;28;43;01mTrue\u001b[39;49;00m\u001b[43m)\u001b[49m \u001b[38;5;66;03m# Prediction 객체의 est 속성 값 기준 내림차순 정렬\u001b[39;00m\n\u001b[0;32m      7\u001b[0m top_n_predictions \u001b[38;5;241m=\u001b[39m predictions[:top_n]\n\u001b[0;32m      9\u001b[0m recommendations \u001b[38;5;241m=\u001b[39m [ (p[\u001b[38;5;124m'\u001b[39m\u001b[38;5;124miid\u001b[39m\u001b[38;5;124m'\u001b[39m], movies[movies[\u001b[38;5;124m'\u001b[39m\u001b[38;5;124mmovieId\u001b[39m\u001b[38;5;124m'\u001b[39m] \u001b[38;5;241m==\u001b[39m p[\u001b[38;5;124m'\u001b[39m\u001b[38;5;124miid\u001b[39m\u001b[38;5;124m'\u001b[39m]][\u001b[38;5;124m'\u001b[39m\u001b[38;5;124mtitle\u001b[39m\u001b[38;5;124m'\u001b[39m]\u001b[38;5;241m.\u001b[39mvalues[\u001b[38;5;241m0\u001b[39m]) \u001b[38;5;28;01mfor\u001b[39;00m p \u001b[38;5;129;01min\u001b[39;00m top_n_predictions ]\n",
      "Cell \u001b[1;32mIn[46], line 6\u001b[0m, in \u001b[0;36mrecommend_movies.<locals>.<lambda>\u001b[1;34m(prediction)\u001b[0m\n\u001b[0;32m      3\u001b[0m not_rated_movie_ids \u001b[38;5;241m=\u001b[39m unrated_movies(ratings, user_id)\n\u001b[0;32m      4\u001b[0m predictions \u001b[38;5;241m=\u001b[39m [svd\u001b[38;5;241m.\u001b[39mpredict(user_id, movie_id) \u001b[38;5;28;01mfor\u001b[39;00m movie_id \u001b[38;5;129;01min\u001b[39;00m not_rated_movie_ids]\n\u001b[1;32m----> 6\u001b[0m predictions\u001b[38;5;241m.\u001b[39msort(key\u001b[38;5;241m=\u001b[39m\u001b[38;5;28;01mlambda\u001b[39;00m prediction: \u001b[43mprediction\u001b[49m\u001b[43m[\u001b[49m\u001b[38;5;124;43m\"\u001b[39;49m\u001b[38;5;124;43mest\u001b[39;49m\u001b[38;5;124;43m\"\u001b[39;49m\u001b[43m]\u001b[49m, reverse\u001b[38;5;241m=\u001b[39m\u001b[38;5;28;01mTrue\u001b[39;00m) \u001b[38;5;66;03m# Prediction 객체의 est 속성 값 기준 내림차순 정렬\u001b[39;00m\n\u001b[0;32m      7\u001b[0m top_n_predictions \u001b[38;5;241m=\u001b[39m predictions[:top_n]\n\u001b[0;32m      9\u001b[0m recommendations \u001b[38;5;241m=\u001b[39m [ (p[\u001b[38;5;124m'\u001b[39m\u001b[38;5;124miid\u001b[39m\u001b[38;5;124m'\u001b[39m], movies[movies[\u001b[38;5;124m'\u001b[39m\u001b[38;5;124mmovieId\u001b[39m\u001b[38;5;124m'\u001b[39m] \u001b[38;5;241m==\u001b[39m p[\u001b[38;5;124m'\u001b[39m\u001b[38;5;124miid\u001b[39m\u001b[38;5;124m'\u001b[39m]][\u001b[38;5;124m'\u001b[39m\u001b[38;5;124mtitle\u001b[39m\u001b[38;5;124m'\u001b[39m]\u001b[38;5;241m.\u001b[39mvalues[\u001b[38;5;241m0\u001b[39m]) \u001b[38;5;28;01mfor\u001b[39;00m p \u001b[38;5;129;01min\u001b[39;00m top_n_predictions ]\n",
      "\u001b[1;31mTypeError\u001b[0m: tuple indices must be integers or slices, not str"
     ]
    }
   ],
   "source": [
    "# 추천 함수\n",
    "def recommend_movies(ratings, movies, user_id, top_n=10):\n",
    "    not_rated_movie_ids = unrated_movies(ratings, user_id)\n",
    "    predictions = [svd.predict(user_id, movie_id) for movie_id in not_rated_movie_ids]\n",
    "\n",
    "    predictions.sort(key=lambda prediction: prediction[\"est\"], reverse=True) # Prediction 객체의 est 속성 값 기준 내림차순 정렬\n",
    "    top_n_predictions = predictions[:top_n]\n",
    "\n",
    "    recommendations = [ (p['iid'], movies[movies['movieId'] == p['iid']]['title'].values[0]) for p in top_n_predictions ]\n",
    "\n",
    "    # return top_n_predictions\n",
    "    return recommendations\n",
    "\n",
    "recommend_movies(ratings_small, movies_small, 25)"
   ]
  },
  {
   "cell_type": "code",
   "execution_count": 42,
   "metadata": {},
   "outputs": [
    {
     "data": {
      "text/plain": [
       "[{'idx': 4, 'name': 'john doe'},\n",
       " {'idx': 3, 'name': 'john doe'},\n",
       " {'idx': 2, 'name': 'john doe'},\n",
       " {'idx': 1, 'name': 'john doe'}]"
      ]
     },
     "execution_count": 42,
     "metadata": {},
     "output_type": "execute_result"
    }
   ],
   "source": [
    "ar = [1, 3, 2, 5, 4]\n",
    "ar.sort()\n",
    "ar\n",
    "ar2 = [{'idx': 1, 'name': 'john doe'}, {'idx': 2, 'name': 'john doe'}, {'idx': 3, 'name': 'john doe'}, {'idx': 4, 'name': 'john doe'}]\n",
    "ar2.sort(key=lambda item: -item['idx'])\n",
    "ar2"
   ]
  }
 ],
 "metadata": {
  "kernelspec": {
   "display_name": "study-env",
   "language": "python",
   "name": "python3"
  },
  "language_info": {
   "codemirror_mode": {
    "name": "ipython",
    "version": 3
   },
   "file_extension": ".py",
   "mimetype": "text/x-python",
   "name": "python",
   "nbconvert_exporter": "python",
   "pygments_lexer": "ipython3",
   "version": "3.9.18"
  }
 },
 "nbformat": 4,
 "nbformat_minor": 2
}
