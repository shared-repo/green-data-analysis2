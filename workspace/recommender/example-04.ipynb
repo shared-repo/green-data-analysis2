{
 "cells": [
  {
   "cell_type": "code",
   "execution_count": 2,
   "metadata": {},
   "outputs": [],
   "source": [
    "import numpy as np\n",
    "import pandas as pd\n",
    "import matplotlib.pyplot as plt\n",
    "import seaborn as sns\n",
    "\n",
    "from surprise import Dataset, Reader"
   ]
  },
  {
   "cell_type": "code",
   "execution_count": 24,
   "metadata": {},
   "outputs": [],
   "source": [
    "# 데이터 준비\n",
    "\n",
    "from surprise import Reader\n",
    "\n",
    "movies_small = pd.read_csv('data-files/ml-latest-small/movies.csv')\n",
    "ratings_small = pd.read_csv('data-files/ml-latest-small/ratings.csv')\n",
    "data = Dataset.load_from_df(ratings_small[[\"userId\", \"movieId\", \"rating\"]],\n",
    "                            Reader(rating_scale=(0.5, 5.0)))"
   ]
  },
  {
   "cell_type": "code",
   "execution_count": 9,
   "metadata": {},
   "outputs": [
    {
     "data": {
      "text/plain": [
       "(100836, (1, 1, 4.0))"
      ]
     },
     "execution_count": 9,
     "metadata": {},
     "output_type": "execute_result"
    }
   ],
   "source": [
    "trainset = data.build_full_trainset()\n",
    "# trainset.all_ratings()\n",
    "testset = trainset.build_testset()\n",
    "len(testset), testset[0]"
   ]
  },
  {
   "cell_type": "code",
   "execution_count": 10,
   "metadata": {},
   "outputs": [],
   "source": [
    "# 모델 만들기\n",
    "import random\n",
    "from surprise import SVD\n",
    "\n",
    "svd = SVD(n_factors=100, n_epochs=20, random_state=42)"
   ]
  },
  {
   "cell_type": "code",
   "execution_count": 11,
   "metadata": {},
   "outputs": [
    {
     "data": {
      "text/plain": [
       "<surprise.prediction_algorithms.matrix_factorization.SVD at 0x1dd2fa50eb0>"
      ]
     },
     "execution_count": 11,
     "metadata": {},
     "output_type": "execute_result"
    }
   ],
   "source": [
    "# 모델 훈련\n",
    "svd.fit(trainset)"
   ]
  },
  {
   "cell_type": "code",
   "execution_count": 52,
   "metadata": {},
   "outputs": [
    {
     "name": "stdout",
     "output_type": "stream",
     "text": [
      "26\n",
      "6\n"
     ]
    },
    {
     "data": {
      "text/plain": [
       "(Prediction(uid=25, iid=250, r_ui=None, est=3.975116005774669, details={'was_impossible': False}),\n",
       " 250)"
      ]
     },
     "execution_count": 52,
     "metadata": {},
     "output_type": "execute_result"
    }
   ],
   "source": [
    "# 시청하지 않은 영화 평점 예측\n",
    "print( (ratings_small[\"userId\"] == 25).sum() )\n",
    "\n",
    "uid_mask = ratings_small[\"userId\"] == 25        # 25번 사용자의 평점 부여 목록 조회\n",
    "ratings_small[uid_mask][['userId', 'movieId']]  # 25번 사용자의 평점 부여 영화 조회\n",
    "print( (ratings_small['movieId'] == 250).sum() )\n",
    "\n",
    "p = svd.predict(uid=25, iid=250)\n",
    "p, p.iid"
   ]
  },
  {
   "cell_type": "code",
   "execution_count": 36,
   "metadata": {},
   "outputs": [],
   "source": [
    "# 시청하지 않은 영화 목록 조회 함수\n",
    "def unrated_movies(ratings, user_id):\n",
    "    all_movie_id = ratings[\"movieId\"].unique()\n",
    "    rated_movie_ids = ratings[ratings[\"userId\"] == user_id][\"movieId\"].values\n",
    "    not_rated_movies = [movie_id for movie_id in all_movie_id if movie_id not in rated_movie_ids]\n",
    "    return not_rated_movies\n",
    "    # return rated_movie_ids\n",
    "\n",
    "# sorted(unrated_movies(ratings_small, movies_small, 25))[200:]\n",
    "# unrated_movies(ratings_small, movies_small, 25)"
   ]
  },
  {
   "cell_type": "code",
   "execution_count": 45,
   "metadata": {},
   "outputs": [
    {
     "data": {
      "text/plain": [
       "'Heavyweights (Heavy Weights) (1995)'"
      ]
     },
     "execution_count": 45,
     "metadata": {},
     "output_type": "execute_result"
    }
   ],
   "source": [
    "movies_small[movies_small['movieId'] == 250]['title'].values[0]"
   ]
  },
  {
   "cell_type": "code",
   "execution_count": 53,
   "metadata": {},
   "outputs": [
    {
     "data": {
      "text/plain": [
       "[(50, 'Usual Suspects, The (1995)'),\n",
       " (296, 'Pulp Fiction (1994)'),\n",
       " (1089, 'Reservoir Dogs (1992)'),\n",
       " (1210, 'Star Wars: Episode VI - Return of the Jedi (1983)'),\n",
       " (2959, 'Fight Club (1999)'),\n",
       " (318, 'Shawshank Redemption, The (1994)'),\n",
       " (48516, 'Departed, The (2006)'),\n",
       " (904, 'Rear Window (1954)'),\n",
       " (908, 'North by Northwest (1959)'),\n",
       " (912, 'Casablanca (1942)')]"
      ]
     },
     "execution_count": 53,
     "metadata": {},
     "output_type": "execute_result"
    }
   ],
   "source": [
    "# 추천 함수\n",
    "def recommend_movies(ratings, movies, user_id, top_n=10):\n",
    "    not_rated_movie_ids = unrated_movies(ratings, user_id)\n",
    "    predictions = [svd.predict(user_id, movie_id) for movie_id in not_rated_movie_ids]\n",
    "\n",
    "    # predictions.sort(key=lambda prediction: prediction[\"est\"], reverse=True) # Prediction 객체의 est 속성 값 기준 내림차순 정렬\n",
    "    predictions.sort(key=lambda prediction: prediction.est, reverse=True) # Prediction 객체의 est 속성 값 기준 내림차순 정렬\n",
    "    top_n_predictions = predictions[:top_n]\n",
    "\n",
    "    # recommendations = [ (p['iid'], movies[movies['movieId'] == p['iid']]['title'].values[0]) for p in top_n_predictions ]\n",
    "    recommendations = [ (p.iid, movies[movies['movieId'] == p.iid]['title'].values[0]) for p in top_n_predictions ]\n",
    "\n",
    "    # return top_n_predictions\n",
    "    return recommendations\n",
    "\n",
    "recommend_movies(ratings_small, movies_small, 25)"
   ]
  },
  {
   "cell_type": "code",
   "execution_count": 42,
   "metadata": {},
   "outputs": [
    {
     "data": {
      "text/plain": [
       "[{'idx': 4, 'name': 'john doe'},\n",
       " {'idx': 3, 'name': 'john doe'},\n",
       " {'idx': 2, 'name': 'john doe'},\n",
       " {'idx': 1, 'name': 'john doe'}]"
      ]
     },
     "execution_count": 42,
     "metadata": {},
     "output_type": "execute_result"
    }
   ],
   "source": [
    "ar = [1, 3, 2, 5, 4]\n",
    "ar.sort()\n",
    "ar\n",
    "ar2 = [{'idx': 1, 'name': 'john doe'}, {'idx': 2, 'name': 'john doe'}, {'idx': 3, 'name': 'john doe'}, {'idx': 4, 'name': 'john doe'}]\n",
    "ar2.sort(key=lambda item: -item['idx'])\n",
    "ar2"
   ]
  }
 ],
 "metadata": {
  "kernelspec": {
   "display_name": "study-env",
   "language": "python",
   "name": "python3"
  },
  "language_info": {
   "codemirror_mode": {
    "name": "ipython",
    "version": 3
   },
   "file_extension": ".py",
   "mimetype": "text/x-python",
   "name": "python",
   "nbconvert_exporter": "python",
   "pygments_lexer": "ipython3",
   "version": "3.9.18"
  }
 },
 "nbformat": 4,
 "nbformat_minor": 2
}
