{
 "cells": [
  {
   "cell_type": "code",
   "execution_count": 1,
   "metadata": {},
   "outputs": [],
   "source": [
    "import numpy as np\n",
    "import pandas as pd\n",
    "import matplotlib.pyplot as plt\n",
    "import seaborn as sns"
   ]
  },
  {
   "cell_type": "code",
   "execution_count": null,
   "metadata": {},
   "outputs": [],
   "source": [
    "# !conda install -c conda-forge scikit-surprise"
   ]
  },
  {
   "cell_type": "code",
   "execution_count": 2,
   "metadata": {},
   "outputs": [
    {
     "name": "stdout",
     "output_type": "stream",
     "text": [
      "1.1.3\n"
     ]
    }
   ],
   "source": [
    "import surprise\n",
    "\n",
    "print(surprise.__version__)"
   ]
  },
  {
   "cell_type": "code",
   "execution_count": 3,
   "metadata": {},
   "outputs": [
    {
     "name": "stdout",
     "output_type": "stream",
     "text": [
      "Dataset ml-100k could not be found. Do you want to download it? [Y/n] Trying to download dataset from https://files.grouplens.org/datasets/movielens/ml-100k.zip...\n",
      "Done! Dataset ml-100k has been saved to C:\\Users\\Administrator.User -2023YNCQT/.surprise_data/ml-100k\n"
     ]
    }
   ],
   "source": [
    "# 데이터 준비 1. \n",
    "from surprise import Dataset\n",
    "\n",
    "data = Dataset.load_builtin(\"ml-100k\")"
   ]
  },
  {
   "cell_type": "code",
   "execution_count": 7,
   "metadata": {},
   "outputs": [],
   "source": [
    "# 데이터 준비 2.\n",
    "\n",
    "from surprise import Reader\n",
    "\n",
    "ratings_small = pd.read_csv('data-files/ml-latest-small/ratings.csv')\n",
    "data2 = Dataset.load_from_df(ratings_small[[\"userId\", \"movieId\", \"rating\"]],\n",
    "                             Reader(rating_scale=(0.5, 5.0)))"
   ]
  },
  {
   "cell_type": "code",
   "execution_count": 8,
   "metadata": {},
   "outputs": [],
   "source": [
    "# 데이터 준비 3.\n",
    "\n",
    "from surprise import Reader\n",
    "\n",
    "data3 = Dataset.load_from_file(\"data-files/ml-latest-small/ratings.csv\",\n",
    "                               Reader(rating_scale=(0.5, 5.0), sep=\",\", skip_lines=1))"
   ]
  },
  {
   "cell_type": "code",
   "execution_count": 9,
   "metadata": {},
   "outputs": [],
   "source": [
    "# 훈련 데이터 / 테스트 데이터 분할\n",
    "from surprise.model_selection import train_test_split\n",
    "\n",
    "trainset, testset = train_test_split(data3, test_size=0.2, random_state=22)"
   ]
  },
  {
   "cell_type": "code",
   "execution_count": 10,
   "metadata": {},
   "outputs": [],
   "source": [
    "# 모델 생성\n",
    "from surprise import KNNBasic\n",
    "\n",
    "knn_model = KNNBasic(sim_options={ \"name\":\"cosine\", \"user_based\":False })"
   ]
  },
  {
   "cell_type": "code",
   "execution_count": 18,
   "metadata": {},
   "outputs": [
    {
     "name": "stdout",
     "output_type": "stream",
     "text": [
      "Computing the cosine similarity matrix...\n",
      "Done computing similarity matrix.\n"
     ]
    },
    {
     "data": {
      "text/plain": [
       "<surprise.prediction_algorithms.knns.KNNBasic at 0x258fbc116d0>"
      ]
     },
     "execution_count": 18,
     "metadata": {},
     "output_type": "execute_result"
    }
   ],
   "source": [
    "knn_model.fit(trainset)"
   ]
  },
  {
   "cell_type": "code",
   "execution_count": 19,
   "metadata": {},
   "outputs": [
    {
     "data": {
      "text/plain": [
       "[('378', '33794', 4.5), ('89', '6686', 5.0), ('264', '5816', 4.0)]"
      ]
     },
     "execution_count": 19,
     "metadata": {},
     "output_type": "execute_result"
    }
   ],
   "source": [
    "testset[:3]"
   ]
  },
  {
   "cell_type": "code",
   "execution_count": 21,
   "metadata": {},
   "outputs": [
    {
     "data": {
      "text/plain": [
       "Prediction(uid='378', iid='33794', r_ui=4.5, est=3.923271771308787, details={'actual_k': 39, 'was_impossible': False})"
      ]
     },
     "execution_count": 21,
     "metadata": {},
     "output_type": "execute_result"
    }
   ],
   "source": [
    "# 단일 값 예측\n",
    "knn_model.predict('378', '33794', 4.5) "
   ]
  },
  {
   "cell_type": "code",
   "execution_count": 63,
   "metadata": {},
   "outputs": [
    {
     "data": {
      "text/plain": [
       "[Prediction(uid='378', iid='33794', r_ui=4.5, est=3.923271771308787, details={'actual_k': 39, 'was_impossible': False}),\n",
       " Prediction(uid='89', iid='6686', r_ui=5.0, est=2.85, details={'actual_k': 40, 'was_impossible': False}),\n",
       " Prediction(uid='264', iid='5816', r_ui=4.0, est=3.396079115385866, details={'actual_k': 39, 'was_impossible': False})]"
      ]
     },
     "execution_count": 63,
     "metadata": {},
     "output_type": "execute_result"
    }
   ],
   "source": [
    "# 여러 값 예측\n",
    "predictions = knn_model.test(testset)\n",
    "predictions[:3]"
   ]
  },
  {
   "cell_type": "code",
   "execution_count": 64,
   "metadata": {},
   "outputs": [
    {
     "data": {
      "text/plain": [
       "[('378', '33794', 3.923271771308787),\n",
       " ('89', '6686', 2.85),\n",
       " ('264', '5816', 3.396079115385866),\n",
       " ('202', '2407', 3.599858988746179),\n",
       " ('414', '63082', 2.95),\n",
       " ('517', '1848', 2.3625),\n",
       " ('216', '616', 3.499795086036361),\n",
       " ('509', '57504', 3.0375),\n",
       " ('512', '480', 3.7681562751102566),\n",
       " ('202', '780', 3.6481042080907047)]"
      ]
     },
     "execution_count": 64,
     "metadata": {},
     "output_type": "execute_result"
    }
   ],
   "source": [
    "# for p in predictions[:5]:\n",
    "#     print( p.uid, p.iid, p.est )\n",
    "\n",
    "d = []\n",
    "for p in predictions[:5]:\n",
    "    d.append( (p.r_ui, p.est ))\n",
    "d\n",
    "\n",
    "[ (p.uid, p.iid, p.est) for p in predictions[:10] ] # 위 구문과 동일한 결과"
   ]
  },
  {
   "cell_type": "code",
   "execution_count": 38,
   "metadata": {},
   "outputs": [
    {
     "data": {
      "text/plain": [
       "(20168, 2)"
      ]
     },
     "execution_count": 38,
     "metadata": {},
     "output_type": "execute_result"
    }
   ],
   "source": [
    "d = np.array([ (p.r_ui, p.est) for p in predictions])\n",
    "d.shape"
   ]
  },
  {
   "cell_type": "code",
   "execution_count": 32,
   "metadata": {},
   "outputs": [
    {
     "data": {
      "text/plain": [
       "array([[4.5       , 3.92327177],\n",
       "       [5.        , 2.85      ],\n",
       "       [4.        , 3.39607912],\n",
       "       [4.        , 3.59985899],\n",
       "       [4.        , 2.95      ],\n",
       "       [3.        , 2.3625    ],\n",
       "       [4.        , 3.49979509],\n",
       "       [3.5       , 3.0375    ],\n",
       "       [4.        , 3.76815628],\n",
       "       [2.        , 3.64810421]])"
      ]
     },
     "execution_count": 32,
     "metadata": {},
     "output_type": "execute_result"
    }
   ],
   "source": [
    "d[:10]"
   ]
  },
  {
   "cell_type": "code",
   "execution_count": 33,
   "metadata": {},
   "outputs": [
    {
     "data": {
      "text/plain": [
       "(0.7551751081911018, 0.9470712593780297, 0.9731758625130557)"
      ]
     },
     "execution_count": 33,
     "metadata": {},
     "output_type": "execute_result"
    }
   ],
   "source": [
    "from sklearn.metrics import mean_absolute_error, mean_squared_error\n",
    "\n",
    "\n",
    "mean_absolute_error(d[:, 0], d[:, 1]), mean_squared_error(d[:, 0], d[:, 1]), \\\n",
    "    np.sqrt(mean_squared_error(d[:, 0], d[:, 1]))"
   ]
  },
  {
   "cell_type": "code",
   "execution_count": 39,
   "metadata": {},
   "outputs": [
    {
     "name": "stdout",
     "output_type": "stream",
     "text": [
      "MAE:  0.7552\n",
      "0.7551751081911018\n",
      "MSE: 0.9471\n",
      "0.9470712593780297\n",
      "RMSE: 0.9732\n",
      "0.9731758625130557\n"
     ]
    }
   ],
   "source": [
    "from surprise import accuracy\n",
    "\n",
    "print( accuracy.mae(predictions=predictions) )\n",
    "print( accuracy.mse(predictions=predictions) )\n",
    "print( accuracy.rmse(predictions=predictions) )"
   ]
  },
  {
   "cell_type": "code",
   "execution_count": 49,
   "metadata": {},
   "outputs": [
    {
     "data": {
      "text/plain": [
       "array([     1,      3,      6, ..., 160836, 163937, 163981], dtype=int64)"
      ]
     },
     "execution_count": 49,
     "metadata": {},
     "output_type": "execute_result"
    }
   ],
   "source": []
  },
  {
   "cell_type": "code",
   "execution_count": 72,
   "metadata": {},
   "outputs": [],
   "source": [
    "# 시청하지 않은 영화 찾아서 예상 평점 산출\n",
    "all_movie_id = ratings_small[\"movieId\"].unique()\n",
    "rated_movies = ratings_small[ratings_small[\"userId\"] == 42][\"movieId\"].values\n",
    "# not_rated_movies = [movie_id for movie_id in all_movie_id if movie_id not in rated_movies]\n",
    "\n",
    "predictions = []\n",
    "for movie_id in all_movie_id[:10]:\n",
    "    if movie_id not in rated_movies:\n",
    "        prediction = knn_model.predict(\"42\", str(movie_id))\n",
    "        predictions.append(prediction)"
   ]
  },
  {
   "cell_type": "code",
   "execution_count": 73,
   "metadata": {},
   "outputs": [
    {
     "data": {
      "text/plain": [
       "[Prediction(uid='42', iid='151', r_ui=None, est=3.45, details={'actual_k': 40, 'was_impossible': False}),\n",
       " Prediction(uid='42', iid='101', r_ui=None, est=3.325, details={'actual_k': 40, 'was_impossible': False}),\n",
       " Prediction(uid='42', iid='70', r_ui=None, est=3.249766939947328, details={'actual_k': 40, 'was_impossible': False}),\n",
       " Prediction(uid='42', iid='1', r_ui=None, est=3.248958852771118, details={'actual_k': 40, 'was_impossible': False}),\n",
       " Prediction(uid='42', iid='157', r_ui=None, est=3.075, details={'actual_k': 40, 'was_impossible': False}),\n",
       " Prediction(uid='42', iid='6', r_ui=None, est=2.8248002270983084, details={'actual_k': 40, 'was_impossible': False})]"
      ]
     },
     "execution_count": 73,
     "metadata": {},
     "output_type": "execute_result"
    }
   ],
   "source": [
    "len(predictions)\n",
    "predictions.sort(key=lambda p: p.est, reverse=True) # est 기준 내림차순 정렬\n",
    "\n",
    "top_10_predictions = predictions[:10]\n",
    "top_10_predictions"
   ]
  },
  {
   "cell_type": "code",
   "execution_count": 87,
   "metadata": {},
   "outputs": [
    {
     "name": "stdout",
     "output_type": "stream",
     "text": [
      "['Rob Roy (1995)', 'Bottle Rocket (1996)', 'From Dusk Till Dawn (1996)', 'Toy Story (1995)', 'Canadian Bacon (1995)', 'Heat (1995)']\n"
     ]
    }
   ],
   "source": [
    "movies = pd.read_csv(\"data-files/ml-latest-small/movies.csv\")\n",
    "top_10_titles = []\n",
    "for p in predictions:\n",
    "    movie = movies[movies['movieId'] == int(p.iid)]\n",
    "    # print(movie[\"title\"])\n",
    "    top_10_titles.append(movie['title'].values[0])\n",
    "\n",
    "print(top_10_titles)\n",
    "\n",
    "    "
   ]
  }
 ],
 "metadata": {
  "kernelspec": {
   "display_name": "study-env",
   "language": "python",
   "name": "python3"
  },
  "language_info": {
   "codemirror_mode": {
    "name": "ipython",
    "version": 3
   },
   "file_extension": ".py",
   "mimetype": "text/x-python",
   "name": "python",
   "nbconvert_exporter": "python",
   "pygments_lexer": "ipython3",
   "version": "3.9.18"
  }
 },
 "nbformat": 4,
 "nbformat_minor": 2
}
