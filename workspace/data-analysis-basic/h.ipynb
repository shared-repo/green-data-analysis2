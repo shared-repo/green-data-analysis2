{
 "cells": [
  {
   "cell_type": "code",
   "execution_count": 1,
   "metadata": {},
   "outputs": [],
   "source": [
    "import numpy as np\n",
    "import pandas as pd\n",
    "import matplotlib.pyplot as plt"
   ]
  },
  {
   "cell_type": "code",
   "execution_count": null,
   "metadata": {},
   "outputs": [],
   "source": [
    "# cctv 데이터 읽기\n",
    "# 구분 컬럼을 제외한 나머지 컬럼의 데이터를 수치형으로 변경\n",
    "# 컬럼이름 변경 ( 구분 -> 자치구 )\n",
    "# 합계 행 지우기\n",
    "# cctv 제일 많은 / 제일 적은 자치구\n",
    "# 최근 증가율 (2020년 이후 증가분) 컬럼 만들기\n",
    "# 최근 CCTV 설치 증가율 높은 자치구 확인\n",
    "# 최근 증가율이 50% 이상인 자치구 확인\n",
    "# 데이터프레임을 파일에 저장 (processed-seoul-cctv.csv)"
   ]
  }
 ],
 "metadata": {
  "kernelspec": {
   "display_name": "study-env",
   "language": "python",
   "name": "python3"
  },
  "language_info": {
   "codemirror_mode": {
    "name": "ipython",
    "version": 3
   },
   "file_extension": ".py",
   "mimetype": "text/x-python",
   "name": "python",
   "nbconvert_exporter": "python",
   "pygments_lexer": "ipython3",
   "version": "3.9.18"
  }
 },
 "nbformat": 4,
 "nbformat_minor": 2
}
