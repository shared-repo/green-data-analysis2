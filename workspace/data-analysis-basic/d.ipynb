{
 "cells": [
  {
   "cell_type": "code",
   "execution_count": 1,
   "metadata": {},
   "outputs": [],
   "source": [
    "# 1. population.csv 파일을 DataFrame으로 읽고 내용 확인\n",
    "# 2. 현재 연구자 거주지 동의 인구 정보 조회 ( 행전체 )\n",
    "# 3. 총인구수가 가장 많은 동 조회\n",
    "# 4. 남성인구비가 가장 높은 동 조회\n",
    "# 5. 도시 법정동 1선정, 농촌 법정동 1선정, 인구 분포 비교 (bar plot 사용)\n",
    "# 6. 현재 연구자 거주지 동의 연령별 인구를 막대그래프로 표시\n"
   ]
  },
  {
   "cell_type": "code",
   "execution_count": 13,
   "metadata": {},
   "outputs": [],
   "source": [
    "import numpy as np\n",
    "import pandas as pd\n",
    "import matplotlib.pyplot as plt"
   ]
  },
  {
   "cell_type": "code",
   "execution_count": 3,
   "metadata": {},
   "outputs": [
    {
     "name": "stderr",
     "output_type": "stream",
     "text": [
      "C:\\Users\\Administrator\\AppData\\Local\\Temp\\ipykernel_6780\\1717257733.py:1: DtypeWarning: Columns (100,101,103,198,199,200,305,306,307,309) have mixed types. Specify dtype option on import or set low_memory=False.\n",
      "  population_df = pd.read_csv(\"data-files/population.csv\", encoding=\"utf-8\")\n"
     ]
    }
   ],
   "source": [
    "population_df = pd.read_csv(\"data-files/population.csv\", encoding=\"utf-8\")"
   ]
  },
  {
   "cell_type": "code",
   "execution_count": 4,
   "metadata": {},
   "outputs": [
    {
     "name": "stdout",
     "output_type": "stream",
     "text": [
      "<class 'pandas.core.frame.DataFrame'>\n",
      "RangeIndex: 3880 entries, 0 to 3879\n",
      "Columns: 310 entries, 행정구역 to 2023년11월_여_100세 이상\n",
      "dtypes: int64(8), object(302)\n",
      "memory usage: 9.2+ MB\n"
     ]
    }
   ],
   "source": [
    "population_df.info()"
   ]
  },
  {
   "cell_type": "code",
   "execution_count": 5,
   "metadata": {},
   "outputs": [
    {
     "data": {
      "text/html": [
       "<div>\n",
       "<style scoped>\n",
       "    .dataframe tbody tr th:only-of-type {\n",
       "        vertical-align: middle;\n",
       "    }\n",
       "\n",
       "    .dataframe tbody tr th {\n",
       "        vertical-align: top;\n",
       "    }\n",
       "\n",
       "    .dataframe thead th {\n",
       "        text-align: right;\n",
       "    }\n",
       "</style>\n",
       "<table border=\"1\" class=\"dataframe\">\n",
       "  <thead>\n",
       "    <tr style=\"text-align: right;\">\n",
       "      <th></th>\n",
       "      <th>행정구역</th>\n",
       "      <th>2023년11월_계_총인구수</th>\n",
       "      <th>2023년11월_계_연령구간인구수</th>\n",
       "      <th>2023년11월_계_0세</th>\n",
       "      <th>2023년11월_계_1세</th>\n",
       "      <th>2023년11월_계_2세</th>\n",
       "      <th>2023년11월_계_3세</th>\n",
       "      <th>2023년11월_계_4세</th>\n",
       "      <th>2023년11월_계_5세</th>\n",
       "      <th>2023년11월_계_6세</th>\n",
       "      <th>...</th>\n",
       "      <th>2023년11월_여_91세</th>\n",
       "      <th>2023년11월_여_92세</th>\n",
       "      <th>2023년11월_여_93세</th>\n",
       "      <th>2023년11월_여_94세</th>\n",
       "      <th>2023년11월_여_95세</th>\n",
       "      <th>2023년11월_여_96세</th>\n",
       "      <th>2023년11월_여_97세</th>\n",
       "      <th>2023년11월_여_98세</th>\n",
       "      <th>2023년11월_여_99세</th>\n",
       "      <th>2023년11월_여_100세 이상</th>\n",
       "    </tr>\n",
       "  </thead>\n",
       "  <tbody>\n",
       "    <tr>\n",
       "      <th>0</th>\n",
       "      <td>서울특별시  (1100000000)</td>\n",
       "      <td>9,390,925</td>\n",
       "      <td>9,390,925</td>\n",
       "      <td>37,876</td>\n",
       "      <td>41,294</td>\n",
       "      <td>43,322</td>\n",
       "      <td>43,749</td>\n",
       "      <td>47,776</td>\n",
       "      <td>50,756</td>\n",
       "      <td>55,314</td>\n",
       "      <td>...</td>\n",
       "      <td>6,471</td>\n",
       "      <td>4,710</td>\n",
       "      <td>4,076</td>\n",
       "      <td>3,284</td>\n",
       "      <td>2,484</td>\n",
       "      <td>1,815</td>\n",
       "      <td>1,094</td>\n",
       "      <td>724</td>\n",
       "      <td>539</td>\n",
       "      <td>1,123</td>\n",
       "    </tr>\n",
       "    <tr>\n",
       "      <th>1</th>\n",
       "      <td>서울특별시 종로구 (1111000000)</td>\n",
       "      <td>139,497</td>\n",
       "      <td>139,497</td>\n",
       "      <td>393</td>\n",
       "      <td>469</td>\n",
       "      <td>464</td>\n",
       "      <td>495</td>\n",
       "      <td>539</td>\n",
       "      <td>561</td>\n",
       "      <td>663</td>\n",
       "      <td>...</td>\n",
       "      <td>111</td>\n",
       "      <td>94</td>\n",
       "      <td>85</td>\n",
       "      <td>53</td>\n",
       "      <td>57</td>\n",
       "      <td>43</td>\n",
       "      <td>24</td>\n",
       "      <td>12</td>\n",
       "      <td>11</td>\n",
       "      <td>27</td>\n",
       "    </tr>\n",
       "    <tr>\n",
       "      <th>2</th>\n",
       "      <td>서울특별시 종로구 청운효자동(1111051500)</td>\n",
       "      <td>11,359</td>\n",
       "      <td>11,359</td>\n",
       "      <td>40</td>\n",
       "      <td>46</td>\n",
       "      <td>41</td>\n",
       "      <td>51</td>\n",
       "      <td>54</td>\n",
       "      <td>44</td>\n",
       "      <td>74</td>\n",
       "      <td>...</td>\n",
       "      <td>11</td>\n",
       "      <td>11</td>\n",
       "      <td>5</td>\n",
       "      <td>4</td>\n",
       "      <td>7</td>\n",
       "      <td>1</td>\n",
       "      <td>2</td>\n",
       "      <td>0</td>\n",
       "      <td>2</td>\n",
       "      <td>2</td>\n",
       "    </tr>\n",
       "    <tr>\n",
       "      <th>3</th>\n",
       "      <td>서울특별시 종로구 사직동(1111053000)</td>\n",
       "      <td>9,005</td>\n",
       "      <td>9,005</td>\n",
       "      <td>26</td>\n",
       "      <td>25</td>\n",
       "      <td>43</td>\n",
       "      <td>36</td>\n",
       "      <td>41</td>\n",
       "      <td>49</td>\n",
       "      <td>55</td>\n",
       "      <td>...</td>\n",
       "      <td>6</td>\n",
       "      <td>9</td>\n",
       "      <td>9</td>\n",
       "      <td>9</td>\n",
       "      <td>3</td>\n",
       "      <td>2</td>\n",
       "      <td>1</td>\n",
       "      <td>3</td>\n",
       "      <td>0</td>\n",
       "      <td>3</td>\n",
       "    </tr>\n",
       "    <tr>\n",
       "      <th>4</th>\n",
       "      <td>서울특별시 종로구 삼청동(1111054000)</td>\n",
       "      <td>2,242</td>\n",
       "      <td>2,242</td>\n",
       "      <td>6</td>\n",
       "      <td>5</td>\n",
       "      <td>8</td>\n",
       "      <td>6</td>\n",
       "      <td>3</td>\n",
       "      <td>12</td>\n",
       "      <td>13</td>\n",
       "      <td>...</td>\n",
       "      <td>4</td>\n",
       "      <td>1</td>\n",
       "      <td>4</td>\n",
       "      <td>0</td>\n",
       "      <td>1</td>\n",
       "      <td>0</td>\n",
       "      <td>0</td>\n",
       "      <td>0</td>\n",
       "      <td>0</td>\n",
       "      <td>1</td>\n",
       "    </tr>\n",
       "  </tbody>\n",
       "</table>\n",
       "<p>5 rows × 310 columns</p>\n",
       "</div>"
      ],
      "text/plain": [
       "                          행정구역 2023년11월_계_총인구수 2023년11월_계_연령구간인구수  \\\n",
       "0          서울특별시  (1100000000)       9,390,925          9,390,925   \n",
       "1       서울특별시 종로구 (1111000000)         139,497            139,497   \n",
       "2  서울특별시 종로구 청운효자동(1111051500)          11,359             11,359   \n",
       "3    서울특별시 종로구 사직동(1111053000)           9,005              9,005   \n",
       "4    서울특별시 종로구 삼청동(1111054000)           2,242              2,242   \n",
       "\n",
       "  2023년11월_계_0세 2023년11월_계_1세 2023년11월_계_2세 2023년11월_계_3세 2023년11월_계_4세  \\\n",
       "0        37,876        41,294        43,322        43,749        47,776   \n",
       "1           393           469           464           495           539   \n",
       "2            40            46            41            51            54   \n",
       "3            26            25            43            36            41   \n",
       "4             6             5             8             6             3   \n",
       "\n",
       "  2023년11월_계_5세 2023년11월_계_6세  ... 2023년11월_여_91세 2023년11월_여_92세  \\\n",
       "0        50,756        55,314  ...          6,471          4,710   \n",
       "1           561           663  ...            111             94   \n",
       "2            44            74  ...             11             11   \n",
       "3            49            55  ...              6              9   \n",
       "4            12            13  ...              4              1   \n",
       "\n",
       "  2023년11월_여_93세 2023년11월_여_94세 2023년11월_여_95세 2023년11월_여_96세 2023년11월_여_97세  \\\n",
       "0          4,076          3,284          2,484          1,815          1,094   \n",
       "1             85             53             57             43             24   \n",
       "2              5              4              7              1              2   \n",
       "3              9              9              3              2              1   \n",
       "4              4              0              1              0              0   \n",
       "\n",
       "  2023년11월_여_98세 2023년11월_여_99세 2023년11월_여_100세 이상  \n",
       "0            724            539              1,123  \n",
       "1             12             11                 27  \n",
       "2              0              2                  2  \n",
       "3              3              0                  3  \n",
       "4              0              0                  1  \n",
       "\n",
       "[5 rows x 310 columns]"
      ]
     },
     "execution_count": 5,
     "metadata": {},
     "output_type": "execute_result"
    }
   ],
   "source": [
    "population_df.head()"
   ]
  },
  {
   "cell_type": "code",
   "execution_count": 6,
   "metadata": {},
   "outputs": [
    {
     "data": {
      "text/plain": [
       "Index(['행정구역', '2023년11월_계_총인구수', '2023년11월_계_연령구간인구수', '2023년11월_계_0세',\n",
       "       '2023년11월_계_1세', '2023년11월_계_2세', '2023년11월_계_3세', '2023년11월_계_4세',\n",
       "       '2023년11월_계_5세', '2023년11월_계_6세',\n",
       "       ...\n",
       "       '2023년11월_여_91세', '2023년11월_여_92세', '2023년11월_여_93세', '2023년11월_여_94세',\n",
       "       '2023년11월_여_95세', '2023년11월_여_96세', '2023년11월_여_97세', '2023년11월_여_98세',\n",
       "       '2023년11월_여_99세', '2023년11월_여_100세 이상'],\n",
       "      dtype='object', length=310)"
      ]
     },
     "execution_count": 6,
     "metadata": {},
     "output_type": "execute_result"
    }
   ],
   "source": [
    "population_df.columns"
   ]
  },
  {
   "cell_type": "code",
   "execution_count": 7,
   "metadata": {},
   "outputs": [
    {
     "name": "stdout",
     "output_type": "stream",
     "text": [
      "1\n"
     ]
    },
    {
     "data": {
      "text/html": [
       "<div>\n",
       "<style scoped>\n",
       "    .dataframe tbody tr th:only-of-type {\n",
       "        vertical-align: middle;\n",
       "    }\n",
       "\n",
       "    .dataframe tbody tr th {\n",
       "        vertical-align: top;\n",
       "    }\n",
       "\n",
       "    .dataframe thead th {\n",
       "        text-align: right;\n",
       "    }\n",
       "</style>\n",
       "<table border=\"1\" class=\"dataframe\">\n",
       "  <thead>\n",
       "    <tr style=\"text-align: right;\">\n",
       "      <th></th>\n",
       "      <th>행정구역</th>\n",
       "      <th>2023년11월_계_총인구수</th>\n",
       "      <th>2023년11월_계_연령구간인구수</th>\n",
       "      <th>2023년11월_계_0세</th>\n",
       "      <th>2023년11월_계_1세</th>\n",
       "      <th>2023년11월_계_2세</th>\n",
       "      <th>2023년11월_계_3세</th>\n",
       "      <th>2023년11월_계_4세</th>\n",
       "      <th>2023년11월_계_5세</th>\n",
       "      <th>2023년11월_계_6세</th>\n",
       "      <th>...</th>\n",
       "      <th>2023년11월_여_91세</th>\n",
       "      <th>2023년11월_여_92세</th>\n",
       "      <th>2023년11월_여_93세</th>\n",
       "      <th>2023년11월_여_94세</th>\n",
       "      <th>2023년11월_여_95세</th>\n",
       "      <th>2023년11월_여_96세</th>\n",
       "      <th>2023년11월_여_97세</th>\n",
       "      <th>2023년11월_여_98세</th>\n",
       "      <th>2023년11월_여_99세</th>\n",
       "      <th>2023년11월_여_100세 이상</th>\n",
       "    </tr>\n",
       "  </thead>\n",
       "  <tbody>\n",
       "    <tr>\n",
       "      <th>1497</th>\n",
       "      <td>경기도 평택시 동삭동(4122065000)</td>\n",
       "      <td>41,411</td>\n",
       "      <td>41,411</td>\n",
       "      <td>514</td>\n",
       "      <td>572</td>\n",
       "      <td>492</td>\n",
       "      <td>550</td>\n",
       "      <td>565</td>\n",
       "      <td>573</td>\n",
       "      <td>575</td>\n",
       "      <td>...</td>\n",
       "      <td>9</td>\n",
       "      <td>7</td>\n",
       "      <td>4</td>\n",
       "      <td>4</td>\n",
       "      <td>2</td>\n",
       "      <td>2</td>\n",
       "      <td>1</td>\n",
       "      <td>1</td>\n",
       "      <td>1</td>\n",
       "      <td>0</td>\n",
       "    </tr>\n",
       "  </tbody>\n",
       "</table>\n",
       "<p>1 rows × 310 columns</p>\n",
       "</div>"
      ],
      "text/plain": [
       "                         행정구역 2023년11월_계_총인구수 2023년11월_계_연령구간인구수  \\\n",
       "1497  경기도 평택시 동삭동(4122065000)          41,411             41,411   \n",
       "\n",
       "     2023년11월_계_0세 2023년11월_계_1세 2023년11월_계_2세 2023년11월_계_3세 2023년11월_계_4세  \\\n",
       "1497           514           572           492           550           565   \n",
       "\n",
       "     2023년11월_계_5세 2023년11월_계_6세  ... 2023년11월_여_91세 2023년11월_여_92세  \\\n",
       "1497           573           575  ...              9              7   \n",
       "\n",
       "     2023년11월_여_93세 2023년11월_여_94세 2023년11월_여_95세 2023년11월_여_96세  \\\n",
       "1497              4              4              2              2   \n",
       "\n",
       "     2023년11월_여_97세 2023년11월_여_98세 2023년11월_여_99세 2023년11월_여_100세 이상  \n",
       "1497              1              1              1                  0  \n",
       "\n",
       "[1 rows x 310 columns]"
      ]
     },
     "execution_count": 7,
     "metadata": {},
     "output_type": "execute_result"
    }
   ],
   "source": [
    "# 1번 문제\n",
    "# mask = population_df[\"행정구역\"].str.contains(\"동삭동\")\n",
    "mask = population_df[\"행정구역\"].map(lambda v: \"동삭동\" in v)\n",
    "print( mask.sum() )\n",
    "population_df[mask]"
   ]
  },
  {
   "cell_type": "code",
   "execution_count": 8,
   "metadata": {},
   "outputs": [],
   "source": [
    "# 총인구수가 가장 많은 동 조회\n",
    "# population_df[\"2023년11월_계_총인구수\"] # 컬럼명을 직접 입력해서 조회\n",
    "# population_df[population_df.columns[1]] # 컬럼목록으로 컬럼명 사용\n",
    "# population_df.iloc[:, 1]\n",
    "# population_df.iloc[:, 1].max() # 이상한 결과 값\n",
    "population_df.iloc[:, 1].dtype # 원인은 자료형이 문자열이기 때문에 숫자 연산 불가\n",
    "\n",
    "# int( population_df.iloc[1, 1].replace(\",\", \"\") ) # 변환 처리 내용\n",
    "population_df.iloc[:, 1] = population_df.iloc[:, 1].map(lambda v: int(v.replace(\",\", \"\")))\n"
   ]
  },
  {
   "cell_type": "code",
   "execution_count": 9,
   "metadata": {},
   "outputs": [
    {
     "data": {
      "text/html": [
       "<div>\n",
       "<style scoped>\n",
       "    .dataframe tbody tr th:only-of-type {\n",
       "        vertical-align: middle;\n",
       "    }\n",
       "\n",
       "    .dataframe tbody tr th {\n",
       "        vertical-align: top;\n",
       "    }\n",
       "\n",
       "    .dataframe thead th {\n",
       "        text-align: right;\n",
       "    }\n",
       "</style>\n",
       "<table border=\"1\" class=\"dataframe\">\n",
       "  <thead>\n",
       "    <tr style=\"text-align: right;\">\n",
       "      <th></th>\n",
       "      <th>행정구역</th>\n",
       "      <th>2023년11월_계_총인구수</th>\n",
       "      <th>2023년11월_계_연령구간인구수</th>\n",
       "      <th>2023년11월_계_0세</th>\n",
       "      <th>2023년11월_계_1세</th>\n",
       "      <th>2023년11월_계_2세</th>\n",
       "      <th>2023년11월_계_3세</th>\n",
       "      <th>2023년11월_계_4세</th>\n",
       "      <th>2023년11월_계_5세</th>\n",
       "      <th>2023년11월_계_6세</th>\n",
       "      <th>...</th>\n",
       "      <th>2023년11월_여_91세</th>\n",
       "      <th>2023년11월_여_92세</th>\n",
       "      <th>2023년11월_여_93세</th>\n",
       "      <th>2023년11월_여_94세</th>\n",
       "      <th>2023년11월_여_95세</th>\n",
       "      <th>2023년11월_여_96세</th>\n",
       "      <th>2023년11월_여_97세</th>\n",
       "      <th>2023년11월_여_98세</th>\n",
       "      <th>2023년11월_여_99세</th>\n",
       "      <th>2023년11월_여_100세 이상</th>\n",
       "    </tr>\n",
       "  </thead>\n",
       "  <tbody>\n",
       "    <tr>\n",
       "      <th>1288</th>\n",
       "      <td>경기도  (4100000000)</td>\n",
       "      <td>13628135</td>\n",
       "      <td>13,628,135</td>\n",
       "      <td>68,151</td>\n",
       "      <td>77,872</td>\n",
       "      <td>80,879</td>\n",
       "      <td>84,069</td>\n",
       "      <td>92,803</td>\n",
       "      <td>99,983</td>\n",
       "      <td>107,983</td>\n",
       "      <td>...</td>\n",
       "      <td>9,387</td>\n",
       "      <td>6,864</td>\n",
       "      <td>5,901</td>\n",
       "      <td>4,581</td>\n",
       "      <td>3,531</td>\n",
       "      <td>2,492</td>\n",
       "      <td>1,536</td>\n",
       "      <td>1,103</td>\n",
       "      <td>683</td>\n",
       "      <td>1,460</td>\n",
       "    </tr>\n",
       "  </tbody>\n",
       "</table>\n",
       "<p>1 rows × 310 columns</p>\n",
       "</div>"
      ],
      "text/plain": [
       "                   행정구역 2023년11월_계_총인구수 2023년11월_계_연령구간인구수 2023년11월_계_0세  \\\n",
       "1288  경기도  (4100000000)        13628135         13,628,135        68,151   \n",
       "\n",
       "     2023년11월_계_1세 2023년11월_계_2세 2023년11월_계_3세 2023년11월_계_4세 2023년11월_계_5세  \\\n",
       "1288        77,872        80,879        84,069        92,803        99,983   \n",
       "\n",
       "     2023년11월_계_6세  ... 2023년11월_여_91세 2023년11월_여_92세 2023년11월_여_93세  \\\n",
       "1288       107,983  ...          9,387          6,864          5,901   \n",
       "\n",
       "     2023년11월_여_94세 2023년11월_여_95세 2023년11월_여_96세 2023년11월_여_97세  \\\n",
       "1288          4,581          3,531          2,492          1,536   \n",
       "\n",
       "     2023년11월_여_98세 2023년11월_여_99세 2023년11월_여_100세 이상  \n",
       "1288          1,103            683              1,460  \n",
       "\n",
       "[1 rows x 310 columns]"
      ]
     },
     "execution_count": 9,
     "metadata": {},
     "output_type": "execute_result"
    }
   ],
   "source": [
    "max_population = population_df.iloc[:, 1].max() # 총인구수의 max 값\n",
    "max_population_mask = population_df.iloc[:, 1] == max_population # max 값과 같은 행 filter\n",
    "population_df[max_population_mask] # max 값과 같은 행만 뽑기 --> 결과는 경기도 인구 데이터 출력 "
   ]
  },
  {
   "cell_type": "code",
   "execution_count": 10,
   "metadata": {},
   "outputs": [
    {
     "data": {
      "text/html": [
       "<div>\n",
       "<style scoped>\n",
       "    .dataframe tbody tr th:only-of-type {\n",
       "        vertical-align: middle;\n",
       "    }\n",
       "\n",
       "    .dataframe tbody tr th {\n",
       "        vertical-align: top;\n",
       "    }\n",
       "\n",
       "    .dataframe thead th {\n",
       "        text-align: right;\n",
       "    }\n",
       "</style>\n",
       "<table border=\"1\" class=\"dataframe\">\n",
       "  <thead>\n",
       "    <tr style=\"text-align: right;\">\n",
       "      <th></th>\n",
       "      <th>행정구역</th>\n",
       "      <th>2023년11월_계_총인구수</th>\n",
       "      <th>2023년11월_계_연령구간인구수</th>\n",
       "      <th>2023년11월_계_0세</th>\n",
       "      <th>2023년11월_계_1세</th>\n",
       "      <th>2023년11월_계_2세</th>\n",
       "      <th>2023년11월_계_3세</th>\n",
       "      <th>2023년11월_계_4세</th>\n",
       "      <th>2023년11월_계_5세</th>\n",
       "      <th>2023년11월_계_6세</th>\n",
       "      <th>...</th>\n",
       "      <th>2023년11월_여_91세</th>\n",
       "      <th>2023년11월_여_92세</th>\n",
       "      <th>2023년11월_여_93세</th>\n",
       "      <th>2023년11월_여_94세</th>\n",
       "      <th>2023년11월_여_95세</th>\n",
       "      <th>2023년11월_여_96세</th>\n",
       "      <th>2023년11월_여_97세</th>\n",
       "      <th>2023년11월_여_98세</th>\n",
       "      <th>2023년11월_여_99세</th>\n",
       "      <th>2023년11월_여_100세 이상</th>\n",
       "    </tr>\n",
       "  </thead>\n",
       "  <tbody>\n",
       "    <tr>\n",
       "      <th>1446</th>\n",
       "      <td>경기도 부천시 신중동(4119074200)</td>\n",
       "      <td>127887</td>\n",
       "      <td>127,887</td>\n",
       "      <td>623</td>\n",
       "      <td>720</td>\n",
       "      <td>709</td>\n",
       "      <td>745</td>\n",
       "      <td>752</td>\n",
       "      <td>837</td>\n",
       "      <td>877</td>\n",
       "      <td>...</td>\n",
       "      <td>92</td>\n",
       "      <td>72</td>\n",
       "      <td>53</td>\n",
       "      <td>45</td>\n",
       "      <td>41</td>\n",
       "      <td>23</td>\n",
       "      <td>10</td>\n",
       "      <td>13</td>\n",
       "      <td>7</td>\n",
       "      <td>17</td>\n",
       "    </tr>\n",
       "  </tbody>\n",
       "</table>\n",
       "<p>1 rows × 310 columns</p>\n",
       "</div>"
      ],
      "text/plain": [
       "                         행정구역 2023년11월_계_총인구수 2023년11월_계_연령구간인구수  \\\n",
       "1446  경기도 부천시 신중동(4119074200)          127887            127,887   \n",
       "\n",
       "     2023년11월_계_0세 2023년11월_계_1세 2023년11월_계_2세 2023년11월_계_3세 2023년11월_계_4세  \\\n",
       "1446           623           720           709           745           752   \n",
       "\n",
       "     2023년11월_계_5세 2023년11월_계_6세  ... 2023년11월_여_91세 2023년11월_여_92세  \\\n",
       "1446           837           877  ...             92             72   \n",
       "\n",
       "     2023년11월_여_93세 2023년11월_여_94세 2023년11월_여_95세 2023년11월_여_96세  \\\n",
       "1446             53             45             41             23   \n",
       "\n",
       "     2023년11월_여_97세 2023년11월_여_98세 2023년11월_여_99세 2023년11월_여_100세 이상  \n",
       "1446             10             13              7                 17  \n",
       "\n",
       "[1 rows x 310 columns]"
      ]
     },
     "execution_count": 10,
     "metadata": {},
     "output_type": "execute_result"
    }
   ],
   "source": [
    "area_mask = population_df.iloc[:, 0].map(lambda v: v[-6] != '0')\n",
    "max_population = population_df.iloc[:, 1][area_mask].max() # 총인구수의 max 값\n",
    "max_population_mask = population_df.iloc[:, 1] == max_population # max 값과 같은 행 filter\n",
    "population_df[max_population_mask] # max 값과 같은 행만 뽑기 --> 결과는 경기도 인구 데이터 출력 "
   ]
  },
  {
   "cell_type": "code",
   "execution_count": null,
   "metadata": {},
   "outputs": [],
   "source": []
  },
  {
   "cell_type": "code",
   "execution_count": null,
   "metadata": {},
   "outputs": [],
   "source": [
    "# 6번 문제\n",
    "mask = population_df[\"행정구역\"].str.contains(\"동삭동\")\n",
    "selected_region = population_df[mask]\n",
    "selected_region.iloc[:, 3:104]\n",
    "selected_region.iloc[:, 3:104].values # series.values or dataframe.values : 값만 ndarray로 반환\n",
    "y = selected_region.iloc[:, 3:104].values[0]\n",
    "y = list( map(lambda v: int( str(v).replace(',', '') ), y) )\n",
    "y"
   ]
  },
  {
   "cell_type": "code",
   "execution_count": 14,
   "metadata": {},
   "outputs": [
    {
     "data": {
      "image/png": "[encoded data removed]",
      "text/plain": [
       "<Figure size 640x480 with 1 Axes>"
      ]
     },
     "metadata": {},
     "output_type": "display_data"
    }
   ],
   "source": [
    "plt.bar(np.arange(0, 101), y)\n",
    "plt.show()"
   ]
  },
  {
   "cell_type": "code",
   "execution_count": null,
   "metadata": {},
   "outputs": [],
   "source": [
    "# 남성 인구비가 가장 높은 법정동\n",
    "# 1. 각 행정구역단위별로 남성 인구비 계산(남성/전체 or 남성/여성) -> 컬럼으로 추가\n",
    "# 2. 남성 인구비 컬럼의 max 값 조회\n",
    "# 3. 해당하는 행 찾기\n",
    "# 4. 해당 행의 남성 인구분포와 여성인구분포를 bar plot으로 표현"
   ]
  },
  {
   "cell_type": "code",
   "execution_count": 15,
   "metadata": {},
   "outputs": [
    {
     "name": "stderr",
     "output_type": "stream",
     "text": [
      "C:\\Users\\Administrator\\AppData\\Local\\Temp\\ipykernel_6780\\1717257733.py:1: DtypeWarning: Columns (100,101,103,198,199,200,305,306,307,309) have mixed types. Specify dtype option on import or set low_memory=False.\n",
      "  population_df = pd.read_csv(\"data-files/population.csv\", encoding=\"utf-8\")\n"
     ]
    }
   ],
   "source": [
    "# 데이터 다시 읽기\n",
    "population_df = pd.read_csv(\"data-files/population.csv\", encoding=\"utf-8\")"
   ]
  },
  {
   "cell_type": "code",
   "execution_count": 17,
   "metadata": {},
   "outputs": [],
   "source": [
    "male_population = \\\n",
    "    population_df[\"2023년11월_남_총인구수\"].map(lambda v: int(v.replace(\",\", \"\")))\n",
    "female_population = \\\n",
    "    population_df[\"2023년11월_여_총인구수\"].map(lambda v: int(v.replace(\",\", \"\")))\n",
    "all_population = \\\n",
    "    population_df[\"2023년11월_계_총인구수\"].map(lambda v: int(v.replace(\",\", \"\")))\n",
    "\n",
    "male_ratio1 = male_population / female_population # 리스트 내의 각 요소별로 나눗셈\n",
    "male_ratio2 = male_population / all_population"
   ]
  },
  {
   "cell_type": "code",
   "execution_count": 20,
   "metadata": {},
   "outputs": [],
   "source": [
    "population_df['male_ratio_to_female'] = male_ratio1\n",
    "population_df['male_ratio_to_all'] = male_ratio2"
   ]
  },
  {
   "cell_type": "code",
   "execution_count": null,
   "metadata": {},
   "outputs": [],
   "source": [
    "# max_ratio = population_df['male_ratio_to_all'].max()\n",
    "# population_df[population_df['male_ratio_to_all'] == max_ratio]\n",
    "\n",
    "population_df['male_ratio_to_all'].argmax() # series 내 가장 큰 값의 위치 번호\n",
    "max_idx = population_df['male_ratio_to_all'].argmax()\n",
    "population_df.iloc[max_idx, :]\n",
    "max_ratio_row = population_df.iloc[max_idx, :].values\n",
    "max_ratio_row"
   ]
  },
  {
   "cell_type": "code",
   "execution_count": 34,
   "metadata": {},
   "outputs": [],
   "source": [
    "population_df.columns[100:110]\n",
    "population_df.columns[106:207] # 남0세 ~ 남100세이상\n",
    "male_population_per_age = max_ratio_row[106:207]\n",
    "population_df.columns[208:220]\n",
    "population_df.columns[209:310] # 여0세 ~ 여100세이상\n",
    "female_population_per_age = max_ratio_row[209:310]\n",
    "\n",
    "male_population_per_age, female_population_per_age\n",
    "\n",
    "male_population_per_age, female_population_per_age = \\\n",
    "    map(lambda v: int(str(v).replace(\",\", \"\")), male_population_per_age), \\\n",
    "    map(lambda v: int(str(v).replace(\",\", \"\")), female_population_per_age) # str -> int\n",
    "\n",
    "# list(male_population_per_age), list(female_population_per_age) # 꼭 주석해야 합니다.\n",
    "male_population_per_age, female_population_per_age = \\\n",
    "    list(male_population_per_age), list(female_population_per_age) #map -> list"
   ]
  },
  {
   "cell_type": "code",
   "execution_count": 37,
   "metadata": {},
   "outputs": [
    {
     "data": {
      "image/png": "[encoded data removed]",
      "text/plain": [
       "<Figure size 640x480 with 1 Axes>"
      ]
     },
     "metadata": {},
     "output_type": "display_data"
    }
   ],
   "source": [
    "plt.bar(np.arange(101), male_population_per_age)\n",
    "plt.bar(np.arange(101), female_population_per_age)\n",
    "plt.show()"
   ]
  },
  {
   "cell_type": "code",
   "execution_count": 43,
   "metadata": {},
   "outputs": [
    {
     "data": {
      "image/png": "[encoded data removed]",
      "text/plain": [
       "<Figure size 640x480 with 2 Axes>"
      ]
     },
     "metadata": {},
     "output_type": "display_data"
    }
   ],
   "source": [
    "axes1 = plt.subplot(2, 1, 1) # 한 개의 axes 생성\n",
    "axes1.bar(np.arange(101), male_population_per_age)\n",
    "axes1.set_ylim((0, 350)) # == plt.ylim((0, 350))\n",
    "axes2 = plt.subplot(2, 1, 2)\n",
    "axes2.bar(np.arange(101), female_population_per_age)\n",
    "plt.ylim((0, 350))\n",
    "plt.show()"
   ]
  },
  {
   "cell_type": "code",
   "execution_count": 44,
   "metadata": {},
   "outputs": [
    {
     "data": {
      "image/png": "[encoded data removed]",
      "text/plain": [
       "<Figure size 640x480 with 2 Axes>"
      ]
     },
     "metadata": {},
     "output_type": "display_data"
    }
   ],
   "source": [
    "figure, ax = plt.subplots(2, 1) # 미리 모든 axes 만들기 (여기서는 2개)\n",
    "ax[0].bar(np.arange(101), male_population_per_age)\n",
    "ax[0].set_ylim((0, 350)) # == plt.ylim((0, 350))\n",
    "ax[1].bar(np.arange(101), female_population_per_age)\n",
    "plt.ylim((0, 350))\n",
    "plt.show()"
   ]
  },
  {
   "cell_type": "code",
   "execution_count": 46,
   "metadata": {},
   "outputs": [
    {
     "data": {
      "image/png": "[encoded data removed]",
      "text/plain": [
       "<Figure size 640x480 with 1 Axes>"
      ]
     },
     "metadata": {},
     "output_type": "display_data"
    }
   ],
   "source": [
    "plt.bar(np.arange(101), male_population_per_age)\n",
    "plt.bar(np.arange(101), -np.array(female_population_per_age))\n",
    "plt.show()"
   ]
  },
  {
   "cell_type": "code",
   "execution_count": 47,
   "metadata": {},
   "outputs": [
    {
     "data": {
      "image/png": "[encoded data removed]",
      "text/plain": [
       "<Figure size 640x480 with 1 Axes>"
      ]
     },
     "metadata": {},
     "output_type": "display_data"
    }
   ],
   "source": [
    "plt.barh(np.arange(101), male_population_per_age)\n",
    "plt.barh(np.arange(101), -np.array(female_population_per_age))\n",
    "plt.show()"
   ]
  },
  {
   "cell_type": "code",
   "execution_count": 48,
   "metadata": {},
   "outputs": [
    {
     "name": "stderr",
     "output_type": "stream",
     "text": [
      "C:\\Users\\Administrator\\AppData\\Local\\Temp\\ipykernel_6780\\844974686.py:5: DtypeWarning: Columns (100,101,103,198,199,200,305,306,307,309) have mixed types. Specify dtype option on import or set low_memory=False.\n",
      "  population_df = pd.read_csv(\"data-files/population.csv\", encoding=\"utf-8\")\n"
     ]
    }
   ],
   "source": [
    "# 도시(역삼동) - 농촌(이천-부발읍) 인구 분포 비교\n",
    "\n",
    "# 데이터 다시 읽기\n",
    "population_df = pd.read_csv(\"data-files/population.csv\", encoding=\"utf-8\")"
   ]
  },
  {
   "cell_type": "code",
   "execution_count": 97,
   "metadata": {},
   "outputs": [
    {
     "data": {
      "text/html": [
       "<div>\n",
       "<style scoped>\n",
       "    .dataframe tbody tr th:only-of-type {\n",
       "        vertical-align: middle;\n",
       "    }\n",
       "\n",
       "    .dataframe tbody tr th {\n",
       "        vertical-align: top;\n",
       "    }\n",
       "\n",
       "    .dataframe thead th {\n",
       "        text-align: right;\n",
       "    }\n",
       "</style>\n",
       "<table border=\"1\" class=\"dataframe\">\n",
       "  <thead>\n",
       "    <tr style=\"text-align: right;\">\n",
       "      <th></th>\n",
       "      <th>행정구역</th>\n",
       "      <th>2023년11월_계_총인구수</th>\n",
       "      <th>2023년11월_계_연령구간인구수</th>\n",
       "      <th>2023년11월_계_0세</th>\n",
       "      <th>2023년11월_계_1세</th>\n",
       "      <th>2023년11월_계_2세</th>\n",
       "      <th>2023년11월_계_3세</th>\n",
       "      <th>2023년11월_계_4세</th>\n",
       "      <th>2023년11월_계_5세</th>\n",
       "      <th>2023년11월_계_6세</th>\n",
       "      <th>...</th>\n",
       "      <th>2023년11월_여_91세</th>\n",
       "      <th>2023년11월_여_92세</th>\n",
       "      <th>2023년11월_여_93세</th>\n",
       "      <th>2023년11월_여_94세</th>\n",
       "      <th>2023년11월_여_95세</th>\n",
       "      <th>2023년11월_여_96세</th>\n",
       "      <th>2023년11월_여_97세</th>\n",
       "      <th>2023년11월_여_98세</th>\n",
       "      <th>2023년11월_여_99세</th>\n",
       "      <th>2023년11월_여_100세 이상</th>\n",
       "    </tr>\n",
       "  </thead>\n",
       "  <tbody>\n",
       "    <tr>\n",
       "      <th>355</th>\n",
       "      <td>서울특별시 관악구 신림동(1162069500)</td>\n",
       "      <td>22,863</td>\n",
       "      <td>22,863</td>\n",
       "      <td>25</td>\n",
       "      <td>37</td>\n",
       "      <td>17</td>\n",
       "      <td>26</td>\n",
       "      <td>25</td>\n",
       "      <td>18</td>\n",
       "      <td>21</td>\n",
       "      <td>...</td>\n",
       "      <td>7</td>\n",
       "      <td>2</td>\n",
       "      <td>2</td>\n",
       "      <td>3</td>\n",
       "      <td>1</td>\n",
       "      <td>1</td>\n",
       "      <td>4</td>\n",
       "      <td>0</td>\n",
       "      <td>0</td>\n",
       "      <td>1</td>\n",
       "    </tr>\n",
       "  </tbody>\n",
       "</table>\n",
       "<p>1 rows × 310 columns</p>\n",
       "</div>"
      ],
      "text/plain": [
       "                          행정구역 2023년11월_계_총인구수 2023년11월_계_연령구간인구수  \\\n",
       "355  서울특별시 관악구 신림동(1162069500)          22,863             22,863   \n",
       "\n",
       "    2023년11월_계_0세 2023년11월_계_1세 2023년11월_계_2세 2023년11월_계_3세 2023년11월_계_4세  \\\n",
       "355            25            37            17            26            25   \n",
       "\n",
       "    2023년11월_계_5세 2023년11월_계_6세  ... 2023년11월_여_91세 2023년11월_여_92세  \\\n",
       "355            18            21  ...              7              2   \n",
       "\n",
       "    2023년11월_여_93세 2023년11월_여_94세 2023년11월_여_95세 2023년11월_여_96세  \\\n",
       "355              2              3              1              1   \n",
       "\n",
       "    2023년11월_여_97세 2023년11월_여_98세 2023년11월_여_99세 2023년11월_여_100세 이상  \n",
       "355              4              0              0                  1  \n",
       "\n",
       "[1 rows x 310 columns]"
      ]
     },
     "execution_count": 97,
     "metadata": {},
     "output_type": "execute_result"
    }
   ],
   "source": [
    "ys_population_df = population_df[population_df[\"행정구역\"].str.contains(\"신림동\")]\n",
    "ys_population_df"
   ]
  },
  {
   "cell_type": "code",
   "execution_count": 98,
   "metadata": {},
   "outputs": [],
   "source": [
    "# 지정한 지역 데이터 조회\n",
    "ys_population_df = population_df[population_df[\"행정구역\"].str.contains(\"신림동\")]\n",
    "bb_population_df = population_df[population_df[\"행정구역\"].str.contains(\"거제시 남부면\")]"
   ]
  },
  {
   "cell_type": "code",
   "execution_count": 99,
   "metadata": {},
   "outputs": [
    {
     "data": {
      "text/plain": [
       "(pandas.core.frame.DataFrame, (1, 310))"
      ]
     },
     "execution_count": 99,
     "metadata": {},
     "output_type": "execute_result"
    }
   ],
   "source": [
    "type(ys_population_df), ys_population_df.shape"
   ]
  },
  {
   "cell_type": "code",
   "execution_count": 100,
   "metadata": {},
   "outputs": [],
   "source": [
    "# 연령별 인구 뽑기 -> 리스트 or ndarray 등에 담기\n",
    "ys_population = ys_population_df.iloc[:, 3:104].values[0] # dataframe.values -> ndarray\n",
    "# ys_population.shape\n",
    "bb_population = bb_population_df.values[0][3:104]"
   ]
  },
  {
   "cell_type": "code",
   "execution_count": 101,
   "metadata": {},
   "outputs": [],
   "source": [
    "# ndarray의 각 데이터를 str -> int로 변경\n",
    "ys_population = map(lambda v: int( str(v).replace(\",\", \"\") ), ys_population)\n",
    "ys_population = list(ys_population) # 반복자 -> 데이터 ( map object -> list )\n",
    "bb_population = map(lambda v: int( str(v).replace(\",\", \"\") ), bb_population)\n",
    "bb_population = list(bb_population)"
   ]
  },
  {
   "cell_type": "code",
   "execution_count": 102,
   "metadata": {},
   "outputs": [
    {
     "data": {
      "image/png": "[encoded data removed]",
      "text/plain": [
       "<Figure size 640x480 with 1 Axes>"
      ]
     },
     "metadata": {},
     "output_type": "display_data"
    }
   ],
   "source": [
    "# 시각화 (막대 그래프)\n",
    "plt.bar(np.arange(101), ys_population)\n",
    "plt.bar(np.arange(101), -np.array(bb_population))\n",
    "plt.show()"
   ]
  },
  {
   "cell_type": "code",
   "execution_count": 103,
   "metadata": {},
   "outputs": [
    {
     "data": {
      "image/png": "[encoded data removed]",
      "text/plain": [
       "<Figure size 640x480 with 1 Axes>"
      ]
     },
     "metadata": {},
     "output_type": "display_data"
    }
   ],
   "source": [
    "# 시각화 (막대 그래프)\n",
    "ys_population = np.array(ys_population)\n",
    "bb_population = np.array(bb_population)\n",
    "plt.bar(np.arange(101), ys_population/ys_population.sum())\n",
    "plt.bar(np.arange(101), -bb_population/bb_population.sum())\n",
    "plt.show()"
   ]
  },
  {
   "cell_type": "code",
   "execution_count": 104,
   "metadata": {},
   "outputs": [
    {
     "data": {
      "image/png": "[encoded data removed]",
      "text/plain": [
       "<Figure size 640x480 with 1 Axes>"
      ]
     },
     "metadata": {},
     "output_type": "display_data"
    }
   ],
   "source": [
    "# 시각화 (막대 그래프)\n",
    "ys_ratio = ys_population/ys_population.sum()\n",
    "bb_ratio = bb_population/bb_population.sum()\n",
    "mixed_ratio = ys_ratio - bb_ratio\n",
    "plt.bar(np.arange(101), mixed_ratio)\n",
    "plt.show()"
   ]
  }
 ],
 "metadata": {
  "kernelspec": {
   "display_name": "study-env",
   "language": "python",
   "name": "python3"
  },
  "language_info": {
   "codemirror_mode": {
    "name": "ipython",
    "version": 3
   },
   "file_extension": ".py",
   "mimetype": "text/x-python",
   "name": "python",
   "nbconvert_exporter": "python",
   "pygments_lexer": "ipython3",
   "version": "3.9.18"
  }
 },
 "nbformat": 4,
 "nbformat_minor": 2
}
