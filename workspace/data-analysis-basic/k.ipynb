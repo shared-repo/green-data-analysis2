{
 "cells": [
  {
   "cell_type": "code",
   "execution_count": null,
   "metadata": {},
   "outputs": [],
   "source": []
  },
  {
   "cell_type": "code",
   "execution_count": null,
   "metadata": {},
   "outputs": [],
   "source": [
    "# 범죄 데이터 읽기\n",
    "# 컬럼명 변경 : 기존컬럼 -> [\"자치구\", \"발생합계\", \"검거합계\", \"살인발생\", \"살인검거\", \n",
    "#                           \"강도발생\", \"강도검거\", \"강간발생\", \"강간검거\", \n",
    "#                           \"절도발생\", \"절도검거\", \"폭력발생\", \"폭력검거\"]\n",
    "# 자치구 컬럼을 index로 변경\n",
    "# (살인, 강도, 강간, 절도, 폭력) 검거율 컬럼 만들기\n",
    "# ~검거 컬럼 제거\n",
    "# 소계 행 제거\n",
    "# ~발생 -> ~ 으로 변경 (발생 단어 제거 : 살인발생 -> 살인)\n",
    "# 각 범죄가 가장 많은 자치구 확인\n",
    "# 검거율 높은 자치구 확인\n",
    "# 각 컬럼의 값을 0 ~ 1 사이의 값으로 변경 ( scale 변경 )\n",
    "# 파일 저장 : processed-seoul-crime.csv"
   ]
  }
 ],
 "metadata": {
  "language_info": {
   "name": "python"
  }
 },
 "nbformat": 4,
 "nbformat_minor": 2
}
