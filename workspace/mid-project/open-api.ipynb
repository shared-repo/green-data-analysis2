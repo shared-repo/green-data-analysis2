{
 "cells": [
  {
   "cell_type": "code",
   "execution_count": 1,
   "metadata": {},
   "outputs": [],
   "source": [
    "import requests"
   ]
  },
  {
   "cell_type": "code",
   "execution_count": 8,
   "metadata": {},
   "outputs": [
    {
     "name": "stdout",
     "output_type": "stream",
     "text": [
      "\n",
      "\n",
      "<!DOCTYPE html>\n",
      "<html lang=\"ko\">\n",
      "<head>\n",
      "<meta charset=\"utf-8\">\n",
      "<title>에러 : 생활안전지도</title>\n",
      "<meta name=\"author\" content=\"Kim kwangsung, Lim seonju\">\n",
      "<meta name=\"viewport\" content=\"width=device-width,user-scalable=no,initial-scale=1.0,maximum-scale=1.0,minimum-scale=1.0,target-densitydpi=medium-dpi\">\n",
      "<meta name=\"keywords\" content=\"생활안전지도,안전지도\">\n",
      "<meta name=\"description\" content=\"생활안전지도포털 사이트에 오신것을 환영합니다.본 페이지는 WCAG2.0,KWCAG2.0 및 미래창조과학부의 정보시스템의 구축 운영 기술 지침을 준수하여 제작하였습니다.\">\n",
      "<meta http-equiv=\"X-UA-Compatible\" content=\"IE=10\">\n",
      "<link rel=\"stylesheet\" type=\"text/css\" href=\"/css_new/common_v2.css\">\n",
      "<link rel=\"stylesheet\" type=\"text/css\" href=\"/css_new/contents.css\">\n",
      "<script src=\"/js/jquery-1.10.2.min.js\"></script>\n",
      "<script src=\"/js/sub.js\"></script>\n",
      "<!--[if IE 9]>\n",
      "<link rel=\"stylesheet\" type=\"text/css\" href=\"/css_new/iefont.css\">\n",
      "<![endif]-->\n",
      "<!--[if lt IE 9]>\n",
      "<script src=\"/js/respond.min.js\"></script>\n",
      "<![endif]-->\n",
      "</head>\n",
      "<body>\n",
      "<div class=\"group_error\">\n",
      "\t<div class=\"box_error\">\n",
      "\t\t<div class=\"error_top\">\n",
      "\t\t\t<span class=\"poi_error\"></span>\n",
      "\t\t\t<h1 class=\"tit_error\">500 error</h1>\n",
      "\t\t</div>\n",
      "\t\t<div class=\"error_mid\">죄송합니다. <br>페이지를 표시할 수 없습니다.</div>\n",
      "\t\t<p class=\"tx_error\">\n",
      "\t\t\t방문하시려는 페이지의 주소가 잘못 입력되었거나, <br>\n",
      "\t\t\t페이지의 주소가 변경 혹은 삭제되어 요청하신 페이지를 찾을 수 없습니다. <br>\n",
      "\t\t\t혹은 페이지를 확인 할 수 있는 권한이 변경되었을 수 있으니, <br>\n",
      "\t\t\t입력하신 주소가 정확한지 한번 더 확인해주시기바랍니다.\n",
      "\t\t</p>\n",
      "\t</div>\n",
      "</div>\n",
      "</body>\n",
      "</html>\n",
      "\n",
      "\n"
     ]
    }
   ],
   "source": [
    "key = 'D5WFI30G-D5WF-D5WF-D5WF-D5WFI30GG7'\n",
    "# url = f\"http://www.safemap.go.kr/legend/legendApiXml.do?apikey={key}&layer=A2SM_CRMNLSTATS&style=A2SM_CrmnlStats_Tot\"\n",
    "# url = f\"http://www.safemap.go.kr/openApiService/data/get(치안사고통계(전체))Data.do?servicekey={key}\"\n",
    "url = f\"http://www.safemap.go.kr/openApiService/wms/getLayerData.do?apikey={key}&layer=A2SM_CRMNLSTATS&style=A2SM_CrmnlStats_Nrctc\"\n",
    "\n",
    "resp = requests.get(url)\n",
    "\n",
    "print( resp.content.decode('utf-8') )"
   ]
  }
 ],
 "metadata": {
  "kernelspec": {
   "display_name": "study-env",
   "language": "python",
   "name": "python3"
  },
  "language_info": {
   "codemirror_mode": {
    "name": "ipython",
    "version": 3
   },
   "file_extension": ".py",
   "mimetype": "text/x-python",
   "name": "python",
   "nbconvert_exporter": "python",
   "pygments_lexer": "ipython3",
   "version": "3.9.18"
  }
 },
 "nbformat": 4,
 "nbformat_minor": 2
}
