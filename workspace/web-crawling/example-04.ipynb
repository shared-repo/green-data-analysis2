{
 "cells": [
  {
   "cell_type": "code",
   "execution_count": 2,
   "metadata": {},
   "outputs": [],
   "source": [
    "import numpy as np\n",
    "import pandas as pd\n",
    "import requests \n",
    "from bs4 import BeautifulSoup\n",
    "\n",
    "import time"
   ]
  },
  {
   "cell_type": "code",
   "execution_count": 18,
   "metadata": {},
   "outputs": [],
   "source": [
    "sid1 = 105\n",
    "sid2 = 230\n",
    "date = '20240110'\n",
    "page = 1\n",
    "url = \"https://news.naver.com/main/list.naver?\"\n",
    "headers = {\n",
    "    \"User-Agent\": \"Mozilla/5.0 (Windows NT 10.0; Win64; x64) AppleWebKit/537.36 (KHTML, like Gecko) Chrome/120.0.0.0 Whale/3.24.223.18 Safari/537.36\"\n",
    "}\n",
    "\n",
    "news_list = []\n",
    "page = 1\n",
    "while True:\n",
    "    time.sleep(3)\n",
    "    params = { \"mode\": \"LS2D\", \"mid\": \"shm\", \"sid1\": sid1, \"sid2\": sid2, \"date\":date, \"page\": page }\n",
    "\n",
    "    response = requests.get(url, headers=headers, params=params)\n",
    "    \n",
    "    html = response.text.replace(\"\\n\", \"\").replace(\"\\t\", \"\")    \n",
    "    soup = BeautifulSoup(html, \"html.parser\")\n",
    "    li_list = soup.select(\"#main_content ul li\")\n",
    "\n",
    "    for li in li_list:\n",
    "        dt_list = li.select(\"dl > dt\")\n",
    "        dt = dt_list[1] if len(dt_list) == 2 else dt_list[0]\n",
    "        a = dt.select_one('a')\n",
    "\n",
    "        # dt_list = li.select(\"dl > dt\")\n",
    "        # for dt in dt_list:\n",
    "        #     if not dt.get('class'):\n",
    "        #         a = dt.select_one('a')\n",
    "        #         break\n",
    "\n",
    "        # a = li.select_one(\"dl > dt:not(.photo) a\")\n",
    "\n",
    "        news_list.append( [a.text, a['href']] )\n",
    "\n",
    "    page += 1\n",
    "\n",
    "    # if page == 11:\n",
    "    if page == 3:\n",
    "        break\n"
   ]
  },
  {
   "cell_type": "code",
   "execution_count": 19,
   "metadata": {},
   "outputs": [
    {
     "data": {
      "text/plain": [
       "40"
      ]
     },
     "execution_count": 19,
     "metadata": {},
     "output_type": "execute_result"
    }
   ],
   "source": [
    "len(news_list)"
   ]
  },
  {
   "cell_type": "code",
   "execution_count": 20,
   "metadata": {},
   "outputs": [
    {
     "data": {
      "text/plain": [
       "[[\" '운전석이 사무실로'…CES에 등장한 미래차\",\n",
       "  'https://n.news.naver.com/mnews/article/422/0000638893?sid=105'],\n",
       " [' NS홈쇼핑에 양세형 뜬다…뼈없는 갈비탕 출시',\n",
       "  'https://n.news.naver.com/mnews/article/092/0002317707?sid=105'],\n",
       " [' 이노스TV, Full HD 장착 스마트TV 2종 출시…최대 50% 할인',\n",
       "  'https://n.news.naver.com/mnews/article/468/0001020194?sid=105'],\n",
       " [\" 'CES 2024 광주공동관 개관'…강기정 시장 온라인 참석\",\n",
       "  'https://n.news.naver.com/mnews/article/421/0007283026?sid=105'],\n",
       " [' 이재용, 새해 첫 현장경영 ‘6G’···“기업·국가 경쟁력 좌우”',\n",
       "  'https://n.news.naver.com/mnews/article/032/0003272643?sid=105'],\n",
       " [' 브라이언임팩트, 연말까지 카카오 주식 전량 처분한다',\n",
       "  'https://n.news.naver.com/mnews/article/293/0000050468?sid=105'],\n",
       " [' 20 큐비트급 양자컴퓨터 시연',\n",
       "  'https://n.news.naver.com/mnews/article/001/0014437083?sid=105'],\n",
       " [' 20 큐비트급 양자컴퓨터 시연',\n",
       "  'https://n.news.naver.com/mnews/article/001/0014437082?sid=105'],\n",
       " [' 20 큐비트급 양자컴퓨터 시연',\n",
       "  'https://n.news.naver.com/mnews/article/001/0014437081?sid=105'],\n",
       " [\" 양자컴퓨터의 CPU 'QPU'\",\n",
       "  'https://n.news.naver.com/mnews/article/001/0014437080?sid=105'],\n",
       " [' 이재용 회장, “더 과감하게, 더 치열하게”…6G 통신 기술 개발에 ‘초격차 리더십’ 강조',\n",
       "  'https://n.news.naver.com/mnews/article/468/0001020192?sid=105'],\n",
       " [' \"정유사 SAF 생산 근거 마련됐다\"...상용화 핵심은 경제성·수요 확대',\n",
       "  'https://n.news.naver.com/mnews/article/092/0002317705?sid=105'],\n",
       " [' 펄어비스, CES에서 붉은사막 영상 시연',\n",
       "  'https://n.news.naver.com/mnews/article/011/0004285268?sid=105'],\n",
       " [' 올해 양자기술개발에 1285억원 투입…2년 뒤 50큐비트급 양자컴 구축',\n",
       "  'https://n.news.naver.com/mnews/article/138/0002164641?sid=105'],\n",
       " [' [CES 2024] 전성호 솔루엠 대표 \"다재다능 제조역량 갖췄다\"…스마트시티 청사진 \\'활짝\\'',\n",
       "  'https://n.news.naver.com/mnews/article/138/0002164640?sid=105'],\n",
       " [' [CES 2024] 김관영 지사, 전북 공동관서 적극적 기업활동 당부',\n",
       "  'https://n.news.naver.com/mnews/article/001/0014437038?sid=105'],\n",
       " [\" 콘진원 지원 9개 콘텐츠기업 'CES 혁신상' 수상\",\n",
       "  'https://n.news.naver.com/mnews/article/008/0004984564?sid=105'],\n",
       " [' 2023년 금융권 가계대출 규모, 전년比 10조1천억원 ↑',\n",
       "  'https://n.news.naver.com/mnews/article/092/0002317704?sid=105'],\n",
       " [' 이재용 회장, “새 기술 확보에 미래 달려있다”',\n",
       "  'https://n.news.naver.com/mnews/article/082/0001250597?sid=105'],\n",
       " [' 한수원, 19.8MW 규모 첫 연료전지 발전소 ‘포항 에너지 파크’ 준공',\n",
       "  'https://n.news.naver.com/mnews/article/092/0002317702?sid=105'],\n",
       " [' 포티투닷, 삼성 반도체로 AI 기반 SDV 플랫폼 만든다',\n",
       "  'https://n.news.naver.com/mnews/article/079/0003851752?sid=105'],\n",
       " [' AI 바우처, 공급기업은 급증했는데 예산은 반토막',\n",
       "  'https://n.news.naver.com/mnews/article/030/0003172530?sid=105'],\n",
       " [\" 효성인포, 차세대 HCI 솔루션 'UCP 3세대'로 멀티·하이브리드 클라우드 시장 주도권 쥔다\",\n",
       "  'https://n.news.naver.com/mnews/article/030/0003172529?sid=105'],\n",
       " [' [1분 건강] ‘고도근시’ 5명 중 3명 20세 미만…40분 간격으로 눈 쉬게 해줘야',\n",
       "  'https://n.news.naver.com/mnews/article/092/0002317701?sid=105'],\n",
       " [' 자율주행차는 노다지...가속페달 밟는 글로벌 팹리스 공룡들',\n",
       "  'https://n.news.naver.com/mnews/article/092/0002317700?sid=105'],\n",
       " [' [사진뉴스]ETRI-핀란드 오울루대, 6G 기술협력 `맞손`',\n",
       "  'https://n.news.naver.com/mnews/article/029/0002848674?sid=105'],\n",
       " [' NHN두레이, 올해도 공공기관에 민간 SaaS 확산 앞장',\n",
       "  'https://n.news.naver.com/mnews/article/030/0003172527?sid=105'],\n",
       " [' “안경 쓰면 촌스럽대요” 요즘 다 렌즈 낀다는데…심각한 부작용, 또 나왔다',\n",
       "  'https://n.news.naver.com/mnews/article/016/0002250488?sid=105'],\n",
       " [' 숙소 예약 파인스테이스, 월 거래액 5억원 돌파…1년 전보다 1032% 성장',\n",
       "  'https://n.news.naver.com/mnews/article/015/0004935350?sid=105'],\n",
       " [' 법무법인 세종,  ‘AI·데이터 정책센터’ 발족',\n",
       "  'https://n.news.naver.com/mnews/article/025/0003334239?sid=105'],\n",
       " [' 폭스, 블록체인 플랫폼 출시…AI회사와 저작권협상 지렛대 기대',\n",
       "  'https://n.news.naver.com/mnews/article/001/0014436990?sid=105'],\n",
       " [' \"클라우드 전문가, 또 떠난다\"…카카오엔터프라이즈 임원 삼성으로 이직',\n",
       "  'https://n.news.naver.com/mnews/article/421/0007282927?sid=105'],\n",
       " [' [제약소식] 암젠코리아-서울시립과학관, ‘GROW UP, BIO UP 시즌 3’ 성료',\n",
       "  'https://n.news.naver.com/mnews/article/092/0002317699?sid=105'],\n",
       " [' 경북 기업 세계 무대서 통했다…최고혁신상 2곳 배출',\n",
       "  'https://n.news.naver.com/mnews/article/001/0014436973?sid=105'],\n",
       " [' 미드바르·플로우스튜디오, CES 2024서 최고혁신상 기업 선정',\n",
       "  'https://n.news.naver.com/mnews/article/001/0014436972?sid=105'],\n",
       " [\" [CES 2024] 'K헬스케어로봇' 내세운 바디프랜드…CES 혁신상 수상\",\n",
       "  'https://n.news.naver.com/mnews/article/138/0002164635?sid=105'],\n",
       " [' 경북 기업 세계 무대서 통했다…최고혁신상 2곳 배출',\n",
       "  'https://n.news.naver.com/mnews/article/001/0014436960?sid=105'],\n",
       " [' 한전KPS, 제18대 이성규 상임감사 취임',\n",
       "  'https://n.news.naver.com/mnews/article/092/0002317698?sid=105'],\n",
       " [' [CES 2024] E-코너 시스템 탑재된 자동차',\n",
       "  'https://n.news.naver.com/mnews/article/030/0003172525?sid=105'],\n",
       " [\" 경북 기업 세계 무대서 통했다…'CES 2024'에서 최고혁신상 2곳 배출\",\n",
       "  'https://n.news.naver.com/mnews/article/001/0014436948?sid=105']]"
      ]
     },
     "execution_count": 20,
     "metadata": {},
     "output_type": "execute_result"
    }
   ],
   "source": [
    "news_list"
   ]
  },
  {
   "cell_type": "code",
   "execution_count": 12,
   "metadata": {},
   "outputs": [],
   "source": [
    "news_content_list = []\n",
    "for idx, news in enumerate(news_list):\n",
    "    response = requests.get(news[1], headers=headers)\n",
    "    html = response.text.replace(\"\\r\", \"\").replace(\"\\r\", \"\").replace(\"\\t\", \"\")\n",
    "    soup = BeautifulSoup(html, \"html.parser\")\n",
    "    news_content = soup.select_one(\"#dic_area\").text.strip()\n",
    "    # news_list[idx][\"content\"] = news_content\n",
    "    news_content_list.append(news_content)\n",
    "    time.sleep(3)\n"
   ]
  },
  {
   "cell_type": "code",
   "execution_count": 11,
   "metadata": {},
   "outputs": [
    {
     "data": {
      "text/plain": [
       "(' 트위치, 인력 35% 감축…작년 포함 1000명 해고',\n",
       " 'https://n.news.naver.com/mnews/article/022/0003893293?sid=105')"
      ]
     },
     "execution_count": 11,
     "metadata": {},
     "output_type": "execute_result"
    }
   ],
   "source": [
    "news_list[0]"
   ]
  },
  {
   "cell_type": "code",
   "execution_count": 2,
   "metadata": {},
   "outputs": [],
   "source": [
    "header_info = {\n",
    "    \"User-Agent\": \"Mozilla/5.0 (Windows NT 10.0; Win64; x64) AppleWebKit/537.36 (KHTML, like Gecko) Chrome/120.0.0.0 Whale/3.24.223.18 Safari/537.36\"\n",
    "}\n",
    "resp = requests.get(\"https://www.kyobobook.co.kr/\", headers=header_info)\n",
    "html = resp.text.replace(\"\\n\", \"\").replace(\"\\t\", \"\")"
   ]
  },
  {
   "cell_type": "code",
   "execution_count": 3,
   "metadata": {},
   "outputs": [],
   "source": [
    "soup = BeautifulSoup(html, \"html.parser\")"
   ]
  },
  {
   "cell_type": "code",
   "execution_count": 4,
   "metadata": {},
   "outputs": [
    {
     "data": {
      "text/plain": [
       "[]"
      ]
     },
     "execution_count": 4,
     "metadata": {},
     "output_type": "execute_result"
    }
   ],
   "source": [
    "li_list = soup.select(\"#welcome_flexibilization1 ul li\")\n",
    "li_list"
   ]
  },
  {
   "cell_type": "code",
   "execution_count": 5,
   "metadata": {},
   "outputs": [],
   "source": [
    "header_info = {\n",
    "    \"User-Agent\": \"Mozilla/5.0 (Windows NT 10.0; Win64; x64) AppleWebKit/537.36 (KHTML, like Gecko) Chrome/120.0.0.0 Whale/3.24.223.18 Safari/537.36\"\n",
    "}\n",
    "url = \"https://www.kyobobook.co.kr/api/welcome/getHtml?name=welcomeFlex1&id=welcome_flexibilization1&url=https%3A%2F%2Fcontents.kyobobook.co.kr%2Fdisplay%2Fpc%2Fwelcome_flexibilization1.html\"\n",
    "response = requests.get(url, headers=header_info)"
   ]
  },
  {
   "cell_type": "code",
   "execution_count": 6,
   "metadata": {},
   "outputs": [
    {
     "data": {
      "text/plain": [
       "'{\"name\":\"welcomeFlex1\",\"html\":\"<div class=\\\\\"welcome_main_content_area\\\\\" id=\\\\\"welcome_flexibilization1\\\\\"> \\\\n <div class=\\\\\"contents_inner\\\\\"> \\\\n  <div class=\\\\\"title_wrap title_size_xxl\\\\\"> \\\\n   <h2 class=\\\\\"title_heading\\\\\">급상승! 많이 보고 있는 상품</h2> \\\\n  </div> \\\\n  <div class=\\\\\"fluid_swiper_wrap outside_nav\\\\\"> \\\\n   <div class=\\\\\"swiper-container\\\\\" data-col=\\\\\"4\\\\\"> \\\\n    <ul class=\\\\\"swiper-wrapper\\\\\"> \\\\n     <li class=\\\\\"swiper-slide\\\\\"> \\\\n      <div class=\\\\\"prod_area\\\\\"> \\\\n       <div class=\\\\\"prod_thumb_box\\\\\"> <a href=\\\\\"https://product.kyobobook.co.kr/detail/S000211815724\\\\\" class=\\\\\"prod_link\\\\\"> <span class=\\\\\"img_box\\\\\"> <img data-kbbfn=\\\\\"s3-image\\\\\" data-kbbfn-pid=\\\\\"S000211815724\\\\\" data-kbbfn-bid=\\\\\"9788930041607\\\\\" data-kbbfn-type=\\\\\"KOR\\\\\" data-kbbfn-age=\\\\\"0\\\\\" data-kbbfn-attr=\\\\\"src\\\\\" data-kbbfn-title=\\\\\"반도체 주권국가\\\\\" data-kbbfn-bg-target=\\\\\".img_box\\\\\" data-kbbfn-size=\\\\\"300x0\\\\\" alt=\\\\\"${@utils.getStr(title, null)}\\\\\"> </span> </a> \\\\n       </div> \\\\n       <div class=\\\\\"prod_info_box size_lg\\\\\"> <a href=\\\\\"https://product.kyobobook.co.kr/detail/S000211815724\\\\\" class=\\\\\"prod_info\\\\\"> <span class=\\\\\"prod_category\\\\\">경제/경영</span> <span class=\\\\\"prod_name\\\\\">반도체 주권국가</span> </a> <span class=\\\\\"prod_author\\\\\"> <!--<th:block th:if=\\\\\"${not #strings.isEmpty(getList.authorName)}\\\\\">\\\\n                                        <th:block th:text=\\\\\"${getList.authorName}\\\\\"/>\\\\n                                    </th:block>\\\\n                                    <th:block th:if=\\\\\"${not #strings.isEmpty(getList.pubName)}\\\\\">\\\\n                                        <th:block th:text=\\\\\"|·${getList.pubName}|\\\\\"/>\\\\n                                    </th:block>--> 박영선·나남 </span> \\\\n       </div> \\\\n      </div> </li> \\\\n     <li class=\\\\\"swiper-slide\\\\\"> \\\\n      <div class=\\\\\"prod_area\\\\\"> \\\\n       <div class=\\\\\"prod_thumb_box\\\\\"> <a href=\\\\\"https://product.kyobobook.co.kr/detail/S000211352514\\\\\" class=\\\\\"prod_link\\\\\"> <span class=\\\\\"img_box\\\\\"> <img data-kbbfn=\\\\\"s3-image\\\\\" data-kbbfn-pid=\\\\\"S000211352514\\\\\" data-kbbfn-bid=\\\\\"9788901276533\\\\\" data-kbbfn-type=\\\\\"KOR\\\\\" data-kbbfn-age=\\\\\"0\\\\\" data-kbbfn-attr=\\\\\"src\\\\\" data-kbbfn-title=\\\\\"나는 메트로폴리탄 미술관의 경비원입니다\\\\\" data-kbbfn-bg-target=\\\\\".img_box\\\\\" data-kbbfn-size=\\\\\"300x0\\\\\" alt=\\\\\"${@utils.getStr(title, null)}\\\\\"> </span> </a> \\\\n       </div> \\\\n       <div class=\\\\\"prod_info_box size_lg\\\\\"> <a href=\\\\\"https://product.kyobobook.co.kr/detail/S000211352514\\\\\" class=\\\\\"prod_info\\\\\"> <span class=\\\\\"prod_category\\\\\">시/에세이</span> <span class=\\\\\"prod_name\\\\\">나는 메트로폴리탄 미술관의 경비원입니다</span> </a> <span class=\\\\\"prod_author\\\\\"> <!--<th:block th:if=\\\\\"${not #strings.isEmpty(getList.authorName)}\\\\\">\\\\n                                        <th:block th:text=\\\\\"${getList.authorName}\\\\\"/>\\\\n                                    </th:block>\\\\n                                    <th:block th:if=\\\\\"${not #strings.isEmpty(getList.pubName)}\\\\\">\\\\n                                        <th:block th:text=\\\\\"|·${getList.pubName}|\\\\\"/>\\\\n                                    </th:block>--> 패트릭 브링리·웅진지식하우스 </span> \\\\n       </div> \\\\n      </div> </li> \\\\n     <li class=\\\\\"swiper-slide\\\\\"> \\\\n      <div class=\\\\\"prod_area\\\\\"> \\\\n       <div class=\\\\\"prod_thumb_box\\\\\"> <a href=\\\\\"https://product.kyobobook.co.kr/detail/S000209670832\\\\\" class=\\\\\"prod_link\\\\\"> <span class=\\\\\"img_box\\\\\"> <img data-kbbfn=\\\\\"s3-image\\\\\" data-kbbfn-pid=\\\\\"S000209670832\\\\\" data-kbbfn-bid=\\\\\"9791192953151\\\\\" data-kbbfn-type=\\\\\"KOR\\\\\" data-kbbfn-age=\\\\\"0\\\\\" data-kbbfn-attr=\\\\\"src\\\\\" data-kbbfn-title=\\\\\"세상은 이야기로 만들어졌다\\\\\" data-kbbfn-bg-target=\\\\\".img_box\\\\\" data-kbbfn-size=\\\\\"300x0\\\\\" alt=\\\\\"${@utils.getStr(title, null)}\\\\\"> </span> </a> \\\\n       </div> \\\\n       <div class=\\\\\"prod_info_box size_lg\\\\\"> <a href=\\\\\"https://product.kyobobook.co.kr/detail/S000209670832\\\\\" class=\\\\\"prod_info\\\\\"> <span class=\\\\\"prod_category\\\\\">인문</span> <span class=\\\\\"prod_name\\\\\">세상은 이야기로 만들어졌다</span> </a> <span class=\\\\\"prod_author\\\\\"> <!--<th:block th:if=\\\\\"${not #strings.isEmpty(getList.authorName)}\\\\\">\\\\n                                        <th:block th:text=\\\\\"${getList.authorName}\\\\\"/>\\\\n                                    </th:block>\\\\n                                    <th:block th:if=\\\\\"${not #strings.isEmpty(getList.pubName)}\\\\\">\\\\n                                        <th:block th:text=\\\\\"|·${getList.pubName}|\\\\\"/>\\\\n                                    </th:block>--> 자미라 엘 우아실·원더박스 </span> \\\\n       </div> \\\\n      </div> </li> \\\\n     <li class=\\\\\"swiper-slide\\\\\"> \\\\n      <div class=\\\\\"prod_area\\\\\"> \\\\n       <div class=\\\\\"prod_thumb_box\\\\\"> <a href=\\\\\"https://product.kyobobook.co.kr/detail/S000211779592\\\\\" class=\\\\\"prod_link\\\\\"> <span class=\\\\\"img_box\\\\\"> <img data-kbbfn=\\\\\"s3-image\\\\\" data-kbbfn-pid=\\\\\"S000211779592\\\\\" data-kbbfn-bid=\\\\\"9791191568134\\\\\" data-kbbfn-type=\\\\\"KOR\\\\\" data-kbbfn-age=\\\\\"0\\\\\" data-kbbfn-attr=\\\\\"src\\\\\" data-kbbfn-title=\\\\\"우주로 간 발명 수업\\\\\" data-kbbfn-bg-target=\\\\\".img_box\\\\\" data-kbbfn-size=\\\\\"300x0\\\\\" alt=\\\\\"${@utils.getStr(title, null)}\\\\\"> </span> </a> \\\\n       </div> \\\\n       <div class=\\\\\"prod_info_box size_lg\\\\\"> <a href=\\\\\"https://product.kyobobook.co.kr/detail/S000211779592\\\\\" class=\\\\\"prod_info\\\\\"> <span class=\\\\\"prod_category\\\\\">어린이(초등)</span> <span class=\\\\\"prod_name\\\\\">우주로 간 발명 수업</span> </a> <span class=\\\\\"prod_author\\\\\"> <!--<th:block th:if=\\\\\"${not #strings.isEmpty(getList.authorName)}\\\\\">\\\\n                                        <th:block th:text=\\\\\"${getList.authorName}\\\\\"/>\\\\n                                    </th:block>\\\\n                                    <th:block th:if=\\\\\"${not #strings.isEmpty(getList.pubName)}\\\\\">\\\\n                                        <th:block th:text=\\\\\"|·${getList.pubName}|\\\\\"/>\\\\n                                    </th:block>--> 도미닉 윌콕스·명랑한책방 </span> \\\\n       </div> \\\\n      </div> </li> \\\\n     <li class=\\\\\"swiper-slide\\\\\"> \\\\n      <div class=\\\\\"prod_area\\\\\"> \\\\n       <div class=\\\\\"prod_thumb_box\\\\\"> <a href=\\\\\"https://product.kyobobook.co.kr/detail/S000211780014\\\\\" class=\\\\\"prod_link\\\\\"> <span class=\\\\\"img_box\\\\\"> <img data-kbbfn=\\\\\"s3-image\\\\\" data-kbbfn-pid=\\\\\"S000211780014\\\\\" data-kbbfn-bid=\\\\\"9788934938224\\\\\" data-kbbfn-type=\\\\\"KOR\\\\\" data-kbbfn-age=\\\\\"0\\\\\" data-kbbfn-attr=\\\\\"src\\\\\" data-kbbfn-title=\\\\\"흔한남매 과학 탐험대 0: 과학의 기초\\\\\" data-kbbfn-bg-target=\\\\\".img_box\\\\\" data-kbbfn-size=\\\\\"300x0\\\\\" alt=\\\\\"${@utils.getStr(title, null)}\\\\\"> </span> </a> \\\\n       </div> \\\\n       <div class=\\\\\"prod_info_box size_lg\\\\\"> <a href=\\\\\"https://product.kyobobook.co.kr/detail/S000211780014\\\\\" class=\\\\\"prod_info\\\\\"> <span class=\\\\\"prod_category\\\\\">어린이(초등)</span> <span class=\\\\\"prod_name\\\\\">흔한남매 과학 탐험대 0: 과학의 기초</span> </a> <span class=\\\\\"prod_author\\\\\"> <!--<th:block th:if=\\\\\"${not #strings.isEmpty(getList.authorName)}\\\\\">\\\\n                                        <th:block th:text=\\\\\"${getList.authorName}\\\\\"/>\\\\n                                    </th:block>\\\\n                                    <th:block th:if=\\\\\"${not #strings.isEmpty(getList.pubName)}\\\\\">\\\\n                                        <th:block th:text=\\\\\"|·${getList.pubName}|\\\\\"/>\\\\n                                    </th:block>--> 흔한남매·주니어김영사 </span> \\\\n       </div> \\\\n      </div> </li> \\\\n     <li class=\\\\\"swiper-slide\\\\\"> \\\\n      <div class=\\\\\"prod_area\\\\\"> \\\\n       <div class=\\\\\"prod_thumb_box\\\\\"> <a href=\\\\\"https://product.kyobobook.co.kr/detail/S000211554487\\\\\" class=\\\\\"prod_link\\\\\"> <span class=\\\\\"img_box\\\\\"> <img data-kbbfn=\\\\\"s3-image\\\\\" data-kbbfn-pid=\\\\\"S000211554487\\\\\" data-kbbfn-bid=\\\\\"9791193080146\\\\\" data-kbbfn-type=\\\\\"KOR\\\\\" data-kbbfn-age=\\\\\"0\\\\\" data-kbbfn-attr=\\\\\"src\\\\\" data-kbbfn-title=\\\\\"느리게 나이 드는 습관\\\\\" data-kbbfn-bg-target=\\\\\".img_box\\\\\" data-kbbfn-size=\\\\\"300x0\\\\\" alt=\\\\\"${@utils.getStr(title, null)}\\\\\"> </span> </a> \\\\n       </div> \\\\n       <div class=\\\\\"prod_info_box size_lg\\\\\"> <a href=\\\\\"https://product.kyobobook.co.kr/detail/S000211554487\\\\\" class=\\\\\"prod_info\\\\\"> <span class=\\\\\"prod_category\\\\\">건강</span> <span class=\\\\\"prod_name\\\\\">느리게 나이 드는 습관</span> </a> <span class=\\\\\"prod_author\\\\\"> <!--<th:block th:if=\\\\\"${not #strings.isEmpty(getList.authorName)}\\\\\">\\\\n                                        <th:block th:text=\\\\\"${getList.authorName}\\\\\"/>\\\\n                                    </th:block>\\\\n                                    <th:block th:if=\\\\\"${not #strings.isEmpty(getList.pubName)}\\\\\">\\\\n                                        <th:block th:text=\\\\\"|·${getList.pubName}|\\\\\"/>\\\\n                                    </th:block>--> 정희원·한빛라이프 </span> \\\\n       </div> \\\\n      </div> </li> \\\\n     <li class=\\\\\"swiper-slide\\\\\"> \\\\n      <div class=\\\\\"prod_area\\\\\"> \\\\n       <div class=\\\\\"prod_thumb_box\\\\\"> <a href=\\\\\"https://product.kyobobook.co.kr/detail/S000211513068\\\\\" class=\\\\\"prod_link\\\\\"> <span class=\\\\\"img_box\\\\\"> <img data-kbbfn=\\\\\"s3-image\\\\\" data-kbbfn-pid=\\\\\"S000211513068\\\\\" data-kbbfn-bid=\\\\\"9791130646381\\\\\" data-kbbfn-type=\\\\\"KOR\\\\\" data-kbbfn-age=\\\\\"0\\\\\" data-kbbfn-attr=\\\\\"src\\\\\" data-kbbfn-title=\\\\\"이처럼 사소한 것들\\\\\" data-kbbfn-bg-target=\\\\\".img_box\\\\\" data-kbbfn-size=\\\\\"300x0\\\\\" alt=\\\\\"${@utils.getStr(title, null)}\\\\\"> </span> </a> \\\\n       </div> \\\\n       <div class=\\\\\"prod_info_box size_lg\\\\\"> <a href=\\\\\"https://product.kyobobook.co.kr/detail/S000211513068\\\\\" class=\\\\\"prod_info\\\\\"> <span class=\\\\\"prod_category\\\\\">소설</span> <span class=\\\\\"prod_name\\\\\">이처럼 사소한 것들</span> </a> <span class=\\\\\"prod_author\\\\\"> <!--<th:block th:if=\\\\\"${not #strings.isEmpty(getList.authorName)}\\\\\">\\\\n                                        <th:block th:text=\\\\\"${getList.authorName}\\\\\"/>\\\\n                                    </th:block>\\\\n                                    <th:block th:if=\\\\\"${not #strings.isEmpty(getList.pubName)}\\\\\">\\\\n                                        <th:block th:text=\\\\\"|·${getList.pubName}|\\\\\"/>\\\\n                                    </th:block>--> 클레어 키건·다산책방 </span> \\\\n       </div> \\\\n      </div> </li> \\\\n     <li class=\\\\\"swiper-slide\\\\\"> \\\\n      <div class=\\\\\"prod_area\\\\\"> \\\\n       <div class=\\\\\"prod_thumb_box\\\\\"> <a href=\\\\\"https://product.kyobobook.co.kr/detail/S000211734678\\\\\" class=\\\\\"prod_link\\\\\"> <span class=\\\\\"img_box\\\\\"> <img data-kbbfn=\\\\\"s3-image\\\\\" data-kbbfn-pid=\\\\\"S000211734678\\\\\" data-kbbfn-bid=\\\\\"9791195522170\\\\\" data-kbbfn-type=\\\\\"KOR\\\\\" data-kbbfn-age=\\\\\"0\\\\\" data-kbbfn-attr=\\\\\"src\\\\\" data-kbbfn-title=\\\\\"보편의 단어\\\\\" data-kbbfn-bg-target=\\\\\".img_box\\\\\" data-kbbfn-size=\\\\\"300x0\\\\\" alt=\\\\\"${@utils.getStr(title, null)}\\\\\"> </span> </a> \\\\n       </div> \\\\n       <div class=\\\\\"prod_info_box size_lg\\\\\"> <a href=\\\\\"https://product.kyobobook.co.kr/detail/S000211734678\\\\\" class=\\\\\"prod_info\\\\\"> <span class=\\\\\"prod_category\\\\\">시/에세이</span> <span class=\\\\\"prod_name\\\\\">보편의 단어</span> </a> <span class=\\\\\"prod_author\\\\\"> <!--<th:block th:if=\\\\\"${not #strings.isEmpty(getList.authorName)}\\\\\">\\\\n                                        <th:block th:text=\\\\\"${getList.authorName}\\\\\"/>\\\\n                                    </th:block>\\\\n                                    <th:block th:if=\\\\\"${not #strings.isEmpty(getList.pubName)}\\\\\">\\\\n                                        <th:block th:text=\\\\\"|·${getList.pubName}|\\\\\"/>\\\\n                                    </th:block>--> 이기주·말글터 </span> \\\\n       </div> \\\\n      </div> </li> \\\\n    </ul> \\\\n   </div> <button type=\\\\\"button\\\\\" class=\\\\\"swiper-button-prev type_white\\\\\"><span class=\\\\\"hidden\\\\\">이전</span></button> <button type=\\\\\"button\\\\\" class=\\\\\"swiper-button-next type_white\\\\\"><span class=\\\\\"hidden\\\\\">다음</span></button> \\\\n  </div> \\\\n </div> \\\\n</div>\",\"id\":\"welcome_flexibilization1\"}'"
      ]
     },
     "execution_count": 6,
     "metadata": {},
     "output_type": "execute_result"
    }
   ],
   "source": [
    "response.text"
   ]
  },
  {
   "cell_type": "code",
   "execution_count": 7,
   "metadata": {},
   "outputs": [
    {
     "data": {
      "text/plain": [
       "{'name': 'welcomeFlex1',\n",
       " 'html': '<div class=\"welcome_main_content_area\" id=\"welcome_flexibilization1\"> \\n <div class=\"contents_inner\"> \\n  <div class=\"title_wrap title_size_xxl\"> \\n   <h2 class=\"title_heading\">급상승! 많이 보고 있는 상품</h2> \\n  </div> \\n  <div class=\"fluid_swiper_wrap outside_nav\"> \\n   <div class=\"swiper-container\" data-col=\"4\"> \\n    <ul class=\"swiper-wrapper\"> \\n     <li class=\"swiper-slide\"> \\n      <div class=\"prod_area\"> \\n       <div class=\"prod_thumb_box\"> <a href=\"https://product.kyobobook.co.kr/detail/S000211815724\" class=\"prod_link\"> <span class=\"img_box\"> <img data-kbbfn=\"s3-image\" data-kbbfn-pid=\"S000211815724\" data-kbbfn-bid=\"9788930041607\" data-kbbfn-type=\"KOR\" data-kbbfn-age=\"0\" data-kbbfn-attr=\"src\" data-kbbfn-title=\"반도체 주권국가\" data-kbbfn-bg-target=\".img_box\" data-kbbfn-size=\"300x0\" alt=\"${@utils.getStr(title, null)}\"> </span> </a> \\n       </div> \\n       <div class=\"prod_info_box size_lg\"> <a href=\"https://product.kyobobook.co.kr/detail/S000211815724\" class=\"prod_info\"> <span class=\"prod_category\">경제/경영</span> <span class=\"prod_name\">반도체 주권국가</span> </a> <span class=\"prod_author\"> <!--<th:block th:if=\"${not #strings.isEmpty(getList.authorName)}\">\\n                                        <th:block th:text=\"${getList.authorName}\"/>\\n                                    </th:block>\\n                                    <th:block th:if=\"${not #strings.isEmpty(getList.pubName)}\">\\n                                        <th:block th:text=\"|·${getList.pubName}|\"/>\\n                                    </th:block>--> 박영선·나남 </span> \\n       </div> \\n      </div> </li> \\n     <li class=\"swiper-slide\"> \\n      <div class=\"prod_area\"> \\n       <div class=\"prod_thumb_box\"> <a href=\"https://product.kyobobook.co.kr/detail/S000211352514\" class=\"prod_link\"> <span class=\"img_box\"> <img data-kbbfn=\"s3-image\" data-kbbfn-pid=\"S000211352514\" data-kbbfn-bid=\"9788901276533\" data-kbbfn-type=\"KOR\" data-kbbfn-age=\"0\" data-kbbfn-attr=\"src\" data-kbbfn-title=\"나는 메트로폴리탄 미술관의 경비원입니다\" data-kbbfn-bg-target=\".img_box\" data-kbbfn-size=\"300x0\" alt=\"${@utils.getStr(title, null)}\"> </span> </a> \\n       </div> \\n       <div class=\"prod_info_box size_lg\"> <a href=\"https://product.kyobobook.co.kr/detail/S000211352514\" class=\"prod_info\"> <span class=\"prod_category\">시/에세이</span> <span class=\"prod_name\">나는 메트로폴리탄 미술관의 경비원입니다</span> </a> <span class=\"prod_author\"> <!--<th:block th:if=\"${not #strings.isEmpty(getList.authorName)}\">\\n                                        <th:block th:text=\"${getList.authorName}\"/>\\n                                    </th:block>\\n                                    <th:block th:if=\"${not #strings.isEmpty(getList.pubName)}\">\\n                                        <th:block th:text=\"|·${getList.pubName}|\"/>\\n                                    </th:block>--> 패트릭 브링리·웅진지식하우스 </span> \\n       </div> \\n      </div> </li> \\n     <li class=\"swiper-slide\"> \\n      <div class=\"prod_area\"> \\n       <div class=\"prod_thumb_box\"> <a href=\"https://product.kyobobook.co.kr/detail/S000209670832\" class=\"prod_link\"> <span class=\"img_box\"> <img data-kbbfn=\"s3-image\" data-kbbfn-pid=\"S000209670832\" data-kbbfn-bid=\"9791192953151\" data-kbbfn-type=\"KOR\" data-kbbfn-age=\"0\" data-kbbfn-attr=\"src\" data-kbbfn-title=\"세상은 이야기로 만들어졌다\" data-kbbfn-bg-target=\".img_box\" data-kbbfn-size=\"300x0\" alt=\"${@utils.getStr(title, null)}\"> </span> </a> \\n       </div> \\n       <div class=\"prod_info_box size_lg\"> <a href=\"https://product.kyobobook.co.kr/detail/S000209670832\" class=\"prod_info\"> <span class=\"prod_category\">인문</span> <span class=\"prod_name\">세상은 이야기로 만들어졌다</span> </a> <span class=\"prod_author\"> <!--<th:block th:if=\"${not #strings.isEmpty(getList.authorName)}\">\\n                                        <th:block th:text=\"${getList.authorName}\"/>\\n                                    </th:block>\\n                                    <th:block th:if=\"${not #strings.isEmpty(getList.pubName)}\">\\n                                        <th:block th:text=\"|·${getList.pubName}|\"/>\\n                                    </th:block>--> 자미라 엘 우아실·원더박스 </span> \\n       </div> \\n      </div> </li> \\n     <li class=\"swiper-slide\"> \\n      <div class=\"prod_area\"> \\n       <div class=\"prod_thumb_box\"> <a href=\"https://product.kyobobook.co.kr/detail/S000211779592\" class=\"prod_link\"> <span class=\"img_box\"> <img data-kbbfn=\"s3-image\" data-kbbfn-pid=\"S000211779592\" data-kbbfn-bid=\"9791191568134\" data-kbbfn-type=\"KOR\" data-kbbfn-age=\"0\" data-kbbfn-attr=\"src\" data-kbbfn-title=\"우주로 간 발명 수업\" data-kbbfn-bg-target=\".img_box\" data-kbbfn-size=\"300x0\" alt=\"${@utils.getStr(title, null)}\"> </span> </a> \\n       </div> \\n       <div class=\"prod_info_box size_lg\"> <a href=\"https://product.kyobobook.co.kr/detail/S000211779592\" class=\"prod_info\"> <span class=\"prod_category\">어린이(초등)</span> <span class=\"prod_name\">우주로 간 발명 수업</span> </a> <span class=\"prod_author\"> <!--<th:block th:if=\"${not #strings.isEmpty(getList.authorName)}\">\\n                                        <th:block th:text=\"${getList.authorName}\"/>\\n                                    </th:block>\\n                                    <th:block th:if=\"${not #strings.isEmpty(getList.pubName)}\">\\n                                        <th:block th:text=\"|·${getList.pubName}|\"/>\\n                                    </th:block>--> 도미닉 윌콕스·명랑한책방 </span> \\n       </div> \\n      </div> </li> \\n     <li class=\"swiper-slide\"> \\n      <div class=\"prod_area\"> \\n       <div class=\"prod_thumb_box\"> <a href=\"https://product.kyobobook.co.kr/detail/S000211780014\" class=\"prod_link\"> <span class=\"img_box\"> <img data-kbbfn=\"s3-image\" data-kbbfn-pid=\"S000211780014\" data-kbbfn-bid=\"9788934938224\" data-kbbfn-type=\"KOR\" data-kbbfn-age=\"0\" data-kbbfn-attr=\"src\" data-kbbfn-title=\"흔한남매 과학 탐험대 0: 과학의 기초\" data-kbbfn-bg-target=\".img_box\" data-kbbfn-size=\"300x0\" alt=\"${@utils.getStr(title, null)}\"> </span> </a> \\n       </div> \\n       <div class=\"prod_info_box size_lg\"> <a href=\"https://product.kyobobook.co.kr/detail/S000211780014\" class=\"prod_info\"> <span class=\"prod_category\">어린이(초등)</span> <span class=\"prod_name\">흔한남매 과학 탐험대 0: 과학의 기초</span> </a> <span class=\"prod_author\"> <!--<th:block th:if=\"${not #strings.isEmpty(getList.authorName)}\">\\n                                        <th:block th:text=\"${getList.authorName}\"/>\\n                                    </th:block>\\n                                    <th:block th:if=\"${not #strings.isEmpty(getList.pubName)}\">\\n                                        <th:block th:text=\"|·${getList.pubName}|\"/>\\n                                    </th:block>--> 흔한남매·주니어김영사 </span> \\n       </div> \\n      </div> </li> \\n     <li class=\"swiper-slide\"> \\n      <div class=\"prod_area\"> \\n       <div class=\"prod_thumb_box\"> <a href=\"https://product.kyobobook.co.kr/detail/S000211554487\" class=\"prod_link\"> <span class=\"img_box\"> <img data-kbbfn=\"s3-image\" data-kbbfn-pid=\"S000211554487\" data-kbbfn-bid=\"9791193080146\" data-kbbfn-type=\"KOR\" data-kbbfn-age=\"0\" data-kbbfn-attr=\"src\" data-kbbfn-title=\"느리게 나이 드는 습관\" data-kbbfn-bg-target=\".img_box\" data-kbbfn-size=\"300x0\" alt=\"${@utils.getStr(title, null)}\"> </span> </a> \\n       </div> \\n       <div class=\"prod_info_box size_lg\"> <a href=\"https://product.kyobobook.co.kr/detail/S000211554487\" class=\"prod_info\"> <span class=\"prod_category\">건강</span> <span class=\"prod_name\">느리게 나이 드는 습관</span> </a> <span class=\"prod_author\"> <!--<th:block th:if=\"${not #strings.isEmpty(getList.authorName)}\">\\n                                        <th:block th:text=\"${getList.authorName}\"/>\\n                                    </th:block>\\n                                    <th:block th:if=\"${not #strings.isEmpty(getList.pubName)}\">\\n                                        <th:block th:text=\"|·${getList.pubName}|\"/>\\n                                    </th:block>--> 정희원·한빛라이프 </span> \\n       </div> \\n      </div> </li> \\n     <li class=\"swiper-slide\"> \\n      <div class=\"prod_area\"> \\n       <div class=\"prod_thumb_box\"> <a href=\"https://product.kyobobook.co.kr/detail/S000211513068\" class=\"prod_link\"> <span class=\"img_box\"> <img data-kbbfn=\"s3-image\" data-kbbfn-pid=\"S000211513068\" data-kbbfn-bid=\"9791130646381\" data-kbbfn-type=\"KOR\" data-kbbfn-age=\"0\" data-kbbfn-attr=\"src\" data-kbbfn-title=\"이처럼 사소한 것들\" data-kbbfn-bg-target=\".img_box\" data-kbbfn-size=\"300x0\" alt=\"${@utils.getStr(title, null)}\"> </span> </a> \\n       </div> \\n       <div class=\"prod_info_box size_lg\"> <a href=\"https://product.kyobobook.co.kr/detail/S000211513068\" class=\"prod_info\"> <span class=\"prod_category\">소설</span> <span class=\"prod_name\">이처럼 사소한 것들</span> </a> <span class=\"prod_author\"> <!--<th:block th:if=\"${not #strings.isEmpty(getList.authorName)}\">\\n                                        <th:block th:text=\"${getList.authorName}\"/>\\n                                    </th:block>\\n                                    <th:block th:if=\"${not #strings.isEmpty(getList.pubName)}\">\\n                                        <th:block th:text=\"|·${getList.pubName}|\"/>\\n                                    </th:block>--> 클레어 키건·다산책방 </span> \\n       </div> \\n      </div> </li> \\n     <li class=\"swiper-slide\"> \\n      <div class=\"prod_area\"> \\n       <div class=\"prod_thumb_box\"> <a href=\"https://product.kyobobook.co.kr/detail/S000211734678\" class=\"prod_link\"> <span class=\"img_box\"> <img data-kbbfn=\"s3-image\" data-kbbfn-pid=\"S000211734678\" data-kbbfn-bid=\"9791195522170\" data-kbbfn-type=\"KOR\" data-kbbfn-age=\"0\" data-kbbfn-attr=\"src\" data-kbbfn-title=\"보편의 단어\" data-kbbfn-bg-target=\".img_box\" data-kbbfn-size=\"300x0\" alt=\"${@utils.getStr(title, null)}\"> </span> </a> \\n       </div> \\n       <div class=\"prod_info_box size_lg\"> <a href=\"https://product.kyobobook.co.kr/detail/S000211734678\" class=\"prod_info\"> <span class=\"prod_category\">시/에세이</span> <span class=\"prod_name\">보편의 단어</span> </a> <span class=\"prod_author\"> <!--<th:block th:if=\"${not #strings.isEmpty(getList.authorName)}\">\\n                                        <th:block th:text=\"${getList.authorName}\"/>\\n                                    </th:block>\\n                                    <th:block th:if=\"${not #strings.isEmpty(getList.pubName)}\">\\n                                        <th:block th:text=\"|·${getList.pubName}|\"/>\\n                                    </th:block>--> 이기주·말글터 </span> \\n       </div> \\n      </div> </li> \\n    </ul> \\n   </div> <button type=\"button\" class=\"swiper-button-prev type_white\"><span class=\"hidden\">이전</span></button> <button type=\"button\" class=\"swiper-button-next type_white\"><span class=\"hidden\">다음</span></button> \\n  </div> \\n </div> \\n</div>',\n",
       " 'id': 'welcome_flexibilization1'}"
      ]
     },
     "execution_count": 7,
     "metadata": {},
     "output_type": "execute_result"
    }
   ],
   "source": [
    "# \"{ 'one': 1, 'two': 2 }\" -> { 'one': 1, 'two': 2 }\n",
    "result_dict = eval(response.text) # eval : 문자열 -> python 코드로 변환\n",
    "result_dict"
   ]
  },
  {
   "cell_type": "code",
   "execution_count": 8,
   "metadata": {},
   "outputs": [],
   "source": [
    "html = result_dict[\"html\"].replace(\"\\n\", \"\").replace(\"\\t\", \"\")\n",
    "soup = BeautifulSoup(html, \"html.parser\")"
   ]
  },
  {
   "cell_type": "code",
   "execution_count": 9,
   "metadata": {},
   "outputs": [
    {
     "data": {
      "text/plain": [
       "[<li class=\"swiper-slide\"> <div class=\"prod_area\"> <div class=\"prod_thumb_box\"> <a class=\"prod_link\" href=\"https://product.kyobobook.co.kr/detail/S000211815724\"> <span class=\"img_box\"> <img alt=\"${@utils.getStr(title, null)}\" data-kbbfn=\"s3-image\" data-kbbfn-age=\"0\" data-kbbfn-attr=\"src\" data-kbbfn-bg-target=\".img_box\" data-kbbfn-bid=\"9788930041607\" data-kbbfn-pid=\"S000211815724\" data-kbbfn-size=\"300x0\" data-kbbfn-title=\"반도체 주권국가\" data-kbbfn-type=\"KOR\"/> </span> </a> </div> <div class=\"prod_info_box size_lg\"> <a class=\"prod_info\" href=\"https://product.kyobobook.co.kr/detail/S000211815724\"> <span class=\"prod_category\">경제/경영</span> <span class=\"prod_name\">반도체 주권국가</span> </a> <span class=\"prod_author\"> <!--<th:block th:if=\"${not #strings.isEmpty(getList.authorName)}\">                                        <th:block th:text=\"${getList.authorName}\"/>                                    </th:block>                                    <th:block th:if=\"${not #strings.isEmpty(getList.pubName)}\">                                        <th:block th:text=\"|·${getList.pubName}|\"/>                                    </th:block>--> 박영선·나남 </span> </div> </div> </li>,\n",
       " <li class=\"swiper-slide\"> <div class=\"prod_area\"> <div class=\"prod_thumb_box\"> <a class=\"prod_link\" href=\"https://product.kyobobook.co.kr/detail/S000211352514\"> <span class=\"img_box\"> <img alt=\"${@utils.getStr(title, null)}\" data-kbbfn=\"s3-image\" data-kbbfn-age=\"0\" data-kbbfn-attr=\"src\" data-kbbfn-bg-target=\".img_box\" data-kbbfn-bid=\"9788901276533\" data-kbbfn-pid=\"S000211352514\" data-kbbfn-size=\"300x0\" data-kbbfn-title=\"나는 메트로폴리탄 미술관의 경비원입니다\" data-kbbfn-type=\"KOR\"/> </span> </a> </div> <div class=\"prod_info_box size_lg\"> <a class=\"prod_info\" href=\"https://product.kyobobook.co.kr/detail/S000211352514\"> <span class=\"prod_category\">시/에세이</span> <span class=\"prod_name\">나는 메트로폴리탄 미술관의 경비원입니다</span> </a> <span class=\"prod_author\"> <!--<th:block th:if=\"${not #strings.isEmpty(getList.authorName)}\">                                        <th:block th:text=\"${getList.authorName}\"/>                                    </th:block>                                    <th:block th:if=\"${not #strings.isEmpty(getList.pubName)}\">                                        <th:block th:text=\"|·${getList.pubName}|\"/>                                    </th:block>--> 패트릭 브링리·웅진지식하우스 </span> </div> </div> </li>,\n",
       " <li class=\"swiper-slide\"> <div class=\"prod_area\"> <div class=\"prod_thumb_box\"> <a class=\"prod_link\" href=\"https://product.kyobobook.co.kr/detail/S000209670832\"> <span class=\"img_box\"> <img alt=\"${@utils.getStr(title, null)}\" data-kbbfn=\"s3-image\" data-kbbfn-age=\"0\" data-kbbfn-attr=\"src\" data-kbbfn-bg-target=\".img_box\" data-kbbfn-bid=\"9791192953151\" data-kbbfn-pid=\"S000209670832\" data-kbbfn-size=\"300x0\" data-kbbfn-title=\"세상은 이야기로 만들어졌다\" data-kbbfn-type=\"KOR\"/> </span> </a> </div> <div class=\"prod_info_box size_lg\"> <a class=\"prod_info\" href=\"https://product.kyobobook.co.kr/detail/S000209670832\"> <span class=\"prod_category\">인문</span> <span class=\"prod_name\">세상은 이야기로 만들어졌다</span> </a> <span class=\"prod_author\"> <!--<th:block th:if=\"${not #strings.isEmpty(getList.authorName)}\">                                        <th:block th:text=\"${getList.authorName}\"/>                                    </th:block>                                    <th:block th:if=\"${not #strings.isEmpty(getList.pubName)}\">                                        <th:block th:text=\"|·${getList.pubName}|\"/>                                    </th:block>--> 자미라 엘 우아실·원더박스 </span> </div> </div> </li>,\n",
       " <li class=\"swiper-slide\"> <div class=\"prod_area\"> <div class=\"prod_thumb_box\"> <a class=\"prod_link\" href=\"https://product.kyobobook.co.kr/detail/S000211779592\"> <span class=\"img_box\"> <img alt=\"${@utils.getStr(title, null)}\" data-kbbfn=\"s3-image\" data-kbbfn-age=\"0\" data-kbbfn-attr=\"src\" data-kbbfn-bg-target=\".img_box\" data-kbbfn-bid=\"9791191568134\" data-kbbfn-pid=\"S000211779592\" data-kbbfn-size=\"300x0\" data-kbbfn-title=\"우주로 간 발명 수업\" data-kbbfn-type=\"KOR\"/> </span> </a> </div> <div class=\"prod_info_box size_lg\"> <a class=\"prod_info\" href=\"https://product.kyobobook.co.kr/detail/S000211779592\"> <span class=\"prod_category\">어린이(초등)</span> <span class=\"prod_name\">우주로 간 발명 수업</span> </a> <span class=\"prod_author\"> <!--<th:block th:if=\"${not #strings.isEmpty(getList.authorName)}\">                                        <th:block th:text=\"${getList.authorName}\"/>                                    </th:block>                                    <th:block th:if=\"${not #strings.isEmpty(getList.pubName)}\">                                        <th:block th:text=\"|·${getList.pubName}|\"/>                                    </th:block>--> 도미닉 윌콕스·명랑한책방 </span> </div> </div> </li>,\n",
       " <li class=\"swiper-slide\"> <div class=\"prod_area\"> <div class=\"prod_thumb_box\"> <a class=\"prod_link\" href=\"https://product.kyobobook.co.kr/detail/S000211780014\"> <span class=\"img_box\"> <img alt=\"${@utils.getStr(title, null)}\" data-kbbfn=\"s3-image\" data-kbbfn-age=\"0\" data-kbbfn-attr=\"src\" data-kbbfn-bg-target=\".img_box\" data-kbbfn-bid=\"9788934938224\" data-kbbfn-pid=\"S000211780014\" data-kbbfn-size=\"300x0\" data-kbbfn-title=\"흔한남매 과학 탐험대 0: 과학의 기초\" data-kbbfn-type=\"KOR\"/> </span> </a> </div> <div class=\"prod_info_box size_lg\"> <a class=\"prod_info\" href=\"https://product.kyobobook.co.kr/detail/S000211780014\"> <span class=\"prod_category\">어린이(초등)</span> <span class=\"prod_name\">흔한남매 과학 탐험대 0: 과학의 기초</span> </a> <span class=\"prod_author\"> <!--<th:block th:if=\"${not #strings.isEmpty(getList.authorName)}\">                                        <th:block th:text=\"${getList.authorName}\"/>                                    </th:block>                                    <th:block th:if=\"${not #strings.isEmpty(getList.pubName)}\">                                        <th:block th:text=\"|·${getList.pubName}|\"/>                                    </th:block>--> 흔한남매·주니어김영사 </span> </div> </div> </li>,\n",
       " <li class=\"swiper-slide\"> <div class=\"prod_area\"> <div class=\"prod_thumb_box\"> <a class=\"prod_link\" href=\"https://product.kyobobook.co.kr/detail/S000211554487\"> <span class=\"img_box\"> <img alt=\"${@utils.getStr(title, null)}\" data-kbbfn=\"s3-image\" data-kbbfn-age=\"0\" data-kbbfn-attr=\"src\" data-kbbfn-bg-target=\".img_box\" data-kbbfn-bid=\"9791193080146\" data-kbbfn-pid=\"S000211554487\" data-kbbfn-size=\"300x0\" data-kbbfn-title=\"느리게 나이 드는 습관\" data-kbbfn-type=\"KOR\"/> </span> </a> </div> <div class=\"prod_info_box size_lg\"> <a class=\"prod_info\" href=\"https://product.kyobobook.co.kr/detail/S000211554487\"> <span class=\"prod_category\">건강</span> <span class=\"prod_name\">느리게 나이 드는 습관</span> </a> <span class=\"prod_author\"> <!--<th:block th:if=\"${not #strings.isEmpty(getList.authorName)}\">                                        <th:block th:text=\"${getList.authorName}\"/>                                    </th:block>                                    <th:block th:if=\"${not #strings.isEmpty(getList.pubName)}\">                                        <th:block th:text=\"|·${getList.pubName}|\"/>                                    </th:block>--> 정희원·한빛라이프 </span> </div> </div> </li>,\n",
       " <li class=\"swiper-slide\"> <div class=\"prod_area\"> <div class=\"prod_thumb_box\"> <a class=\"prod_link\" href=\"https://product.kyobobook.co.kr/detail/S000211513068\"> <span class=\"img_box\"> <img alt=\"${@utils.getStr(title, null)}\" data-kbbfn=\"s3-image\" data-kbbfn-age=\"0\" data-kbbfn-attr=\"src\" data-kbbfn-bg-target=\".img_box\" data-kbbfn-bid=\"9791130646381\" data-kbbfn-pid=\"S000211513068\" data-kbbfn-size=\"300x0\" data-kbbfn-title=\"이처럼 사소한 것들\" data-kbbfn-type=\"KOR\"/> </span> </a> </div> <div class=\"prod_info_box size_lg\"> <a class=\"prod_info\" href=\"https://product.kyobobook.co.kr/detail/S000211513068\"> <span class=\"prod_category\">소설</span> <span class=\"prod_name\">이처럼 사소한 것들</span> </a> <span class=\"prod_author\"> <!--<th:block th:if=\"${not #strings.isEmpty(getList.authorName)}\">                                        <th:block th:text=\"${getList.authorName}\"/>                                    </th:block>                                    <th:block th:if=\"${not #strings.isEmpty(getList.pubName)}\">                                        <th:block th:text=\"|·${getList.pubName}|\"/>                                    </th:block>--> 클레어 키건·다산책방 </span> </div> </div> </li>,\n",
       " <li class=\"swiper-slide\"> <div class=\"prod_area\"> <div class=\"prod_thumb_box\"> <a class=\"prod_link\" href=\"https://product.kyobobook.co.kr/detail/S000211734678\"> <span class=\"img_box\"> <img alt=\"${@utils.getStr(title, null)}\" data-kbbfn=\"s3-image\" data-kbbfn-age=\"0\" data-kbbfn-attr=\"src\" data-kbbfn-bg-target=\".img_box\" data-kbbfn-bid=\"9791195522170\" data-kbbfn-pid=\"S000211734678\" data-kbbfn-size=\"300x0\" data-kbbfn-title=\"보편의 단어\" data-kbbfn-type=\"KOR\"/> </span> </a> </div> <div class=\"prod_info_box size_lg\"> <a class=\"prod_info\" href=\"https://product.kyobobook.co.kr/detail/S000211734678\"> <span class=\"prod_category\">시/에세이</span> <span class=\"prod_name\">보편의 단어</span> </a> <span class=\"prod_author\"> <!--<th:block th:if=\"${not #strings.isEmpty(getList.authorName)}\">                                        <th:block th:text=\"${getList.authorName}\"/>                                    </th:block>                                    <th:block th:if=\"${not #strings.isEmpty(getList.pubName)}\">                                        <th:block th:text=\"|·${getList.pubName}|\"/>                                    </th:block>--> 이기주·말글터 </span> </div> </div> </li>]"
      ]
     },
     "execution_count": 9,
     "metadata": {},
     "output_type": "execute_result"
    }
   ],
   "source": [
    "li_list = soup.select(\"#welcome_flexibilization1 ul li\")\n",
    "li_list"
   ]
  },
  {
   "cell_type": "code",
   "execution_count": 13,
   "metadata": {},
   "outputs": [],
   "source": [
    "books = []\n",
    "for li in li_list:\n",
    "    info = li.select_one(\"div.prod_info_box\")\n",
    "    category = info.select_one(\".prod_category\").text.strip()\n",
    "    name = info.select_one(\".prod_name\").text.strip()\n",
    "    author = info.select_one(\".prod_author\").text.strip()\n",
    "    books.append( (category, name, author) )"
   ]
  },
  {
   "cell_type": "code",
   "execution_count": 14,
   "metadata": {},
   "outputs": [
    {
     "data": {
      "text/plain": [
       "[('경제/경영', '반도체 주권국가', '박영선·나남'),\n",
       " ('시/에세이', '나는 메트로폴리탄 미술관의 경비원입니다', '패트릭 브링리·웅진지식하우스'),\n",
       " ('인문', '세상은 이야기로 만들어졌다', '자미라 엘 우아실·원더박스'),\n",
       " ('어린이(초등)', '우주로 간 발명 수업', '도미닉 윌콕스·명랑한책방'),\n",
       " ('어린이(초등)', '흔한남매 과학 탐험대 0: 과학의 기초', '흔한남매·주니어김영사'),\n",
       " ('건강', '느리게 나이 드는 습관', '정희원·한빛라이프'),\n",
       " ('소설', '이처럼 사소한 것들', '클레어 키건·다산책방'),\n",
       " ('시/에세이', '보편의 단어', '이기주·말글터')]"
      ]
     },
     "execution_count": 14,
     "metadata": {},
     "output_type": "execute_result"
    }
   ],
   "source": [
    "books"
   ]
  }
 ],
 "metadata": {
  "kernelspec": {
   "display_name": "study-env",
   "language": "python",
   "name": "python3"
  },
  "language_info": {
   "codemirror_mode": {
    "name": "ipython",
    "version": 3
   },
   "file_extension": ".py",
   "mimetype": "text/x-python",
   "name": "python",
   "nbconvert_exporter": "python",
   "pygments_lexer": "ipython3",
   "version": "3.9.18"
  }
 },
 "nbformat": 4,
 "nbformat_minor": 2
}
