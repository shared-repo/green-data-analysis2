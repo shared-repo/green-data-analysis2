{
 "cells": [
  {
   "cell_type": "code",
   "execution_count": 2,
   "metadata": {},
   "outputs": [],
   "source": [
    "import numpy as np\n",
    "import pandas as pd\n",
    "import requests \n",
    "from bs4 import BeautifulSoup\n",
    "\n",
    "import time"
   ]
  },
  {
   "cell_type": "code",
   "execution_count": 18,
   "metadata": {},
   "outputs": [],
   "source": [
    "sid1 = 105\n",
    "sid2 = 230\n",
    "date = '20240110'\n",
    "page = 1\n",
    "url = \"https://news.naver.com/main/list.naver?\"\n",
    "headers = {\n",
    "    \"User-Agent\": \"Mozilla/5.0 (Windows NT 10.0; Win64; x64) AppleWebKit/537.36 (KHTML, like Gecko) Chrome/120.0.0.0 Whale/3.24.223.18 Safari/537.36\"\n",
    "}\n",
    "\n",
    "news_list = []\n",
    "page = 1\n",
    "while True:\n",
    "    time.sleep(3)\n",
    "    params = { \"mode\": \"LS2D\", \"mid\": \"shm\", \"sid1\": sid1, \"sid2\": sid2, \"date\":date, \"page\": page }\n",
    "\n",
    "    response = requests.get(url, headers=headers, params=params)\n",
    "    \n",
    "    html = response.text.replace(\"\\n\", \"\").replace(\"\\t\", \"\")    \n",
    "    soup = BeautifulSoup(html, \"html.parser\")\n",
    "    li_list = soup.select(\"#main_content ul li\")\n",
    "\n",
    "    for li in li_list:\n",
    "        dt_list = li.select(\"dl > dt\")\n",
    "        dt = dt_list[1] if len(dt_list) == 2 else dt_list[0]\n",
    "        a = dt.select_one('a')\n",
    "\n",
    "        # dt_list = li.select(\"dl > dt\")\n",
    "        # for dt in dt_list:\n",
    "        #     if not dt.get('class'):\n",
    "        #         a = dt.select_one('a')\n",
    "        #         break\n",
    "\n",
    "        # a = li.select_one(\"dl > dt:not(.photo) a\")\n",
    "\n",
    "        news_list.append( [a.text, a['href']] )\n",
    "\n",
    "    page += 1\n",
    "\n",
    "    # if page == 11:\n",
    "    if page == 3:\n",
    "        break\n"
   ]
  },
  {
   "cell_type": "code",
   "execution_count": 19,
   "metadata": {},
   "outputs": [
    {
     "data": {
      "text/plain": [
       "40"
      ]
     },
     "execution_count": 19,
     "metadata": {},
     "output_type": "execute_result"
    }
   ],
   "source": [
    "len(news_list)"
   ]
  },
  {
   "cell_type": "code",
   "execution_count": 20,
   "metadata": {},
   "outputs": [
    {
     "data": {
      "text/plain": [
       "[[\" '운전석이 사무실로'…CES에 등장한 미래차\",\n",
       "  'https://n.news.naver.com/mnews/article/422/0000638893?sid=105'],\n",
       " [' NS홈쇼핑에 양세형 뜬다…뼈없는 갈비탕 출시',\n",
       "  'https://n.news.naver.com/mnews/article/092/0002317707?sid=105'],\n",
       " [' 이노스TV, Full HD 장착 스마트TV 2종 출시…최대 50% 할인',\n",
       "  'https://n.news.naver.com/mnews/article/468/0001020194?sid=105'],\n",
       " [\" 'CES 2024 광주공동관 개관'…강기정 시장 온라인 참석\",\n",
       "  'https://n.news.naver.com/mnews/article/421/0007283026?sid=105'],\n",
       " [' 이재용, 새해 첫 현장경영 ‘6G’···“기업·국가 경쟁력 좌우”',\n",
       "  'https://n.news.naver.com/mnews/article/032/0003272643?sid=105'],\n",
       " [' 브라이언임팩트, 연말까지 카카오 주식 전량 처분한다',\n",
       "  'https://n.news.naver.com/mnews/article/293/0000050468?sid=105'],\n",
       " [' 20 큐비트급 양자컴퓨터 시연',\n",
       "  'https://n.news.naver.com/mnews/article/001/0014437083?sid=105'],\n",
       " [' 20 큐비트급 양자컴퓨터 시연',\n",
       "  'https://n.news.naver.com/mnews/article/001/0014437082?sid=105'],\n",
       " [' 20 큐비트급 양자컴퓨터 시연',\n",
       "  'https://n.news.naver.com/mnews/article/001/0014437081?sid=105'],\n",
       " [\" 양자컴퓨터의 CPU 'QPU'\",\n",
       "  'https://n.news.naver.com/mnews/article/001/0014437080?sid=105'],\n",
       " [' 이재용 회장, “더 과감하게, 더 치열하게”…6G 통신 기술 개발에 ‘초격차 리더십’ 강조',\n",
       "  'https://n.news.naver.com/mnews/article/468/0001020192?sid=105'],\n",
       " [' \"정유사 SAF 생산 근거 마련됐다\"...상용화 핵심은 경제성·수요 확대',\n",
       "  'https://n.news.naver.com/mnews/article/092/0002317705?sid=105'],\n",
       " [' 펄어비스, CES에서 붉은사막 영상 시연',\n",
       "  'https://n.news.naver.com/mnews/article/011/0004285268?sid=105'],\n",
       " [' 올해 양자기술개발에 1285억원 투입…2년 뒤 50큐비트급 양자컴 구축',\n",
       "  'https://n.news.naver.com/mnews/article/138/0002164641?sid=105'],\n",
       " [' [CES 2024] 전성호 솔루엠 대표 \"다재다능 제조역량 갖췄다\"…스마트시티 청사진 \\'활짝\\'',\n",
       "  'https://n.news.naver.com/mnews/article/138/0002164640?sid=105'],\n",
       " [' [CES 2024] 김관영 지사, 전북 공동관서 적극적 기업활동 당부',\n",
       "  'https://n.news.naver.com/mnews/article/001/0014437038?sid=105'],\n",
       " [\" 콘진원 지원 9개 콘텐츠기업 'CES 혁신상' 수상\",\n",
       "  'https://n.news.naver.com/mnews/article/008/0004984564?sid=105'],\n",
       " [' 2023년 금융권 가계대출 규모, 전년比 10조1천억원 ↑',\n",
       "  'https://n.news.naver.com/mnews/article/092/0002317704?sid=105'],\n",
       " [' 이재용 회장, “새 기술 확보에 미래 달려있다”',\n",
       "  'https://n.news.naver.com/mnews/article/082/0001250597?sid=105'],\n",
       " [' 한수원, 19.8MW 규모 첫 연료전지 발전소 ‘포항 에너지 파크’ 준공',\n",
       "  'https://n.news.naver.com/mnews/article/092/0002317702?sid=105'],\n",
       " [' 포티투닷, 삼성 반도체로 AI 기반 SDV 플랫폼 만든다',\n",
       "  'https://n.news.naver.com/mnews/article/079/0003851752?sid=105'],\n",
       " [' AI 바우처, 공급기업은 급증했는데 예산은 반토막',\n",
       "  'https://n.news.naver.com/mnews/article/030/0003172530?sid=105'],\n",
       " [\" 효성인포, 차세대 HCI 솔루션 'UCP 3세대'로 멀티·하이브리드 클라우드 시장 주도권 쥔다\",\n",
       "  'https://n.news.naver.com/mnews/article/030/0003172529?sid=105'],\n",
       " [' [1분 건강] ‘고도근시’ 5명 중 3명 20세 미만…40분 간격으로 눈 쉬게 해줘야',\n",
       "  'https://n.news.naver.com/mnews/article/092/0002317701?sid=105'],\n",
       " [' 자율주행차는 노다지...가속페달 밟는 글로벌 팹리스 공룡들',\n",
       "  'https://n.news.naver.com/mnews/article/092/0002317700?sid=105'],\n",
       " [' [사진뉴스]ETRI-핀란드 오울루대, 6G 기술협력 `맞손`',\n",
       "  'https://n.news.naver.com/mnews/article/029/0002848674?sid=105'],\n",
       " [' NHN두레이, 올해도 공공기관에 민간 SaaS 확산 앞장',\n",
       "  'https://n.news.naver.com/mnews/article/030/0003172527?sid=105'],\n",
       " [' “안경 쓰면 촌스럽대요” 요즘 다 렌즈 낀다는데…심각한 부작용, 또 나왔다',\n",
       "  'https://n.news.naver.com/mnews/article/016/0002250488?sid=105'],\n",
       " [' 숙소 예약 파인스테이스, 월 거래액 5억원 돌파…1년 전보다 1032% 성장',\n",
       "  'https://n.news.naver.com/mnews/article/015/0004935350?sid=105'],\n",
       " [' 법무법인 세종,  ‘AI·데이터 정책센터’ 발족',\n",
       "  'https://n.news.naver.com/mnews/article/025/0003334239?sid=105'],\n",
       " [' 폭스, 블록체인 플랫폼 출시…AI회사와 저작권협상 지렛대 기대',\n",
       "  'https://n.news.naver.com/mnews/article/001/0014436990?sid=105'],\n",
       " [' \"클라우드 전문가, 또 떠난다\"…카카오엔터프라이즈 임원 삼성으로 이직',\n",
       "  'https://n.news.naver.com/mnews/article/421/0007282927?sid=105'],\n",
       " [' [제약소식] 암젠코리아-서울시립과학관, ‘GROW UP, BIO UP 시즌 3’ 성료',\n",
       "  'https://n.news.naver.com/mnews/article/092/0002317699?sid=105'],\n",
       " [' 경북 기업 세계 무대서 통했다…최고혁신상 2곳 배출',\n",
       "  'https://n.news.naver.com/mnews/article/001/0014436973?sid=105'],\n",
       " [' 미드바르·플로우스튜디오, CES 2024서 최고혁신상 기업 선정',\n",
       "  'https://n.news.naver.com/mnews/article/001/0014436972?sid=105'],\n",
       " [\" [CES 2024] 'K헬스케어로봇' 내세운 바디프랜드…CES 혁신상 수상\",\n",
       "  'https://n.news.naver.com/mnews/article/138/0002164635?sid=105'],\n",
       " [' 경북 기업 세계 무대서 통했다…최고혁신상 2곳 배출',\n",
       "  'https://n.news.naver.com/mnews/article/001/0014436960?sid=105'],\n",
       " [' 한전KPS, 제18대 이성규 상임감사 취임',\n",
       "  'https://n.news.naver.com/mnews/article/092/0002317698?sid=105'],\n",
       " [' [CES 2024] E-코너 시스템 탑재된 자동차',\n",
       "  'https://n.news.naver.com/mnews/article/030/0003172525?sid=105'],\n",
       " [\" 경북 기업 세계 무대서 통했다…'CES 2024'에서 최고혁신상 2곳 배출\",\n",
       "  'https://n.news.naver.com/mnews/article/001/0014436948?sid=105']]"
      ]
     },
     "execution_count": 20,
     "metadata": {},
     "output_type": "execute_result"
    }
   ],
   "source": [
    "news_list"
   ]
  },
  {
   "cell_type": "code",
   "execution_count": 12,
   "metadata": {},
   "outputs": [],
   "source": []
  }
 ],
 "metadata": {
  "kernelspec": {
   "display_name": "study-env",
   "language": "python",
   "name": "python3"
  },
  "language_info": {
   "codemirror_mode": {
    "name": "ipython",
    "version": 3
   },
   "file_extension": ".py",
   "mimetype": "text/x-python",
   "name": "python",
   "nbconvert_exporter": "python",
   "pygments_lexer": "ipython3",
   "version": "3.9.18"
  }
 },
 "nbformat": 4,
 "nbformat_minor": 2
}
