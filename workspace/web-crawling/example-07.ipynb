{
 "cells": [
  {
   "cell_type": "code",
   "execution_count": null,
   "metadata": {},
   "outputs": [],
   "source": [
    "# !pip install selenium"
   ]
  },
  {
   "cell_type": "code",
   "execution_count": 1,
   "metadata": {},
   "outputs": [],
   "source": [
    "from selenium.webdriver import Chrome\n",
    "from selenium.webdriver.common.by import By"
   ]
  },
  {
   "cell_type": "code",
   "execution_count": 4,
   "metadata": {},
   "outputs": [],
   "source": [
    "browser_proxy = Chrome() # (크롬)브라우저 실행"
   ]
  },
  {
   "cell_type": "code",
   "execution_count": 2,
   "metadata": {},
   "outputs": [
    {
     "ename": "NameError",
     "evalue": "name 'browser_proxy' is not defined",
     "output_type": "error",
     "traceback": [
      "\u001b[1;31m---------------------------------------------------------------------------\u001b[0m",
      "\u001b[1;31mNameError\u001b[0m                                 Traceback (most recent call last)",
      "Cell \u001b[1;32mIn[2], line 1\u001b[0m\n\u001b[1;32m----> 1\u001b[0m \u001b[43mbrowser_proxy\u001b[49m\u001b[38;5;241m.\u001b[39mclose() \u001b[38;5;66;03m# 브라우저 종료\u001b[39;00m\n",
      "\u001b[1;31mNameError\u001b[0m: name 'browser_proxy' is not defined"
     ]
    }
   ],
   "source": [
    "browser_proxy.close() # 브라우저 종료"
   ]
  },
  {
   "cell_type": "code",
   "execution_count": 6,
   "metadata": {},
   "outputs": [],
   "source": [
    "browser = Chrome()"
   ]
  },
  {
   "cell_type": "code",
   "execution_count": 7,
   "metadata": {},
   "outputs": [],
   "source": [
    "\n",
    "browser.get(\"http://www.python.org\")\n"
   ]
  },
  {
   "cell_type": "code",
   "execution_count": 8,
   "metadata": {},
   "outputs": [],
   "source": [
    "menus = browser.find_elements(By.CSS_SELECTOR, '#top ul.menu li')"
   ]
  },
  {
   "cell_type": "code",
   "execution_count": 9,
   "metadata": {},
   "outputs": [
    {
     "data": {
      "text/plain": [
       "[<selenium.webdriver.remote.webelement.WebElement (session=\"cef736554bebaa9127b7558c959bde86\", element=\"7B5AD73ABD5A17F23BEDEEC9A14EBABB_element_1084\")>,\n",
       " <selenium.webdriver.remote.webelement.WebElement (session=\"cef736554bebaa9127b7558c959bde86\", element=\"7B5AD73ABD5A17F23BEDEEC9A14EBABB_element_39\")>,\n",
       " <selenium.webdriver.remote.webelement.WebElement (session=\"cef736554bebaa9127b7558c959bde86\", element=\"7B5AD73ABD5A17F23BEDEEC9A14EBABB_element_42\")>,\n",
       " <selenium.webdriver.remote.webelement.WebElement (session=\"cef736554bebaa9127b7558c959bde86\", element=\"7B5AD73ABD5A17F23BEDEEC9A14EBABB_element_45\")>,\n",
       " <selenium.webdriver.remote.webelement.WebElement (session=\"cef736554bebaa9127b7558c959bde86\", element=\"7B5AD73ABD5A17F23BEDEEC9A14EBABB_element_49\")>,\n",
       " <selenium.webdriver.remote.webelement.WebElement (session=\"cef736554bebaa9127b7558c959bde86\", element=\"7B5AD73ABD5A17F23BEDEEC9A14EBABB_element_52\")>]"
      ]
     },
     "execution_count": 9,
     "metadata": {},
     "output_type": "execute_result"
    }
   ],
   "source": [
    "menus"
   ]
  },
  {
   "cell_type": "code",
   "execution_count": 10,
   "metadata": {},
   "outputs": [
    {
     "name": "stdout",
     "output_type": "stream",
     "text": [
      "Python\n",
      "PSF\n",
      "Docs\n",
      "PyPI\n",
      "Jobs\n",
      "Community\n"
     ]
    }
   ],
   "source": [
    "pypi = None\n",
    "for m in menus:\n",
    "    print(m.text)\n",
    "    if m.text == \"PyPI\":\n",
    "        pypi = m"
   ]
  },
  {
   "cell_type": "code",
   "execution_count": 11,
   "metadata": {},
   "outputs": [
    {
     "data": {
      "text/plain": [
       "<selenium.webdriver.remote.webelement.WebElement (session=\"cef736554bebaa9127b7558c959bde86\", element=\"7B5AD73ABD5A17F23BEDEEC9A14EBABB_element_45\")>"
      ]
     },
     "execution_count": 11,
     "metadata": {},
     "output_type": "execute_result"
    }
   ],
   "source": [
    "pypi"
   ]
  },
  {
   "cell_type": "code",
   "execution_count": 12,
   "metadata": {},
   "outputs": [],
   "source": [
    "pypi.click()"
   ]
  },
  {
   "cell_type": "code",
   "execution_count": 1,
   "metadata": {},
   "outputs": [
    {
     "ename": "NameError",
     "evalue": "name 'browser' is not defined",
     "output_type": "error",
     "traceback": [
      "\u001b[1;31m---------------------------------------------------------------------------\u001b[0m",
      "\u001b[1;31mNameError\u001b[0m                                 Traceback (most recent call last)",
      "Cell \u001b[1;32mIn[1], line 1\u001b[0m\n\u001b[1;32m----> 1\u001b[0m \u001b[43mbrowser\u001b[49m\u001b[38;5;241m.\u001b[39mclose()\n",
      "\u001b[1;31mNameError\u001b[0m: name 'browser' is not defined"
     ]
    }
   ],
   "source": [
    "\n",
    "browser.close()"
   ]
  }
 ],
 "metadata": {
  "kernelspec": {
   "display_name": "study-env",
   "language": "python",
   "name": "python3"
  },
  "language_info": {
   "codemirror_mode": {
    "name": "ipython",
    "version": 3
   },
   "file_extension": ".py",
   "mimetype": "text/x-python",
   "name": "python",
   "nbconvert_exporter": "python",
   "pygments_lexer": "ipython3",
   "version": "3.9.18"
  }
 },
 "nbformat": 4,
 "nbformat_minor": 2
}
