{
 "cells": [
  {
   "cell_type": "code",
   "execution_count": null,
   "metadata": {},
   "outputs": [],
   "source": [
    "# !pip install beautifulsoup4"
   ]
  },
  {
   "cell_type": "code",
   "execution_count": 1,
   "metadata": {},
   "outputs": [],
   "source": [
    "import numpy as np\n",
    "import pandas as pd\n",
    "import requests \n",
    "from bs4 import BeautifulSoup"
   ]
  },
  {
   "cell_type": "code",
   "execution_count": 4,
   "metadata": {},
   "outputs": [],
   "source": [
    "response = requests.get(\"https://developer.apple.com/\")\n",
    "html = response.text\n",
    "html = html.replace(\"\\n\", \"\").replace(\"\\t\", \"\")"
   ]
  },
  {
   "cell_type": "code",
   "execution_count": 5,
   "metadata": {},
   "outputs": [],
   "source": [
    "soup = BeautifulSoup(html, \"html.parser\")"
   ]
  },
  {
   "cell_type": "code",
   "execution_count": 12,
   "metadata": {},
   "outputs": [
    {
     "data": {
      "text/plain": [
       "['main']"
      ]
     },
     "execution_count": 12,
     "metadata": {},
     "output_type": "execute_result"
    }
   ],
   "source": [
    "soup.title\n",
    "soup.title.name\n",
    "soup.title.string\n",
    "soup.title.parent\n",
    "soup.main\n",
    "soup.main['class']"
   ]
  },
  {
   "cell_type": "code",
   "execution_count": 18,
   "metadata": {},
   "outputs": [],
   "source": [
    "elements = soup.select(\"#home > main > section.homepage-section.section-heroes > ul > li > div > div > div.unit-copy-wrapper > h4\")"
   ]
  },
  {
   "cell_type": "code",
   "execution_count": 19,
   "metadata": {},
   "outputs": [
    {
     "data": {
      "text/plain": [
       "'Ready, set, submit.'"
      ]
     },
     "execution_count": 19,
     "metadata": {},
     "output_type": "execute_result"
    }
   ],
   "source": [
    "elements[0].text"
   ]
  },
  {
   "cell_type": "code",
   "execution_count": null,
   "metadata": {},
   "outputs": [],
   "source": []
  },
  {
   "cell_type": "code",
   "execution_count": 20,
   "metadata": {},
   "outputs": [],
   "source": [
    "url = \"https://news.naver.com/main/list.naver\"\n",
    "params = { \"mode\": \"LS2D\", \"mid\": \"shm\", \"sid1\": \"105\", \"sid2\": \"230\" }\n",
    "\n",
    "response = requests.get(url, params=params)"
   ]
  },
  {
   "cell_type": "code",
   "execution_count": 41,
   "metadata": {},
   "outputs": [],
   "source": [
    "response\n",
    "response.text\n",
    "html = response.text#.replace(\"\\n\", \"\").replace(\"\\t\", \"\")\n",
    "html = response.text.replace(\"\\n\", \"\").replace(\"\\t\", \"\")"
   ]
  },
  {
   "cell_type": "code",
   "execution_count": 42,
   "metadata": {},
   "outputs": [],
   "source": [
    "soup = BeautifulSoup(html, \"html.parser\")"
   ]
  },
  {
   "cell_type": "code",
   "execution_count": 43,
   "metadata": {},
   "outputs": [],
   "source": [
    "li_list = soup.select(\"#main_content ul li\")"
   ]
  },
  {
   "cell_type": "code",
   "execution_count": 44,
   "metadata": {},
   "outputs": [
    {
     "data": {
      "text/plain": [
       "20"
      ]
     },
     "execution_count": 44,
     "metadata": {},
     "output_type": "execute_result"
    }
   ],
   "source": [
    "len(li_list)"
   ]
  },
  {
   "cell_type": "code",
   "execution_count": 45,
   "metadata": {},
   "outputs": [
    {
     "name": "stdout",
     "output_type": "stream",
     "text": [
      "0 \n",
      "1 [CES 2024] 소니, ‘기술을 통해 창의력 강화’…미래 선도 기술 공개\n",
      "2 소니(대표 요시다 켄이치로)는 9일부터 12일(현지시간)까지 미국 라스베이거스에서 열리는 CES 2024에서 ‘기술을 통해 창의 …디지털데일리1분전\n",
      "==================================================\n",
      "0 \n",
      "1 李대표 피습 치료 문제삼는 의사단체 주장 언제까지\n",
      "2 이재명 더불어민주당 대표 피습 사건 이후 치료 과정을 문제 삼는 의사단체의 갑론을박이 이어지고 있다. 민주당은 이들이 테러라는  …지디넷코리아1분전\n",
      "==================================================\n",
      "0 \n",
      "1 제조업의 디지털 전환 돕는 스타트업 연대 '산업 스타트업 유니버스' 출범\n",
      "2 국내 신생기업(스타트업)들이 제조업의 디지털 혁신을 이끌어 내기 위한 모임을 결성했다. 스타트업 리얼라이저블은 9일 제조업의 디 …한국일보3분전\n",
      "==================================================\n",
      "0 \n",
      "1 오픈AI, 소송건 뉴욕타임스에 반박...\"소송 실익 없을 것\"\n",
      "2 언론사 vs AI기업 갈등 심화되나…오픈AI, NYT 소송에 공개 반박 챗GPT로 생성형AI(인공지능) 열풍을 일으킨 주역과 1 …디지털타임스4분전\n",
      "==================================================\n",
      "0 \n",
      "1 '친정복귀' 장민 KT CFO…'비서실=곳간지기' 공식은 여전 [어바웃 C]\n",
      "2 장민 KT 최고재무책임자(CFO)가 KT를 떠난 지 약 4년만에 친정으로 복귀했다. 최근 KT의 CFO에는 비서실 2담당 출신들 …블로터8분전\n",
      "==================================================\n",
      "0 \n",
      "1 크래프톤, 배틀그라운드-배틀그라운드 모바일 2023년 해외 이용자 선호 K게임 1위\n",
      "2 크래프톤(대표 김창한)은 PC 배틀로얄 게임 플레이어언노운스 배틀그라운드(배틀그라운드)와 배틀그라운드 모바일이 2023년 해외  …지디넷코리아9분전\n",
      "==================================================\n",
      "0 \n",
      "1 엔비디아·인텔·AMD, AI PC 시대 '맞춤형 반도체' 대거 공개 [CES 2024]\n",
      "2 인공지능(AI) 생태계의 기틀인 반도체 업체들이 CES 2024에서 신형 그래픽처리장치(GPU)와 중앙처리장치(CPU)를 잇따라 …서울경제12분전\n",
      "==================================================\n",
      "0 \n",
      "1 상품을 더욱 돋보이게 만드는 LG디스플레이의 기술\n",
      "2 세계 최대 가전·정보기술(IT) 전시회 'CES 2024' 개막을 하루 앞둔 8일(현지시간) 미국 네바다주 라스베이거스 컨벤션센 …서울경제14분전\n",
      "==================================================\n",
      "0 \n",
      "1 주영창 본부장, 전문가들과 내년 정부 R&D 투자 전략 논의\n",
      "2 주영창 과학기술정보통신부 과학기술혁신본부장이 9일 국가과학기술자문회의 중회의실에서 투자혁신자문단 1차 회의를 열고, 산·학·연  …이데일리14분전\n",
      "==================================================\n",
      "0 \n",
      "1 [영상] 세계 최초의 투명 TV 만들어버린 LG전자…실물 공개 현장 보니[CES 2024]\n",
      "2 LG전자가 CES 2024에서 세계 최초의 투명 무선 OLED TV인 ‘LG 시그니처 올레드 T’를 공개했다. 8일(현지시간)  …서울경제14분전\n",
      "==================================================\n",
      "0 \n",
      "1 차백신연구소, 설하투여형 코로나19 백신 유효성 확인\n",
      "2 차백신연구소(261780)는 재단법인 국제보건기술연구기금(이하 라이트재단)의 지원을 받아 진행한 연구에서 설하투여형 코로나19  …지디넷코리아14분전\n",
      "==================================================\n",
      "0 \n",
      "1 웹젠, 뮤오리진3에 신규 육성 콘텐츠 업데이트\n",
      "2 웹젠(대표 김태영)이 모바일 MMORPG 뮤오리진3에 신규 육성 콘텐츠 업데이트를 진행한다고 9일 밝혔다. 이번 업데이트를 통해 …지디넷코리아15분전\n",
      "==================================================\n",
      "0 \n",
      "1 한방 난임치료비 국가가 지원법 국회 본회의 통과\n",
      "2 한방 난임 치료비를 국가가 지원하는 내용의 모자보건법 법률안 대안이 9일 국회 본회의를 통과했다. 시행일은 공포 후 6개월이 경 …지디넷코리아15분전\n",
      "==================================================\n",
      "0 \n",
      "1 챗GPT 실력이면 하버드 합격?…AI가 쓴 대입 에세이 읽어보니\n",
      "2 입학사정관 출신 전문가 \"진부하고 막연해 읽다가 짜증…도움 안 될 것\" \"사람 글쓰기 흉내는 잘 내지만, 독창성 없고 반복적\"  …연합뉴스16분전\n",
      "==================================================\n",
      "0 \n",
      "1 한류인재 키우는 슈퍼앱…티맥스, 메타버스 캠퍼스 사업 본격화\n",
      "2 티맥스, 가상캠퍼스 사업 본격화 업계 첫 ‘학위 인정’ 가상캠퍼스 “향후 글로벌 시장 확장 목표” 티맥스그룹 메타버스 사업이 가 …매일경제16분전\n",
      "==================================================\n",
      "0 \n",
      "1 ‘LG 시그니처 올레드 T’ 미디어아트로 CES 관람객 맞는 LG\n",
      "2 세계 최대 가전·정보기술(IT) 전시회 'CES 2024' 개막을 하루 앞둔 8일(현지시간) 미국 네바다주 라스베이거스 컨벤션센 …서울경제18분전\n",
      "==================================================\n",
      "0 \n",
      "1 펄어비스, CES2024 삼성D 부스에 검은사막-붉은사막 영상 시연\n",
      "2 펄어비스(대표 허진영)는 9일(현지 시간)부터 미국 라스베이거스에서 열리는 ‘CES 2024’에서 ‘검은사막’과 ‘붉은사막’ 영 …지디넷코리아18분전\n",
      "==================================================\n",
      "0 \n",
      "1 긴축 완화 기대↑…신평업계 \"은행 이자 마진 악화\" 전망\n",
      "2 한국은행과 미국 연방준비제도의 통화긴축 완화에 대한 기대감이 높아지고 있다. 신용평가업계에선 높은 여신금리로 영업이익을 늘려왔던 …지디넷코리아18분전\n",
      "==================================================\n",
      "0 \n",
      "1 경제계 “화평법·화관법 개정안 통과 환영”\n",
      "2 국회 본회의에서 9일 화평법·화관법 개정안이 통과되자 경제계가 일제히 환영했다. 한국경영자총협회, 대한상공회의소, 한국경제인협회 …전자신문19분전\n",
      "==================================================\n",
      "0 \n",
      "1 고용량 아일리아 '미→EU'도 승인. 바이오시밀러 업계 '먹구름'\n",
      "2 글로벌 안과질환 치료제 ‘아일리아 고용량 버전’(아일리아 8㎎ 혹은 아일리아HD)이 미국에 이어 유럽 연합(EU)에도 본격 진출 …이데일리20분전\n",
      "==================================================\n"
     ]
    }
   ],
   "source": [
    "# for li in li_list:\n",
    "for li in li_list: # enumerate : 반복 횟수를 저장하는 변수도 같이 반환\n",
    "    dl = li.select_one(\"dl\")\n",
    "    for idx, child in enumerate(dl.children):\n",
    "        print(idx, child.text.strip())\n",
    "    print(\"=\"*50)"
   ]
  },
  {
   "cell_type": "code",
   "execution_count": 52,
   "metadata": {},
   "outputs": [],
   "source": [
    "news_list = []\n",
    "\n",
    "for li in li_list:\n",
    "    dl = li.select_one(\"dl\")\n",
    "    # children = dl.children\n",
    "    children = list(dl.children)\n",
    "    news_list.append( (children[1].text, children[2].text) )\n"
   ]
  },
  {
   "cell_type": "code",
   "execution_count": 53,
   "metadata": {},
   "outputs": [
    {
     "data": {
      "text/plain": [
       "[(' [CES 2024] 소니, ‘기술을 통해 창의력 강화’…미래 선도 기술 공개',\n",
       "  '소니(대표 요시다 켄이치로)는 9일부터 12일(현지시간)까지 미국 라스베이거스에서 열리는 CES 2024에서 ‘기술을 통해 창의 …디지털데일리1분전'),\n",
       " (' 李대표 피습 치료 문제삼는 의사단체 주장 언제까지',\n",
       "  '이재명 더불어민주당 대표 피습 사건 이후 치료 과정을 문제 삼는 의사단체의 갑론을박이 이어지고 있다. 민주당은 이들이 테러라는  …지디넷코리아1분전'),\n",
       " (\" 제조업의 디지털 전환 돕는 스타트업 연대 '산업 스타트업 유니버스' 출범\",\n",
       "  '국내 신생기업(스타트업)들이 제조업의 디지털 혁신을 이끌어 내기 위한 모임을 결성했다. 스타트업 리얼라이저블은 9일 제조업의 디 …한국일보3분전'),\n",
       " (' 오픈AI, 소송건 뉴욕타임스에 반박...\"소송 실익 없을 것\"',\n",
       "  '언론사 vs AI기업 갈등 심화되나…오픈AI, NYT 소송에 공개 반박 챗GPT로 생성형AI(인공지능) 열풍을 일으킨 주역과 1 …디지털타임스4분전'),\n",
       " (\" '친정복귀' 장민 KT CFO…'비서실=곳간지기' 공식은 여전 [어바웃 C]\",\n",
       "  '장민 KT 최고재무책임자(CFO)가 KT를 떠난 지 약 4년만에 친정으로 복귀했다. 최근 KT의 CFO에는 비서실 2담당 출신들 …블로터8분전'),\n",
       " (' 크래프톤, 배틀그라운드-배틀그라운드 모바일 2023년 해외 이용자 선호 K게임 1위',\n",
       "  '크래프톤(대표 김창한)은 PC 배틀로얄 게임 플레이어언노운스 배틀그라운드(배틀그라운드)와 배틀그라운드 모바일이 2023년 해외  …지디넷코리아9분전'),\n",
       " (\" 엔비디아·인텔·AMD, AI PC 시대 '맞춤형 반도체' 대거 공개 [CES 2024]\",\n",
       "  '인공지능(AI) 생태계의 기틀인 반도체 업체들이 CES 2024에서 신형 그래픽처리장치(GPU)와 중앙처리장치(CPU)를 잇따라 …서울경제12분전'),\n",
       " (' 상품을 더욱 돋보이게 만드는 LG디스플레이의 기술',\n",
       "  \"세계 최대 가전·정보기술(IT) 전시회 'CES 2024' 개막을 하루 앞둔 8일(현지시간) 미국 네바다주 라스베이거스 컨벤션센 …서울경제14분전\"),\n",
       " (' 주영창 본부장, 전문가들과 내년 정부 R&D 투자 전략 논의',\n",
       "  '주영창 과학기술정보통신부 과학기술혁신본부장이 9일 국가과학기술자문회의 중회의실에서 투자혁신자문단 1차 회의를 열고, 산·학·연  …이데일리14분전'),\n",
       " (' [영상] 세계 최초의 투명 TV 만들어버린 LG전자…실물 공개 현장 보니[CES 2024]',\n",
       "  'LG전자가 CES 2024에서 세계 최초의 투명 무선 OLED TV인 ‘LG 시그니처 올레드 T’를 공개했다. 8일(현지시간)  …서울경제14분전'),\n",
       " (' 차백신연구소, 설하투여형 코로나19 백신 유효성 확인',\n",
       "  '차백신연구소(261780)는 재단법인 국제보건기술연구기금(이하 라이트재단)의 지원을 받아 진행한 연구에서 설하투여형 코로나19  …지디넷코리아14분전'),\n",
       " (' 웹젠, 뮤오리진3에 신규 육성 콘텐츠 업데이트',\n",
       "  '웹젠(대표 김태영)이 모바일 MMORPG 뮤오리진3에 신규 육성 콘텐츠 업데이트를 진행한다고 9일 밝혔다. 이번 업데이트를 통해 …지디넷코리아15분전'),\n",
       " (' 한방 난임치료비 국가가 지원법 국회 본회의 통과',\n",
       "  '한방 난임 치료비를 국가가 지원하는 내용의 모자보건법 법률안 대안이 9일 국회 본회의를 통과했다. 시행일은 공포 후 6개월이 경 …지디넷코리아15분전'),\n",
       " (' 챗GPT 실력이면 하버드 합격?…AI가 쓴 대입 에세이 읽어보니',\n",
       "  '입학사정관 출신 전문가 \"진부하고 막연해 읽다가 짜증…도움 안 될 것\" \"사람 글쓰기 흉내는 잘 내지만, 독창성 없고 반복적\"  …연합뉴스16분전'),\n",
       " (' 한류인재 키우는 슈퍼앱…티맥스, 메타버스 캠퍼스 사업 본격화',\n",
       "  '티맥스, 가상캠퍼스 사업 본격화 업계 첫 ‘학위 인정’ 가상캠퍼스 “향후 글로벌 시장 확장 목표” 티맥스그룹 메타버스 사업이 가 …매일경제16분전'),\n",
       " (' ‘LG 시그니처 올레드 T’ 미디어아트로 CES 관람객 맞는 LG',\n",
       "  \"세계 최대 가전·정보기술(IT) 전시회 'CES 2024' 개막을 하루 앞둔 8일(현지시간) 미국 네바다주 라스베이거스 컨벤션센 …서울경제18분전\"),\n",
       " (' 펄어비스, CES2024 삼성D 부스에 검은사막-붉은사막 영상 시연',\n",
       "  '펄어비스(대표 허진영)는 9일(현지 시간)부터 미국 라스베이거스에서 열리는 ‘CES 2024’에서 ‘검은사막’과 ‘붉은사막’ 영 …지디넷코리아18분전'),\n",
       " (' 긴축 완화 기대↑…신평업계 \"은행 이자 마진 악화\" 전망',\n",
       "  '한국은행과 미국 연방준비제도의 통화긴축 완화에 대한 기대감이 높아지고 있다. 신용평가업계에선 높은 여신금리로 영업이익을 늘려왔던 …지디넷코리아18분전'),\n",
       " (' 경제계 “화평법·화관법 개정안 통과 환영”',\n",
       "  '국회 본회의에서 9일 화평법·화관법 개정안이 통과되자 경제계가 일제히 환영했다. 한국경영자총협회, 대한상공회의소, 한국경제인협회 …전자신문19분전'),\n",
       " (\" 고용량 아일리아 '미→EU'도 승인. 바이오시밀러 업계 '먹구름'\",\n",
       "  '글로벌 안과질환 치료제 ‘아일리아 고용량 버전’(아일리아 8㎎ 혹은 아일리아HD)이 미국에 이어 유럽 연합(EU)에도 본격 진출 …이데일리20분전')]"
      ]
     },
     "execution_count": 53,
     "metadata": {},
     "output_type": "execute_result"
    }
   ],
   "source": [
    "news_list"
   ]
  },
  {
   "cell_type": "code",
   "execution_count": 51,
   "metadata": {},
   "outputs": [
    {
     "ename": "TypeError",
     "evalue": "'map' object is not subscriptable",
     "output_type": "error",
     "traceback": [
      "\u001b[1;31m---------------------------------------------------------------------------\u001b[0m",
      "\u001b[1;31mTypeError\u001b[0m                                 Traceback (most recent call last)",
      "Cell \u001b[1;32mIn[51], line 3\u001b[0m\n\u001b[0;32m      1\u001b[0m npr \u001b[38;5;241m=\u001b[39m np\u001b[38;5;241m.\u001b[39marange(\u001b[38;5;241m10\u001b[39m)\n\u001b[0;32m      2\u001b[0m multiply10 \u001b[38;5;241m=\u001b[39m \u001b[38;5;28mmap\u001b[39m(\u001b[38;5;28;01mlambda\u001b[39;00m v: v \u001b[38;5;241m*\u001b[39m \u001b[38;5;241m10\u001b[39m, npr)\n\u001b[1;32m----> 3\u001b[0m \u001b[43mmultiply10\u001b[49m\u001b[43m[\u001b[49m\u001b[38;5;241;43m0\u001b[39;49m\u001b[43m]\u001b[49m\n\u001b[0;32m      4\u001b[0m \u001b[38;5;66;03m# for v in multiply10:\u001b[39;00m\n\u001b[0;32m      5\u001b[0m \u001b[38;5;66;03m#     print(v)\u001b[39;00m\n",
      "\u001b[1;31mTypeError\u001b[0m: 'map' object is not subscriptable"
     ]
    }
   ],
   "source": [
    "npr = np.arange(10)\n",
    "multiply10 = map(lambda v: v * 10, npr)\n",
    "multiply10[0]\n",
    "# for v in multiply10:\n",
    "#     print(v)\n"
   ]
  },
  {
   "cell_type": "code",
   "execution_count": 2,
   "metadata": {},
   "outputs": [],
   "source": [
    "header_info = {\n",
    "    \"User-Agent\": \"Mozilla/5.0 (Windows NT 10.0; Win64; x64) AppleWebKit/537.36 (KHTML, like Gecko) Chrome/120.0.0.0 Whale/3.24.223.18 Safari/537.36\"\n",
    "}\n",
    "resp = requests.get(\"https://www.kyobobook.co.kr/\", headers=header_info)\n",
    "html = resp.text.replace(\"\\n\", \"\").replace(\"\\t\", \"\")"
   ]
  },
  {
   "cell_type": "code",
   "execution_count": 3,
   "metadata": {},
   "outputs": [],
   "source": [
    "soup = BeautifulSoup(html, \"html.parser\")"
   ]
  },
  {
   "cell_type": "code",
   "execution_count": 4,
   "metadata": {},
   "outputs": [
    {
     "data": {
      "text/plain": [
       "[]"
      ]
     },
     "execution_count": 4,
     "metadata": {},
     "output_type": "execute_result"
    }
   ],
   "source": [
    "li_list = soup.select(\"#welcome_flexibilization1 ul li\")\n",
    "li_list"
   ]
  },
  {
   "cell_type": "code",
   "execution_count": 5,
   "metadata": {},
   "outputs": [],
   "source": [
    "header_info = {\n",
    "    \"User-Agent\": \"Mozilla/5.0 (Windows NT 10.0; Win64; x64) AppleWebKit/537.36 (KHTML, like Gecko) Chrome/120.0.0.0 Whale/3.24.223.18 Safari/537.36\"\n",
    "}\n",
    "url = \"https://www.kyobobook.co.kr/api/welcome/getHtml?name=welcomeFlex1&id=welcome_flexibilization1&url=https%3A%2F%2Fcontents.kyobobook.co.kr%2Fdisplay%2Fpc%2Fwelcome_flexibilization1.html\"\n",
    "response = requests.get(url, headers=header_info)"
   ]
  },
  {
   "cell_type": "code",
   "execution_count": 6,
   "metadata": {},
   "outputs": [
    {
     "data": {
      "text/plain": [
       "'{\"name\":\"welcomeFlex1\",\"html\":\"<div class=\\\\\"welcome_main_content_area\\\\\" id=\\\\\"welcome_flexibilization1\\\\\"> \\\\n <div class=\\\\\"contents_inner\\\\\"> \\\\n  <div class=\\\\\"title_wrap title_size_xxl\\\\\"> \\\\n   <h2 class=\\\\\"title_heading\\\\\">급상승! 많이 보고 있는 상품</h2> \\\\n  </div> \\\\n  <div class=\\\\\"fluid_swiper_wrap outside_nav\\\\\"> \\\\n   <div class=\\\\\"swiper-container\\\\\" data-col=\\\\\"4\\\\\"> \\\\n    <ul class=\\\\\"swiper-wrapper\\\\\"> \\\\n     <li class=\\\\\"swiper-slide\\\\\"> \\\\n      <div class=\\\\\"prod_area\\\\\"> \\\\n       <div class=\\\\\"prod_thumb_box\\\\\"> <a href=\\\\\"https://product.kyobobook.co.kr/detail/S000211815724\\\\\" class=\\\\\"prod_link\\\\\"> <span class=\\\\\"img_box\\\\\"> <img data-kbbfn=\\\\\"s3-image\\\\\" data-kbbfn-pid=\\\\\"S000211815724\\\\\" data-kbbfn-bid=\\\\\"9788930041607\\\\\" data-kbbfn-type=\\\\\"KOR\\\\\" data-kbbfn-age=\\\\\"0\\\\\" data-kbbfn-attr=\\\\\"src\\\\\" data-kbbfn-title=\\\\\"반도체 주권국가\\\\\" data-kbbfn-bg-target=\\\\\".img_box\\\\\" data-kbbfn-size=\\\\\"300x0\\\\\" alt=\\\\\"${@utils.getStr(title, null)}\\\\\"> </span> </a> \\\\n       </div> \\\\n       <div class=\\\\\"prod_info_box size_lg\\\\\"> <a href=\\\\\"https://product.kyobobook.co.kr/detail/S000211815724\\\\\" class=\\\\\"prod_info\\\\\"> <span class=\\\\\"prod_category\\\\\">경제/경영</span> <span class=\\\\\"prod_name\\\\\">반도체 주권국가</span> </a> <span class=\\\\\"prod_author\\\\\"> <!--<th:block th:if=\\\\\"${not #strings.isEmpty(getList.authorName)}\\\\\">\\\\n                                        <th:block th:text=\\\\\"${getList.authorName}\\\\\"/>\\\\n                                    </th:block>\\\\n                                    <th:block th:if=\\\\\"${not #strings.isEmpty(getList.pubName)}\\\\\">\\\\n                                        <th:block th:text=\\\\\"|·${getList.pubName}|\\\\\"/>\\\\n                                    </th:block>--> 박영선·나남 </span> \\\\n       </div> \\\\n      </div> </li> \\\\n     <li class=\\\\\"swiper-slide\\\\\"> \\\\n      <div class=\\\\\"prod_area\\\\\"> \\\\n       <div class=\\\\\"prod_thumb_box\\\\\"> <a href=\\\\\"https://product.kyobobook.co.kr/detail/S000211352514\\\\\" class=\\\\\"prod_link\\\\\"> <span class=\\\\\"img_box\\\\\"> <img data-kbbfn=\\\\\"s3-image\\\\\" data-kbbfn-pid=\\\\\"S000211352514\\\\\" data-kbbfn-bid=\\\\\"9788901276533\\\\\" data-kbbfn-type=\\\\\"KOR\\\\\" data-kbbfn-age=\\\\\"0\\\\\" data-kbbfn-attr=\\\\\"src\\\\\" data-kbbfn-title=\\\\\"나는 메트로폴리탄 미술관의 경비원입니다\\\\\" data-kbbfn-bg-target=\\\\\".img_box\\\\\" data-kbbfn-size=\\\\\"300x0\\\\\" alt=\\\\\"${@utils.getStr(title, null)}\\\\\"> </span> </a> \\\\n       </div> \\\\n       <div class=\\\\\"prod_info_box size_lg\\\\\"> <a href=\\\\\"https://product.kyobobook.co.kr/detail/S000211352514\\\\\" class=\\\\\"prod_info\\\\\"> <span class=\\\\\"prod_category\\\\\">시/에세이</span> <span class=\\\\\"prod_name\\\\\">나는 메트로폴리탄 미술관의 경비원입니다</span> </a> <span class=\\\\\"prod_author\\\\\"> <!--<th:block th:if=\\\\\"${not #strings.isEmpty(getList.authorName)}\\\\\">\\\\n                                        <th:block th:text=\\\\\"${getList.authorName}\\\\\"/>\\\\n                                    </th:block>\\\\n                                    <th:block th:if=\\\\\"${not #strings.isEmpty(getList.pubName)}\\\\\">\\\\n                                        <th:block th:text=\\\\\"|·${getList.pubName}|\\\\\"/>\\\\n                                    </th:block>--> 패트릭 브링리·웅진지식하우스 </span> \\\\n       </div> \\\\n      </div> </li> \\\\n     <li class=\\\\\"swiper-slide\\\\\"> \\\\n      <div class=\\\\\"prod_area\\\\\"> \\\\n       <div class=\\\\\"prod_thumb_box\\\\\"> <a href=\\\\\"https://product.kyobobook.co.kr/detail/S000209670832\\\\\" class=\\\\\"prod_link\\\\\"> <span class=\\\\\"img_box\\\\\"> <img data-kbbfn=\\\\\"s3-image\\\\\" data-kbbfn-pid=\\\\\"S000209670832\\\\\" data-kbbfn-bid=\\\\\"9791192953151\\\\\" data-kbbfn-type=\\\\\"KOR\\\\\" data-kbbfn-age=\\\\\"0\\\\\" data-kbbfn-attr=\\\\\"src\\\\\" data-kbbfn-title=\\\\\"세상은 이야기로 만들어졌다\\\\\" data-kbbfn-bg-target=\\\\\".img_box\\\\\" data-kbbfn-size=\\\\\"300x0\\\\\" alt=\\\\\"${@utils.getStr(title, null)}\\\\\"> </span> </a> \\\\n       </div> \\\\n       <div class=\\\\\"prod_info_box size_lg\\\\\"> <a href=\\\\\"https://product.kyobobook.co.kr/detail/S000209670832\\\\\" class=\\\\\"prod_info\\\\\"> <span class=\\\\\"prod_category\\\\\">인문</span> <span class=\\\\\"prod_name\\\\\">세상은 이야기로 만들어졌다</span> </a> <span class=\\\\\"prod_author\\\\\"> <!--<th:block th:if=\\\\\"${not #strings.isEmpty(getList.authorName)}\\\\\">\\\\n                                        <th:block th:text=\\\\\"${getList.authorName}\\\\\"/>\\\\n                                    </th:block>\\\\n                                    <th:block th:if=\\\\\"${not #strings.isEmpty(getList.pubName)}\\\\\">\\\\n                                        <th:block th:text=\\\\\"|·${getList.pubName}|\\\\\"/>\\\\n                                    </th:block>--> 자미라 엘 우아실·원더박스 </span> \\\\n       </div> \\\\n      </div> </li> \\\\n     <li class=\\\\\"swiper-slide\\\\\"> \\\\n      <div class=\\\\\"prod_area\\\\\"> \\\\n       <div class=\\\\\"prod_thumb_box\\\\\"> <a href=\\\\\"https://product.kyobobook.co.kr/detail/S000211779592\\\\\" class=\\\\\"prod_link\\\\\"> <span class=\\\\\"img_box\\\\\"> <img data-kbbfn=\\\\\"s3-image\\\\\" data-kbbfn-pid=\\\\\"S000211779592\\\\\" data-kbbfn-bid=\\\\\"9791191568134\\\\\" data-kbbfn-type=\\\\\"KOR\\\\\" data-kbbfn-age=\\\\\"0\\\\\" data-kbbfn-attr=\\\\\"src\\\\\" data-kbbfn-title=\\\\\"우주로 간 발명 수업\\\\\" data-kbbfn-bg-target=\\\\\".img_box\\\\\" data-kbbfn-size=\\\\\"300x0\\\\\" alt=\\\\\"${@utils.getStr(title, null)}\\\\\"> </span> </a> \\\\n       </div> \\\\n       <div class=\\\\\"prod_info_box size_lg\\\\\"> <a href=\\\\\"https://product.kyobobook.co.kr/detail/S000211779592\\\\\" class=\\\\\"prod_info\\\\\"> <span class=\\\\\"prod_category\\\\\">어린이(초등)</span> <span class=\\\\\"prod_name\\\\\">우주로 간 발명 수업</span> </a> <span class=\\\\\"prod_author\\\\\"> <!--<th:block th:if=\\\\\"${not #strings.isEmpty(getList.authorName)}\\\\\">\\\\n                                        <th:block th:text=\\\\\"${getList.authorName}\\\\\"/>\\\\n                                    </th:block>\\\\n                                    <th:block th:if=\\\\\"${not #strings.isEmpty(getList.pubName)}\\\\\">\\\\n                                        <th:block th:text=\\\\\"|·${getList.pubName}|\\\\\"/>\\\\n                                    </th:block>--> 도미닉 윌콕스·명랑한책방 </span> \\\\n       </div> \\\\n      </div> </li> \\\\n     <li class=\\\\\"swiper-slide\\\\\"> \\\\n      <div class=\\\\\"prod_area\\\\\"> \\\\n       <div class=\\\\\"prod_thumb_box\\\\\"> <a href=\\\\\"https://product.kyobobook.co.kr/detail/S000211780014\\\\\" class=\\\\\"prod_link\\\\\"> <span class=\\\\\"img_box\\\\\"> <img data-kbbfn=\\\\\"s3-image\\\\\" data-kbbfn-pid=\\\\\"S000211780014\\\\\" data-kbbfn-bid=\\\\\"9788934938224\\\\\" data-kbbfn-type=\\\\\"KOR\\\\\" data-kbbfn-age=\\\\\"0\\\\\" data-kbbfn-attr=\\\\\"src\\\\\" data-kbbfn-title=\\\\\"흔한남매 과학 탐험대 0: 과학의 기초\\\\\" data-kbbfn-bg-target=\\\\\".img_box\\\\\" data-kbbfn-size=\\\\\"300x0\\\\\" alt=\\\\\"${@utils.getStr(title, null)}\\\\\"> </span> </a> \\\\n       </div> \\\\n       <div class=\\\\\"prod_info_box size_lg\\\\\"> <a href=\\\\\"https://product.kyobobook.co.kr/detail/S000211780014\\\\\" class=\\\\\"prod_info\\\\\"> <span class=\\\\\"prod_category\\\\\">어린이(초등)</span> <span class=\\\\\"prod_name\\\\\">흔한남매 과학 탐험대 0: 과학의 기초</span> </a> <span class=\\\\\"prod_author\\\\\"> <!--<th:block th:if=\\\\\"${not #strings.isEmpty(getList.authorName)}\\\\\">\\\\n                                        <th:block th:text=\\\\\"${getList.authorName}\\\\\"/>\\\\n                                    </th:block>\\\\n                                    <th:block th:if=\\\\\"${not #strings.isEmpty(getList.pubName)}\\\\\">\\\\n                                        <th:block th:text=\\\\\"|·${getList.pubName}|\\\\\"/>\\\\n                                    </th:block>--> 흔한남매·주니어김영사 </span> \\\\n       </div> \\\\n      </div> </li> \\\\n     <li class=\\\\\"swiper-slide\\\\\"> \\\\n      <div class=\\\\\"prod_area\\\\\"> \\\\n       <div class=\\\\\"prod_thumb_box\\\\\"> <a href=\\\\\"https://product.kyobobook.co.kr/detail/S000211554487\\\\\" class=\\\\\"prod_link\\\\\"> <span class=\\\\\"img_box\\\\\"> <img data-kbbfn=\\\\\"s3-image\\\\\" data-kbbfn-pid=\\\\\"S000211554487\\\\\" data-kbbfn-bid=\\\\\"9791193080146\\\\\" data-kbbfn-type=\\\\\"KOR\\\\\" data-kbbfn-age=\\\\\"0\\\\\" data-kbbfn-attr=\\\\\"src\\\\\" data-kbbfn-title=\\\\\"느리게 나이 드는 습관\\\\\" data-kbbfn-bg-target=\\\\\".img_box\\\\\" data-kbbfn-size=\\\\\"300x0\\\\\" alt=\\\\\"${@utils.getStr(title, null)}\\\\\"> </span> </a> \\\\n       </div> \\\\n       <div class=\\\\\"prod_info_box size_lg\\\\\"> <a href=\\\\\"https://product.kyobobook.co.kr/detail/S000211554487\\\\\" class=\\\\\"prod_info\\\\\"> <span class=\\\\\"prod_category\\\\\">건강</span> <span class=\\\\\"prod_name\\\\\">느리게 나이 드는 습관</span> </a> <span class=\\\\\"prod_author\\\\\"> <!--<th:block th:if=\\\\\"${not #strings.isEmpty(getList.authorName)}\\\\\">\\\\n                                        <th:block th:text=\\\\\"${getList.authorName}\\\\\"/>\\\\n                                    </th:block>\\\\n                                    <th:block th:if=\\\\\"${not #strings.isEmpty(getList.pubName)}\\\\\">\\\\n                                        <th:block th:text=\\\\\"|·${getList.pubName}|\\\\\"/>\\\\n                                    </th:block>--> 정희원·한빛라이프 </span> \\\\n       </div> \\\\n      </div> </li> \\\\n     <li class=\\\\\"swiper-slide\\\\\"> \\\\n      <div class=\\\\\"prod_area\\\\\"> \\\\n       <div class=\\\\\"prod_thumb_box\\\\\"> <a href=\\\\\"https://product.kyobobook.co.kr/detail/S000211513068\\\\\" class=\\\\\"prod_link\\\\\"> <span class=\\\\\"img_box\\\\\"> <img data-kbbfn=\\\\\"s3-image\\\\\" data-kbbfn-pid=\\\\\"S000211513068\\\\\" data-kbbfn-bid=\\\\\"9791130646381\\\\\" data-kbbfn-type=\\\\\"KOR\\\\\" data-kbbfn-age=\\\\\"0\\\\\" data-kbbfn-attr=\\\\\"src\\\\\" data-kbbfn-title=\\\\\"이처럼 사소한 것들\\\\\" data-kbbfn-bg-target=\\\\\".img_box\\\\\" data-kbbfn-size=\\\\\"300x0\\\\\" alt=\\\\\"${@utils.getStr(title, null)}\\\\\"> </span> </a> \\\\n       </div> \\\\n       <div class=\\\\\"prod_info_box size_lg\\\\\"> <a href=\\\\\"https://product.kyobobook.co.kr/detail/S000211513068\\\\\" class=\\\\\"prod_info\\\\\"> <span class=\\\\\"prod_category\\\\\">소설</span> <span class=\\\\\"prod_name\\\\\">이처럼 사소한 것들</span> </a> <span class=\\\\\"prod_author\\\\\"> <!--<th:block th:if=\\\\\"${not #strings.isEmpty(getList.authorName)}\\\\\">\\\\n                                        <th:block th:text=\\\\\"${getList.authorName}\\\\\"/>\\\\n                                    </th:block>\\\\n                                    <th:block th:if=\\\\\"${not #strings.isEmpty(getList.pubName)}\\\\\">\\\\n                                        <th:block th:text=\\\\\"|·${getList.pubName}|\\\\\"/>\\\\n                                    </th:block>--> 클레어 키건·다산책방 </span> \\\\n       </div> \\\\n      </div> </li> \\\\n     <li class=\\\\\"swiper-slide\\\\\"> \\\\n      <div class=\\\\\"prod_area\\\\\"> \\\\n       <div class=\\\\\"prod_thumb_box\\\\\"> <a href=\\\\\"https://product.kyobobook.co.kr/detail/S000211734678\\\\\" class=\\\\\"prod_link\\\\\"> <span class=\\\\\"img_box\\\\\"> <img data-kbbfn=\\\\\"s3-image\\\\\" data-kbbfn-pid=\\\\\"S000211734678\\\\\" data-kbbfn-bid=\\\\\"9791195522170\\\\\" data-kbbfn-type=\\\\\"KOR\\\\\" data-kbbfn-age=\\\\\"0\\\\\" data-kbbfn-attr=\\\\\"src\\\\\" data-kbbfn-title=\\\\\"보편의 단어\\\\\" data-kbbfn-bg-target=\\\\\".img_box\\\\\" data-kbbfn-size=\\\\\"300x0\\\\\" alt=\\\\\"${@utils.getStr(title, null)}\\\\\"> </span> </a> \\\\n       </div> \\\\n       <div class=\\\\\"prod_info_box size_lg\\\\\"> <a href=\\\\\"https://product.kyobobook.co.kr/detail/S000211734678\\\\\" class=\\\\\"prod_info\\\\\"> <span class=\\\\\"prod_category\\\\\">시/에세이</span> <span class=\\\\\"prod_name\\\\\">보편의 단어</span> </a> <span class=\\\\\"prod_author\\\\\"> <!--<th:block th:if=\\\\\"${not #strings.isEmpty(getList.authorName)}\\\\\">\\\\n                                        <th:block th:text=\\\\\"${getList.authorName}\\\\\"/>\\\\n                                    </th:block>\\\\n                                    <th:block th:if=\\\\\"${not #strings.isEmpty(getList.pubName)}\\\\\">\\\\n                                        <th:block th:text=\\\\\"|·${getList.pubName}|\\\\\"/>\\\\n                                    </th:block>--> 이기주·말글터 </span> \\\\n       </div> \\\\n      </div> </li> \\\\n    </ul> \\\\n   </div> <button type=\\\\\"button\\\\\" class=\\\\\"swiper-button-prev type_white\\\\\"><span class=\\\\\"hidden\\\\\">이전</span></button> <button type=\\\\\"button\\\\\" class=\\\\\"swiper-button-next type_white\\\\\"><span class=\\\\\"hidden\\\\\">다음</span></button> \\\\n  </div> \\\\n </div> \\\\n</div>\",\"id\":\"welcome_flexibilization1\"}'"
      ]
     },
     "execution_count": 6,
     "metadata": {},
     "output_type": "execute_result"
    }
   ],
   "source": [
    "response.text"
   ]
  },
  {
   "cell_type": "code",
   "execution_count": 7,
   "metadata": {},
   "outputs": [
    {
     "data": {
      "text/plain": [
       "{'name': 'welcomeFlex1',\n",
       " 'html': '<div class=\"welcome_main_content_area\" id=\"welcome_flexibilization1\"> \\n <div class=\"contents_inner\"> \\n  <div class=\"title_wrap title_size_xxl\"> \\n   <h2 class=\"title_heading\">급상승! 많이 보고 있는 상품</h2> \\n  </div> \\n  <div class=\"fluid_swiper_wrap outside_nav\"> \\n   <div class=\"swiper-container\" data-col=\"4\"> \\n    <ul class=\"swiper-wrapper\"> \\n     <li class=\"swiper-slide\"> \\n      <div class=\"prod_area\"> \\n       <div class=\"prod_thumb_box\"> <a href=\"https://product.kyobobook.co.kr/detail/S000211815724\" class=\"prod_link\"> <span class=\"img_box\"> <img data-kbbfn=\"s3-image\" data-kbbfn-pid=\"S000211815724\" data-kbbfn-bid=\"9788930041607\" data-kbbfn-type=\"KOR\" data-kbbfn-age=\"0\" data-kbbfn-attr=\"src\" data-kbbfn-title=\"반도체 주권국가\" data-kbbfn-bg-target=\".img_box\" data-kbbfn-size=\"300x0\" alt=\"${@utils.getStr(title, null)}\"> </span> </a> \\n       </div> \\n       <div class=\"prod_info_box size_lg\"> <a href=\"https://product.kyobobook.co.kr/detail/S000211815724\" class=\"prod_info\"> <span class=\"prod_category\">경제/경영</span> <span class=\"prod_name\">반도체 주권국가</span> </a> <span class=\"prod_author\"> <!--<th:block th:if=\"${not #strings.isEmpty(getList.authorName)}\">\\n                                        <th:block th:text=\"${getList.authorName}\"/>\\n                                    </th:block>\\n                                    <th:block th:if=\"${not #strings.isEmpty(getList.pubName)}\">\\n                                        <th:block th:text=\"|·${getList.pubName}|\"/>\\n                                    </th:block>--> 박영선·나남 </span> \\n       </div> \\n      </div> </li> \\n     <li class=\"swiper-slide\"> \\n      <div class=\"prod_area\"> \\n       <div class=\"prod_thumb_box\"> <a href=\"https://product.kyobobook.co.kr/detail/S000211352514\" class=\"prod_link\"> <span class=\"img_box\"> <img data-kbbfn=\"s3-image\" data-kbbfn-pid=\"S000211352514\" data-kbbfn-bid=\"9788901276533\" data-kbbfn-type=\"KOR\" data-kbbfn-age=\"0\" data-kbbfn-attr=\"src\" data-kbbfn-title=\"나는 메트로폴리탄 미술관의 경비원입니다\" data-kbbfn-bg-target=\".img_box\" data-kbbfn-size=\"300x0\" alt=\"${@utils.getStr(title, null)}\"> </span> </a> \\n       </div> \\n       <div class=\"prod_info_box size_lg\"> <a href=\"https://product.kyobobook.co.kr/detail/S000211352514\" class=\"prod_info\"> <span class=\"prod_category\">시/에세이</span> <span class=\"prod_name\">나는 메트로폴리탄 미술관의 경비원입니다</span> </a> <span class=\"prod_author\"> <!--<th:block th:if=\"${not #strings.isEmpty(getList.authorName)}\">\\n                                        <th:block th:text=\"${getList.authorName}\"/>\\n                                    </th:block>\\n                                    <th:block th:if=\"${not #strings.isEmpty(getList.pubName)}\">\\n                                        <th:block th:text=\"|·${getList.pubName}|\"/>\\n                                    </th:block>--> 패트릭 브링리·웅진지식하우스 </span> \\n       </div> \\n      </div> </li> \\n     <li class=\"swiper-slide\"> \\n      <div class=\"prod_area\"> \\n       <div class=\"prod_thumb_box\"> <a href=\"https://product.kyobobook.co.kr/detail/S000209670832\" class=\"prod_link\"> <span class=\"img_box\"> <img data-kbbfn=\"s3-image\" data-kbbfn-pid=\"S000209670832\" data-kbbfn-bid=\"9791192953151\" data-kbbfn-type=\"KOR\" data-kbbfn-age=\"0\" data-kbbfn-attr=\"src\" data-kbbfn-title=\"세상은 이야기로 만들어졌다\" data-kbbfn-bg-target=\".img_box\" data-kbbfn-size=\"300x0\" alt=\"${@utils.getStr(title, null)}\"> </span> </a> \\n       </div> \\n       <div class=\"prod_info_box size_lg\"> <a href=\"https://product.kyobobook.co.kr/detail/S000209670832\" class=\"prod_info\"> <span class=\"prod_category\">인문</span> <span class=\"prod_name\">세상은 이야기로 만들어졌다</span> </a> <span class=\"prod_author\"> <!--<th:block th:if=\"${not #strings.isEmpty(getList.authorName)}\">\\n                                        <th:block th:text=\"${getList.authorName}\"/>\\n                                    </th:block>\\n                                    <th:block th:if=\"${not #strings.isEmpty(getList.pubName)}\">\\n                                        <th:block th:text=\"|·${getList.pubName}|\"/>\\n                                    </th:block>--> 자미라 엘 우아실·원더박스 </span> \\n       </div> \\n      </div> </li> \\n     <li class=\"swiper-slide\"> \\n      <div class=\"prod_area\"> \\n       <div class=\"prod_thumb_box\"> <a href=\"https://product.kyobobook.co.kr/detail/S000211779592\" class=\"prod_link\"> <span class=\"img_box\"> <img data-kbbfn=\"s3-image\" data-kbbfn-pid=\"S000211779592\" data-kbbfn-bid=\"9791191568134\" data-kbbfn-type=\"KOR\" data-kbbfn-age=\"0\" data-kbbfn-attr=\"src\" data-kbbfn-title=\"우주로 간 발명 수업\" data-kbbfn-bg-target=\".img_box\" data-kbbfn-size=\"300x0\" alt=\"${@utils.getStr(title, null)}\"> </span> </a> \\n       </div> \\n       <div class=\"prod_info_box size_lg\"> <a href=\"https://product.kyobobook.co.kr/detail/S000211779592\" class=\"prod_info\"> <span class=\"prod_category\">어린이(초등)</span> <span class=\"prod_name\">우주로 간 발명 수업</span> </a> <span class=\"prod_author\"> <!--<th:block th:if=\"${not #strings.isEmpty(getList.authorName)}\">\\n                                        <th:block th:text=\"${getList.authorName}\"/>\\n                                    </th:block>\\n                                    <th:block th:if=\"${not #strings.isEmpty(getList.pubName)}\">\\n                                        <th:block th:text=\"|·${getList.pubName}|\"/>\\n                                    </th:block>--> 도미닉 윌콕스·명랑한책방 </span> \\n       </div> \\n      </div> </li> \\n     <li class=\"swiper-slide\"> \\n      <div class=\"prod_area\"> \\n       <div class=\"prod_thumb_box\"> <a href=\"https://product.kyobobook.co.kr/detail/S000211780014\" class=\"prod_link\"> <span class=\"img_box\"> <img data-kbbfn=\"s3-image\" data-kbbfn-pid=\"S000211780014\" data-kbbfn-bid=\"9788934938224\" data-kbbfn-type=\"KOR\" data-kbbfn-age=\"0\" data-kbbfn-attr=\"src\" data-kbbfn-title=\"흔한남매 과학 탐험대 0: 과학의 기초\" data-kbbfn-bg-target=\".img_box\" data-kbbfn-size=\"300x0\" alt=\"${@utils.getStr(title, null)}\"> </span> </a> \\n       </div> \\n       <div class=\"prod_info_box size_lg\"> <a href=\"https://product.kyobobook.co.kr/detail/S000211780014\" class=\"prod_info\"> <span class=\"prod_category\">어린이(초등)</span> <span class=\"prod_name\">흔한남매 과학 탐험대 0: 과학의 기초</span> </a> <span class=\"prod_author\"> <!--<th:block th:if=\"${not #strings.isEmpty(getList.authorName)}\">\\n                                        <th:block th:text=\"${getList.authorName}\"/>\\n                                    </th:block>\\n                                    <th:block th:if=\"${not #strings.isEmpty(getList.pubName)}\">\\n                                        <th:block th:text=\"|·${getList.pubName}|\"/>\\n                                    </th:block>--> 흔한남매·주니어김영사 </span> \\n       </div> \\n      </div> </li> \\n     <li class=\"swiper-slide\"> \\n      <div class=\"prod_area\"> \\n       <div class=\"prod_thumb_box\"> <a href=\"https://product.kyobobook.co.kr/detail/S000211554487\" class=\"prod_link\"> <span class=\"img_box\"> <img data-kbbfn=\"s3-image\" data-kbbfn-pid=\"S000211554487\" data-kbbfn-bid=\"9791193080146\" data-kbbfn-type=\"KOR\" data-kbbfn-age=\"0\" data-kbbfn-attr=\"src\" data-kbbfn-title=\"느리게 나이 드는 습관\" data-kbbfn-bg-target=\".img_box\" data-kbbfn-size=\"300x0\" alt=\"${@utils.getStr(title, null)}\"> </span> </a> \\n       </div> \\n       <div class=\"prod_info_box size_lg\"> <a href=\"https://product.kyobobook.co.kr/detail/S000211554487\" class=\"prod_info\"> <span class=\"prod_category\">건강</span> <span class=\"prod_name\">느리게 나이 드는 습관</span> </a> <span class=\"prod_author\"> <!--<th:block th:if=\"${not #strings.isEmpty(getList.authorName)}\">\\n                                        <th:block th:text=\"${getList.authorName}\"/>\\n                                    </th:block>\\n                                    <th:block th:if=\"${not #strings.isEmpty(getList.pubName)}\">\\n                                        <th:block th:text=\"|·${getList.pubName}|\"/>\\n                                    </th:block>--> 정희원·한빛라이프 </span> \\n       </div> \\n      </div> </li> \\n     <li class=\"swiper-slide\"> \\n      <div class=\"prod_area\"> \\n       <div class=\"prod_thumb_box\"> <a href=\"https://product.kyobobook.co.kr/detail/S000211513068\" class=\"prod_link\"> <span class=\"img_box\"> <img data-kbbfn=\"s3-image\" data-kbbfn-pid=\"S000211513068\" data-kbbfn-bid=\"9791130646381\" data-kbbfn-type=\"KOR\" data-kbbfn-age=\"0\" data-kbbfn-attr=\"src\" data-kbbfn-title=\"이처럼 사소한 것들\" data-kbbfn-bg-target=\".img_box\" data-kbbfn-size=\"300x0\" alt=\"${@utils.getStr(title, null)}\"> </span> </a> \\n       </div> \\n       <div class=\"prod_info_box size_lg\"> <a href=\"https://product.kyobobook.co.kr/detail/S000211513068\" class=\"prod_info\"> <span class=\"prod_category\">소설</span> <span class=\"prod_name\">이처럼 사소한 것들</span> </a> <span class=\"prod_author\"> <!--<th:block th:if=\"${not #strings.isEmpty(getList.authorName)}\">\\n                                        <th:block th:text=\"${getList.authorName}\"/>\\n                                    </th:block>\\n                                    <th:block th:if=\"${not #strings.isEmpty(getList.pubName)}\">\\n                                        <th:block th:text=\"|·${getList.pubName}|\"/>\\n                                    </th:block>--> 클레어 키건·다산책방 </span> \\n       </div> \\n      </div> </li> \\n     <li class=\"swiper-slide\"> \\n      <div class=\"prod_area\"> \\n       <div class=\"prod_thumb_box\"> <a href=\"https://product.kyobobook.co.kr/detail/S000211734678\" class=\"prod_link\"> <span class=\"img_box\"> <img data-kbbfn=\"s3-image\" data-kbbfn-pid=\"S000211734678\" data-kbbfn-bid=\"9791195522170\" data-kbbfn-type=\"KOR\" data-kbbfn-age=\"0\" data-kbbfn-attr=\"src\" data-kbbfn-title=\"보편의 단어\" data-kbbfn-bg-target=\".img_box\" data-kbbfn-size=\"300x0\" alt=\"${@utils.getStr(title, null)}\"> </span> </a> \\n       </div> \\n       <div class=\"prod_info_box size_lg\"> <a href=\"https://product.kyobobook.co.kr/detail/S000211734678\" class=\"prod_info\"> <span class=\"prod_category\">시/에세이</span> <span class=\"prod_name\">보편의 단어</span> </a> <span class=\"prod_author\"> <!--<th:block th:if=\"${not #strings.isEmpty(getList.authorName)}\">\\n                                        <th:block th:text=\"${getList.authorName}\"/>\\n                                    </th:block>\\n                                    <th:block th:if=\"${not #strings.isEmpty(getList.pubName)}\">\\n                                        <th:block th:text=\"|·${getList.pubName}|\"/>\\n                                    </th:block>--> 이기주·말글터 </span> \\n       </div> \\n      </div> </li> \\n    </ul> \\n   </div> <button type=\"button\" class=\"swiper-button-prev type_white\"><span class=\"hidden\">이전</span></button> <button type=\"button\" class=\"swiper-button-next type_white\"><span class=\"hidden\">다음</span></button> \\n  </div> \\n </div> \\n</div>',\n",
       " 'id': 'welcome_flexibilization1'}"
      ]
     },
     "execution_count": 7,
     "metadata": {},
     "output_type": "execute_result"
    }
   ],
   "source": [
    "# \"{ 'one': 1, 'two': 2 }\" -> { 'one': 1, 'two': 2 }\n",
    "result_dict = eval(response.text) # eval : 문자열 -> python 코드로 변환\n",
    "result_dict"
   ]
  },
  {
   "cell_type": "code",
   "execution_count": 8,
   "metadata": {},
   "outputs": [],
   "source": [
    "html = result_dict[\"html\"].replace(\"\\n\", \"\").replace(\"\\t\", \"\")\n",
    "soup = BeautifulSoup(html, \"html.parser\")"
   ]
  },
  {
   "cell_type": "code",
   "execution_count": 9,
   "metadata": {},
   "outputs": [
    {
     "data": {
      "text/plain": [
       "[<li class=\"swiper-slide\"> <div class=\"prod_area\"> <div class=\"prod_thumb_box\"> <a class=\"prod_link\" href=\"https://product.kyobobook.co.kr/detail/S000211815724\"> <span class=\"img_box\"> <img alt=\"${@utils.getStr(title, null)}\" data-kbbfn=\"s3-image\" data-kbbfn-age=\"0\" data-kbbfn-attr=\"src\" data-kbbfn-bg-target=\".img_box\" data-kbbfn-bid=\"9788930041607\" data-kbbfn-pid=\"S000211815724\" data-kbbfn-size=\"300x0\" data-kbbfn-title=\"반도체 주권국가\" data-kbbfn-type=\"KOR\"/> </span> </a> </div> <div class=\"prod_info_box size_lg\"> <a class=\"prod_info\" href=\"https://product.kyobobook.co.kr/detail/S000211815724\"> <span class=\"prod_category\">경제/경영</span> <span class=\"prod_name\">반도체 주권국가</span> </a> <span class=\"prod_author\"> <!--<th:block th:if=\"${not #strings.isEmpty(getList.authorName)}\">                                        <th:block th:text=\"${getList.authorName}\"/>                                    </th:block>                                    <th:block th:if=\"${not #strings.isEmpty(getList.pubName)}\">                                        <th:block th:text=\"|·${getList.pubName}|\"/>                                    </th:block>--> 박영선·나남 </span> </div> </div> </li>,\n",
       " <li class=\"swiper-slide\"> <div class=\"prod_area\"> <div class=\"prod_thumb_box\"> <a class=\"prod_link\" href=\"https://product.kyobobook.co.kr/detail/S000211352514\"> <span class=\"img_box\"> <img alt=\"${@utils.getStr(title, null)}\" data-kbbfn=\"s3-image\" data-kbbfn-age=\"0\" data-kbbfn-attr=\"src\" data-kbbfn-bg-target=\".img_box\" data-kbbfn-bid=\"9788901276533\" data-kbbfn-pid=\"S000211352514\" data-kbbfn-size=\"300x0\" data-kbbfn-title=\"나는 메트로폴리탄 미술관의 경비원입니다\" data-kbbfn-type=\"KOR\"/> </span> </a> </div> <div class=\"prod_info_box size_lg\"> <a class=\"prod_info\" href=\"https://product.kyobobook.co.kr/detail/S000211352514\"> <span class=\"prod_category\">시/에세이</span> <span class=\"prod_name\">나는 메트로폴리탄 미술관의 경비원입니다</span> </a> <span class=\"prod_author\"> <!--<th:block th:if=\"${not #strings.isEmpty(getList.authorName)}\">                                        <th:block th:text=\"${getList.authorName}\"/>                                    </th:block>                                    <th:block th:if=\"${not #strings.isEmpty(getList.pubName)}\">                                        <th:block th:text=\"|·${getList.pubName}|\"/>                                    </th:block>--> 패트릭 브링리·웅진지식하우스 </span> </div> </div> </li>,\n",
       " <li class=\"swiper-slide\"> <div class=\"prod_area\"> <div class=\"prod_thumb_box\"> <a class=\"prod_link\" href=\"https://product.kyobobook.co.kr/detail/S000209670832\"> <span class=\"img_box\"> <img alt=\"${@utils.getStr(title, null)}\" data-kbbfn=\"s3-image\" data-kbbfn-age=\"0\" data-kbbfn-attr=\"src\" data-kbbfn-bg-target=\".img_box\" data-kbbfn-bid=\"9791192953151\" data-kbbfn-pid=\"S000209670832\" data-kbbfn-size=\"300x0\" data-kbbfn-title=\"세상은 이야기로 만들어졌다\" data-kbbfn-type=\"KOR\"/> </span> </a> </div> <div class=\"prod_info_box size_lg\"> <a class=\"prod_info\" href=\"https://product.kyobobook.co.kr/detail/S000209670832\"> <span class=\"prod_category\">인문</span> <span class=\"prod_name\">세상은 이야기로 만들어졌다</span> </a> <span class=\"prod_author\"> <!--<th:block th:if=\"${not #strings.isEmpty(getList.authorName)}\">                                        <th:block th:text=\"${getList.authorName}\"/>                                    </th:block>                                    <th:block th:if=\"${not #strings.isEmpty(getList.pubName)}\">                                        <th:block th:text=\"|·${getList.pubName}|\"/>                                    </th:block>--> 자미라 엘 우아실·원더박스 </span> </div> </div> </li>,\n",
       " <li class=\"swiper-slide\"> <div class=\"prod_area\"> <div class=\"prod_thumb_box\"> <a class=\"prod_link\" href=\"https://product.kyobobook.co.kr/detail/S000211779592\"> <span class=\"img_box\"> <img alt=\"${@utils.getStr(title, null)}\" data-kbbfn=\"s3-image\" data-kbbfn-age=\"0\" data-kbbfn-attr=\"src\" data-kbbfn-bg-target=\".img_box\" data-kbbfn-bid=\"9791191568134\" data-kbbfn-pid=\"S000211779592\" data-kbbfn-size=\"300x0\" data-kbbfn-title=\"우주로 간 발명 수업\" data-kbbfn-type=\"KOR\"/> </span> </a> </div> <div class=\"prod_info_box size_lg\"> <a class=\"prod_info\" href=\"https://product.kyobobook.co.kr/detail/S000211779592\"> <span class=\"prod_category\">어린이(초등)</span> <span class=\"prod_name\">우주로 간 발명 수업</span> </a> <span class=\"prod_author\"> <!--<th:block th:if=\"${not #strings.isEmpty(getList.authorName)}\">                                        <th:block th:text=\"${getList.authorName}\"/>                                    </th:block>                                    <th:block th:if=\"${not #strings.isEmpty(getList.pubName)}\">                                        <th:block th:text=\"|·${getList.pubName}|\"/>                                    </th:block>--> 도미닉 윌콕스·명랑한책방 </span> </div> </div> </li>,\n",
       " <li class=\"swiper-slide\"> <div class=\"prod_area\"> <div class=\"prod_thumb_box\"> <a class=\"prod_link\" href=\"https://product.kyobobook.co.kr/detail/S000211780014\"> <span class=\"img_box\"> <img alt=\"${@utils.getStr(title, null)}\" data-kbbfn=\"s3-image\" data-kbbfn-age=\"0\" data-kbbfn-attr=\"src\" data-kbbfn-bg-target=\".img_box\" data-kbbfn-bid=\"9788934938224\" data-kbbfn-pid=\"S000211780014\" data-kbbfn-size=\"300x0\" data-kbbfn-title=\"흔한남매 과학 탐험대 0: 과학의 기초\" data-kbbfn-type=\"KOR\"/> </span> </a> </div> <div class=\"prod_info_box size_lg\"> <a class=\"prod_info\" href=\"https://product.kyobobook.co.kr/detail/S000211780014\"> <span class=\"prod_category\">어린이(초등)</span> <span class=\"prod_name\">흔한남매 과학 탐험대 0: 과학의 기초</span> </a> <span class=\"prod_author\"> <!--<th:block th:if=\"${not #strings.isEmpty(getList.authorName)}\">                                        <th:block th:text=\"${getList.authorName}\"/>                                    </th:block>                                    <th:block th:if=\"${not #strings.isEmpty(getList.pubName)}\">                                        <th:block th:text=\"|·${getList.pubName}|\"/>                                    </th:block>--> 흔한남매·주니어김영사 </span> </div> </div> </li>,\n",
       " <li class=\"swiper-slide\"> <div class=\"prod_area\"> <div class=\"prod_thumb_box\"> <a class=\"prod_link\" href=\"https://product.kyobobook.co.kr/detail/S000211554487\"> <span class=\"img_box\"> <img alt=\"${@utils.getStr(title, null)}\" data-kbbfn=\"s3-image\" data-kbbfn-age=\"0\" data-kbbfn-attr=\"src\" data-kbbfn-bg-target=\".img_box\" data-kbbfn-bid=\"9791193080146\" data-kbbfn-pid=\"S000211554487\" data-kbbfn-size=\"300x0\" data-kbbfn-title=\"느리게 나이 드는 습관\" data-kbbfn-type=\"KOR\"/> </span> </a> </div> <div class=\"prod_info_box size_lg\"> <a class=\"prod_info\" href=\"https://product.kyobobook.co.kr/detail/S000211554487\"> <span class=\"prod_category\">건강</span> <span class=\"prod_name\">느리게 나이 드는 습관</span> </a> <span class=\"prod_author\"> <!--<th:block th:if=\"${not #strings.isEmpty(getList.authorName)}\">                                        <th:block th:text=\"${getList.authorName}\"/>                                    </th:block>                                    <th:block th:if=\"${not #strings.isEmpty(getList.pubName)}\">                                        <th:block th:text=\"|·${getList.pubName}|\"/>                                    </th:block>--> 정희원·한빛라이프 </span> </div> </div> </li>,\n",
       " <li class=\"swiper-slide\"> <div class=\"prod_area\"> <div class=\"prod_thumb_box\"> <a class=\"prod_link\" href=\"https://product.kyobobook.co.kr/detail/S000211513068\"> <span class=\"img_box\"> <img alt=\"${@utils.getStr(title, null)}\" data-kbbfn=\"s3-image\" data-kbbfn-age=\"0\" data-kbbfn-attr=\"src\" data-kbbfn-bg-target=\".img_box\" data-kbbfn-bid=\"9791130646381\" data-kbbfn-pid=\"S000211513068\" data-kbbfn-size=\"300x0\" data-kbbfn-title=\"이처럼 사소한 것들\" data-kbbfn-type=\"KOR\"/> </span> </a> </div> <div class=\"prod_info_box size_lg\"> <a class=\"prod_info\" href=\"https://product.kyobobook.co.kr/detail/S000211513068\"> <span class=\"prod_category\">소설</span> <span class=\"prod_name\">이처럼 사소한 것들</span> </a> <span class=\"prod_author\"> <!--<th:block th:if=\"${not #strings.isEmpty(getList.authorName)}\">                                        <th:block th:text=\"${getList.authorName}\"/>                                    </th:block>                                    <th:block th:if=\"${not #strings.isEmpty(getList.pubName)}\">                                        <th:block th:text=\"|·${getList.pubName}|\"/>                                    </th:block>--> 클레어 키건·다산책방 </span> </div> </div> </li>,\n",
       " <li class=\"swiper-slide\"> <div class=\"prod_area\"> <div class=\"prod_thumb_box\"> <a class=\"prod_link\" href=\"https://product.kyobobook.co.kr/detail/S000211734678\"> <span class=\"img_box\"> <img alt=\"${@utils.getStr(title, null)}\" data-kbbfn=\"s3-image\" data-kbbfn-age=\"0\" data-kbbfn-attr=\"src\" data-kbbfn-bg-target=\".img_box\" data-kbbfn-bid=\"9791195522170\" data-kbbfn-pid=\"S000211734678\" data-kbbfn-size=\"300x0\" data-kbbfn-title=\"보편의 단어\" data-kbbfn-type=\"KOR\"/> </span> </a> </div> <div class=\"prod_info_box size_lg\"> <a class=\"prod_info\" href=\"https://product.kyobobook.co.kr/detail/S000211734678\"> <span class=\"prod_category\">시/에세이</span> <span class=\"prod_name\">보편의 단어</span> </a> <span class=\"prod_author\"> <!--<th:block th:if=\"${not #strings.isEmpty(getList.authorName)}\">                                        <th:block th:text=\"${getList.authorName}\"/>                                    </th:block>                                    <th:block th:if=\"${not #strings.isEmpty(getList.pubName)}\">                                        <th:block th:text=\"|·${getList.pubName}|\"/>                                    </th:block>--> 이기주·말글터 </span> </div> </div> </li>]"
      ]
     },
     "execution_count": 9,
     "metadata": {},
     "output_type": "execute_result"
    }
   ],
   "source": [
    "li_list = soup.select(\"#welcome_flexibilization1 ul li\")\n",
    "li_list"
   ]
  },
  {
   "cell_type": "code",
   "execution_count": 13,
   "metadata": {},
   "outputs": [],
   "source": [
    "books = []\n",
    "for li in li_list:\n",
    "    info = li.select_one(\"div.prod_info_box\")\n",
    "    category = info.select_one(\".prod_category\").text.strip()\n",
    "    name = info.select_one(\".prod_name\").text.strip()\n",
    "    author = info.select_one(\".prod_author\").text.strip()\n",
    "    books.append( (category, name, author) )"
   ]
  },
  {
   "cell_type": "code",
   "execution_count": 14,
   "metadata": {},
   "outputs": [
    {
     "data": {
      "text/plain": [
       "[('경제/경영', '반도체 주권국가', '박영선·나남'),\n",
       " ('시/에세이', '나는 메트로폴리탄 미술관의 경비원입니다', '패트릭 브링리·웅진지식하우스'),\n",
       " ('인문', '세상은 이야기로 만들어졌다', '자미라 엘 우아실·원더박스'),\n",
       " ('어린이(초등)', '우주로 간 발명 수업', '도미닉 윌콕스·명랑한책방'),\n",
       " ('어린이(초등)', '흔한남매 과학 탐험대 0: 과학의 기초', '흔한남매·주니어김영사'),\n",
       " ('건강', '느리게 나이 드는 습관', '정희원·한빛라이프'),\n",
       " ('소설', '이처럼 사소한 것들', '클레어 키건·다산책방'),\n",
       " ('시/에세이', '보편의 단어', '이기주·말글터')]"
      ]
     },
     "execution_count": 14,
     "metadata": {},
     "output_type": "execute_result"
    }
   ],
   "source": [
    "books"
   ]
  }
 ],
 "metadata": {
  "kernelspec": {
   "display_name": "study-env",
   "language": "python",
   "name": "python3"
  },
  "language_info": {
   "codemirror_mode": {
    "name": "ipython",
    "version": 3
   },
   "file_extension": ".py",
   "mimetype": "text/x-python",
   "name": "python",
   "nbconvert_exporter": "python",
   "pygments_lexer": "ipython3",
   "version": "3.9.18"
  }
 },
 "nbformat": 4,
 "nbformat_minor": 2
}
