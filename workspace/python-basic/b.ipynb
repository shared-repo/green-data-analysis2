{
 "cells": [
  {
   "cell_type": "code",
   "execution_count": 1,
   "metadata": {},
   "outputs": [
    {
     "name": "stdout",
     "output_type": "stream",
     "text": [
      "[]\n",
      "[1, 2, 3]\n",
      "['this', 'is', 'list']\n"
     ]
    }
   ],
   "source": [
    "a = []\n",
    "print(a)\n",
    "b = [1, 2, 3]\n",
    "print(b)\n",
    "c = ['this', 'is', 'list']\n",
    "print(c)"
   ]
  },
  {
   "cell_type": "code",
   "execution_count": 5,
   "metadata": {},
   "outputs": [
    {
     "name": "stdout",
     "output_type": "stream",
     "text": [
      "4 10\n",
      "[4, 5]\n",
      "[4, 5, 6, 7, 8, 9, 10]\n",
      "[1, 2, 3]\n",
      "3\n"
     ]
    }
   ],
   "source": [
    "a = [1, 2, 3, 4, 5, 6, 7, 8, 9, 10]\n",
    "print(a[3], a[-1])\n",
    "print(a[3:5])\n",
    "print(a[3:])\n",
    "\n",
    "b = [ [1, 2, 3], [4, 5, 6], [7, 8, 9] ]\n",
    "print(b[0])\n",
    "print(b[0][-1])"
   ]
  },
  {
   "cell_type": "code",
   "execution_count": 7,
   "metadata": {},
   "outputs": [
    {
     "name": "stdout",
     "output_type": "stream",
     "text": [
      "[1, 2, 3, 4, 5, 6]\n",
      "[1, 2, 3, 1, 2, 3, 1, 2, 3]\n"
     ]
    }
   ],
   "source": [
    "a = [1, 2, 3]\n",
    "b = [4, 5, 6]\n",
    "print(a + b)\n",
    "print(a * 3)"
   ]
  },
  {
   "cell_type": "code",
   "execution_count": 12,
   "metadata": {},
   "outputs": [
    {
     "name": "stdout",
     "output_type": "stream",
     "text": [
      "[1, 4, 3]\n",
      "[1, [4, 5, 6], 3]\n",
      "[4, 5, 6]\n",
      "[2]\n",
      "[1, 4, 5, 6, 3]\n"
     ]
    }
   ],
   "source": [
    "a = [1, 2, 3]\n",
    "a[1] = 4\n",
    "print(a)\n",
    "a[1] = [4, 5, 6]\n",
    "print(a)\n",
    "print(a[1])\n",
    "\n",
    "b = [1, 2, 3]\n",
    "print(b[1:2]) # == b[1]\n",
    "b[1:2] = [4, 5, 6]\n",
    "print(b)"
   ]
  },
  {
   "cell_type": "code",
   "execution_count": 19,
   "metadata": {},
   "outputs": [
    {
     "name": "stdout",
     "output_type": "stream",
     "text": [
      "<class 'str'>\n",
      "<class 'list'>\n",
      "3 t\n"
     ]
    },
    {
     "ename": "AttributeError",
     "evalue": "'str' object has no attribute 'pop'",
     "output_type": "error",
     "traceback": [
      "\u001b[1;31m---------------------------------------------------------------------------\u001b[0m",
      "\u001b[1;31mAttributeError\u001b[0m                            Traceback (most recent call last)",
      "Cell \u001b[1;32mIn[19], line 7\u001b[0m\n\u001b[0;32m      5\u001b[0m \u001b[38;5;28mprint\u001b[39m(\u001b[38;5;28mtype\u001b[39m(b))\n\u001b[0;32m      6\u001b[0m \u001b[38;5;28mprint\u001b[39m(b[\u001b[38;5;241m2\u001b[39m], a[\u001b[38;5;241m2\u001b[39m])\n\u001b[1;32m----> 7\u001b[0m \u001b[43ma\u001b[49m\u001b[38;5;241;43m.\u001b[39;49m\u001b[43mpop\u001b[49m()\n",
      "\u001b[1;31mAttributeError\u001b[0m: 'str' object has no attribute 'pop'"
     ]
    }
   ],
   "source": [
    "a = \"python\"\n",
    "b = [1, 2, 3, 4, 5]\n",
    "# print(a*3)\n",
    "print(type(a))\n",
    "print(type(b))\n",
    "print(b[2], a[2])\n",
    "# a.pop()"
   ]
  },
  {
   "cell_type": "code",
   "execution_count": 27,
   "metadata": {},
   "outputs": [
    {
     "name": "stdout",
     "output_type": "stream",
     "text": [
      "()\n",
      "(1,)\n",
      "[1]\n",
      "(1, 2, 3)\n",
      "(1, 2, 3)\n",
      "[1, 2, 3]\n",
      "(1, 2, 3)\n",
      "[1, 2, 3]\n",
      "10\n"
     ]
    }
   ],
   "source": [
    "t1 = ()\n",
    "print(t1)\n",
    "t2 = (1,) # ,가 없으면 단일 값\n",
    "l2 = [1]\n",
    "print(t2)\n",
    "print(l2)\n",
    "t3 = (1, 2, 3)\n",
    "print(t3)\n",
    "t4 = 1, 2, 3\n",
    "l4 = [1, 2, 3]\n",
    "print(t4)\n",
    "print(l4)\n",
    "# t4[1] = 100 # 오류 : tuple은 변경 불가\n",
    "\n",
    "l5 = list(t4)\n",
    "t5 = tuple(l4)\n",
    "print(t5)\n",
    "print(l5)\n",
    "print(int(\"10\"))\n"
   ]
  },
  {
   "cell_type": "code",
   "execution_count": 41,
   "metadata": {},
   "outputs": [
    {
     "name": "stdout",
     "output_type": "stream",
     "text": [
      "{'name': 'pey', 'phone': '0119993323', 'birth': '1118'}\n",
      "pey\n",
      "0119993323\n",
      "{'name': 'john', 'phone': '0119993323', 'birth': '1118', 'title': 'manager'}\n",
      "{'name': 'john', 'phone': '010-6532-7845', 'birth': '1213', 'title': 'manager'}\n",
      "{'name': 'john', 'phone': '010-6532-7845', 'birth': '1213'}\n",
      "{'name': 'john', 'phone': None, 'birth': '1213'}\n"
     ]
    }
   ],
   "source": [
    "dic = {'name':'pey', 'phone':'0119993323', 'birth': '1118'}\n",
    "print(dic)\n",
    "print(dic['name'])\n",
    "print(dic['phone'])\n",
    "dic['name'] = 'john'        # 기존 항목 변경\n",
    "dic['title'] = 'manager'    # 새 항목 추가\n",
    "print(dic)\n",
    "dic.update({ 'birth': '1213', 'phone': '010-6532-7845'}) # 여러 값을 한 번에 변경\n",
    "print(dic)\n",
    "\n",
    "del dic['title']\n",
    "print(dic)\n",
    "dic['phone'] = None\n",
    "print(dic)"
   ]
  },
  {
   "cell_type": "code",
   "execution_count": 38,
   "metadata": {},
   "outputs": [
    {
     "name": "stdout",
     "output_type": "stream",
     "text": [
      "dict_keys(['name', 'phone', 'birth', 'title'])\n",
      "dict_values(['john', '0119993323', '1118', 'manager'])\n",
      "dict_items([('name', 'john'), ('phone', '0119993323'), ('birth', '1118'), ('title', 'manager')])\n",
      "name\n"
     ]
    }
   ],
   "source": [
    "print(dic.keys())   # 키 목록\n",
    "print(dic.values()) # 값 목록\n",
    "print(dic.items())  # (키, 값) 목록\n",
    "\n",
    "print(list(dic.keys())[0])"
   ]
  },
  {
   "cell_type": "code",
   "execution_count": 46,
   "metadata": {},
   "outputs": [
    {
     "name": "stdout",
     "output_type": "stream",
     "text": [
      "pey\n",
      "pey\n",
      "이름 없음\n",
      "None\n",
      "이름 없음\n"
     ]
    }
   ],
   "source": [
    "a = {'name':'pey', 'phone':'0119993323', 'birth': '1118'}\n",
    "print( a['name'] )\n",
    "print( a.get('name') )\n",
    "\n",
    "# print( a['name2'])    # 오류 발생\n",
    "if 'name2' in a:\n",
    "    print(a['name2'])\n",
    "else:\n",
    "    print('이름 없음')\n",
    "print( a.get('name2') ) # None 반환\n",
    "print( a.get('name2', '이름 없음') ) # 없으면 '이름 없음' 반환"
   ]
  }
 ],
 "metadata": {
  "kernelspec": {
   "display_name": "study-env",
   "language": "python",
   "name": "python3"
  },
  "language_info": {
   "codemirror_mode": {
    "name": "ipython",
    "version": 3
   },
   "file_extension": ".py",
   "mimetype": "text/x-python",
   "name": "python",
   "nbconvert_exporter": "python",
   "pygments_lexer": "ipython3",
   "version": "3.9.18"
  }
 },
 "nbformat": 4,
 "nbformat_minor": 2
}
