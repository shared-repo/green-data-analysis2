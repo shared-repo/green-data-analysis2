{
 "cells": [
  {
   "cell_type": "code",
   "execution_count": 12,
   "metadata": {},
   "outputs": [
    {
     "name": "stdout",
     "output_type": "stream",
     "text": [
      "division by zero\n",
      "예외 발생 여부와 관계 없이 실행됩니다.\n"
     ]
    }
   ],
   "source": [
    "try:\n",
    "    f = open('foo.txt', 'r')\n",
    "    a = 10 / 0\n",
    "except FileNotFoundError as e:  # 오류가 발생한 경우\n",
    "    print(str(e))\n",
    "except ZeroDivisionError as e2:\n",
    "    print(str(e2))\n",
    "else:                           # 오류가 발생하지 않은 경우\n",
    "    data = f.read()\n",
    "    print(data)\n",
    "    f.close()\n",
    "finally:\n",
    "    print(\"예외 발생 여부와 관계 없이 실행됩니다.\") # 오류와 관계 없이 무조건 실행"
   ]
  },
  {
   "cell_type": "code",
   "execution_count": 13,
   "metadata": {},
   "outputs": [
    {
     "name": "stdout",
     "output_type": "stream",
     "text": [
      "서비스 준비중입니다.\n",
      "예외 발생 여부와 관계 없이 실행됩니다.\n"
     ]
    }
   ],
   "source": [
    "try:\n",
    "    raise NotImplementedError(\"서비스 준비중입니다.\")   # 강제 예외(오류) 발생\n",
    "except NotImplementedError as e:  # 오류가 발생한 경우\n",
    "    print(str(e))\n",
    "finally:\n",
    "    print(\"예외 발생 여부와 관계 없이 실행됩니다.\") # 오류와 관계 없이 무조건 실행"
   ]
  }
 ],
 "metadata": {
  "kernelspec": {
   "display_name": "study-env",
   "language": "python",
   "name": "python3"
  },
  "language_info": {
   "codemirror_mode": {
    "name": "ipython",
    "version": 3
   },
   "file_extension": ".py",
   "mimetype": "text/x-python",
   "name": "python",
   "nbconvert_exporter": "python",
   "pygments_lexer": "ipython3",
   "version": "3.9.18"
  }
 },
 "nbformat": 4,
 "nbformat_minor": 2
}
