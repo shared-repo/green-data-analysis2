{
 "cells": [
  {
   "cell_type": "code",
   "execution_count": 2,
   "metadata": {},
   "outputs": [],
   "source": [
    "# 함수 만들기\n",
    "def show_message():\n",
    "    print(\"파이썬 함수입니다\")\n",
    "    print(\"호출하면 이 내용이 출력됩니다.\")"
   ]
  },
  {
   "cell_type": "code",
   "execution_count": 3,
   "metadata": {},
   "outputs": [
    {
     "name": "stdout",
     "output_type": "stream",
     "text": [
      "파이썬 함수입니다\n",
      "호출하면 이 내용이 출력됩니다.\n"
     ]
    }
   ],
   "source": [
    "# 함수 호출 -> 함수의 내용 실행\n",
    "show_message()"
   ]
  },
  {
   "cell_type": "code",
   "execution_count": 1,
   "metadata": {},
   "outputs": [],
   "source": [
    "def show_message2():\n",
    "    print(f\"{name}님 반갑습니다.\") # 오류 : 다른 함수에서 만든 변수 사용할 수 없습니다.\n",
    "    print(\"데이터분석 세계에 오신것을 환영합니다.\")\n",
    "\n",
    "def call_show_message2():\n",
    "    name = \"Jane Doe\" # 이 변수는 call_show_message2에서만 사용 가능\n",
    "    show_message2()\n",
    "\n",
    "call_show_message2()"
   ]
  },
  {
   "cell_type": "code",
   "execution_count": 3,
   "metadata": {},
   "outputs": [
    {
     "name": "stdout",
     "output_type": "stream",
     "text": [
      "Jane Doe님 반갑습니다.\n",
      "데이터분석 세계에 오신것을 환영합니다.\n"
     ]
    }
   ],
   "source": [
    "def show_message3(name): # 전달인자 : 이 함수를 호출할 때 들어오는 값을 저장하는 변수\n",
    "    print(f\"{name}님 반갑습니다.\")\n",
    "    print(\"데이터분석 세계에 오신것을 환영합니다.\")\n",
    "\n",
    "def call_show_message3():\n",
    "    name = \"Jane Doe\" # 이 변수는 call_show_message2에서만 사용 가능\n",
    "    show_message3(name) # show_message3을 호출하면서 name을 전달\n",
    "\n",
    "call_show_message3()"
   ]
  },
  {
   "cell_type": "code",
   "execution_count": 5,
   "metadata": {},
   "outputs": [
    {
     "name": "stdout",
     "output_type": "stream",
     "text": [
      "Jane Doe님 반갑습니다.\n",
      "당신의 나이는 31입니다\n"
     ]
    }
   ],
   "source": [
    "def show_message4(name1, age1): # 전달인자 : 이 함수를 호출할 때 들어오는 값을 저장하는 변수\n",
    "    print(f\"{name1}님 반갑습니다.\")\n",
    "    print(f\"당신의 나이는 {age1}입니다\")\n",
    "\n",
    "def call_show_message4():\n",
    "    name = \"Jane Doe\"\n",
    "    age = 31\n",
    "    show_message4(name, age) # show_message4을 호출하면서 name과 age를 전달\n",
    "\n",
    "call_show_message4()"
   ]
  },
  {
   "cell_type": "code",
   "execution_count": 10,
   "metadata": {},
   "outputs": [
    {
     "name": "stdout",
     "output_type": "stream",
     "text": [
      "Jane Doe님 반갑습니다.\n",
      "당신의 나이는 31입니다\n",
      "당신의 직업은 researcher입니다\n",
      "Jane Doe님 반갑습니다.\n",
      "당신의 나이는 31입니다\n",
      "당신의 직업은 student입니다\n",
      "31님 반갑습니다.\n",
      "당신의 나이는 manager입니다\n",
      "당신의 직업은 Jane Doe입니다\n",
      "Jane Doe님 반갑습니다.\n",
      "당신의 나이는 31입니다\n",
      "당신의 직업은 manager입니다\n"
     ]
    }
   ],
   "source": [
    "def show_message5(name1, age1, job=\"researcher\"):\n",
    "    print(f\"{name1}님 반갑습니다.\")\n",
    "    print(f\"당신의 나이는 {age1}입니다\")\n",
    "    print(f\"당신의 직업은 {job}입니다\")\n",
    "\n",
    "def call_show_message5():\n",
    "    name = \"Jane Doe\"\n",
    "    age = 31\n",
    "    show_message5(name, age)\n",
    "    show_message5(name, age, \"student\")\n",
    "    show_message5(age, \"manager\", name)\n",
    "    show_message5(age1=age, job=\"manager\", name1=name)\n",
    "\n",
    "call_show_message5()"
   ]
  },
  {
   "cell_type": "code",
   "execution_count": 12,
   "metadata": {},
   "outputs": [
    {
     "name": "stdout",
     "output_type": "stream",
     "text": [
      "100 + 200 = 300\n"
     ]
    }
   ],
   "source": [
    "def my_sum(n1, n2):\n",
    "    result = n1 + n2\n",
    "    return result # 함수를 종료하고 result를 호출한 곳으로 반환(전달)\n",
    "\n",
    "def call_my_sum():\n",
    "    result = my_sum(100, 200)\n",
    "    print(f'{100} + {200} = {result}')\n",
    "\n",
    "call_my_sum()"
   ]
  },
  {
   "cell_type": "code",
   "execution_count": 14,
   "metadata": {},
   "outputs": [
    {
     "name": "stdout",
     "output_type": "stream",
     "text": [
      "(100, 200) <class 'tuple'>\n",
      "300\n",
      "(100, 200, 300) <class 'tuple'>\n",
      "600\n",
      "(100, 200, 300, 400) <class 'tuple'>\n",
      "1000\n"
     ]
    }
   ],
   "source": [
    "def my_sum2(*n):\n",
    "    print(n, type(n))\n",
    "    result = sum(n)\n",
    "    print(result)\n",
    "\n",
    "def call_my_sum2():\n",
    "    my_sum2(100, 200)\n",
    "    my_sum2(100, 200, 300)\n",
    "    my_sum2(100, 200, 300, 400)\n",
    "\n",
    "call_my_sum2()"
   ]
  },
  {
   "cell_type": "code",
   "execution_count": 17,
   "metadata": {},
   "outputs": [
    {
     "name": "stdout",
     "output_type": "stream",
     "text": [
      "1 2 3 4 5\n",
      "10 20 30 40 50\n",
      "10 20 30 40 50\n"
     ]
    }
   ],
   "source": [
    "def my_sum3(n1, n2, n3, n4, n5):\n",
    "    print(n1, n2, n3, n4, n5)\n",
    "\n",
    "def call_my_sum3():\n",
    "    my_sum3(1, 2, 3, 4, 5)\n",
    "    numbers = [10, 20, 30, 40, 50]\n",
    "    my_sum3(numbers[0], numbers[1], numbers[2], numbers[3], numbers[4])\n",
    "    my_sum3(*numbers) # 해체 : 리스트를 풀어서 개별 변수로 변환\n",
    "\n",
    "call_my_sum3()"
   ]
  },
  {
   "cell_type": "code",
   "execution_count": 18,
   "metadata": {},
   "outputs": [
    {
     "name": "stdout",
     "output_type": "stream",
     "text": [
      "(30, 200) <class 'tuple'>\n"
     ]
    }
   ],
   "source": [
    "def sum_and_mul(a, b): \n",
    "    return a+b, a*b # return은 한 개의 값만 반환, 여러 개를 반환하면 tuple로 묶어서 반환\n",
    "\n",
    "result = sum_and_mul(10, 20)\n",
    "print(result, type(result))"
   ]
  }
 ],
 "metadata": {
  "kernelspec": {
   "display_name": "study-env",
   "language": "python",
   "name": "python3"
  },
  "language_info": {
   "codemirror_mode": {
    "name": "ipython",
    "version": 3
   },
   "file_extension": ".py",
   "mimetype": "text/x-python",
   "name": "python",
   "nbconvert_exporter": "python",
   "pygments_lexer": "ipython3",
   "version": "3.9.18"
  }
 },
 "nbformat": 4,
 "nbformat_minor": 2
}
