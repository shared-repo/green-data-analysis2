{
 "cells": [
  {
   "cell_type": "code",
   "execution_count": 2,
   "metadata": {},
   "outputs": [],
   "source": [
    "# 함수 만들기\n",
    "def show_message():\n",
    "    print(\"파이썬 함수입니다\")\n",
    "    print(\"호출하면 이 내용이 출력됩니다.\")"
   ]
  },
  {
   "cell_type": "code",
   "execution_count": 3,
   "metadata": {},
   "outputs": [
    {
     "name": "stdout",
     "output_type": "stream",
     "text": [
      "파이썬 함수입니다\n",
      "호출하면 이 내용이 출력됩니다.\n"
     ]
    }
   ],
   "source": [
    "# 함수 호출 -> 함수의 내용 실행\n",
    "show_message()"
   ]
  },
  {
   "cell_type": "code",
   "execution_count": 1,
   "metadata": {},
   "outputs": [],
   "source": [
    "def show_message2():\n",
    "    print(f\"{name}님 반갑습니다.\") # 오류 : 다른 함수에서 만든 변수 사용할 수 없습니다.\n",
    "    print(\"데이터분석 세계에 오신것을 환영합니다.\")\n",
    "\n",
    "def call_show_message2():\n",
    "    name = \"Jane Doe\" # 이 변수는 call_show_message2에서만 사용 가능\n",
    "    show_message2()\n",
    "\n",
    "call_show_message2()"
   ]
  },
  {
   "cell_type": "code",
   "execution_count": 3,
   "metadata": {},
   "outputs": [
    {
     "name": "stdout",
     "output_type": "stream",
     "text": [
      "Jane Doe님 반갑습니다.\n",
      "데이터분석 세계에 오신것을 환영합니다.\n"
     ]
    }
   ],
   "source": [
    "def show_message3(name): # 전달인자 : 이 함수를 호출할 때 들어오는 값을 저장하는 변수\n",
    "    print(f\"{name}님 반갑습니다.\")\n",
    "    print(\"데이터분석 세계에 오신것을 환영합니다.\")\n",
    "\n",
    "def call_show_message3():\n",
    "    name = \"Jane Doe\" # 이 변수는 call_show_message2에서만 사용 가능\n",
    "    show_message3(name) # show_message3을 호출하면서 name을 전달\n",
    "\n",
    "call_show_message3()"
   ]
  },
  {
   "cell_type": "code",
   "execution_count": 5,
   "metadata": {},
   "outputs": [
    {
     "name": "stdout",
     "output_type": "stream",
     "text": [
      "Jane Doe님 반갑습니다.\n",
      "당신의 나이는 31입니다\n"
     ]
    }
   ],
   "source": [
    "def show_message4(name1, age1): # 전달인자 : 이 함수를 호출할 때 들어오는 값을 저장하는 변수\n",
    "    print(f\"{name1}님 반갑습니다.\")\n",
    "    print(f\"당신의 나이는 {age1}입니다\")\n",
    "\n",
    "def call_show_message4():\n",
    "    name = \"Jane Doe\"\n",
    "    age = 31\n",
    "    show_message4(name, age) # show_message4을 호출하면서 name과 age를 전달\n",
    "\n",
    "call_show_message4()"
   ]
  },
  {
   "cell_type": "code",
   "execution_count": 10,
   "metadata": {},
   "outputs": [
    {
     "name": "stdout",
     "output_type": "stream",
     "text": [
      "Jane Doe님 반갑습니다.\n",
      "당신의 나이는 31입니다\n",
      "당신의 직업은 researcher입니다\n",
      "Jane Doe님 반갑습니다.\n",
      "당신의 나이는 31입니다\n",
      "당신의 직업은 student입니다\n",
      "31님 반갑습니다.\n",
      "당신의 나이는 manager입니다\n",
      "당신의 직업은 Jane Doe입니다\n",
      "Jane Doe님 반갑습니다.\n",
      "당신의 나이는 31입니다\n",
      "당신의 직업은 manager입니다\n"
     ]
    }
   ],
   "source": [
    "def show_message5(name1, age1, job=\"researcher\"):\n",
    "    print(f\"{name1}님 반갑습니다.\")\n",
    "    print(f\"당신의 나이는 {age1}입니다\")\n",
    "    print(f\"당신의 직업은 {job}입니다\")\n",
    "\n",
    "def call_show_message5():\n",
    "    name = \"Jane Doe\"\n",
    "    age = 31\n",
    "    show_message5(name, age)\n",
    "    show_message5(name, age, \"student\")\n",
    "    show_message5(age, \"manager\", name)\n",
    "    show_message5(age1=age, job=\"manager\", name1=name)\n",
    "\n",
    "call_show_message5()"
   ]
  },
  {
   "cell_type": "code",
   "execution_count": 12,
   "metadata": {},
   "outputs": [
    {
     "name": "stdout",
     "output_type": "stream",
     "text": [
      "100 + 200 = 300\n"
     ]
    }
   ],
   "source": [
    "def my_sum(n1, n2):\n",
    "    result = n1 + n2\n",
    "    return result # 함수를 종료하고 result를 호출한 곳으로 반환(전달)\n",
    "\n",
    "def call_my_sum():\n",
    "    result = my_sum(100, 200)\n",
    "    print(f'{100} + {200} = {result}')\n",
    "\n",
    "call_my_sum()"
   ]
  },
  {
   "cell_type": "code",
   "execution_count": 14,
   "metadata": {},
   "outputs": [
    {
     "name": "stdout",
     "output_type": "stream",
     "text": [
      "(100, 200) <class 'tuple'>\n",
      "300\n",
      "(100, 200, 300) <class 'tuple'>\n",
      "600\n",
      "(100, 200, 300, 400) <class 'tuple'>\n",
      "1000\n"
     ]
    }
   ],
   "source": [
    "def my_sum2(*n):\n",
    "    print(n, type(n))\n",
    "    result = sum(n)\n",
    "    print(result)\n",
    "\n",
    "def call_my_sum2():\n",
    "    my_sum2(100, 200)\n",
    "    my_sum2(100, 200, 300)\n",
    "    my_sum2(100, 200, 300, 400)\n",
    "\n",
    "call_my_sum2()"
   ]
  },
  {
   "cell_type": "code",
   "execution_count": 17,
   "metadata": {},
   "outputs": [
    {
     "name": "stdout",
     "output_type": "stream",
     "text": [
      "1 2 3 4 5\n",
      "10 20 30 40 50\n",
      "10 20 30 40 50\n"
     ]
    }
   ],
   "source": [
    "def my_sum3(n1, n2, n3, n4, n5):\n",
    "    print(n1, n2, n3, n4, n5)\n",
    "\n",
    "def call_my_sum3():\n",
    "    my_sum3(1, 2, 3, 4, 5)\n",
    "    numbers = [10, 20, 30, 40, 50]\n",
    "    my_sum3(numbers[0], numbers[1], numbers[2], numbers[3], numbers[4])\n",
    "    my_sum3(*numbers) # 해체 : 리스트를 풀어서 개별 변수로 변환\n",
    "\n",
    "call_my_sum3()"
   ]
  },
  {
   "cell_type": "code",
   "execution_count": 19,
   "metadata": {},
   "outputs": [
    {
     "name": "stdout",
     "output_type": "stream",
     "text": [
      "(30, 200) <class 'tuple'>\n",
      "300 20000\n"
     ]
    }
   ],
   "source": [
    "def sum_and_mul(a, b): \n",
    "    return a+b, a*b # return은 한 개의 값만 반환, 여러 개를 반환하면 tuple로 묶어서 반환\n",
    "\n",
    "result = sum_and_mul(10, 20)\n",
    "print(result, type(result))\n",
    "\n",
    "s, m = sum_and_mul(100, 200)\n",
    "print(s, m)"
   ]
  },
  {
   "cell_type": "code",
   "execution_count": null,
   "metadata": {},
   "outputs": [],
   "source": [
    "# 박스 그리기 ( 20 X 20, *) 함수 만들기\n",
    "# ********************\n",
    "# *                  *\n",
    "# *                  *\n",
    "# *                  *\n",
    "# ...\n",
    "# ********************\n",
    "# 반복문 2개를 중첩해서 사용"
   ]
  },
  {
   "cell_type": "code",
   "execution_count": 7,
   "metadata": {},
   "outputs": [
    {
     "name": "stdout",
     "output_type": "stream",
     "text": [
      "********************\n",
      "*                  *\n",
      "*                  *\n",
      "*                  *\n",
      "*                  *\n",
      "*                  *\n",
      "*                  *\n",
      "*                  *\n",
      "*                  *\n",
      "*                  *\n",
      "*                  *\n",
      "*                  *\n",
      "*                  *\n",
      "*                  *\n",
      "*                  *\n",
      "*                  *\n",
      "*                  *\n",
      "*                  *\n",
      "*                  *\n",
      "********************\n"
     ]
    }
   ],
   "source": [
    "def draw_box():\n",
    "    \"\"\"\n",
    "    경계선은 특정 문자로 내부는 공백으로 박스를 그리는 함수\n",
    "    \"\"\"\n",
    "    for y in range(20): # 세로 줄 출력\n",
    "        for x in range(20): # 가로 줄 출력\n",
    "            if x == 0 or x == 20 -1 or y == 0 or y == 20 - 1:\n",
    "                print(\"*\", end=\"\")\n",
    "            else:\n",
    "                print(\" \", end=\"\")\n",
    "        print() # 줄바꿈\n",
    "\n",
    "draw_box()"
   ]
  },
  {
   "cell_type": "code",
   "execution_count": 10,
   "metadata": {},
   "outputs": [
    {
     "name": "stdout",
     "output_type": "stream",
     "text": [
      "$$$$$$$$$$\n",
      "$        $\n",
      "$        $\n",
      "$        $\n",
      "$$$$$$$$$$\n"
     ]
    }
   ],
   "source": [
    "def draw_box2(width, height, c):\n",
    "    \"\"\"\n",
    "    지정된 너비, 높이, 문자를 사용해서 박스 그리는 함수\n",
    "    width : int: 너비\n",
    "    height : int: 높이\n",
    "    c : str: 문자\n",
    "    \"\"\"\n",
    "    for y in range(height): # 세로 줄 출력\n",
    "        for x in range(width): # 가로 줄 출력\n",
    "            if x == 0 or x == width -1 or y == 0 or y == height - 1:\n",
    "                print(c, end=\"\")\n",
    "            else:\n",
    "                print(\" \", end=\"\")\n",
    "        print() # 줄바꿈\n",
    "\n",
    "# \n",
    "draw_box2(10, 5, '$')"
   ]
  },
  {
   "cell_type": "code",
   "execution_count": 12,
   "metadata": {},
   "outputs": [
    {
     "name": "stdout",
     "output_type": "stream",
     "text": [
      "a b c\n",
      "abc\n"
     ]
    }
   ],
   "source": [
    "print('a', 'b', 'c')\n",
    "print('a', 'b', 'c', sep='')"
   ]
  },
  {
   "cell_type": "code",
   "execution_count": 13,
   "metadata": {},
   "outputs": [
    {
     "name": "stdout",
     "output_type": "stream",
     "text": [
      "100\n",
      "100\n"
     ]
    }
   ],
   "source": [
    "def squared(x):\n",
    "    return x**2\n",
    "\n",
    "squared2 = lambda x: x**2\n",
    "\n",
    "print(squared(10))\n",
    "print(squared2(10))"
   ]
  },
  {
   "cell_type": "code",
   "execution_count": 17,
   "metadata": {},
   "outputs": [
    {
     "name": "stdout",
     "output_type": "stream",
     "text": [
      "[44, 101, 29, 197, 68, 149, 116]\n",
      "[44, 101, 29, 197, 68, 149, 116]\n",
      "[14, 22, 38]\n"
     ]
    }
   ],
   "source": [
    "data = [14, 33, 9, 65, 22, 49, 38]\n",
    "# 변환 x * 3 + 2\n",
    "def change(x):\n",
    "    return x * 3 + 2\n",
    "changed_data = map(change, data)\n",
    "print(list(changed_data))\n",
    "\n",
    "changed_data2 = map(lambda x: x * 3 + 2, data)\n",
    "print(list(changed_data2))\n",
    "\n",
    "filtered_data = filter(lambda x: x % 2 == 0, data)\n",
    "print(list(filtered_data))"
   ]
  },
  {
   "cell_type": "code",
   "execution_count": null,
   "metadata": {},
   "outputs": [],
   "source": []
  },
  {
   "cell_type": "code",
   "execution_count": 24,
   "metadata": {},
   "outputs": [],
   "source": [
    "# 로또 번호 추출기 코드에서 기본번호뽑기(1 ~ 45, 중복X, 6개)를 함수로 만들기\n",
    "def select_basic_numbers():\n",
    "    \"\"\"1 ~ 45, 중복X, 6개의 숫자를 뽑는 함수\"\"\"\n",
    "\n",
    "    import random\n",
    "\n",
    "    selected_numbers = []\n",
    "    while len(selected_numbers) < 6: # 숫자 뽑기 반복\n",
    "        number = random.randint(1, 45)\n",
    "        if number in selected_numbers:\n",
    "            continue\n",
    "        selected_numbers.append(number)\n",
    "    \n",
    "    return selected_numbers\n",
    "\n",
    "# 평균 검사 기능을 함수로 만들기\n",
    "def check_mean(selected_numbers):\n",
    "    \"\"\"평균이 20 ~ 26(포함)이면 True 반환 아니면 False 반환\"\"\"\n",
    "    mean = sum(selected_numbers) / len(selected_numbers)\n",
    "\n",
    "    # if mean >= 20 and mean <= 26:\n",
    "    #     return True\n",
    "    # else:\n",
    "    #     return False\n",
    "    return mean >= 20 and mean <= 26, mean\n",
    "\n",
    "# 출력 기능을 함수로 만들기\n",
    "def show_selected_numbers(selected_numbers, mean):\n",
    "    \"\"\"뽑힌 번호 화면에 출력\"\"\"\n",
    "    selected_numbers.sort()\n",
    "    print(selected_numbers, mean)"
   ]
  },
  {
   "cell_type": "code",
   "execution_count": 25,
   "metadata": {},
   "outputs": [
    {
     "name": "stdout",
     "output_type": "stream",
     "text": [
      "[4, 10, 29, 30, 35, 38] 24.333333333333332\n",
      "[1, 6, 18, 30, 38, 41] 22.333333333333332\n",
      "[13, 16, 19, 24, 32, 39] 23.833333333333332\n",
      "[1, 8, 22, 27, 35, 45] 23.0\n",
      "[4, 8, 14, 29, 33, 38] 21.0\n",
      "[2, 9, 25, 26, 29, 39] 21.666666666666668\n",
      "[9, 10, 18, 19, 35, 37] 21.333333333333332\n",
      "[8, 12, 15, 16, 33, 41] 20.833333333333332\n",
      "[1, 3, 22, 31, 39, 41] 22.833333333333332\n",
      "행운을 빕니다.\n"
     ]
    }
   ],
   "source": [
    "import random\n",
    "\n",
    "while True:\n",
    "    selection = input(\"[1. 당첨 예상번호 뽑기] [2. 종료] 선택하세요\") \n",
    "    if selection == \"2\":\n",
    "        print(\"행운을 빕니다.\")\n",
    "        break\n",
    "    elif selection == \"1\":\n",
    "        pass\n",
    "    else:\n",
    "        print(\"지원하지 않는 명령입니다.\")\n",
    "        continue\n",
    "\n",
    "    while True: # 평균 검사 반복\n",
    "        selected_numbers = select_basic_numbers()\n",
    "\n",
    "        isValid, mean = check_mean(selected_numbers)\n",
    "        if isValid:\n",
    "            break\n",
    "\n",
    "    show_selected_numbers(selected_numbers, mean)"
   ]
  },
  {
   "cell_type": "code",
   "execution_count": null,
   "metadata": {},
   "outputs": [],
   "source": [
    "# 로또 번호 추출기 코드에서 기본번호뽑기(1 ~ 45, 중복X, 6개)를 함수로 만들기\n",
    "# 평균 검사 기능을 함수로 만들기\n",
    "# 출력 기능을 함수로 만들기"
   ]
  }
 ],
 "metadata": {
  "kernelspec": {
   "display_name": "study-env",
   "language": "python",
   "name": "python3"
  },
  "language_info": {
   "codemirror_mode": {
    "name": "ipython",
    "version": 3
   },
   "file_extension": ".py",
   "mimetype": "text/x-python",
   "name": "python",
   "nbconvert_exporter": "python",
   "pygments_lexer": "ipython3",
   "version": "3.9.18"
  }
 },
 "nbformat": 4,
 "nbformat_minor": 2
}
