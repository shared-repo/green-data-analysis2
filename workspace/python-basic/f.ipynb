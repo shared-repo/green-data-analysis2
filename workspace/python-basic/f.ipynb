{
 "cells": [
  {
   "cell_type": "code",
   "execution_count": 2,
   "metadata": {},
   "outputs": [],
   "source": [
    "class Employee:\n",
    "    'Common base class for all employees'\n",
    "\n",
    "    empCount = 0 # 변수 (공유변수)\n",
    "\n",
    "    def __init__(self, name, salary): # 함수 ( __init__ : 초기화 함수, 객체가 만들어질때 자동으로 호출 )\n",
    "        self.name = name        # 변수 (인스턴스별로 각각 존재하는 변수)\n",
    "        self.salary = salary    # 변수\n",
    "        Employee.empCount += 1\n",
    "        print(\"Employee 객체 생성\")\n",
    "\n",
    "    def displayCount(self): # 함수\n",
    "        print(\"Total Employee %d\" % Employee.empCount)\n",
    "\n",
    "    def displayEmployee(self): # 함수\n",
    "        print(\"Name : \", self.name, \", Salary: \", self.salary)"
   ]
  },
  {
   "cell_type": "code",
   "execution_count": 6,
   "metadata": {},
   "outputs": [
    {
     "name": "stdout",
     "output_type": "stream",
     "text": [
      "Employee 객체 생성\n",
      "Employee 객체 생성\n",
      "장동건 김윤석\n",
      "8 8\n",
      "8\n",
      "Name :  장동건 , Salary:  100\n",
      "Name :  김윤석 , Salary:  200\n"
     ]
    }
   ],
   "source": [
    "# 클래스 사용 -> 인스턴스(객체) 만들고 사용\n",
    "\n",
    "employee1 = Employee(\"장동건\", 100) # 인스턴스 만들기 + 변수에 저장\n",
    "employee2 = Employee(\"김윤석\", 200) # 인스턴스 만들기 + 변수에 저장\n",
    "\n",
    "print(employee1.name, employee2.name)\n",
    "print(employee1.empCount, employee2.empCount)\n",
    "print(Employee.empCount) # 공유변수는 클래스이름으로 접근하는 것이 정상\n",
    "\n",
    "employee1.displayEmployee()\n",
    "employee2.displayEmployee()"
   ]
  },
  {
   "cell_type": "code",
   "execution_count": 7,
   "metadata": {},
   "outputs": [
    {
     "name": "stdout",
     "output_type": "stream",
     "text": [
      "010-9876-5432\n"
     ]
    }
   ],
   "source": [
    "employee1.phone = \"010-9876-5432\" # 인스턴스 생성 후에 추가로 변수를 할당할 수 있습니다.\n",
    "print(employee1.phone)"
   ]
  },
  {
   "cell_type": "code",
   "execution_count": 12,
   "metadata": {},
   "outputs": [],
   "source": [
    "class Parent: # define parent class\n",
    "\n",
    "    parentAttr = 100\n",
    "\n",
    "    def __init__(self):\n",
    "        print (\"Calling parent constructor\")\n",
    "    \n",
    "    def parentMethod(self):\n",
    "        print ('Calling parent method')\n",
    "    \n",
    "    def setAttr(self, attr):\n",
    "        Parent.parentAttr = attr\n",
    "    def getAttr(self):\n",
    "        print (\"Parent attribute :\", Parent.parentAttr)\n",
    "\n",
    "class Child(Parent): # define child class\n",
    "    def __init__(self):\n",
    "        print (\"Calling child constructor\")\n",
    "    def childMethod(self):\n",
    "        print ('Calling child method')\n"
   ]
  },
  {
   "cell_type": "code",
   "execution_count": 15,
   "metadata": {},
   "outputs": [
    {
     "name": "stdout",
     "output_type": "stream",
     "text": [
      "Calling child constructor\n",
      "Calling parent method\n",
      "Calling child method\n",
      "Parent attribute : 2000\n"
     ]
    }
   ],
   "source": [
    "c = Child()\n",
    "c.parentMethod() # parentMethod는 상속받은 함수\n",
    "c.childMethod() # Child 클래스의 함수\n",
    "c.setAttr(2000)\n",
    "c.getAttr()"
   ]
  },
  {
   "cell_type": "code",
   "execution_count": 18,
   "metadata": {},
   "outputs": [
    {
     "name": "stdout",
     "output_type": "stream",
     "text": [
      "True\n",
      "True\n",
      "True\n",
      "True\n"
     ]
    }
   ],
   "source": [
    "print( issubclass(Child, Parent) )\n",
    "print( issubclass(Child, Child) )\n",
    "print( isinstance(c, Parent))\n",
    "print( isinstance(c, Child))"
   ]
  }
 ],
 "metadata": {
  "kernelspec": {
   "display_name": "study-env",
   "language": "python",
   "name": "python3"
  },
  "language_info": {
   "codemirror_mode": {
    "name": "ipython",
    "version": 3
   },
   "file_extension": ".py",
   "mimetype": "text/x-python",
   "name": "python",
   "nbconvert_exporter": "python",
   "pygments_lexer": "ipython3",
   "version": "3.9.18"
  }
 },
 "nbformat": 4,
 "nbformat_minor": 2
}
