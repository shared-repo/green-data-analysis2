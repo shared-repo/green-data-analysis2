{
 "cells": [
  {
   "cell_type": "code",
   "execution_count": 2,
   "metadata": {},
   "outputs": [],
   "source": [
    "# 파일 쓰기\n",
    "f = open(\"test.txt\", \"wt\") # test.txt 파일을 텍스트포맷 쓰기모드로 열기\n",
    "f.write(\"파일에 쓰는 데이터 1\\n\")\n",
    "f.write(\"파일에 쓰는 데이터 2\\n\")\n",
    "f.write(\"파일에 쓰는 데이터 3\\n\")\n",
    "f.close()"
   ]
  },
  {
   "cell_type": "code",
   "execution_count": null,
   "metadata": {},
   "outputs": [],
   "source": [
    "# 파일 쓰기\n",
    "with open(\"test.txt\", \"wt\") as f: # with 블록이 끝날때 파일을 자동으로 close\n",
    "    f.write(\"파일에 쓰는 데이터 1\\n\")\n",
    "    f.write(\"파일에 쓰는 데이터 2\\n\")\n",
    "    f.write(\"파일에 쓰는 데이터 3\\n\")    "
   ]
  },
  {
   "cell_type": "code",
   "execution_count": 7,
   "metadata": {},
   "outputs": [
    {
     "name": "stdout",
     "output_type": "stream",
     "text": [
      "파일에 쓰는 데이터 1\n",
      "파일에 쓰는 데이터 2\n",
      "파일에 쓰는 데이터 3\n"
     ]
    }
   ],
   "source": [
    "with open(\"test.txt\", \"rt\") as f:\n",
    "    # print(f.read()) # 한번에 모든 데이터 읽기\n",
    "    lines = f.readlines() # 데이터를 모두 읽고 행 단위로 나누어서 리스트로 반환\n",
    "    for line in lines:\n",
    "        print(line, end=\"\")"
   ]
  },
  {
   "cell_type": "code",
   "execution_count": 9,
   "metadata": {},
   "outputs": [],
   "source": [
    "# 파일 쓰기\n",
    "with open(\"test2.txt\", \"wt\", encoding=\"utf-8\") as f: # with 블록이 끝날때 파일을 자동으로 close\n",
    "    f.write(\"파일에 쓰는 데이터 1\\n\")\n",
    "    f.write(\"파일에 쓰는 데이터 2\\n\")\n",
    "    f.write(\"파일에 쓰는 데이터 3\\n\")   "
   ]
  },
  {
   "cell_type": "code",
   "execution_count": 11,
   "metadata": {},
   "outputs": [
    {
     "name": "stdout",
     "output_type": "stream",
     "text": [
      "파일에 쓰는 데이터 1\n",
      "파일에 쓰는 데이터 2\n",
      "파일에 쓰는 데이터 3\n"
     ]
    }
   ],
   "source": [
    "# 파일 쓰기\n",
    "with open(\"test2.txt\", \"rt\", encoding=\"utf-8\") as f: # with 블록이 끝날때 파일을 자동으로 close\n",
    "    lines = f.readlines() # 데이터를 모두 읽고 행 단위로 나누어서 리스트로 반환\n",
    "    for line in lines:\n",
    "        print(line, end=\"\")"
   ]
  }
 ],
 "metadata": {
  "kernelspec": {
   "display_name": "study-env",
   "language": "python",
   "name": "python3"
  },
  "language_info": {
   "codemirror_mode": {
    "name": "ipython",
    "version": 3
   },
   "file_extension": ".py",
   "mimetype": "text/x-python",
   "name": "python",
   "nbconvert_exporter": "python",
   "pygments_lexer": "ipython3",
   "version": "3.9.18"
  }
 },
 "nbformat": 4,
 "nbformat_minor": 2
}
