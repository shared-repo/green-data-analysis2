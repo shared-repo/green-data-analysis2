{
 "cells": [
  {
   "cell_type": "code",
   "execution_count": 1,
   "metadata": {},
   "outputs": [
    {
     "name": "stdout",
     "output_type": "stream",
     "text": [
      "1 - Got a true expression value\n",
      "100\n",
      "Good bye!\n"
     ]
    }
   ],
   "source": [
    "# 0은 False로 해석, 0이 아닌 숫자는 True로 해석\n",
    "var1 = 100\n",
    "if var1: # if var1 > 0, if var1 == 100 ...\n",
    "    print (\"1 - Got a true expression value\")\n",
    "    print (var1)\n",
    "\n",
    "var2 = 0\n",
    "if var2: # if var2 == 0\n",
    "    print (\"2 - Got a true expression value\")\n",
    "    print (var2)\n",
    "\n",
    "print (\"Good bye!\")\n"
   ]
  },
  {
   "cell_type": "code",
   "execution_count": 6,
   "metadata": {},
   "outputs": [
    {
     "name": "stdout",
     "output_type": "stream",
     "text": [
      "300 <class 'str'>\n",
      "100 이하\n"
     ]
    }
   ],
   "source": [
    "amount = input(\"Enter Amount\") # input : 사용자 입력 처리 (문자열)\n",
    "print(amount, type(amount))\n",
    "amount = int(amount) # 문자열 -> 숫자\n",
    "\n",
    "\n",
    "if amount > 500: # > (크다), >= (크거나 같다), < (작다), <= (작거나 같다), == (같다), != (다르다)\n",
    "    pass # 형태만 갖추가 실행 내용이 없는 명령\n",
    "    # print(\"500 초과\")\n",
    "elif amount > 300:\n",
    "    pass\n",
    "    print(\"300 초과 500 이하\")\n",
    "elif amount > 100:\n",
    "    pass\n",
    "    print(\"100 초과 300 이하\")\n",
    "else:\n",
    "    print(\"100 이하\")\n",
    "    pass"
   ]
  },
  {
   "cell_type": "code",
   "execution_count": 9,
   "metadata": {},
   "outputs": [
    {
     "name": "stdout",
     "output_type": "stream",
     "text": [
      "택시를 타고 가라\n"
     ]
    }
   ],
   "source": [
    "money = 2000\n",
    "card = 1\n",
    "if money >= 3000 or card:\n",
    "    print(\"택시를 타고 가라\")\n",
    "else:\n",
    "    print(\"걸어가라\")\n"
   ]
  },
  {
   "cell_type": "code",
   "execution_count": 10,
   "metadata": {},
   "outputs": [
    {
     "name": "stdout",
     "output_type": "stream",
     "text": [
      "택시를 타고 가라\n"
     ]
    }
   ],
   "source": [
    "pocket = ['paper', 'cellphone', 'money']\n",
    "if 'money' in pocket:\n",
    "    print(\"택시를 타고 가라\")\n",
    "else:\n",
    "    print(\"걸어가라\")"
   ]
  },
  {
   "cell_type": "code",
   "execution_count": null,
   "metadata": {},
   "outputs": [],
   "source": [
    "# 계산기 만들기\n",
    "\n",
    "# 1. 입력 : 숫자 연산자 숫자 (예: 10 + 5) input 사용\n",
    "# 2. 데이터 분할 : 숫자 연산자 분할해서 변수에 저장 ( 예: 10 + 5 -> 10, +, 5 ) split 사용\n",
    "# 3. 2의 문자열 형식 숫자를 숫자형식으로 변환 ( 예: \"10\" -> 10, \"5\" -> 5) int or float\n",
    "# ==========여기까지 수행 후에 출력 테스트\n",
    "\n",
    "# 4. 사용자가 입력한 연산자를 조건으로 선택적 연산 수행 ( +, -, *, /, % ) if ~ elif ~ else\n",
    "#    수행결과를 변수에 저장\n",
    "# 5. 결과 출력"
   ]
  },
  {
   "cell_type": "code",
   "execution_count": 15,
   "metadata": {},
   "outputs": [
    {
     "name": "stdout",
     "output_type": "stream",
     "text": [
      "15 * 22\n",
      "['15', '*', '22'] <class 'list'>\n",
      "<class 'int'> <class 'int'> <class 'int'> <class 'int'>\n",
      "15 * 22 = 330\n",
      "15 * 22 = 330\n"
     ]
    }
   ],
   "source": [
    "calculation = input(\"계산식을 입력하세요 (예: 10 + 5) : \")\n",
    "print(calculation)\n",
    "values = calculation.split()\n",
    "print(values, type(values))\n",
    "# 문자열 숫자를 숫자로 변경하는 방법 1\n",
    "operand1 = int(values[0])\n",
    "operand2 = int(values[2])\n",
    "op = values[1]\n",
    "# 문자열 숫자를 숫자로 변경하는 방법 2\n",
    "values[0] = int(values[0])\n",
    "values[2] = int(values[2])\n",
    "print(type(operand1), type(operand2), type(values[0]), type(values[2]))\n",
    "\n",
    "if op == \"+\": # if values[1] == \"+\"\n",
    "    result = operand1 + operand2\n",
    "    pass\n",
    "elif op == \"-\":\n",
    "    result = operand1 - operand2\n",
    "    pass\n",
    "elif op == \"*\":\n",
    "    result = operand1 * operand2\n",
    "    pass\n",
    "elif op == \"/\":\n",
    "    result = operand1 / operand2\n",
    "    pass\n",
    "else:\n",
    "    result = operand1 % operand2\n",
    "    pass\n",
    "\n",
    "print(f\"{operand1} {op} {operand2} = {result}\")\n",
    "print(\"{0} {1} {2} = {3}\".format(operand1, op, operand2, result))"
   ]
  },
  {
   "cell_type": "code",
   "execution_count": 18,
   "metadata": {},
   "outputs": [
    {
     "name": "stdout",
     "output_type": "stream",
     "text": [
      "[90, 87, 92]\n",
      "총점 : 269, 평균 : 89.66666666666667\n"
     ]
    }
   ],
   "source": [
    "# 점수 처리\n",
    "# 1. 리스트형 변수 만들기\n",
    "# 2. 점수 입력 -> 숫자형 변환 -> 리스트에 추가 (append 사용) 하는 작업을 3번 수행\n",
    "# 3. 총점 계산, 평균 계산\n",
    "# 4. 출력\n",
    "\n",
    "scores = [] # list()\n",
    "kor = input(\"국어 점수\")\n",
    "kor = int(kor)\n",
    "scores.append(kor)\n",
    "scores.append(int(input(\"수학 점수\")))\n",
    "scores.append(int(input(\"영어 점수\")))\n",
    "scores.append(int(input(\"영어 점수\")))\n",
    "print(scores)\n",
    "\n",
    "# hap = scores[0] + scores[1] + scores[2]\n",
    "hap = sum(scores) # sum : 리스트, 튜플 등의 합 계산\n",
    "mean = hap / 3\n",
    "print(f\"총점 : {hap}, 평균 : {mean}\")\n",
    "\n"
   ]
  },
  {
   "cell_type": "code",
   "execution_count": 19,
   "metadata": {},
   "outputs": [
    {
     "name": "stdout",
     "output_type": "stream",
     "text": [
      "나무를 1번 찍었습니다.\n",
      "나무를 2번 찍었습니다.\n",
      "나무를 3번 찍었습니다.\n",
      "나무를 4번 찍었습니다.\n",
      "나무를 5번 찍었습니다.\n",
      "나무를 6번 찍었습니다.\n",
      "나무를 7번 찍었습니다.\n",
      "나무를 8번 찍었습니다.\n",
      "나무를 9번 찍었습니다.\n",
      "나무를 10번 찍었습니다.\n",
      "나무 넘어갑니다.\n"
     ]
    }
   ],
   "source": [
    "treeHit = 0\n",
    "while treeHit < 10:\n",
    "    treeHit = treeHit + 1\n",
    "    # print(\"나무를 %d번 찍었습니다.\" % treeHit)\n",
    "    print(\"나무를 {0}번 찍었습니다.\".format(treeHit))\n",
    "    if treeHit == 10:\n",
    "        print(\"나무 넘어갑니다.\")"
   ]
  },
  {
   "cell_type": "code",
   "execution_count": 20,
   "metadata": {},
   "outputs": [
    {
     "name": "stdout",
     "output_type": "stream",
     "text": [
      "one\n",
      "two\n",
      "three\n"
     ]
    }
   ],
   "source": [
    "test_list = ['one', 'two', 'three'] \n",
    "for i in test_list: \n",
    "    print(i)"
   ]
  },
  {
   "cell_type": "code",
   "execution_count": 25,
   "metadata": {},
   "outputs": [
    {
     "name": "stdout",
     "output_type": "stream",
     "text": [
      "Hello Python 1\n",
      "Hello Python 2\n",
      "Hello Python 3\n",
      "Hello Python 4\n",
      "Hello Python 5\n",
      "Hello Python 6\n",
      "Hello Python 7\n",
      "Hello Python 8\n",
      "Hello Python 9\n",
      "Hello Python 10\n"
     ]
    }
   ],
   "source": [
    "for i in range(10): # range(10) : 0 ~ 10의 숫자 목록 반환\n",
    "    # print(i)\n",
    "    print(f\"Hello Python {i + 1}\")"
   ]
  },
  {
   "cell_type": "code",
   "execution_count": 30,
   "metadata": {},
   "outputs": [
    {
     "name": "stdout",
     "output_type": "stream",
     "text": [
      "(1, 2)\n",
      "1 2\n",
      "(3, 4)\n",
      "3 4\n",
      "(5, 6)\n",
      "5 6\n",
      "1 2\n",
      "3 4\n",
      "5 6\n"
     ]
    }
   ],
   "source": [
    "a = [(1,2), (3,4), (5,6)]\n",
    "\n",
    "for v in a:\n",
    "    print(v)\n",
    "    print(v[0], v[1])\n",
    "\n",
    "# for (first, last) in a:\n",
    "for first, last in a:\n",
    "    print(first, last)\n"
   ]
  },
  {
   "cell_type": "code",
   "execution_count": 43,
   "metadata": {},
   "outputs": [
    {
     "name": "stdout",
     "output_type": "stream",
     "text": [
      "총점 : 1633, 평균 : 54.43333333333333\n"
     ]
    }
   ],
   "source": [
    "# 점수 처리\n",
    "# 1. 리스트형 변수 만들기\n",
    "# 2. 점수 입력 -> 숫자형 변환 -> 리스트에 추가 (append 사용) 하는 작업을 30번 수행 : 반복문을 사용해서 처리\n",
    "# 3. 총점 계산 (반복문 사용), 평균 계산\n",
    "# 4. 출력\n",
    "\n",
    "import random # random module 가져오기\n",
    "\n",
    "scores = [] # list()\n",
    "for _ in range(30):\n",
    "    # scores.append(float(input(f\"{i+1}번째 점수를 입력하세요\"))) # 입력처리\n",
    "    # 난수 처리\n",
    "    scores.append(random.randint(0, 100))\n",
    "    pass\n",
    "\n",
    "hap = 0\n",
    "for score in scores:\n",
    "    hap = hap + score\n",
    "\n",
    "# hap = sum(scores) # sum : 리스트, 튜플 등의 합 계산\n",
    "\n",
    "mean = hap / len(scores)\n",
    "print(f\"총점 : {hap}, 평균 : {mean}\")"
   ]
  },
  {
   "cell_type": "code",
   "execution_count": 3,
   "metadata": {},
   "outputs": [
    {
     "name": "stdout",
     "output_type": "stream",
     "text": [
      "1\n",
      "2\n",
      "3\n",
      "4\n"
     ]
    }
   ],
   "source": [
    "mylist=[1,2,3,4]\n",
    "it = iter(mylist) # 반복자 만들기\n",
    "\n",
    "while True:\n",
    "    try:\n",
    "        print (next(it))\n",
    "    except:\n",
    "        break\n",
    "\n",
    "it = iter(mylist)\n",
    "for x in it:\n",
    "    print (x, end=\" \")\n"
   ]
  },
  {
   "cell_type": "code",
   "execution_count": 9,
   "metadata": {},
   "outputs": [
    {
     "name": "stdout",
     "output_type": "stream",
     "text": [
      "[3, 6, 9, 12, 15, 18, 21]\n",
      "{2: 6, 4: 12, 6: 18}\n"
     ]
    }
   ],
   "source": [
    "a = [1, 2, 3, 4, 5, 6, 7]\n",
    "b = []\n",
    "# a의 요소를 b로 복사\n",
    "for v in a:\n",
    "    b.append(v * 3)\n",
    "print(b)\n",
    "\n",
    "# result = [num * 3 for num in a]\n",
    "# result = (num * 3 for num in a)\n",
    "# result = { num:num*3 for num in a }\n",
    "result = { num:num*3 for num in a if num % 2 == 0 }\n",
    "print(result)"
   ]
  },
  {
   "cell_type": "code",
   "execution_count": 10,
   "metadata": {},
   "outputs": [
    {
     "name": "stdout",
     "output_type": "stream",
     "text": [
      "커피를 줍니다.\n",
      "커피를 줍니다.\n",
      "커피를 줍니다.\n",
      "커피가 다 떨어졌습니다. 판매를 중지 합니다.\n"
     ]
    }
   ],
   "source": [
    "coffee = 3\n",
    "while True: # 무한 루프 -> 반드시 내부에 break를 적용해야 합니다.\n",
    "    money = int(input(\"돈을 넣어 주세요: \"))\n",
    "    if money == 300:\n",
    "        print(\"커피를 줍니다.\")\n",
    "        coffee = coffee -1\n",
    "    elif money > 300:\n",
    "        print(\"거스름돈 %d를 주고 커피를 줍니다.\" % (money - 300))\n",
    "        coffee = coffee - 1\n",
    "    else:\n",
    "        print(\"돈을 다시 돌려주고 커피를 주지 않습니다.\")\n",
    "        print(\"남은 커피의 양은 %d개 입니다.\" % coffee)\n",
    "\n",
    "    if not coffee: # coffee가 False라면 : if coffee == 0\n",
    "        print(\"커피가 다 떨어졌습니다. 판매를 중지 합니다.\")\n",
    "        break # 반복문 중단(중지)\n"
   ]
  },
  {
   "cell_type": "code",
   "execution_count": 15,
   "metadata": {},
   "outputs": [
    {
     "name": "stdout",
     "output_type": "stream",
     "text": [
      "0\n",
      "1\n",
      "2\n",
      "3\n"
     ]
    }
   ],
   "source": [
    "a = 0\n",
    "while a < 5:\n",
    "    print (a)\n",
    "    if a == 3:\n",
    "        break\n",
    "        # pass\n",
    "    a = a + 1\n",
    "else: # 반복문이 조건에 의해 정상적으로 종료되면 실행되는 영역 ( break 되지 않았을 때 )\n",
    "    print(\"end of loop\")"
   ]
  },
  {
   "cell_type": "code",
   "execution_count": 16,
   "metadata": {},
   "outputs": [
    {
     "name": "stdout",
     "output_type": "stream",
     "text": [
      "1\n",
      "3\n",
      "5\n",
      "7\n",
      "9\n"
     ]
    }
   ],
   "source": [
    "# a -= 5 : a = a - 5\n",
    "# a *= 5 : a = a * 5\n",
    "\n",
    "\n",
    "a = 0\n",
    "while a < 10:\n",
    "    a += 1 # a = a + 1 \n",
    "    if a % 2 == 0: \n",
    "        continue\n",
    "    print(a)\n"
   ]
  },
  {
   "cell_type": "code",
   "execution_count": 19,
   "metadata": {},
   "outputs": [
    {
     "data": {
      "text/plain": [
       "42.5"
      ]
     },
     "execution_count": 19,
     "metadata": {},
     "output_type": "execute_result"
    }
   ],
   "source": [
    "(1 +2+3 +4 +5 +6) / 6\n",
    "(40 + 41 + 42 + 43 + 44 + 45) / 6"
   ]
  },
  {
   "cell_type": "code",
   "execution_count": null,
   "metadata": {},
   "outputs": [],
   "source": [
    "# 1. 1 ~ 45, 중복X, 6개 숫자 뽑기\n",
    "#    list 사용, random 사용, 반복문 사용, in / not in 사용\n",
    "\n",
    "# 2. 평균 계산\n",
    "# 3. 테스트 출력\n",
    "# ############\n",
    "# 4. 평균이 20 ~ 26이 아니면 1부터 다시\n",
    "\n",
    "# 5. 사용자가 원할 때까지 반복"
   ]
  },
  {
   "cell_type": "code",
   "execution_count": 57,
   "metadata": {},
   "outputs": [
    {
     "name": "stdout",
     "output_type": "stream",
     "text": [
      "지원하지 않는 명령입니다.\n",
      "[3, 16, 24, 29, 30, 45] 24.5\n",
      "행운을 빕니다.\n"
     ]
    }
   ],
   "source": [
    "import random\n",
    "\n",
    "while True:\n",
    "    selection = input(\"[1. 당첨 예상번호 뽑기] [2. 종료] 선택하세요\") \n",
    "    if selection == \"2\":\n",
    "        print(\"행운을 빕니다.\")\n",
    "        break\n",
    "    elif selection == \"1\":\n",
    "        pass\n",
    "    else:\n",
    "        print(\"지원하지 않는 명령입니다.\")\n",
    "        continue\n",
    "\n",
    "    selected_numbers = []\n",
    "\n",
    "    while True: # 평균 검사 반복\n",
    "        # for _ in range(6):\n",
    "        while len(selected_numbers) < 6: # 숫자 뽑기 반복\n",
    "            number = random.randint(1, 45)\n",
    "            # if number not in selected_numbers:\n",
    "            #     selected_numbers.append(number)\n",
    "            if number in selected_numbers:\n",
    "                continue\n",
    "            selected_numbers.append(number)\n",
    "\n",
    "        mean = sum(selected_numbers) / len(selected_numbers)\n",
    "\n",
    "        if mean >= 20 and mean <= 26:\n",
    "            break\n",
    "        \n",
    "        selected_numbers.clear() # 기존 리스트의 모든 요소 제거\n",
    "\n",
    "    selected_numbers.sort()\n",
    "    print(selected_numbers, mean)"
   ]
  }
 ],
 "metadata": {
  "kernelspec": {
   "display_name": "study-env",
   "language": "python",
   "name": "python3"
  },
  "language_info": {
   "codemirror_mode": {
    "name": "ipython",
    "version": 3
   },
   "file_extension": ".py",
   "mimetype": "text/x-python",
   "name": "python",
   "nbconvert_exporter": "python",
   "pygments_lexer": "ipython3",
   "version": "3.9.18"
  }
 },
 "nbformat": 4,
 "nbformat_minor": 2
}
