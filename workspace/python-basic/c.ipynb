{
 "cells": [
  {
   "cell_type": "code",
   "execution_count": 1,
   "metadata": {},
   "outputs": [
    {
     "name": "stdout",
     "output_type": "stream",
     "text": [
      "1 - Got a true expression value\n",
      "100\n",
      "Good bye!\n"
     ]
    }
   ],
   "source": [
    "# 0은 False로 해석, 0이 아닌 숫자는 True로 해석\n",
    "var1 = 100\n",
    "if var1: # if var1 > 0, if var1 == 100 ...\n",
    "    print (\"1 - Got a true expression value\")\n",
    "    print (var1)\n",
    "\n",
    "var2 = 0\n",
    "if var2: # if var2 == 0\n",
    "    print (\"2 - Got a true expression value\")\n",
    "    print (var2)\n",
    "\n",
    "print (\"Good bye!\")\n"
   ]
  },
  {
   "cell_type": "code",
   "execution_count": 6,
   "metadata": {},
   "outputs": [
    {
     "name": "stdout",
     "output_type": "stream",
     "text": [
      "300 <class 'str'>\n",
      "100 이하\n"
     ]
    }
   ],
   "source": [
    "amount = input(\"Enter Amount\") # input : 사용자 입력 처리 (문자열)\n",
    "print(amount, type(amount))\n",
    "amount = int(amount) # 문자열 -> 숫자\n",
    "\n",
    "\n",
    "if amount > 500: # > (크다), >= (크거나 같다), < (작다), <= (작거나 같다), == (같다), != (다르다)\n",
    "    pass # 형태만 갖추가 실행 내용이 없는 명령\n",
    "    # print(\"500 초과\")\n",
    "elif amount > 300:\n",
    "    pass\n",
    "    print(\"300 초과 500 이하\")\n",
    "elif amount > 100:\n",
    "    pass\n",
    "    print(\"100 초과 300 이하\")\n",
    "else:\n",
    "    print(\"100 이하\")\n",
    "    pass"
   ]
  },
  {
   "cell_type": "code",
   "execution_count": 9,
   "metadata": {},
   "outputs": [
    {
     "name": "stdout",
     "output_type": "stream",
     "text": [
      "택시를 타고 가라\n"
     ]
    }
   ],
   "source": [
    "money = 2000\n",
    "card = 1\n",
    "if money >= 3000 or card:\n",
    "    print(\"택시를 타고 가라\")\n",
    "else:\n",
    "    print(\"걸어가라\")\n"
   ]
  }
 ],
 "metadata": {
  "kernelspec": {
   "display_name": "study-env",
   "language": "python",
   "name": "python3"
  },
  "language_info": {
   "codemirror_mode": {
    "name": "ipython",
    "version": 3
   },
   "file_extension": ".py",
   "mimetype": "text/x-python",
   "name": "python",
   "nbconvert_exporter": "python",
   "pygments_lexer": "ipython3",
   "version": "3.9.18"
  }
 },
 "nbformat": 4,
 "nbformat_minor": 2
}
