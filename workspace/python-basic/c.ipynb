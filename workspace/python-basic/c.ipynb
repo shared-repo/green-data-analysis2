{
 "cells": [
  {
   "cell_type": "code",
   "execution_count": 1,
   "metadata": {},
   "outputs": [
    {
     "name": "stdout",
     "output_type": "stream",
     "text": [
      "1 - Got a true expression value\n",
      "100\n",
      "Good bye!\n"
     ]
    }
   ],
   "source": [
    "# 0은 False로 해석, 0이 아닌 숫자는 True로 해석\n",
    "var1 = 100\n",
    "if var1: # if var1 > 0, if var1 == 100 ...\n",
    "    print (\"1 - Got a true expression value\")\n",
    "    print (var1)\n",
    "\n",
    "var2 = 0\n",
    "if var2: # if var2 == 0\n",
    "    print (\"2 - Got a true expression value\")\n",
    "    print (var2)\n",
    "\n",
    "print (\"Good bye!\")\n"
   ]
  },
  {
   "cell_type": "code",
   "execution_count": 6,
   "metadata": {},
   "outputs": [
    {
     "name": "stdout",
     "output_type": "stream",
     "text": [
      "300 <class 'str'>\n",
      "100 이하\n"
     ]
    }
   ],
   "source": [
    "amount = input(\"Enter Amount\") # input : 사용자 입력 처리 (문자열)\n",
    "print(amount, type(amount))\n",
    "amount = int(amount) # 문자열 -> 숫자\n",
    "\n",
    "\n",
    "if amount > 500: # > (크다), >= (크거나 같다), < (작다), <= (작거나 같다), == (같다), != (다르다)\n",
    "    pass # 형태만 갖추가 실행 내용이 없는 명령\n",
    "    # print(\"500 초과\")\n",
    "elif amount > 300:\n",
    "    pass\n",
    "    print(\"300 초과 500 이하\")\n",
    "elif amount > 100:\n",
    "    pass\n",
    "    print(\"100 초과 300 이하\")\n",
    "else:\n",
    "    print(\"100 이하\")\n",
    "    pass"
   ]
  },
  {
   "cell_type": "code",
   "execution_count": 9,
   "metadata": {},
   "outputs": [
    {
     "name": "stdout",
     "output_type": "stream",
     "text": [
      "택시를 타고 가라\n"
     ]
    }
   ],
   "source": [
    "money = 2000\n",
    "card = 1\n",
    "if money >= 3000 or card:\n",
    "    print(\"택시를 타고 가라\")\n",
    "else:\n",
    "    print(\"걸어가라\")\n"
   ]
  },
  {
   "cell_type": "code",
   "execution_count": 10,
   "metadata": {},
   "outputs": [
    {
     "name": "stdout",
     "output_type": "stream",
     "text": [
      "택시를 타고 가라\n"
     ]
    }
   ],
   "source": [
    "pocket = ['paper', 'cellphone', 'money']\n",
    "if 'money' in pocket:\n",
    "    print(\"택시를 타고 가라\")\n",
    "else:\n",
    "    print(\"걸어가라\")"
   ]
  },
  {
   "cell_type": "code",
   "execution_count": null,
   "metadata": {},
   "outputs": [],
   "source": [
    "# 계산기 만들기\n",
    "\n",
    "# 1. 입력 : 숫자 연산자 숫자 (예: 10 + 5) input 사용\n",
    "# 2. 데이터 분할 : 숫자 연산자 분할해서 변수에 저장 ( 예: 10 + 5 -> 10, +, 5 ) split 사용\n",
    "# 3. 2의 문자열 형식 숫자를 숫자형식으로 변환 ( 예: \"10\" -> 10, \"5\" -> 5) int or float\n",
    "# ==========여기까지 수행 후에 출력 테스트\n",
    "\n",
    "# 4. 사용자가 입력한 연산자를 조건으로 선택적 연산 수행 ( +, -, *, /, % ) if ~ elif ~ else\n",
    "#    수행결과를 변수에 저장\n",
    "# 5. 결과 출력"
   ]
  },
  {
   "cell_type": "code",
   "execution_count": 15,
   "metadata": {},
   "outputs": [
    {
     "name": "stdout",
     "output_type": "stream",
     "text": [
      "15 * 22\n",
      "['15', '*', '22'] <class 'list'>\n",
      "<class 'int'> <class 'int'> <class 'int'> <class 'int'>\n",
      "15 * 22 = 330\n",
      "15 * 22 = 330\n"
     ]
    }
   ],
   "source": [
    "calculation = input(\"계산식을 입력하세요 (예: 10 + 5) : \")\n",
    "print(calculation)\n",
    "values = calculation.split()\n",
    "print(values, type(values))\n",
    "# 문자열 숫자를 숫자로 변경하는 방법 1\n",
    "operand1 = int(values[0])\n",
    "operand2 = int(values[2])\n",
    "op = values[1]\n",
    "# 문자열 숫자를 숫자로 변경하는 방법 2\n",
    "values[0] = int(values[0])\n",
    "values[2] = int(values[2])\n",
    "print(type(operand1), type(operand2), type(values[0]), type(values[2]))\n",
    "\n",
    "if op == \"+\": # if values[1] == \"+\"\n",
    "    result = operand1 + operand2\n",
    "    pass\n",
    "elif op == \"-\":\n",
    "    result = operand1 - operand2\n",
    "    pass\n",
    "elif op == \"*\":\n",
    "    result = operand1 * operand2\n",
    "    pass\n",
    "elif op == \"/\":\n",
    "    result = operand1 / operand2\n",
    "    pass\n",
    "else:\n",
    "    result = operand1 % operand2\n",
    "    pass\n",
    "\n",
    "print(f\"{operand1} {op} {operand2} = {result}\")\n",
    "print(\"{0} {1} {2} = {3}\".format(operand1, op, operand2, result))"
   ]
  },
  {
   "cell_type": "code",
   "execution_count": 18,
   "metadata": {},
   "outputs": [
    {
     "name": "stdout",
     "output_type": "stream",
     "text": [
      "[90, 87, 92]\n",
      "총점 : 269, 평균 : 89.66666666666667\n"
     ]
    }
   ],
   "source": [
    "# 점수 처리\n",
    "# 1. 리스트형 변수 만들기\n",
    "# 2. 점수 입력 -> 숫자형 변환 -> 리스트에 추가 (append 사용) 하는 작업을 3번 수행\n",
    "# 3. 총점 계산, 평균 계산\n",
    "# 4. 출력\n",
    "\n",
    "scores = [] # list()\n",
    "kor = input(\"국어 점수\")\n",
    "kor = int(kor)\n",
    "scores.append(kor)\n",
    "scores.append(int(input(\"수학 점수\")))\n",
    "scores.append(int(input(\"영어 점수\")))\n",
    "scores.append(int(input(\"영어 점수\")))\n",
    "print(scores)\n",
    "\n",
    "# hap = scores[0] + scores[1] + scores[2]\n",
    "hap = sum(scores) # sum : 리스트, 튜플 등의 합 계산\n",
    "mean = hap / 3\n",
    "print(f\"총점 : {hap}, 평균 : {mean}\")\n",
    "\n"
   ]
  },
  {
   "cell_type": "code",
   "execution_count": 19,
   "metadata": {},
   "outputs": [
    {
     "name": "stdout",
     "output_type": "stream",
     "text": [
      "나무를 1번 찍었습니다.\n",
      "나무를 2번 찍었습니다.\n",
      "나무를 3번 찍었습니다.\n",
      "나무를 4번 찍었습니다.\n",
      "나무를 5번 찍었습니다.\n",
      "나무를 6번 찍었습니다.\n",
      "나무를 7번 찍었습니다.\n",
      "나무를 8번 찍었습니다.\n",
      "나무를 9번 찍었습니다.\n",
      "나무를 10번 찍었습니다.\n",
      "나무 넘어갑니다.\n"
     ]
    }
   ],
   "source": [
    "treeHit = 0\n",
    "while treeHit < 10:\n",
    "    treeHit = treeHit + 1\n",
    "    # print(\"나무를 %d번 찍었습니다.\" % treeHit)\n",
    "    print(\"나무를 {0}번 찍었습니다.\".format(treeHit))\n",
    "    if treeHit == 10:\n",
    "        print(\"나무 넘어갑니다.\")"
   ]
  },
  {
   "cell_type": "code",
   "execution_count": 20,
   "metadata": {},
   "outputs": [
    {
     "name": "stdout",
     "output_type": "stream",
     "text": [
      "one\n",
      "two\n",
      "three\n"
     ]
    }
   ],
   "source": [
    "test_list = ['one', 'two', 'three'] \n",
    "for i in test_list: \n",
    "    print(i)"
   ]
  },
  {
   "cell_type": "code",
   "execution_count": 25,
   "metadata": {},
   "outputs": [
    {
     "name": "stdout",
     "output_type": "stream",
     "text": [
      "Hello Python 1\n",
      "Hello Python 2\n",
      "Hello Python 3\n",
      "Hello Python 4\n",
      "Hello Python 5\n",
      "Hello Python 6\n",
      "Hello Python 7\n",
      "Hello Python 8\n",
      "Hello Python 9\n",
      "Hello Python 10\n"
     ]
    }
   ],
   "source": [
    "for i in range(10): # range(10) : 0 ~ 10의 숫자 목록 반환\n",
    "    # print(i)\n",
    "    print(f\"Hello Python {i + 1}\")"
   ]
  },
  {
   "cell_type": "code",
   "execution_count": 30,
   "metadata": {},
   "outputs": [
    {
     "name": "stdout",
     "output_type": "stream",
     "text": [
      "(1, 2)\n",
      "1 2\n",
      "(3, 4)\n",
      "3 4\n",
      "(5, 6)\n",
      "5 6\n",
      "1 2\n",
      "3 4\n",
      "5 6\n"
     ]
    }
   ],
   "source": [
    "a = [(1,2), (3,4), (5,6)]\n",
    "\n",
    "for v in a:\n",
    "    print(v)\n",
    "    print(v[0], v[1])\n",
    "\n",
    "# for (first, last) in a:\n",
    "for first, last in a:\n",
    "    print(first, last)\n"
   ]
  },
  {
   "cell_type": "code",
   "execution_count": 43,
   "metadata": {},
   "outputs": [
    {
     "name": "stdout",
     "output_type": "stream",
     "text": [
      "총점 : 1633, 평균 : 54.43333333333333\n"
     ]
    }
   ],
   "source": [
    "# 점수 처리\n",
    "# 1. 리스트형 변수 만들기\n",
    "# 2. 점수 입력 -> 숫자형 변환 -> 리스트에 추가 (append 사용) 하는 작업을 30번 수행 : 반복문을 사용해서 처리\n",
    "# 3. 총점 계산 (반복문 사용), 평균 계산\n",
    "# 4. 출력\n",
    "\n",
    "import random # random module 가져오기\n",
    "\n",
    "scores = [] # list()\n",
    "for _ in range(30):\n",
    "    # scores.append(float(input(f\"{i+1}번째 점수를 입력하세요\"))) # 입력처리\n",
    "    # 난수 처리\n",
    "    scores.append(random.randint(0, 100))\n",
    "    pass\n",
    "\n",
    "hap = 0\n",
    "for score in scores:\n",
    "    hap = hap + score\n",
    "\n",
    "# hap = sum(scores) # sum : 리스트, 튜플 등의 합 계산\n",
    "\n",
    "mean = hap / len(scores)\n",
    "print(f\"총점 : {hap}, 평균 : {mean}\")"
   ]
  }
 ],
 "metadata": {
  "kernelspec": {
   "display_name": "study-env",
   "language": "python",
   "name": "python3"
  },
  "language_info": {
   "codemirror_mode": {
    "name": "ipython",
    "version": 3
   },
   "file_extension": ".py",
   "mimetype": "text/x-python",
   "name": "python",
   "nbconvert_exporter": "python",
   "pygments_lexer": "ipython3",
   "version": "3.9.18"
  }
 },
 "nbformat": 4,
 "nbformat_minor": 2
}
