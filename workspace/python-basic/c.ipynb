{
 "cells": [
  {
   "cell_type": "code",
   "execution_count": 1,
   "metadata": {},
   "outputs": [
    {
     "name": "stdout",
     "output_type": "stream",
     "text": [
      "1 - Got a true expression value\n",
      "100\n",
      "Good bye!\n"
     ]
    }
   ],
   "source": [
    "# 0은 False로 해석, 0이 아닌 숫자는 True로 해석\n",
    "var1 = 100\n",
    "if var1: # if var1 > 0, if var1 == 100 ...\n",
    "    print (\"1 - Got a true expression value\")\n",
    "    print (var1)\n",
    "\n",
    "var2 = 0\n",
    "if var2: # if var2 == 0\n",
    "    print (\"2 - Got a true expression value\")\n",
    "    print (var2)\n",
    "\n",
    "print (\"Good bye!\")\n"
   ]
  },
  {
   "cell_type": "code",
   "execution_count": 6,
   "metadata": {},
   "outputs": [
    {
     "name": "stdout",
     "output_type": "stream",
     "text": [
      "300 <class 'str'>\n",
      "100 이하\n"
     ]
    }
   ],
   "source": [
    "amount = input(\"Enter Amount\") # input : 사용자 입력 처리 (문자열)\n",
    "print(amount, type(amount))\n",
    "amount = int(amount) # 문자열 -> 숫자\n",
    "\n",
    "\n",
    "if amount > 500: # > (크다), >= (크거나 같다), < (작다), <= (작거나 같다), == (같다), != (다르다)\n",
    "    pass # 형태만 갖추가 실행 내용이 없는 명령\n",
    "    # print(\"500 초과\")\n",
    "elif amount > 300:\n",
    "    pass\n",
    "    print(\"300 초과 500 이하\")\n",
    "elif amount > 100:\n",
    "    pass\n",
    "    print(\"100 초과 300 이하\")\n",
    "else:\n",
    "    print(\"100 이하\")\n",
    "    pass"
   ]
  },
  {
   "cell_type": "code",
   "execution_count": 9,
   "metadata": {},
   "outputs": [
    {
     "name": "stdout",
     "output_type": "stream",
     "text": [
      "택시를 타고 가라\n"
     ]
    }
   ],
   "source": [
    "money = 2000\n",
    "card = 1\n",
    "if money >= 3000 or card:\n",
    "    print(\"택시를 타고 가라\")\n",
    "else:\n",
    "    print(\"걸어가라\")\n"
   ]
  },
  {
   "cell_type": "code",
   "execution_count": 10,
   "metadata": {},
   "outputs": [
    {
     "name": "stdout",
     "output_type": "stream",
     "text": [
      "택시를 타고 가라\n"
     ]
    }
   ],
   "source": [
    "pocket = ['paper', 'cellphone', 'money']\n",
    "if 'money' in pocket:\n",
    "    print(\"택시를 타고 가라\")\n",
    "else:\n",
    "    print(\"걸어가라\")"
   ]
  },
  {
   "cell_type": "code",
   "execution_count": null,
   "metadata": {},
   "outputs": [],
   "source": [
    "# 계산기 만들기\n",
    "\n",
    "# 1. 입력 : 숫자 연산자 숫자 (예: 10 + 5) input 사용\n",
    "# 2. 데이터 분할 : 숫자 연산자 분할해서 변수에 저장 ( 예: 10 + 5 -> 10, +, 5 ) split 사용\n",
    "# 3. 2의 문자열 형식 숫자를 숫자형식으로 변환 ( 예: \"10\" -> 10, \"5\" -> 5) int or float\n",
    "# ==========여기까지 수행 후에 출력 테스트\n",
    "\n",
    "# 4. 사용자가 입력한 연산자를 조건으로 선택적 연산 수행 ( +, -, *, /, % ) if ~ elif ~ else\n",
    "#    수행결과를 변수에 저장\n",
    "# 5. 결과 출력"
   ]
  },
  {
   "cell_type": "code",
   "execution_count": 14,
   "metadata": {},
   "outputs": [
    {
     "name": "stdout",
     "output_type": "stream",
     "text": [
      "30 + 25\n",
      "['30', '+', '25'] <class 'list'>\n",
      "<class 'int'> <class 'int'> <class 'int'> <class 'str'>\n"
     ]
    }
   ],
   "source": [
    "calculation = input(\"계산식을 입력하세요 (예: 10 + 5) : \")\n",
    "print(calculation)\n",
    "values = calculation.split()\n",
    "print(values, type(values))\n",
    "# 문자열 숫자를 숫자로 변경하는 방법 1\n",
    "operand1 = int(values[0])\n",
    "operand2 = int(values[2])\n",
    "op = values[1]\n",
    "# 문자열 숫자를 숫자로 변경하는 방법 2\n",
    "values[0] = int(values[0])\n",
    "values[2] = int(values[2])\n",
    "print(type(operand1), type(operand2), type(values[0]), type(values[2]))\n",
    "\n",
    "if op == \"+\": # if values[1] == \"+\"\n",
    "    result = operand1 + operand2\n",
    "    pass\n",
    "elif op == \"-\":\n",
    "    result = operand1 - operand2\n",
    "    pass\n",
    "elif op == \"*\":\n",
    "    result = operand1 * operand2\n",
    "    pass\n",
    "elif op == \"/\":\n",
    "    result = operand1 / operand2\n",
    "    pass\n",
    "else:\n",
    "    result = operand1 % operand2\n",
    "    pass\n",
    "\n",
    "print(f\"{operand1} {op} {operand2} = {result}\")\n",
    "print(\"{0} {1} {2} = {3}\".format(operand1, op, operand2, result))"
   ]
  }
 ],
 "metadata": {
  "kernelspec": {
   "display_name": "study-env",
   "language": "python",
   "name": "python3"
  },
  "language_info": {
   "codemirror_mode": {
    "name": "ipython",
    "version": 3
   },
   "file_extension": ".py",
   "mimetype": "text/x-python",
   "name": "python",
   "nbconvert_exporter": "python",
   "pygments_lexer": "ipython3",
   "version": "3.9.18"
  }
 },
 "nbformat": 4,
 "nbformat_minor": 2
}
