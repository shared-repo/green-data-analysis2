{
 "cells": [
  {
   "cell_type": "code",
   "execution_count": null,
   "metadata": {},
   "outputs": [],
   "source": [
    "# 주석 : 인터프리터가 해석하지 않는 영역 "
   ]
  },
  {
   "cell_type": "code",
   "execution_count": 4,
   "metadata": {},
   "outputs": [],
   "source": [
    "a = 10 # a는 변수 이름\n",
    "# b-c = \"hello\" # 오류 : -는 이름으로 사용할 수 없는 문자\n",
    "# 10a = \"test\" # 오류 : 이름을 숫자로 시작할 수 없습니다.\n",
    "b10 = 100"
   ]
  },
  {
   "cell_type": "code",
   "execution_count": null,
   "metadata": {},
   "outputs": [],
   "source": [
    "if a == 10:\n",
    "    print('a는 ')\n",
    "    print('10 입니다.')\n",
    "else:\n",
    "    print('a는 ')\n",
    "    print('10이 아닙니다.')\n",
    "# print(\"이 문장은 오류 : 들여쓰기 오류\")"
   ]
  },
  {
   "cell_type": "code",
   "execution_count": 5,
   "metadata": {},
   "outputs": [
    {
     "name": "stdout",
     "output_type": "stream",
     "text": [
      "150\n",
      "150\n",
      "22500\n"
     ]
    }
   ],
   "source": [
    "v = 10 + 20 + \\\n",
    "    30 + 40 + 50\n",
    "\n",
    "print(v)\n",
    "print(v); print(v*v)"
   ]
  },
  {
   "cell_type": "code",
   "execution_count": 7,
   "metadata": {},
   "outputs": [
    {
     "name": "stdout",
     "output_type": "stream",
     "text": [
      "10\n",
      "c\n",
      "c\n",
      "c\n",
      "c\n",
      "abc\n",
      "      def\n"
     ]
    }
   ],
   "source": [
    "c = 10\n",
    "print(c)\n",
    "print('c')\n",
    "print(\"c\")\n",
    "print(\"\"\"c\"\"\")\n",
    "print('''c''')\n",
    "\n",
    "# print('abc\n",
    "#       def')\n",
    "print('''abc\n",
    "      def''')"
   ]
  },
  {
   "cell_type": "code",
   "execution_count": 9,
   "metadata": {},
   "outputs": [
    {
     "name": "stdout",
     "output_type": "stream",
     "text": [
      "20\n",
      "1010\n",
      "<class 'int'>\n",
      "<class 'str'>\n"
     ]
    }
   ],
   "source": [
    "print(10 + 10)\n",
    "print(\"10\" + \"10\")\n",
    "print( type(10) ) # type : 자료형 정보 제공\n",
    "print(type(\"10\"))"
   ]
  },
  {
   "cell_type": "code",
   "execution_count": 12,
   "metadata": {},
   "outputs": [
    {
     "name": "stdout",
     "output_type": "stream",
     "text": [
      "1\n",
      "2\n",
      "John\n"
     ]
    }
   ],
   "source": [
    "a, b, c = 1, 2, \"John\"\n",
    "a, b, c = (1, 2, \"John\")\n",
    "(a, b, c) = 1, 2, \"John\"\n",
    "print(a); print(b); print(c)"
   ]
  },
  {
   "cell_type": "code",
   "execution_count": 13,
   "metadata": {},
   "outputs": [
    {
     "name": "stdout",
     "output_type": "stream",
     "text": [
      "3 3\n"
     ]
    },
    {
     "ename": "NameError",
     "evalue": "name 'a' is not defined",
     "output_type": "error",
     "traceback": [
      "\u001b[1;31m---------------------------------------------------------------------------\u001b[0m",
      "\u001b[1;31mNameError\u001b[0m                                 Traceback (most recent call last)",
      "Cell \u001b[1;32mIn[13], line 6\u001b[0m\n\u001b[0;32m      4\u001b[0m \u001b[38;5;28;01mdel\u001b[39;00m a \n\u001b[0;32m      5\u001b[0m \u001b[38;5;28;01mdel\u001b[39;00m b\n\u001b[1;32m----> 6\u001b[0m \u001b[38;5;28mprint\u001b[39m(\u001b[43ma\u001b[49m, b) \n",
      "\u001b[1;31mNameError\u001b[0m: name 'a' is not defined"
     ]
    }
   ],
   "source": [
    "a = 3\n",
    "b = 3\n",
    "print(a, b) # a와 b를 연속으로 출력\n",
    "del a \n",
    "del b\n",
    "print(a, b) "
   ]
  },
  {
   "cell_type": "code",
   "execution_count": 15,
   "metadata": {},
   "outputs": [
    {
     "name": "stdout",
     "output_type": "stream",
     "text": [
      "<class 'int'>\n",
      "<class 'float'>\n",
      "<class 'int'> <class 'float'>\n"
     ]
    }
   ],
   "source": [
    "a = 10\n",
    "print(type(a))\n",
    "a = 11.11\n",
    "print(type(a))\n",
    "print(type(10), type(11.11))"
   ]
  },
  {
   "cell_type": "code",
   "execution_count": 19,
   "metadata": {},
   "outputs": [
    {
     "name": "stdout",
     "output_type": "stream",
     "text": [
      "3.3333333333333335\n",
      "3\n",
      "1\n",
      "1000\n"
     ]
    }
   ],
   "source": [
    "a = 10\n",
    "b = 3\n",
    "print(a / b)\n",
    "print(a // b)   # 나눗셈의 몫\n",
    "print(a % b)    # 나눗셈의 나머지\n",
    "print(a ** b)"
   ]
  },
  {
   "cell_type": "code",
   "execution_count": 21,
   "metadata": {},
   "outputs": [
    {
     "name": "stdout",
     "output_type": "stream",
     "text": [
      "11.11 11\n",
      "10 10.0\n",
      "10 10\n"
     ]
    }
   ],
   "source": [
    "print(11.11, int(11.11))\n",
    "print(10, float(10))\n",
    "print(\"10\", int(\"10\")) # 문자열을 특정 숫자 자료형으로 변환"
   ]
  },
  {
   "cell_type": "code",
   "execution_count": 24,
   "metadata": {},
   "outputs": [
    {
     "data": {
      "text/plain": [
       "[1, 2, 3, 1, 2, 3, 1, 2, 3, 1, 2, 3, 1, 2, 3]"
      ]
     },
     "execution_count": 24,
     "metadata": {},
     "output_type": "execute_result"
    }
   ],
   "source": [
    "[1, 2, 3] * 5\n",
    "# \"Python\" * 5 # ['P', 'y', 't', 'h', 'o', 'n'] * 5"
   ]
  },
  {
   "cell_type": "code",
   "execution_count": 27,
   "metadata": {},
   "outputs": [
    {
     "name": "stdout",
     "output_type": "stream",
     "text": [
      "o\n",
      "oo s\n",
      "Life is too s\n",
      "o short, You need Python\n",
      "n\n"
     ]
    }
   ],
   "source": [
    "a = \"Life is too short, You need Python\"\n",
    "print(a[10]) # 10번째 문자 반환 (순서번호는 0부터 시작)\n",
    "print(a[9:13]) # 9 ~ 13번째 문자 반환 ( 범위는 앞의 숫자는 포함 뒤의 숫자는 불포함 )\n",
    "print(a[:13]) # 처음 ~ 13번째 문자 반환\n",
    "print(a[10:]) # 10 ~ 끝까지 문자 반환\n",
    "print(a[-1])"
   ]
  },
  {
   "cell_type": "code",
   "execution_count": 10,
   "metadata": {},
   "outputs": [
    {
     "name": "stdout",
     "output_type": "stream",
     "text": [
      "Hello, Python\n",
      "10 + 5 = 15\n",
      "10 + 5 = 15\n",
      "10 + 5 = 15\n",
      "10 + 5 = 15\n"
     ]
    }
   ],
   "source": [
    "print(\"Hello, \" + \"Python\")\n",
    "# print(\"10 + 5 = \" + (10 + 5)) # 오류 : 문자열과 다른 자료형 데이터를 연산할 수 없습니다.\n",
    "print(\"10 + 5 = %d\" % (10 + 5))\n",
    "print(\"10 + 5 = {0}\".format(10+5))\n",
    "print(\"{0} + {1} = {2}\".format(10, 5, 10+5))\n",
    "a, b = 10, 5\n",
    "c = a + b\n",
    "print(f'{a} + {b} = {c}')"
   ]
  },
  {
   "cell_type": "code",
   "execution_count": 9,
   "metadata": {},
   "outputs": [
    {
     "name": "stdout",
     "output_type": "stream",
     "text": [
      "Hello 줄바꿈 Python\n",
      "Hello\n",
      "\t\"Python\"\n"
     ]
    }
   ],
   "source": [
    "print(\"Hello 줄바꿈 Python\")\n",
    "print(\"Hello\\n\\t\\\"Python\\\"\")"
   ]
  },
  {
   "cell_type": "code",
   "execution_count": 16,
   "metadata": {},
   "outputs": [
    {
     "name": "stdout",
     "output_type": "stream",
     "text": [
      "2\n",
      "10\n",
      "-1\n",
      "8\n"
     ]
    },
    {
     "ename": "ValueError",
     "evalue": "substring not found",
     "output_type": "error",
     "traceback": [
      "\u001b[1;31m---------------------------------------------------------------------------\u001b[0m",
      "\u001b[1;31mValueError\u001b[0m                                Traceback (most recent call last)",
      "Cell \u001b[1;32mIn[16], line 10\u001b[0m\n\u001b[0;32m      8\u001b[0m a \u001b[38;5;241m=\u001b[39m \u001b[38;5;124m\"\u001b[39m\u001b[38;5;124mLife is too short\u001b[39m\u001b[38;5;124m\"\u001b[39m\n\u001b[0;32m      9\u001b[0m \u001b[38;5;28mprint\u001b[39m(a\u001b[38;5;241m.\u001b[39mindex(\u001b[38;5;124m'\u001b[39m\u001b[38;5;124mt\u001b[39m\u001b[38;5;124m'\u001b[39m))\n\u001b[1;32m---> 10\u001b[0m \u001b[38;5;28mprint\u001b[39m(\u001b[43ma\u001b[49m\u001b[38;5;241;43m.\u001b[39;49m\u001b[43mindex\u001b[49m\u001b[43m(\u001b[49m\u001b[38;5;124;43m'\u001b[39;49m\u001b[38;5;124;43mb\u001b[39;49m\u001b[38;5;124;43m'\u001b[39;49m\u001b[43m)\u001b[49m)\n",
      "\u001b[1;31mValueError\u001b[0m: substring not found"
     ]
    }
   ],
   "source": [
    "a = \"hobby\"\n",
    "print( a.count('b') ) # 'b'의 갯수\n",
    "\n",
    "a = \"Python is best choice\"\n",
    "print( a.find('b') ) # 'b'의 위치\n",
    "print( a.find('k') ) # 'k'의 위치\n",
    "\n",
    "a = \"Life is too short\"\n",
    "print(a.index('t'))\n",
    "print(a.index('b'))"
   ]
  },
  {
   "cell_type": "code",
   "execution_count": 18,
   "metadata": {},
   "outputs": [
    {
     "name": "stdout",
     "output_type": "stream",
     "text": [
      "a,b,c,d\n",
      "abcd,efgh\n"
     ]
    }
   ],
   "source": [
    "a= \",\"\n",
    "print( a.join('abcd') )\n",
    "print( a.join( ('abcd', 'efgh') ) )"
   ]
  },
  {
   "cell_type": "code",
   "execution_count": 19,
   "metadata": {},
   "outputs": [
    {
     "data": {
      "text/plain": [
       "'Your leg is too short'"
      ]
     },
     "execution_count": 19,
     "metadata": {},
     "output_type": "execute_result"
    }
   ],
   "source": [
    "a = \"Life is too short\"\n",
    "a.replace(\"Life\", \"Your leg\")"
   ]
  },
  {
   "cell_type": "code",
   "execution_count": 20,
   "metadata": {},
   "outputs": [
    {
     "name": "stdout",
     "output_type": "stream",
     "text": [
      "['Life', 'is', 'too', 'short']\n"
     ]
    }
   ],
   "source": [
    "a = \"Life is too short\"\n",
    "print( a.split() )"
   ]
  },
  {
   "cell_type": "code",
   "execution_count": 21,
   "metadata": {},
   "outputs": [
    {
     "data": {
      "text/plain": [
       "['a', 'b', 'c', 'd']"
      ]
     },
     "execution_count": 21,
     "metadata": {},
     "output_type": "execute_result"
    }
   ],
   "source": [
    "a = \"a:b:c:d\"\n",
    "a.split(':')\n"
   ]
  }
 ],
 "metadata": {
  "kernelspec": {
   "display_name": "study-env",
   "language": "python",
   "name": "python3"
  },
  "language_info": {
   "codemirror_mode": {
    "name": "ipython",
    "version": 3
   },
   "file_extension": ".py",
   "mimetype": "text/x-python",
   "name": "python",
   "nbconvert_exporter": "python",
   "pygments_lexer": "ipython3",
   "version": "3.9.18"
  }
 },
 "nbformat": 4,
 "nbformat_minor": 2
}
