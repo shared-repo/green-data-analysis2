{
 "cells": [
  {
   "cell_type": "code",
   "execution_count": 1,
   "metadata": {},
   "outputs": [],
   "source": [
    "import numpy as np\n",
    "import pandas as pd\n",
    "import matplotlib.pyplot as plt\n",
    "from scipy import stats"
   ]
  },
  {
   "cell_type": "code",
   "execution_count": 3,
   "metadata": {},
   "outputs": [
    {
     "data": {
      "text/plain": [
       "array([122.02, 131.73, 130.6 , 131.82, 132.05, 126.12, 124.43, 132.89,\n",
       "       122.79, 129.95, 126.14, 134.45, 127.64, 125.68])"
      ]
     },
     "execution_count": 3,
     "metadata": {},
     "output_type": "execute_result"
    }
   ],
   "source": []
  },
  {
   "cell_type": "code",
   "execution_count": 5,
   "metadata": {},
   "outputs": [
    {
     "name": "stdout",
     "output_type": "stream",
     "text": [
      "128.4507142857143\n"
     ]
    },
    {
     "data": {
      "text/plain": [
       "TtestResult(statistic=-1.4551960206404198, pvalue=0.16933464230414275, df=13)"
      ]
     },
     "execution_count": 5,
     "metadata": {},
     "output_type": "execute_result"
    }
   ],
   "source": [
    "# 연속형 데이터 1표본(1집단)에 대한 가설 검정\n",
    "\n",
    "potato_df = pd.read_csv(\"data-files/potato.csv\")\n",
    "potato = potato_df['무게'].values\n",
    "potato\n",
    "\n",
    "print(potato.mean())\n",
    "\n",
    "# 샘플링된 감자는 전국 감자 평균 품질보다 낮다 ( 무게가 작다 )\n",
    "\n",
    "stats.ttest_1samp(potato, 130)\n"
   ]
  },
  {
   "cell_type": "code",
   "execution_count": 11,
   "metadata": {},
   "outputs": [
    {
     "name": "stdout",
     "output_type": "stream",
     "text": [
      "5.4\n"
     ]
    },
    {
     "data": {
      "text/plain": [
       "(TtestResult(statistic=-1.8997443074539122, pvalue=0.0650756655596349, df=38.0),\n",
       " TtestResult(statistic=-2.204154108716127, pvalue=0.04004419061842953, df=19))"
      ]
     },
     "execution_count": 11,
     "metadata": {},
     "output_type": "execute_result"
    }
   ],
   "source": [
    "# 연속형 데이터 2표본(2집단)에 대한 가설 검정 1\n",
    "\n",
    "training_rel_df = pd.read_csv(\"data-files/training_rel.csv\")\n",
    "before, after = training_rel_df[\"전\"].values, training_rel_df[\"후\"].values\n",
    "# print( before, after )\n",
    "print( (after - before).mean() )\n",
    "\n",
    "stats.ttest_ind(before, after), stats.ttest_rel(before, after)\n"
   ]
  }
 ],
 "metadata": {
  "kernelspec": {
   "display_name": "study-env",
   "language": "python",
   "name": "python3"
  },
  "language_info": {
   "codemirror_mode": {
    "name": "ipython",
    "version": 3
   },
   "file_extension": ".py",
   "mimetype": "text/x-python",
   "name": "python",
   "nbconvert_exporter": "python",
   "pygments_lexer": "ipython3",
   "version": "3.9.18"
  }
 },
 "nbformat": 4,
 "nbformat_minor": 2
}
