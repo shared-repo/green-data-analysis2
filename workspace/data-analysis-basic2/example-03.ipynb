{
 "cells": [
  {
   "cell_type": "code",
   "execution_count": 1,
   "metadata": {},
   "outputs": [],
   "source": [
    "import numpy as np\n",
    "import pandas as pd\n",
    "import matplotlib.pyplot as plt\n",
    "from scipy import stats"
   ]
  },
  {
   "cell_type": "code",
   "execution_count": 3,
   "metadata": {},
   "outputs": [
    {
     "data": {
      "text/plain": [
       "array([122.02, 131.73, 130.6 , 131.82, 132.05, 126.12, 124.43, 132.89,\n",
       "       122.79, 129.95, 126.14, 134.45, 127.64, 125.68])"
      ]
     },
     "execution_count": 3,
     "metadata": {},
     "output_type": "execute_result"
    }
   ],
   "source": []
  },
  {
   "cell_type": "code",
   "execution_count": 5,
   "metadata": {},
   "outputs": [
    {
     "name": "stdout",
     "output_type": "stream",
     "text": [
      "128.4507142857143\n"
     ]
    },
    {
     "data": {
      "text/plain": [
       "TtestResult(statistic=-1.4551960206404198, pvalue=0.16933464230414275, df=13)"
      ]
     },
     "execution_count": 5,
     "metadata": {},
     "output_type": "execute_result"
    }
   ],
   "source": [
    "# 연속형 데이터 1표본(1집단)에 대한 가설 검정\n",
    "\n",
    "potato_df = pd.read_csv(\"data-files/potato.csv\")\n",
    "potato = potato_df['무게'].values\n",
    "potato\n",
    "\n",
    "print(potato.mean())\n",
    "\n",
    "# 샘플링된 감자는 전국 감자 평균 품질보다 낮다 ( 무게가 작다 )\n",
    "\n",
    "stats.ttest_1samp(potato, 130)\n"
   ]
  },
  {
   "cell_type": "code",
   "execution_count": 11,
   "metadata": {},
   "outputs": [
    {
     "name": "stdout",
     "output_type": "stream",
     "text": [
      "5.4\n"
     ]
    },
    {
     "data": {
      "text/plain": [
       "(TtestResult(statistic=-1.8997443074539122, pvalue=0.0650756655596349, df=38.0),\n",
       " TtestResult(statistic=-2.204154108716127, pvalue=0.04004419061842953, df=19))"
      ]
     },
     "execution_count": 11,
     "metadata": {},
     "output_type": "execute_result"
    }
   ],
   "source": [
    "# 연속형 데이터 2표본(2집단)에 대한 가설 검정 1\n",
    "\n",
    "training_rel_df = pd.read_csv(\"data-files/training_rel.csv\")\n",
    "before, after = training_rel_df[\"전\"].values, training_rel_df[\"후\"].values\n",
    "# print( before, after )\n",
    "print( (after - before).mean() )\n",
    "\n",
    "stats.ttest_ind(before, after), stats.ttest_rel(before, after)\n"
   ]
  },
  {
   "cell_type": "code",
   "execution_count": 53,
   "metadata": {},
   "outputs": [
    {
     "name": "stdout",
     "output_type": "stream",
     "text": [
      "[0.25 0.25 0.25 0.25]\n",
      "[1 3 2 2 0 0 0 3 2 2]\n",
      "[3 1 4 2]\n"
     ]
    },
    {
     "data": {
      "text/plain": [
       "Power_divergenceResult(statistic=8.333333333333332, pvalue=0.5009344477491052)"
      ]
     },
     "execution_count": 53,
     "metadata": {},
     "output_type": "execute_result"
    }
   ],
   "source": [
    "# 범주형 데이터 한 표본의 분포 검정\n",
    "\n",
    "N = 10\n",
    "K = 4\n",
    "mu_0 = np.ones(K) / K\n",
    "print(mu_0)\n",
    "\n",
    "np.random.seed(42)\n",
    "x = np.random.choice(K, N, p=mu_0) # 4개의 숫자를 각각 25% 확률로 10개 뽑기\n",
    "print(x)\n",
    "c = np.bincount(x)\n",
    "print(c)\n",
    "\n",
    "stats.chisquare(x)"
   ]
  },
  {
   "cell_type": "code",
   "execution_count": 58,
   "metadata": {},
   "outputs": [
    {
     "name": "stdout",
     "output_type": "stream",
     "text": [
      "0.1225\n",
      "0.085\n"
     ]
    },
    {
     "data": {
      "text/plain": [
       "Chi2ContingencyResult(statistic=3.344907407407407, pvalue=0.06741327136707487, dof=1, expected_freq=array([[360.,  40.],\n",
       "       [540.,  60.]]))"
      ]
     },
     "execution_count": 58,
     "metadata": {},
     "output_type": "execute_result"
    }
   ],
   "source": [
    "# 범주형 데이터 두 표본(두 속성)간 독립성 검정\n",
    "\n",
    "ad_df = pd.read_csv('data-files/ad.csv')\n",
    "ad_df\n",
    "\n",
    "ad_stats = ad_df.groupby('광고')['구입'].value_counts()\n",
    "ad_stats\n",
    "\n",
    "print( ad_stats.iloc[1] / ad_stats.iloc[:2].sum() ) # A광고 구매율\n",
    "print( ad_stats.iloc[3] / ad_stats.iloc[2:].sum() ) # B광고 구매율\n",
    "\n",
    "ad_cross = pd.crosstab(ad_df[\"광고\"], ad_df['구입'])\n",
    "ad_cross\n",
    "\n",
    "stats.chi2_contingency(ad_cross, correction=True)"
   ]
  },
  {
   "cell_type": "code",
   "execution_count": 28,
   "metadata": {},
   "outputs": [
    {
     "data": {
      "text/html": [
       "<div>\n",
       "<style scoped>\n",
       "    .dataframe tbody tr th:only-of-type {\n",
       "        vertical-align: middle;\n",
       "    }\n",
       "\n",
       "    .dataframe tbody tr th {\n",
       "        vertical-align: top;\n",
       "    }\n",
       "\n",
       "    .dataframe thead th {\n",
       "        text-align: right;\n",
       "    }\n",
       "</style>\n",
       "<table border=\"1\" class=\"dataframe\">\n",
       "  <thead>\n",
       "    <tr style=\"text-align: right;\">\n",
       "      <th>구입</th>\n",
       "      <th>하지 않았다</th>\n",
       "      <th>했다</th>\n",
       "    </tr>\n",
       "    <tr>\n",
       "      <th>광고</th>\n",
       "      <th></th>\n",
       "      <th></th>\n",
       "    </tr>\n",
       "  </thead>\n",
       "  <tbody>\n",
       "    <tr>\n",
       "      <th>A</th>\n",
       "      <td>351</td>\n",
       "      <td>49</td>\n",
       "    </tr>\n",
       "    <tr>\n",
       "      <th>B</th>\n",
       "      <td>549</td>\n",
       "      <td>51</td>\n",
       "    </tr>\n",
       "  </tbody>\n",
       "</table>\n",
       "</div>"
      ],
      "text/plain": [
       "구입  하지 않았다  했다\n",
       "광고            \n",
       "A      351  49\n",
       "B      549  51"
      ]
     },
     "execution_count": 28,
     "metadata": {},
     "output_type": "execute_result"
    }
   ],
   "source": [
    "ad_cross"
   ]
  },
  {
   "cell_type": "code",
   "execution_count": null,
   "metadata": {},
   "outputs": [],
   "source": []
  }
 ],
 "metadata": {
  "kernelspec": {
   "display_name": "study-env",
   "language": "python",
   "name": "python3"
  },
  "language_info": {
   "codemirror_mode": {
    "name": "ipython",
    "version": 3
   },
   "file_extension": ".py",
   "mimetype": "text/x-python",
   "name": "python",
   "nbconvert_exporter": "python",
   "pygments_lexer": "ipython3",
   "version": "3.9.18"
  }
 },
 "nbformat": 4,
 "nbformat_minor": 2
}
