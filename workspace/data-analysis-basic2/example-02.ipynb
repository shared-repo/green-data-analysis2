{
 "cells": [
  {
   "cell_type": "code",
   "execution_count": 1,
   "metadata": {},
   "outputs": [],
   "source": [
    "import numpy as np\n",
    "import pandas as pd\n",
    "import matplotlib.pyplot as plt"
   ]
  },
  {
   "cell_type": "code",
   "execution_count": 7,
   "metadata": {},
   "outputs": [],
   "source": [
    "scores_df = pd.read_csv(\"data-files/scores_em.csv\", index_col=\"student number\")"
   ]
  },
  {
   "cell_type": "code",
   "execution_count": 8,
   "metadata": {},
   "outputs": [
    {
     "data": {
      "text/html": [
       "<div>\n",
       "<style scoped>\n",
       "    .dataframe tbody tr th:only-of-type {\n",
       "        vertical-align: middle;\n",
       "    }\n",
       "\n",
       "    .dataframe tbody tr th {\n",
       "        vertical-align: top;\n",
       "    }\n",
       "\n",
       "    .dataframe thead th {\n",
       "        text-align: right;\n",
       "    }\n",
       "</style>\n",
       "<table border=\"1\" class=\"dataframe\">\n",
       "  <thead>\n",
       "    <tr style=\"text-align: right;\">\n",
       "      <th></th>\n",
       "      <th>english</th>\n",
       "      <th>mathematics</th>\n",
       "    </tr>\n",
       "    <tr>\n",
       "      <th>student number</th>\n",
       "      <th></th>\n",
       "      <th></th>\n",
       "    </tr>\n",
       "  </thead>\n",
       "  <tbody>\n",
       "    <tr>\n",
       "      <th>1</th>\n",
       "      <td>42</td>\n",
       "      <td>65</td>\n",
       "    </tr>\n",
       "    <tr>\n",
       "      <th>2</th>\n",
       "      <td>69</td>\n",
       "      <td>80</td>\n",
       "    </tr>\n",
       "    <tr>\n",
       "      <th>3</th>\n",
       "      <td>56</td>\n",
       "      <td>63</td>\n",
       "    </tr>\n",
       "    <tr>\n",
       "      <th>4</th>\n",
       "      <td>41</td>\n",
       "      <td>63</td>\n",
       "    </tr>\n",
       "    <tr>\n",
       "      <th>5</th>\n",
       "      <td>57</td>\n",
       "      <td>76</td>\n",
       "    </tr>\n",
       "  </tbody>\n",
       "</table>\n",
       "</div>"
      ],
      "text/plain": [
       "                english  mathematics\n",
       "student number                      \n",
       "1                    42           65\n",
       "2                    69           80\n",
       "3                    56           63\n",
       "4                    41           63\n",
       "5                    57           76"
      ]
     },
     "execution_count": 8,
     "metadata": {},
     "output_type": "execute_result"
    }
   ],
   "source": [
    "scores_df.head()"
   ]
  },
  {
   "cell_type": "code",
   "execution_count": 16,
   "metadata": {},
   "outputs": [
    {
     "name": "stdout",
     "output_type": "stream",
     "text": [
      "0    57\n",
      "Name: english, dtype: int64 0    77\n",
      "1    82\n",
      "2    84\n",
      "Name: mathematics, dtype: int64\n"
     ]
    },
    {
     "data": {
      "text/plain": [
       "mathematics\n",
       "84    4\n",
       "82    4\n",
       "77    4\n",
       "76    3\n",
       "81    3\n",
       "Name: count, dtype: int64"
      ]
     },
     "execution_count": 16,
     "metadata": {},
     "output_type": "execute_result"
    }
   ],
   "source": [
    "scores_df.describe()\n",
    "print( scores_df[\"english\"].mode(), scores_df[\"mathematics\"].mode() )\n",
    "scores_df['mathematics'].value_counts()[:5]"
   ]
  },
  {
   "cell_type": "code",
   "execution_count": 28,
   "metadata": {},
   "outputs": [
    {
     "name": "stdout",
     "output_type": "stream",
     "text": [
      "94.1156\n",
      "96.03632653061224\n"
     ]
    }
   ],
   "source": [
    "eng_scores = scores_df[\"english\"].values\n",
    "eng_mean = scores_df[\"english\"].mean()\n",
    "# print( eng_scores, eng_mean )\n",
    "# print( eng_scores - eng_mean )\n",
    "\n",
    "deviation = eng_scores - eng_mean\n",
    "# print( deviation ** 2 )\n",
    "var = np.mean(deviation ** 2)\n",
    "print(var)\n",
    "\n",
    "print( scores_df['english'].var(ddof=1) )"
   ]
  },
  {
   "cell_type": "code",
   "execution_count": 33,
   "metadata": {},
   "outputs": [
    {
     "data": {
      "text/plain": [
       "array([44.7, 70. ])"
      ]
     },
     "execution_count": 33,
     "metadata": {},
     "output_type": "execute_result"
    }
   ],
   "source": [
    "scores_df.describe()\n",
    "np.percentile(scores_df[\"english\"], (10, 90)) # 10분위, 90분위 값 찾기"
   ]
  },
  {
   "cell_type": "code",
   "execution_count": null,
   "metadata": {},
   "outputs": [],
   "source": []
  },
  {
   "cell_type": "code",
   "execution_count": 37,
   "metadata": {},
   "outputs": [
    {
     "name": "stdout",
     "output_type": "stream",
     "text": [
      "              english  mathematics\n",
      "english      1.000000     0.723741\n",
      "mathematics  0.723741     1.000000\n",
      "PearsonRResult(statistic=0.7237414863069243, pvalue=2.8760870522821537e-09)\n",
      "SignificanceResult(statistic=0.7045853895409744, pvalue=1.1269964723609888e-08)\n",
      "SignificanceResult(statistic=0.53131572579566, pvalue=1.134129795679461e-07)\n"
     ]
    }
   ],
   "source": [
    "from scipy.stats import pearsonr, spearmanr, kendalltau\n",
    "\n",
    "print( scores_df.corr() )\n",
    "print( pearsonr( scores_df[\"english\"], scores_df['mathematics']) )\n",
    "print( spearmanr( scores_df[\"english\"], scores_df['mathematics']) )\n",
    "print( kendalltau( scores_df[\"english\"], scores_df['mathematics']) )\n"
   ]
  },
  {
   "cell_type": "code",
   "execution_count": null,
   "metadata": {},
   "outputs": [],
   "source": []
  },
  {
   "cell_type": "code",
   "execution_count": 44,
   "metadata": {},
   "outputs": [
    {
     "name": "stdout",
     "output_type": "stream",
     "text": [
      "(4, 11, 2)\n",
      "[[10.    8.04]\n",
      " [ 8.    6.95]\n",
      " [13.    7.58]\n",
      " [ 9.    8.81]\n",
      " [11.    8.33]\n",
      " [14.    9.96]\n",
      " [ 6.    7.24]\n",
      " [ 4.    4.26]\n",
      " [12.   10.84]\n",
      " [ 7.    4.82]\n",
      " [ 5.    5.68]]\n"
     ]
    }
   ],
   "source": [
    "anscombe = np.load('data-files/anscombe.npy')\n",
    "print( anscombe.shape )\n",
    "print( anscombe[0] )"
   ]
  },
  {
   "cell_type": "code",
   "execution_count": 50,
   "metadata": {},
   "outputs": [
    {
     "data": {
      "text/plain": [
       "1.0"
      ]
     },
     "execution_count": 50,
     "metadata": {},
     "output_type": "execute_result"
    }
   ],
   "source": [
    "pearsonr(anscombe[0][0], anscombe[0][1])[0]"
   ]
  },
  {
   "cell_type": "code",
   "execution_count": 52,
   "metadata": {},
   "outputs": [
    {
     "data": {
      "text/html": [
       "<div>\n",
       "<style scoped>\n",
       "    .dataframe tbody tr th:only-of-type {\n",
       "        vertical-align: middle;\n",
       "    }\n",
       "\n",
       "    .dataframe tbody tr th {\n",
       "        vertical-align: top;\n",
       "    }\n",
       "\n",
       "    .dataframe thead th {\n",
       "        text-align: right;\n",
       "    }\n",
       "</style>\n",
       "<table border=\"1\" class=\"dataframe\">\n",
       "  <thead>\n",
       "    <tr style=\"text-align: right;\">\n",
       "      <th></th>\n",
       "      <th>data1</th>\n",
       "      <th>data2</th>\n",
       "      <th>data3</th>\n",
       "      <th>data4</th>\n",
       "    </tr>\n",
       "  </thead>\n",
       "  <tbody>\n",
       "    <tr>\n",
       "      <th>x_mean</th>\n",
       "      <td>9.000000</td>\n",
       "      <td>9.000000</td>\n",
       "      <td>9.000000</td>\n",
       "      <td>9.000000</td>\n",
       "    </tr>\n",
       "    <tr>\n",
       "      <th>x_variance</th>\n",
       "      <td>10.000000</td>\n",
       "      <td>10.000000</td>\n",
       "      <td>10.000000</td>\n",
       "      <td>10.000000</td>\n",
       "    </tr>\n",
       "    <tr>\n",
       "      <th>y_mean</th>\n",
       "      <td>7.500909</td>\n",
       "      <td>7.500909</td>\n",
       "      <td>7.500000</td>\n",
       "      <td>7.500909</td>\n",
       "    </tr>\n",
       "    <tr>\n",
       "      <th>y_variance</th>\n",
       "      <td>3.752063</td>\n",
       "      <td>3.752390</td>\n",
       "      <td>3.747836</td>\n",
       "      <td>3.748408</td>\n",
       "    </tr>\n",
       "    <tr>\n",
       "      <th>corr</th>\n",
       "      <td>0.816421</td>\n",
       "      <td>0.816237</td>\n",
       "      <td>0.816287</td>\n",
       "      <td>0.816521</td>\n",
       "    </tr>\n",
       "    <tr>\n",
       "      <th>reg_line</th>\n",
       "      <td>0.000000</td>\n",
       "      <td>0.000000</td>\n",
       "      <td>0.000000</td>\n",
       "      <td>0.000000</td>\n",
       "    </tr>\n",
       "  </tbody>\n",
       "</table>\n",
       "</div>"
      ],
      "text/plain": [
       "                data1      data2      data3      data4\n",
       "x_mean       9.000000   9.000000   9.000000   9.000000\n",
       "x_variance  10.000000  10.000000  10.000000  10.000000\n",
       "y_mean       7.500909   7.500909   7.500000   7.500909\n",
       "y_variance   3.752063   3.752390   3.747836   3.748408\n",
       "corr         0.816421   0.816237   0.816287   0.816521\n",
       "reg_line     0.000000   0.000000   0.000000   0.000000"
      ]
     },
     "execution_count": 52,
     "metadata": {},
     "output_type": "execute_result"
    }
   ],
   "source": [
    "stats_df = pd.DataFrame(index=['x_mean', 'x_variance', 'y_mean', 'y_variance', \"corr\", \"reg_line\"])\n",
    "stats_df\n",
    "for idx, data in enumerate(anscombe):\n",
    "    X = data[:, 0] # 0열 데이터\n",
    "    y = data[:, 1] # 1열 데이터\n",
    "    stats_df[f'data{idx+1}'] = [np.mean(X), np.var(X), np.mean(y), np.var(y), pearsonr(X, y)[0], 0]\n",
    "\n",
    "stats_df"
   ]
  },
  {
   "cell_type": "code",
   "execution_count": 62,
   "metadata": {},
   "outputs": [
    {
     "data": {
      "image/png": "[encoded data removed]",
      "text/plain": [
       "<Figure size 640x480 with 4 Axes>"
      ]
     },
     "metadata": {},
     "output_type": "display_data"
    }
   ],
   "source": [
    "figure, axes = plt.subplots(2, 2)\n",
    "for idx, ax in enumerate(axes.flatten()): # flatten : n차원 배열 -> 1차원 배열 변환\n",
    "    ax.scatter(anscombe[idx][:, 0], anscombe[idx][:, 1])\n",
    "\n",
    "plt.show()"
   ]
  }
 ],
 "metadata": {
  "kernelspec": {
   "display_name": "study-env",
   "language": "python",
   "name": "python3"
  },
  "language_info": {
   "codemirror_mode": {
    "name": "ipython",
    "version": 3
   },
   "file_extension": ".py",
   "mimetype": "text/x-python",
   "name": "python",
   "nbconvert_exporter": "python",
   "pygments_lexer": "ipython3",
   "version": "3.9.18"
  }
 },
 "nbformat": 4,
 "nbformat_minor": 2
}
