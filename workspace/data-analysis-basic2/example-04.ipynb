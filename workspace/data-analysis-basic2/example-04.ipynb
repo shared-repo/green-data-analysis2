{
 "cells": [
  {
   "cell_type": "code",
   "execution_count": null,
   "metadata": {},
   "outputs": [],
   "source": [
    "# !pip install statsmodels"
   ]
  },
  {
   "cell_type": "code",
   "execution_count": 23,
   "metadata": {},
   "outputs": [],
   "source": [
    "import numpy as np\n",
    "import pandas as pd\n",
    "import matplotlib.pyplot as plt\n",
    "import seaborn as sns\n",
    "\n",
    "from scipy import stats\n",
    "\n",
    "import statsmodels.api as sm # anova 지원\n",
    "import statsmodels.formula.api as smf"
   ]
  },
  {
   "cell_type": "code",
   "execution_count": 5,
   "metadata": {},
   "outputs": [
    {
     "name": "stdout",
     "output_type": "stream",
     "text": [
      "Page\n",
      "Page A    1.263333\n",
      "Page B    1.620000\n",
      "Name: Time, dtype: float64\n"
     ]
    },
    {
     "data": {
      "text/plain": [
       "TtestResult(statistic=-1.1237042154424823, pvalue=0.26901024363926024, df=34.0)"
      ]
     },
     "execution_count": 5,
     "metadata": {},
     "output_type": "execute_result"
    }
   ],
   "source": [
    "# web_page_data.csv 사용 PageA와 PageB 사이에 사용자 접속 시간의 유의미한 차이 검정\n",
    "web_page_data_df = pd.read_csv('data-files/web_page_data.csv')\n",
    "web_page_data_df\n",
    "\n",
    "print( web_page_data_df.groupby(\"Page\")[\"Time\"].mean() ) # Page별 접속 시간 평균 \n",
    "\n",
    "stats.ttest_ind(web_page_data_df[web_page_data_df[\"Page\"] == 'Page A']['Time'],\n",
    "                web_page_data_df[web_page_data_df[\"Page\"] == 'Page B']['Time'])"
   ]
  },
  {
   "cell_type": "code",
   "execution_count": 8,
   "metadata": {},
   "outputs": [
    {
     "data": {
      "text/html": [
       "<div>\n",
       "<style scoped>\n",
       "    .dataframe tbody tr th:only-of-type {\n",
       "        vertical-align: middle;\n",
       "    }\n",
       "\n",
       "    .dataframe tbody tr th {\n",
       "        vertical-align: top;\n",
       "    }\n",
       "\n",
       "    .dataframe thead th {\n",
       "        text-align: right;\n",
       "    }\n",
       "</style>\n",
       "<table border=\"1\" class=\"dataframe\">\n",
       "  <thead>\n",
       "    <tr style=\"text-align: right;\">\n",
       "      <th></th>\n",
       "      <th>total_bill</th>\n",
       "      <th>tip</th>\n",
       "      <th>sex</th>\n",
       "      <th>smoker</th>\n",
       "      <th>day</th>\n",
       "      <th>time</th>\n",
       "      <th>size</th>\n",
       "    </tr>\n",
       "  </thead>\n",
       "  <tbody>\n",
       "    <tr>\n",
       "      <th>0</th>\n",
       "      <td>16.99</td>\n",
       "      <td>1.01</td>\n",
       "      <td>Female</td>\n",
       "      <td>No</td>\n",
       "      <td>Sun</td>\n",
       "      <td>Dinner</td>\n",
       "      <td>2</td>\n",
       "    </tr>\n",
       "    <tr>\n",
       "      <th>1</th>\n",
       "      <td>10.34</td>\n",
       "      <td>1.66</td>\n",
       "      <td>Male</td>\n",
       "      <td>No</td>\n",
       "      <td>Sun</td>\n",
       "      <td>Dinner</td>\n",
       "      <td>3</td>\n",
       "    </tr>\n",
       "    <tr>\n",
       "      <th>2</th>\n",
       "      <td>21.01</td>\n",
       "      <td>3.50</td>\n",
       "      <td>Male</td>\n",
       "      <td>No</td>\n",
       "      <td>Sun</td>\n",
       "      <td>Dinner</td>\n",
       "      <td>3</td>\n",
       "    </tr>\n",
       "    <tr>\n",
       "      <th>3</th>\n",
       "      <td>23.68</td>\n",
       "      <td>3.31</td>\n",
       "      <td>Male</td>\n",
       "      <td>No</td>\n",
       "      <td>Sun</td>\n",
       "      <td>Dinner</td>\n",
       "      <td>2</td>\n",
       "    </tr>\n",
       "    <tr>\n",
       "      <th>4</th>\n",
       "      <td>24.59</td>\n",
       "      <td>3.61</td>\n",
       "      <td>Female</td>\n",
       "      <td>No</td>\n",
       "      <td>Sun</td>\n",
       "      <td>Dinner</td>\n",
       "      <td>4</td>\n",
       "    </tr>\n",
       "    <tr>\n",
       "      <th>...</th>\n",
       "      <td>...</td>\n",
       "      <td>...</td>\n",
       "      <td>...</td>\n",
       "      <td>...</td>\n",
       "      <td>...</td>\n",
       "      <td>...</td>\n",
       "      <td>...</td>\n",
       "    </tr>\n",
       "    <tr>\n",
       "      <th>239</th>\n",
       "      <td>29.03</td>\n",
       "      <td>5.92</td>\n",
       "      <td>Male</td>\n",
       "      <td>No</td>\n",
       "      <td>Sat</td>\n",
       "      <td>Dinner</td>\n",
       "      <td>3</td>\n",
       "    </tr>\n",
       "    <tr>\n",
       "      <th>240</th>\n",
       "      <td>27.18</td>\n",
       "      <td>2.00</td>\n",
       "      <td>Female</td>\n",
       "      <td>Yes</td>\n",
       "      <td>Sat</td>\n",
       "      <td>Dinner</td>\n",
       "      <td>2</td>\n",
       "    </tr>\n",
       "    <tr>\n",
       "      <th>241</th>\n",
       "      <td>22.67</td>\n",
       "      <td>2.00</td>\n",
       "      <td>Male</td>\n",
       "      <td>Yes</td>\n",
       "      <td>Sat</td>\n",
       "      <td>Dinner</td>\n",
       "      <td>2</td>\n",
       "    </tr>\n",
       "    <tr>\n",
       "      <th>242</th>\n",
       "      <td>17.82</td>\n",
       "      <td>1.75</td>\n",
       "      <td>Male</td>\n",
       "      <td>No</td>\n",
       "      <td>Sat</td>\n",
       "      <td>Dinner</td>\n",
       "      <td>2</td>\n",
       "    </tr>\n",
       "    <tr>\n",
       "      <th>243</th>\n",
       "      <td>18.78</td>\n",
       "      <td>3.00</td>\n",
       "      <td>Female</td>\n",
       "      <td>No</td>\n",
       "      <td>Thur</td>\n",
       "      <td>Dinner</td>\n",
       "      <td>2</td>\n",
       "    </tr>\n",
       "  </tbody>\n",
       "</table>\n",
       "<p>244 rows × 7 columns</p>\n",
       "</div>"
      ],
      "text/plain": [
       "     total_bill   tip     sex smoker   day    time  size\n",
       "0         16.99  1.01  Female     No   Sun  Dinner     2\n",
       "1         10.34  1.66    Male     No   Sun  Dinner     3\n",
       "2         21.01  3.50    Male     No   Sun  Dinner     3\n",
       "3         23.68  3.31    Male     No   Sun  Dinner     2\n",
       "4         24.59  3.61  Female     No   Sun  Dinner     4\n",
       "..          ...   ...     ...    ...   ...     ...   ...\n",
       "239       29.03  5.92    Male     No   Sat  Dinner     3\n",
       "240       27.18  2.00  Female    Yes   Sat  Dinner     2\n",
       "241       22.67  2.00    Male    Yes   Sat  Dinner     2\n",
       "242       17.82  1.75    Male     No   Sat  Dinner     2\n",
       "243       18.78  3.00  Female     No  Thur  Dinner     2\n",
       "\n",
       "[244 rows x 7 columns]"
      ]
     },
     "execution_count": 8,
     "metadata": {},
     "output_type": "execute_result"
    }
   ],
   "source": [
    "tips_df = sns.load_dataset(\"tips\")\n",
    "tips_df"
   ]
  },
  {
   "cell_type": "code",
   "execution_count": 10,
   "metadata": {},
   "outputs": [
    {
     "name": "stdout",
     "output_type": "stream",
     "text": [
      "sex\n",
      "Male      3.089618\n",
      "Female    2.833448\n",
      "Name: tip, dtype: float64\n"
     ]
    },
    {
     "name": "stderr",
     "output_type": "stream",
     "text": [
      "C:\\Users\\Administrator.User -2023YNCQT\\AppData\\Local\\Temp\\ipykernel_4220\\460335679.py:3: FutureWarning: The default of observed=False is deprecated and will be changed to True in a future version of pandas. Pass observed=False to retain current behavior or observed=True to adopt the future default and silence this warning.\n",
      "  print( tips_df.groupby(\"sex\")[\"tip\"].mean() ) # 성별 tip 평균 금액\n"
     ]
    },
    {
     "data": {
      "text/plain": [
       "TtestResult(statistic=1.387859705421269, pvalue=0.16645623503456755, df=242.0)"
      ]
     },
     "execution_count": 10,
     "metadata": {},
     "output_type": "execute_result"
    }
   ],
   "source": [
    "# 성별 tip 차이 검정\n",
    "\n",
    "print( tips_df.groupby(\"sex\")[\"tip\"].mean() ) # 성별 tip 평균 금액\n",
    "\n",
    "stats.ttest_ind( tips_df[tips_df['sex'] == 'Male']['tip'], \n",
    "                 tips_df[tips_df['sex'] == 'Female']['tip'])"
   ]
  },
  {
   "cell_type": "code",
   "execution_count": 11,
   "metadata": {},
   "outputs": [
    {
     "name": "stdout",
     "output_type": "stream",
     "text": [
      "smoker\n",
      "Yes    3.008710\n",
      "No     2.991854\n",
      "Name: tip, dtype: float64\n"
     ]
    },
    {
     "name": "stderr",
     "output_type": "stream",
     "text": [
      "C:\\Users\\Administrator.User -2023YNCQT\\AppData\\Local\\Temp\\ipykernel_4220\\2632153596.py:3: FutureWarning: The default of observed=False is deprecated and will be changed to True in a future version of pandas. Pass observed=False to retain current behavior or observed=True to adopt the future default and silence this warning.\n",
      "  print( tips_df.groupby(\"smoker\")[\"tip\"].mean() ) # 성별 tip 평균 금액\n"
     ]
    },
    {
     "data": {
      "text/plain": [
       "TtestResult(statistic=0.09222805186888201, pvalue=0.9265931522244976, df=242.0)"
      ]
     },
     "execution_count": 11,
     "metadata": {},
     "output_type": "execute_result"
    }
   ],
   "source": [
    "# 흡연여부에 따른 tip 차이 검정\n",
    "\n",
    "print( tips_df.groupby(\"smoker\")[\"tip\"].mean() ) # 성별 tip 평균 금액\n",
    "\n",
    "stats.ttest_ind( tips_df[tips_df['smoker'] == 'Yes']['tip'], \n",
    "                 tips_df[tips_df['smoker'] == 'No']['tip'])"
   ]
  },
  {
   "cell_type": "code",
   "execution_count": 13,
   "metadata": {},
   "outputs": [
    {
     "name": "stdout",
     "output_type": "stream",
     "text": [
      "time\n",
      "Lunch     2.728088\n",
      "Dinner    3.102670\n",
      "Name: tip, dtype: float64\n"
     ]
    },
    {
     "name": "stderr",
     "output_type": "stream",
     "text": [
      "C:\\Users\\Administrator.User -2023YNCQT\\AppData\\Local\\Temp\\ipykernel_4220\\3450411014.py:3: FutureWarning: The default of observed=False is deprecated and will be changed to True in a future version of pandas. Pass observed=False to retain current behavior or observed=True to adopt the future default and silence this warning.\n",
      "  print( tips_df.groupby(\"time\")[\"tip\"].mean() ) # 성별 tip 평균 금액\n"
     ]
    },
    {
     "data": {
      "text/plain": [
       "TtestResult(statistic=1.9062569301202392, pvalue=0.05780153475171558, df=242.0)"
      ]
     },
     "execution_count": 13,
     "metadata": {},
     "output_type": "execute_result"
    }
   ],
   "source": [
    "# 성별에 따른 tip 차이 검정\n",
    "\n",
    "print( tips_df.groupby(\"time\")[\"tip\"].mean() ) # 성별 tip 평균 금액\n",
    "\n",
    "stats.ttest_ind( tips_df[tips_df['time'] == 'Dinner']['tip'], \n",
    "                 tips_df[tips_df['time'] == 'Lunch']['tip'])"
   ]
  },
  {
   "cell_type": "code",
   "execution_count": 14,
   "metadata": {},
   "outputs": [
    {
     "data": {
      "text/plain": [
       "day\n",
       "Sat     87\n",
       "Sun     76\n",
       "Thur    62\n",
       "Fri     19\n",
       "Name: count, dtype: int64"
      ]
     },
     "execution_count": 14,
     "metadata": {},
     "output_type": "execute_result"
    }
   ],
   "source": [
    "tips_df['day'].value_counts()"
   ]
  },
  {
   "cell_type": "code",
   "execution_count": 21,
   "metadata": {},
   "outputs": [
    {
     "name": "stdout",
     "output_type": "stream",
     "text": [
      "3.115276073619632 2.7628395061728392\n"
     ]
    },
    {
     "data": {
      "text/plain": [
       "TtestResult(statistic=1.8834950801996837, pvalue=0.06083244523772748, df=242.0)"
      ]
     },
     "execution_count": 21,
     "metadata": {},
     "output_type": "execute_result"
    }
   ],
   "source": [
    "# 요일에 따른 tip 차이 검정 1\n",
    "\n",
    "weekend_mask = (tips_df['day'] == 'Sun') | (tips_df['day'] == 'Sat')\n",
    "weekday_mask = (tips_df['day'] != 'Sun') & (tips_df['day'] != 'Sat')\n",
    "\n",
    "print( tips_df[weekend_mask][\"tip\"].mean(), tips_df[weekday_mask][\"tip\"].mean() ) # 성별 tip 평균 금액\n",
    "\n",
    "stats.ttest_ind( tips_df[weekend_mask]['tip'], \n",
    "                 tips_df[weekday_mask]['tip'])"
   ]
  },
  {
   "cell_type": "code",
   "execution_count": 25,
   "metadata": {},
   "outputs": [
    {
     "name": "stdout",
     "output_type": "stream",
     "text": [
      "day\n",
      "Thur    2.771452\n",
      "Fri     2.734737\n",
      "Sat     2.993103\n",
      "Sun     3.255132\n",
      "Name: tip, dtype: float64\n"
     ]
    },
    {
     "name": "stderr",
     "output_type": "stream",
     "text": [
      "C:\\Users\\Administrator.User -2023YNCQT\\AppData\\Local\\Temp\\ipykernel_4220\\3746723103.py:3: FutureWarning: The default of observed=False is deprecated and will be changed to True in a future version of pandas. Pass observed=False to retain current behavior or observed=True to adopt the future default and silence this warning.\n",
      "  print( tips_df.groupby(\"day\")[\"tip\"].mean() ) # 요일별 tip 평균 금액\n"
     ]
    },
    {
     "data": {
      "text/html": [
       "<div>\n",
       "<style scoped>\n",
       "    .dataframe tbody tr th:only-of-type {\n",
       "        vertical-align: middle;\n",
       "    }\n",
       "\n",
       "    .dataframe tbody tr th {\n",
       "        vertical-align: top;\n",
       "    }\n",
       "\n",
       "    .dataframe thead th {\n",
       "        text-align: right;\n",
       "    }\n",
       "</style>\n",
       "<table border=\"1\" class=\"dataframe\">\n",
       "  <thead>\n",
       "    <tr style=\"text-align: right;\">\n",
       "      <th></th>\n",
       "      <th>df</th>\n",
       "      <th>sum_sq</th>\n",
       "      <th>mean_sq</th>\n",
       "      <th>F</th>\n",
       "      <th>PR(&gt;F)</th>\n",
       "    </tr>\n",
       "  </thead>\n",
       "  <tbody>\n",
       "    <tr>\n",
       "      <th>day</th>\n",
       "      <td>3.0</td>\n",
       "      <td>9.525873</td>\n",
       "      <td>3.175291</td>\n",
       "      <td>1.672355</td>\n",
       "      <td>0.173589</td>\n",
       "    </tr>\n",
       "    <tr>\n",
       "      <th>Residual</th>\n",
       "      <td>240.0</td>\n",
       "      <td>455.686604</td>\n",
       "      <td>1.898694</td>\n",
       "      <td>NaN</td>\n",
       "      <td>NaN</td>\n",
       "    </tr>\n",
       "  </tbody>\n",
       "</table>\n",
       "</div>"
      ],
      "text/plain": [
       "             df      sum_sq   mean_sq         F    PR(>F)\n",
       "day         3.0    9.525873  3.175291  1.672355  0.173589\n",
       "Residual  240.0  455.686604  1.898694       NaN       NaN"
      ]
     },
     "execution_count": 25,
     "metadata": {},
     "output_type": "execute_result"
    }
   ],
   "source": [
    "# 요일에 따른 tip 차이 검정 2 : 3개 이상의 집단 비교는 f분포 기반 분산분석 사용 ( anova )\n",
    "\n",
    "print( tips_df.groupby(\"day\")[\"tip\"].mean() ) # 요일별 tip 평균 금액\n",
    "\n",
    "model = smf.ols(\"tip ~ day\", data=tips_df).fit()  # tip = f(day)\n",
    "sm.stats.anova_lm(model)"
   ]
  },
  {
   "cell_type": "code",
   "execution_count": 30,
   "metadata": {},
   "outputs": [
    {
     "data": {
      "text/plain": [
       "0      Sun\n",
       "1      Sun\n",
       "2      Sun\n",
       "3      Sun\n",
       "4      Sun\n",
       "      ... \n",
       "186    Sun\n",
       "187    Sun\n",
       "188    Sun\n",
       "189    Sun\n",
       "190    Sun\n",
       "Name: day, Length: 76, dtype: category\n",
       "Categories (4, object): ['Thur', 'Fri', 'Sat', 'Sun']"
      ]
     },
     "execution_count": 30,
     "metadata": {},
     "output_type": "execute_result"
    }
   ],
   "source": [
    "tips_df[tips_df[\"day\"] == \"Sun\"][\"day\"]"
   ]
  },
  {
   "cell_type": "code",
   "execution_count": 34,
   "metadata": {},
   "outputs": [
    {
     "data": {
      "text/plain": [
       "array([3.25513158, 3.25513158, 3.25513158, 3.25513158, 3.25513158,\n",
       "       3.25513158, 3.25513158, 3.25513158, 3.25513158, 3.25513158,\n",
       "       3.25513158, 3.25513158, 3.25513158, 3.25513158, 3.25513158,\n",
       "       3.25513158, 3.25513158, 3.25513158, 3.25513158, 2.99310345,\n",
       "       2.99310345, 2.99310345, 2.99310345, 2.99310345, 2.99310345,\n",
       "       2.99310345, 2.99310345, 2.99310345, 2.99310345, 2.99310345,\n",
       "       2.99310345, 2.99310345, 2.99310345, 2.99310345, 2.99310345,\n",
       "       2.99310345, 2.99310345, 2.99310345, 2.99310345, 2.99310345,\n",
       "       2.99310345, 3.25513158, 3.25513158, 3.25513158, 3.25513158,\n",
       "       3.25513158, 3.25513158, 3.25513158, 3.25513158, 3.25513158,\n",
       "       3.25513158, 3.25513158, 3.25513158, 3.25513158, 3.25513158,\n",
       "       3.25513158, 2.99310345, 2.99310345, 2.99310345, 2.99310345,\n",
       "       2.99310345, 2.99310345, 2.99310345, 2.99310345, 2.99310345,\n",
       "       2.99310345, 2.99310345, 2.99310345, 2.99310345, 2.99310345,\n",
       "       2.99310345, 2.99310345, 2.99310345, 2.99310345, 2.99310345,\n",
       "       2.99310345, 2.99310345, 2.77145161, 2.77145161, 2.77145161,\n",
       "       2.77145161, 2.77145161, 2.77145161, 2.77145161, 2.77145161,\n",
       "       2.77145161, 2.77145161, 2.77145161, 2.77145161, 2.77145161,\n",
       "       2.73473684, 2.73473684, 2.73473684, 2.73473684, 2.73473684,\n",
       "       2.73473684, 2.73473684, 2.73473684, 2.73473684, 2.73473684,\n",
       "       2.73473684, 2.73473684, 2.99310345, 2.99310345, 2.99310345,\n",
       "       2.99310345, 2.99310345, 2.99310345, 2.99310345, 2.99310345,\n",
       "       2.99310345, 2.99310345, 3.25513158, 3.25513158, 3.25513158,\n",
       "       3.25513158, 3.25513158, 2.77145161, 2.77145161, 2.77145161,\n",
       "       2.77145161, 2.77145161, 2.77145161, 2.77145161, 2.77145161,\n",
       "       2.77145161, 2.77145161, 2.77145161, 2.77145161, 2.77145161,\n",
       "       2.77145161, 2.77145161, 2.77145161, 2.77145161, 2.77145161,\n",
       "       2.77145161, 2.77145161, 2.77145161, 2.77145161, 2.77145161,\n",
       "       2.77145161, 2.77145161, 2.77145161, 2.77145161, 2.77145161,\n",
       "       2.77145161, 2.77145161, 2.77145161, 2.77145161, 2.77145161,\n",
       "       3.25513158, 3.25513158, 3.25513158, 3.25513158, 3.25513158,\n",
       "       3.25513158, 3.25513158, 3.25513158, 3.25513158, 3.25513158,\n",
       "       3.25513158, 3.25513158, 3.25513158, 3.25513158, 3.25513158,\n",
       "       3.25513158, 3.25513158, 3.25513158, 2.99310345, 2.99310345,\n",
       "       2.99310345, 2.99310345, 3.25513158, 3.25513158, 3.25513158,\n",
       "       3.25513158, 3.25513158, 3.25513158, 3.25513158, 3.25513158,\n",
       "       3.25513158, 3.25513158, 3.25513158, 3.25513158, 3.25513158,\n",
       "       3.25513158, 3.25513158, 3.25513158, 3.25513158, 3.25513158,\n",
       "       3.25513158, 2.77145161, 2.77145161, 2.77145161, 2.77145161,\n",
       "       2.77145161, 2.77145161, 2.77145161, 2.77145161, 2.77145161,\n",
       "       2.77145161, 2.77145161, 2.77145161, 2.77145161, 2.77145161,\n",
       "       2.77145161, 2.99310345, 2.99310345, 2.99310345, 2.99310345,\n",
       "       2.99310345, 2.99310345, 2.99310345, 2.99310345, 2.99310345,\n",
       "       2.99310345, 2.99310345, 2.99310345, 2.99310345, 2.99310345,\n",
       "       2.73473684, 2.73473684, 2.73473684, 2.73473684, 2.73473684,\n",
       "       2.73473684, 2.73473684, 2.99310345, 2.99310345, 2.99310345,\n",
       "       2.99310345, 2.99310345, 2.99310345, 2.99310345, 2.99310345,\n",
       "       2.99310345, 2.99310345, 2.99310345, 2.99310345, 2.99310345,\n",
       "       2.99310345, 2.99310345, 2.99310345, 2.77145161])"
      ]
     },
     "execution_count": 34,
     "metadata": {},
     "output_type": "execute_result"
    }
   ],
   "source": [
    "result = model.get_prediction(tips_df[\"day\"])\n",
    "result.predicted"
   ]
  },
  {
   "cell_type": "code",
   "execution_count": 35,
   "metadata": {},
   "outputs": [
    {
     "name": "stdout",
     "output_type": "stream",
     "text": [
      "<class 'pandas.core.frame.DataFrame'>\n",
      "RangeIndex: 395 entries, 0 to 394\n",
      "Data columns (total 33 columns):\n",
      " #   Column      Non-Null Count  Dtype \n",
      "---  ------      --------------  ----- \n",
      " 0   school      395 non-null    object\n",
      " 1   sex         395 non-null    object\n",
      " 2   age         395 non-null    int64 \n",
      " 3   address     395 non-null    object\n",
      " 4   famsize     395 non-null    object\n",
      " 5   Pstatus     395 non-null    object\n",
      " 6   Medu        395 non-null    int64 \n",
      " 7   Fedu        395 non-null    int64 \n",
      " 8   Mjob        395 non-null    object\n",
      " 9   Fjob        395 non-null    object\n",
      " 10  reason      395 non-null    object\n",
      " 11  guardian    395 non-null    object\n",
      " 12  traveltime  395 non-null    int64 \n",
      " 13  studytime   395 non-null    int64 \n",
      " 14  failures    395 non-null    int64 \n",
      " 15  schoolsup   395 non-null    object\n",
      " 16  famsup      395 non-null    object\n",
      " 17  paid        395 non-null    object\n",
      " 18  activities  395 non-null    object\n",
      " 19  nursery     395 non-null    object\n",
      " 20  higher      395 non-null    object\n",
      " 21  internet    395 non-null    object\n",
      " 22  romantic    395 non-null    object\n",
      " 23  famrel      395 non-null    int64 \n",
      " 24  freetime    395 non-null    int64 \n",
      " 25  goout       395 non-null    int64 \n",
      " 26  Dalc        395 non-null    int64 \n",
      " 27  Walc        395 non-null    int64 \n",
      " 28  health      395 non-null    int64 \n",
      " 29  absences    395 non-null    int64 \n",
      " 30  G1          395 non-null    int64 \n",
      " 31  G2          395 non-null    int64 \n",
      " 32  G3          395 non-null    int64 \n",
      "dtypes: int64(16), object(17)\n",
      "memory usage: 102.0+ KB\n"
     ]
    }
   ],
   "source": [
    "# student_mat.csv 기반 검정\n",
    "\n",
    "# 성별, Dalc, health,  G1, G2, G3 값의 차이 검정\n",
    "\n",
    "student_mat_df = pd.read_csv(\"data-files/student-mat.csv\")\n",
    "student_mat_df.info()"
   ]
  },
  {
   "cell_type": "code",
   "execution_count": 40,
   "metadata": {},
   "outputs": [
    {
     "data": {
      "text/html": [
       "<div>\n",
       "<style scoped>\n",
       "    .dataframe tbody tr th:only-of-type {\n",
       "        vertical-align: middle;\n",
       "    }\n",
       "\n",
       "    .dataframe tbody tr th {\n",
       "        vertical-align: top;\n",
       "    }\n",
       "\n",
       "    .dataframe thead th {\n",
       "        text-align: right;\n",
       "    }\n",
       "</style>\n",
       "<table border=\"1\" class=\"dataframe\">\n",
       "  <thead>\n",
       "    <tr style=\"text-align: right;\">\n",
       "      <th></th>\n",
       "      <th>G1</th>\n",
       "      <th>G2</th>\n",
       "      <th>G3</th>\n",
       "    </tr>\n",
       "    <tr>\n",
       "      <th>sex</th>\n",
       "      <th></th>\n",
       "      <th></th>\n",
       "      <th></th>\n",
       "    </tr>\n",
       "  </thead>\n",
       "  <tbody>\n",
       "    <tr>\n",
       "      <th>F</th>\n",
       "      <td>10.620192</td>\n",
       "      <td>10.389423</td>\n",
       "      <td>9.966346</td>\n",
       "    </tr>\n",
       "    <tr>\n",
       "      <th>M</th>\n",
       "      <td>11.229947</td>\n",
       "      <td>11.074866</td>\n",
       "      <td>10.914439</td>\n",
       "    </tr>\n",
       "  </tbody>\n",
       "</table>\n",
       "</div>"
      ],
      "text/plain": [
       "            G1         G2         G3\n",
       "sex                                 \n",
       "F    10.620192  10.389423   9.966346\n",
       "M    11.229947  11.074866  10.914439"
      ]
     },
     "execution_count": 40,
     "metadata": {},
     "output_type": "execute_result"
    }
   ],
   "source": [
    "student_mat_df.groupby(\"sex\")[['G1', 'G2', 'G3']].mean()"
   ]
  },
  {
   "cell_type": "code",
   "execution_count": 44,
   "metadata": {},
   "outputs": [
    {
     "data": {
      "text/html": [
       "<div>\n",
       "<style scoped>\n",
       "    .dataframe tbody tr th:only-of-type {\n",
       "        vertical-align: middle;\n",
       "    }\n",
       "\n",
       "    .dataframe tbody tr th {\n",
       "        vertical-align: top;\n",
       "    }\n",
       "\n",
       "    .dataframe thead th {\n",
       "        text-align: right;\n",
       "    }\n",
       "</style>\n",
       "<table border=\"1\" class=\"dataframe\">\n",
       "  <thead>\n",
       "    <tr style=\"text-align: right;\">\n",
       "      <th>G1</th>\n",
       "      <th>3</th>\n",
       "      <th>4</th>\n",
       "      <th>5</th>\n",
       "      <th>6</th>\n",
       "      <th>7</th>\n",
       "      <th>8</th>\n",
       "      <th>9</th>\n",
       "      <th>10</th>\n",
       "      <th>11</th>\n",
       "      <th>12</th>\n",
       "      <th>13</th>\n",
       "      <th>14</th>\n",
       "      <th>15</th>\n",
       "      <th>16</th>\n",
       "      <th>17</th>\n",
       "      <th>18</th>\n",
       "      <th>19</th>\n",
       "    </tr>\n",
       "    <tr>\n",
       "      <th>sex</th>\n",
       "      <th></th>\n",
       "      <th></th>\n",
       "      <th></th>\n",
       "      <th></th>\n",
       "      <th></th>\n",
       "      <th></th>\n",
       "      <th></th>\n",
       "      <th></th>\n",
       "      <th></th>\n",
       "      <th></th>\n",
       "      <th></th>\n",
       "      <th></th>\n",
       "      <th></th>\n",
       "      <th></th>\n",
       "      <th></th>\n",
       "      <th></th>\n",
       "      <th></th>\n",
       "    </tr>\n",
       "  </thead>\n",
       "  <tbody>\n",
       "    <tr>\n",
       "      <th>F</th>\n",
       "      <td>0</td>\n",
       "      <td>1</td>\n",
       "      <td>3</td>\n",
       "      <td>12</td>\n",
       "      <td>26</td>\n",
       "      <td>24</td>\n",
       "      <td>16</td>\n",
       "      <td>29</td>\n",
       "      <td>19</td>\n",
       "      <td>18</td>\n",
       "      <td>16</td>\n",
       "      <td>16</td>\n",
       "      <td>8</td>\n",
       "      <td>13</td>\n",
       "      <td>2</td>\n",
       "      <td>4</td>\n",
       "      <td>1</td>\n",
       "    </tr>\n",
       "    <tr>\n",
       "      <th>M</th>\n",
       "      <td>1</td>\n",
       "      <td>0</td>\n",
       "      <td>4</td>\n",
       "      <td>12</td>\n",
       "      <td>11</td>\n",
       "      <td>17</td>\n",
       "      <td>15</td>\n",
       "      <td>22</td>\n",
       "      <td>20</td>\n",
       "      <td>17</td>\n",
       "      <td>17</td>\n",
       "      <td>14</td>\n",
       "      <td>16</td>\n",
       "      <td>9</td>\n",
       "      <td>6</td>\n",
       "      <td>4</td>\n",
       "      <td>2</td>\n",
       "    </tr>\n",
       "  </tbody>\n",
       "</table>\n",
       "</div>"
      ],
      "text/plain": [
       "G1   3   4   5   6   7   8   9   10  11  12  13  14  15  16  17  18  19\n",
       "sex                                                                    \n",
       "F     0   1   3  12  26  24  16  29  19  18  16  16   8  13   2   4   1\n",
       "M     1   0   4  12  11  17  15  22  20  17  17  14  16   9   6   4   2"
      ]
     },
     "execution_count": 44,
     "metadata": {},
     "output_type": "execute_result"
    }
   ],
   "source": [
    "cross_tab = pd.crosstab(student_mat_df['sex'], student_mat_df['G1'])\n",
    "cross_tab"
   ]
  },
  {
   "cell_type": "code",
   "execution_count": 46,
   "metadata": {},
   "outputs": [
    {
     "data": {
      "text/plain": [
       "Chi2ContingencyResult(statistic=15.283968081369057, pvalue=0.503946835591659, dof=16, expected_freq=array([[ 0.52658228,  0.52658228,  3.68607595, 12.63797468, 19.4835443 ,\n",
       "        21.58987342, 16.32405063, 26.8556962 , 20.53670886, 18.43037975,\n",
       "        17.37721519, 15.79746835, 12.63797468, 11.58481013,  4.21265823,\n",
       "         4.21265823,  1.57974684],\n",
       "       [ 0.47341772,  0.47341772,  3.31392405, 11.36202532, 17.5164557 ,\n",
       "        19.41012658, 14.67594937, 24.1443038 , 18.46329114, 16.56962025,\n",
       "        15.62278481, 14.20253165, 11.36202532, 10.41518987,  3.78734177,\n",
       "         3.78734177,  1.42025316]]))"
      ]
     },
     "execution_count": 46,
     "metadata": {},
     "output_type": "execute_result"
    }
   ],
   "source": [
    "stats.chi2_contingency(cross_tab)"
   ]
  },
  {
   "cell_type": "code",
   "execution_count": 47,
   "metadata": {},
   "outputs": [
    {
     "data": {
      "text/plain": [
       "TtestResult(statistic=1.8283673434285317, pvalue=0.06825227168840965, df=393.0)"
      ]
     },
     "execution_count": 47,
     "metadata": {},
     "output_type": "execute_result"
    }
   ],
   "source": [
    "stats.ttest_ind(student_mat_df[student_mat_df[\"sex\"] == 'M']['G1'],\n",
    "                student_mat_df[student_mat_df[\"sex\"] == 'F']['G1'])"
   ]
  },
  {
   "cell_type": "code",
   "execution_count": 50,
   "metadata": {},
   "outputs": [
    {
     "data": {
      "text/plain": [
       "Chi2ContingencyResult(statistic=30.305985130611948, pvalue=4.240254636940353e-06, dof=4, expected_freq=array([[145.33670886,  39.49367089,  13.69113924,   4.73924051,\n",
       "          4.73924051],\n",
       "       [130.66329114,  35.50632911,  12.30886076,   4.26075949,\n",
       "          4.26075949]]))"
      ]
     },
     "execution_count": 50,
     "metadata": {},
     "output_type": "execute_result"
    }
   ],
   "source": [
    "# 성별, 주중음주 독립성\n",
    "cross_tab2 = pd.crosstab(student_mat_df['sex'], student_mat_df['Dalc'])\n",
    "cross_tab2\n",
    "\n",
    "stats.chi2_contingency(cross_tab2)"
   ]
  },
  {
   "cell_type": "code",
   "execution_count": 51,
   "metadata": {},
   "outputs": [
    {
     "data": {
      "text/html": [
       "<div>\n",
       "<style scoped>\n",
       "    .dataframe tbody tr th:only-of-type {\n",
       "        vertical-align: middle;\n",
       "    }\n",
       "\n",
       "    .dataframe tbody tr th {\n",
       "        vertical-align: top;\n",
       "    }\n",
       "\n",
       "    .dataframe thead th {\n",
       "        text-align: right;\n",
       "    }\n",
       "</style>\n",
       "<table border=\"1\" class=\"dataframe\">\n",
       "  <thead>\n",
       "    <tr style=\"text-align: right;\">\n",
       "      <th>Dalc</th>\n",
       "      <th>1</th>\n",
       "      <th>2</th>\n",
       "      <th>3</th>\n",
       "      <th>4</th>\n",
       "      <th>5</th>\n",
       "    </tr>\n",
       "    <tr>\n",
       "      <th>sex</th>\n",
       "      <th></th>\n",
       "      <th></th>\n",
       "      <th></th>\n",
       "      <th></th>\n",
       "      <th></th>\n",
       "    </tr>\n",
       "  </thead>\n",
       "  <tbody>\n",
       "    <tr>\n",
       "      <th>F</th>\n",
       "      <td>167</td>\n",
       "      <td>33</td>\n",
       "      <td>5</td>\n",
       "      <td>2</td>\n",
       "      <td>1</td>\n",
       "    </tr>\n",
       "    <tr>\n",
       "      <th>M</th>\n",
       "      <td>109</td>\n",
       "      <td>42</td>\n",
       "      <td>21</td>\n",
       "      <td>7</td>\n",
       "      <td>8</td>\n",
       "    </tr>\n",
       "  </tbody>\n",
       "</table>\n",
       "</div>"
      ],
      "text/plain": [
       "Dalc    1   2   3  4  5\n",
       "sex                    \n",
       "F     167  33   5  2  1\n",
       "M     109  42  21  7  8"
      ]
     },
     "execution_count": 51,
     "metadata": {},
     "output_type": "execute_result"
    }
   ],
   "source": [
    "cross_tab2"
   ]
  },
  {
   "cell_type": "code",
   "execution_count": 53,
   "metadata": {},
   "outputs": [
    {
     "data": {
      "text/plain": [
       "Chi2ContingencyResult(statistic=21.604778222448928, pvalue=0.15641725047363647, dof=16, expected_freq=array([[ 32.84050633,  31.44303797,  63.58481013,  46.1164557 ,\n",
       "        102.01518987],\n",
       "       [  8.92405063,   8.5443038 ,  17.27848101,  12.53164557,\n",
       "         27.72151899],\n",
       "       [  3.09367089,   2.96202532,   5.98987342,   4.3443038 ,\n",
       "          9.61012658],\n",
       "       [  1.07088608,   1.02531646,   2.07341772,   1.50379747,\n",
       "          3.32658228],\n",
       "       [  1.07088608,   1.02531646,   2.07341772,   1.50379747,\n",
       "          3.32658228]]))"
      ]
     },
     "execution_count": 53,
     "metadata": {},
     "output_type": "execute_result"
    }
   ],
   "source": [
    "# 성별, 주중음주 독립성\n",
    "cross_tab3 = pd.crosstab(student_mat_df['Dalc'], student_mat_df['health'])\n",
    "cross_tab3\n",
    "\n",
    "stats.chi2_contingency(cross_tab3)"
   ]
  }
 ],
 "metadata": {
  "kernelspec": {
   "display_name": "study-env",
   "language": "python",
   "name": "python3"
  },
  "language_info": {
   "codemirror_mode": {
    "name": "ipython",
    "version": 3
   },
   "file_extension": ".py",
   "mimetype": "text/x-python",
   "name": "python",
   "nbconvert_exporter": "python",
   "pygments_lexer": "ipython3",
   "version": "3.9.18"
  }
 },
 "nbformat": 4,
 "nbformat_minor": 2
}
