{
  "nbformat": 4,
  "nbformat_minor": 0,
  "metadata": {
    "colab": {
      "provenance": []
    },
    "kernelspec": {
      "name": "python3",
      "display_name": "Python 3"
    },
    "language_info": {
      "name": "python"
    }
  },
  "cells": [
    {
      "cell_type": "code",
      "execution_count": null,
      "metadata": {
        "id": "FkeoH8PgAtsQ"
      },
      "outputs": [],
      "source": [
        "import numpy  as np\n",
        "import pandas as pd\n",
        "import matplotlib.pyplot as plt\n",
        "\n",
        "import tensorflow as tf\n",
        "from tensorflow import keras as tf_keras"
      ]
    },
    {
      "cell_type": "code",
      "source": [],
      "metadata": {
        "id": "rW6bZtkIGZMM"
      },
      "execution_count": null,
      "outputs": []
    },
    {
      "cell_type": "code",
      "source": [
        "(X_train, y_train), (X_test, y_test) = tf_keras.datasets.boston_housing.load_data()"
      ],
      "metadata": {
        "colab": {
          "base_uri": "https://localhost:8080/"
        },
        "id": "DTCcGeoWBOrU",
        "outputId": "53d12a4a-0cf8-4635-de04-dc184f880ead"
      },
      "execution_count": null,
      "outputs": [
        {
          "output_type": "stream",
          "name": "stdout",
          "text": [
            "Downloading data from https://storage.googleapis.com/tensorflow/tf-keras-datasets/boston_housing.npz\n",
            "57026/57026 [==============================] - 0s 0us/step\n"
          ]
        }
      ]
    },
    {
      "cell_type": "code",
      "source": [
        "print( X_train.shape, X_test.shape )\n",
        "X_train.max(axis=0), X_train.min(axis=0)"
      ],
      "metadata": {
        "colab": {
          "base_uri": "https://localhost:8080/"
        },
        "id": "ad1Un-JiBfnk",
        "outputId": "eef93c38-1470-4978-8f7e-eb9a4e9622b4"
      },
      "execution_count": null,
      "outputs": [
        {
          "output_type": "stream",
          "name": "stdout",
          "text": [
            "(404, 13) (102, 13)\n"
          ]
        },
        {
          "output_type": "execute_result",
          "data": {
            "text/plain": [
              "(array([ 88.9762, 100.    ,  27.74  ,   1.    ,   0.871 ,   8.725 ,\n",
              "        100.    ,  10.7103,  24.    , 711.    ,  22.    , 396.9   ,\n",
              "         37.97  ]),\n",
              " array([6.3200e-03, 0.0000e+00, 4.6000e-01, 0.0000e+00, 3.8500e-01,\n",
              "        3.5610e+00, 2.9000e+00, 1.1296e+00, 1.0000e+00, 1.8800e+02,\n",
              "        1.2600e+01, 3.2000e-01, 1.7300e+00]))"
            ]
          },
          "metadata": {},
          "execution_count": 6
        }
      ]
    },
    {
      "cell_type": "code",
      "source": [
        "model = tf_keras.Sequential([\n",
        "    tf_keras.layers.Input(shape=(13, )),\n",
        "    # tf_keras.layers.Dense(64, activation=\"relu\", kernel_initializer=\"random_normal\"),\n",
        "    tf_keras.layers.Dense(64, activation=\"relu\", kernel_initializer=tf_keras.initializers.random_normal(seed=42)),\n",
        "    tf_keras.layers.Dense(1, kernel_initializer=tf_keras.initializers.random_normal(seed=42)) # 회귀모델 출력층의 유닛갯수는 1, activation은 항등함수 (지정하지 않음)\n",
        "])"
      ],
      "metadata": {
        "id": "rrFAizUeBk9K"
      },
      "execution_count": null,
      "outputs": []
    },
    {
      "cell_type": "code",
      "source": [
        "model.compile(optimizer=\"adam\",\n",
        "              loss=\"mse\",\n",
        "              metrics=['mse', 'mae'])"
      ],
      "metadata": {
        "id": "eKS-72_0C1pc"
      },
      "execution_count": null,
      "outputs": []
    },
    {
      "cell_type": "code",
      "source": [
        "model.fit(X_train, y_train, epochs=10)"
      ],
      "metadata": {
        "colab": {
          "base_uri": "https://localhost:8080/"
        },
        "id": "x7pt-lCLDwg7",
        "outputId": "d82c276e-0873-45b3-b3c7-7448d6a6df45"
      },
      "execution_count": null,
      "outputs": [
        {
          "output_type": "stream",
          "name": "stdout",
          "text": [
            "Epoch 1/10\n",
            "13/13 [==============================] - 1s 2ms/step - loss: 278.9173 - mse: 278.9173 - mae: 13.6420\n",
            "Epoch 2/10\n",
            "13/13 [==============================] - 0s 2ms/step - loss: 101.9781 - mse: 101.9781 - mae: 7.7903\n",
            "Epoch 3/10\n",
            "13/13 [==============================] - 0s 2ms/step - loss: 80.6094 - mse: 80.6094 - mae: 6.4089\n",
            "Epoch 4/10\n",
            "13/13 [==============================] - 0s 2ms/step - loss: 74.7939 - mse: 74.7939 - mae: 5.8269\n",
            "Epoch 5/10\n",
            "13/13 [==============================] - 0s 2ms/step - loss: 70.0496 - mse: 70.0496 - mae: 6.0262\n",
            "Epoch 6/10\n",
            "13/13 [==============================] - 0s 2ms/step - loss: 67.6366 - mse: 67.6366 - mae: 5.8585\n",
            "Epoch 7/10\n",
            "13/13 [==============================] - 0s 2ms/step - loss: 66.1134 - mse: 66.1134 - mae: 5.6195\n",
            "Epoch 8/10\n",
            "13/13 [==============================] - 0s 2ms/step - loss: 63.9733 - mse: 63.9733 - mae: 5.7558\n",
            "Epoch 9/10\n",
            "13/13 [==============================] - 0s 2ms/step - loss: 62.0875 - mse: 62.0875 - mae: 5.5320\n",
            "Epoch 10/10\n",
            "13/13 [==============================] - 0s 2ms/step - loss: 60.9879 - mse: 60.9879 - mae: 5.3715\n"
          ]
        },
        {
          "output_type": "execute_result",
          "data": {
            "text/plain": [
              "<keras.src.callbacks.History at 0x7f60f0a10100>"
            ]
          },
          "metadata": {},
          "execution_count": 70
        }
      ]
    },
    {
      "cell_type": "code",
      "source": [
        "model.evaluate(X_train, y_train), model.evaluate(X_test, y_test)"
      ],
      "metadata": {
        "colab": {
          "base_uri": "https://localhost:8080/"
        },
        "id": "pjsS_TOPD5VU",
        "outputId": "50b827a4-b873-4a19-e621-7529be675322"
      },
      "execution_count": null,
      "outputs": [
        {
          "output_type": "stream",
          "name": "stdout",
          "text": [
            "13/13 [==============================] - 0s 2ms/step - loss: 53.1152 - mse: 53.1152 - mae: 5.1651\n",
            "4/4 [==============================] - 0s 4ms/step - loss: 62.4116 - mse: 62.4116 - mae: 5.7526\n"
          ]
        },
        {
          "output_type": "execute_result",
          "data": {
            "text/plain": [
              "([53.11518096923828, 53.11518096923828, 5.165147304534912],\n",
              " [62.411563873291016, 62.411563873291016, 5.752599239349365])"
            ]
          },
          "metadata": {},
          "execution_count": 41
        }
      ]
    },
    {
      "cell_type": "code",
      "source": [
        "y_train.mean(), y_train.std()"
      ],
      "metadata": {
        "colab": {
          "base_uri": "https://localhost:8080/"
        },
        "id": "0WSG9I1GEHzT",
        "outputId": "93059374-c114-4794-8e29-c1f979f854bc"
      },
      "execution_count": null,
      "outputs": [
        {
          "output_type": "execute_result",
          "data": {
            "text/plain": [
              "(22.395049504950492, 9.199035423364862)"
            ]
          },
          "metadata": {},
          "execution_count": 11
        }
      ]
    }
  ]
}