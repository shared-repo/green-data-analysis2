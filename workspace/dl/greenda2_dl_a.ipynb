{
  "nbformat": 4,
  "nbformat_minor": 0,
  "metadata": {
    "colab": {
      "provenance": []
    },
    "kernelspec": {
      "name": "python3",
      "display_name": "Python 3"
    },
    "language_info": {
      "name": "python"
    }
  },
  "cells": [
    {
      "cell_type": "code",
      "execution_count": 8,
      "metadata": {
        "id": "7_rpfzBlS3ny"
      },
      "outputs": [],
      "source": [
        "import numpy  as np\n",
        "import pandas as pd\n",
        "import matplotlib.pyplot as plt\n",
        "\n",
        "import tensorflow as tf\n",
        "from tensorflow import keras as tf_keras"
      ]
    },
    {
      "cell_type": "code",
      "source": [
        "# 데이터 준비 1 : colab 제공 mnist 기본 데이터\n",
        "mnist_train = pd.read_csv('sample_data/mnist_train_small.csv')\n",
        "mnist_train.shape"
      ],
      "metadata": {
        "colab": {
          "base_uri": "https://localhost:8080/"
        },
        "id": "YA6CZ-jwWJHt",
        "outputId": "013fcdf4-a56d-4053-934a-66713ea4bd97"
      },
      "execution_count": 6,
      "outputs": [
        {
          "output_type": "execute_result",
          "data": {
            "text/plain": [
              "(19999, 785)"
            ]
          },
          "metadata": {},
          "execution_count": 6
        }
      ]
    },
    {
      "cell_type": "code",
      "source": [
        "# 데이터 준비 2 : keras 제공 mnist 기본 데이터\n",
        "(X_train, y_train), (X_test, y_test) = tf_keras.datasets.mnist.load_data()\n",
        "X_train.shape"
      ],
      "metadata": {
        "colab": {
          "base_uri": "https://localhost:8080/"
        },
        "id": "oVBCr86McWuv",
        "outputId": "b3c03190-70b7-4d9c-c792-01f032ae990a"
      },
      "execution_count": 7,
      "outputs": [
        {
          "output_type": "stream",
          "name": "stdout",
          "text": [
            "Downloading data from https://storage.googleapis.com/tensorflow/tf-keras-datasets/mnist.npz\n",
            "11490434/11490434 [==============================] - 0s 0us/step\n"
          ]
        },
        {
          "output_type": "execute_result",
          "data": {
            "text/plain": [
              "(60000, 28, 28)"
            ]
          },
          "metadata": {},
          "execution_count": 7
        }
      ]
    },
    {
      "cell_type": "code",
      "source": [
        "# 데이터 확인\n",
        "print(y_train[0])\n",
        "plt.figure(figsize=(1, 1))\n",
        "plt.imshow(X_train[0], cmap='gray')\n",
        "plt.show()"
      ],
      "metadata": {
        "colab": {
          "base_uri": "https://localhost:8080/",
          "height": 159
        },
        "id": "u6NhKPTUddtl",
        "outputId": "558d6bd2-8aaa-40ab-a771-3111a896dec7"
      },
      "execution_count": 13,
      "outputs": [
        {
          "output_type": "stream",
          "name": "stdout",
          "text": [
            "5\n"
          ]
        },
        {
          "output_type": "display_data",
          "data": {
            "text/plain": [
              "<Figure size 100x100 with 1 Axes>"
            ],
            "image/png": "[encoded data removed]"
          },
          "metadata": {}
        }
      ]
    },
    {
      "cell_type": "code",
      "source": [
        "# 입력 데이터 구조 변경 : 28 X 28 -> 784 (2차원 -> 1차원)\n",
        "flatten_X_train = X_train.reshape(-1, 28*28)\n",
        "# print( X_train.shape, flatten_X_train.shape, X_train.dtype, flatten_X_train.dtype, flatten_X_train.max() )\n",
        "flatten_X_train = flatten_X_train.astype('float32') / 255 # flatten_X_train.max() # 0 ~ 1사이의 데이터로 변환\n",
        "flatten_X_test = X_test.reshape(-1, 28*28)\n",
        "flatten_X_test = flatten_X_test.astype('float32') / 255 # flatten_X_test.max() # 0 ~ 1사이의 데이터로 변환"
      ],
      "metadata": {
        "id": "75YkAM0TeUJ2"
      },
      "execution_count": 18,
      "outputs": []
    },
    {
      "cell_type": "code",
      "source": [
        "flatten_X_train.min(), flatten_X_train.max()"
      ],
      "metadata": {
        "colab": {
          "base_uri": "https://localhost:8080/"
        },
        "id": "647Z0_sRgnfP",
        "outputId": "70dab243-2c05-4b6d-cee2-53dc589ac33e"
      },
      "execution_count": 19,
      "outputs": [
        {
          "output_type": "execute_result",
          "data": {
            "text/plain": [
              "(0.0, 1.0)"
            ]
          },
          "metadata": {},
          "execution_count": 19
        }
      ]
    },
    {
      "cell_type": "code",
      "source": [
        "model = tf_keras.Sequential([\n",
        "    tf_keras.layers.Input(shape=(784, )),\n",
        "    tf_keras.layers.Dense(512, activation='relu'),\n",
        "    tf_keras.layers.Dense(256, activation='relu'),\n",
        "    tf_keras.layers.Dense(10, activation='softmax') # 마지막 레이어의 노드 갯수는 타겟 값 종류의 갯수와 일치하도록 설정\n",
        "])"
      ],
      "metadata": {
        "id": "MIotOYDlg4EP"
      },
      "execution_count": 22,
      "outputs": []
    },
    {
      "cell_type": "code",
      "source": [
        "model.summary()"
      ],
      "metadata": {
        "colab": {
          "base_uri": "https://localhost:8080/"
        },
        "id": "KcD2XoL8icfg",
        "outputId": "a4a432f4-2d85-4794-ecd1-0699c2e0804d"
      },
      "execution_count": 23,
      "outputs": [
        {
          "output_type": "stream",
          "name": "stdout",
          "text": [
            "Model: \"sequential_1\"\n",
            "_________________________________________________________________\n",
            " Layer (type)                Output Shape              Param #   \n",
            "=================================================================\n",
            " dense_3 (Dense)             (None, 512)               401920    \n",
            "                                                                 \n",
            " dense_4 (Dense)             (None, 256)               131328    \n",
            "                                                                 \n",
            " dense_5 (Dense)             (None, 10)                2570      \n",
            "                                                                 \n",
            "=================================================================\n",
            "Total params: 535818 (2.04 MB)\n",
            "Trainable params: 535818 (2.04 MB)\n",
            "Non-trainable params: 0 (0.00 Byte)\n",
            "_________________________________________________________________\n"
          ]
        }
      ]
    },
    {
      "cell_type": "code",
      "source": [
        "model.compile(optimizer='rmsprop',\n",
        "              loss='sparse_categorical_crossentropy',\n",
        "              metrics=['accuracy']) # 학습 방법 설정 ( 최적화 )"
      ],
      "metadata": {
        "id": "JNQztYvQi34n"
      },
      "execution_count": 24,
      "outputs": []
    },
    {
      "cell_type": "code",
      "source": [
        "model.fit(flatten_X_train, y_train, epochs=3)"
      ],
      "metadata": {
        "colab": {
          "base_uri": "https://localhost:8080/"
        },
        "id": "CH8u4CHJjmrY",
        "outputId": "7671c3be-62db-40e8-fbda-a0e2b65368b2"
      },
      "execution_count": 25,
      "outputs": [
        {
          "output_type": "stream",
          "name": "stdout",
          "text": [
            "Epoch 1/3\n",
            "1875/1875 [==============================] - 21s 11ms/step - loss: 0.1895 - accuracy: 0.9433\n",
            "Epoch 2/3\n",
            "1875/1875 [==============================] - 21s 11ms/step - loss: 0.0850 - accuracy: 0.9753\n",
            "Epoch 3/3\n",
            "1875/1875 [==============================] - 21s 11ms/step - loss: 0.0619 - accuracy: 0.9826\n"
          ]
        },
        {
          "output_type": "execute_result",
          "data": {
            "text/plain": [
              "<keras.src.callbacks.History at 0x7851854649a0>"
            ]
          },
          "metadata": {},
          "execution_count": 25
        }
      ]
    }
  ]
}