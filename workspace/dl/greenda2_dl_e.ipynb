{
  "nbformat": 4,
  "nbformat_minor": 0,
  "metadata": {
    "colab": {
      "provenance": []
    },
    "kernelspec": {
      "name": "python3",
      "display_name": "Python 3"
    },
    "language_info": {
      "name": "python"
    }
  },
  "cells": [
    {
      "cell_type": "code",
      "execution_count": 1,
      "metadata": {
        "id": "kmy0KI93BUkY"
      },
      "outputs": [],
      "source": [
        "import numpy as np\n",
        "import pandas as pd\n",
        "import matplotlib.pyplot as plt\n",
        "\n",
        "import tensorflow as tf\n",
        "import tensorflow.keras as tf_keras"
      ]
    },
    {
      "cell_type": "code",
      "source": [
        "# 데이터 준비\n",
        "(X_train, y_train), (X_test, y_test) = tf_keras.datasets.imdb.load_data(num_words=10000)"
      ],
      "metadata": {
        "colab": {
          "base_uri": "https://localhost:8080/"
        },
        "id": "w5maH6NTB8tx",
        "outputId": "d1cf34ba-cc2b-4afa-8547-17e765f3b988"
      },
      "execution_count": 3,
      "outputs": [
        {
          "output_type": "stream",
          "name": "stdout",
          "text": [
            "Downloading data from https://storage.googleapis.com/tensorflow/tf-keras-datasets/imdb.npz\n",
            "17464789/17464789 [==============================] - 1s 0us/step\n"
          ]
        }
      ]
    },
    {
      "cell_type": "code",
      "source": [
        "print( type(X_train) )\n",
        "print( X_train.shape )\n",
        "len( X_train[0] ),len( X_train[1] )\n",
        "print( y_train.shape )\n",
        "print( np.unique(y_train, return_counts=True) )"
      ],
      "metadata": {
        "colab": {
          "base_uri": "https://localhost:8080/"
        },
        "id": "wE0sw8dDDiei",
        "outputId": "a95968ba-dff5-40d9-b77b-d8586070234a"
      },
      "execution_count": 13,
      "outputs": [
        {
          "output_type": "stream",
          "name": "stdout",
          "text": [
            "<class 'numpy.ndarray'>\n",
            "(25000,)\n",
            "(25000,)\n",
            "(array([0, 1]), array([12500, 12500]))\n"
          ]
        }
      ]
    },
    {
      "cell_type": "code",
      "source": [
        "# imdb 단어 사전 조회\n",
        "word_idx_map = tf_keras.datasets.imdb.get_word_index()"
      ],
      "metadata": {
        "colab": {
          "base_uri": "https://localhost:8080/"
        },
        "id": "mAyB8-DpFQDB",
        "outputId": "21e8617f-2e42-4888-aef2-7aca3b4fa34a"
      },
      "execution_count": 14,
      "outputs": [
        {
          "output_type": "stream",
          "name": "stdout",
          "text": [
            "Downloading data from https://storage.googleapis.com/tensorflow/tf-keras-datasets/imdb_word_index.json\n",
            "1641221/1641221 [==============================] - 1s 0us/step\n"
          ]
        }
      ]
    },
    {
      "cell_type": "code",
      "source": [
        "print( type(word_idx_map) )\n",
        "for i, (k, v) in enumerate(word_idx_map.items()):\n",
        "  if i == 10:\n",
        "    break\n",
        "\n",
        "  print(k, \" : \", v)"
      ],
      "metadata": {
        "colab": {
          "base_uri": "https://localhost:8080/"
        },
        "id": "rT1XUMy_FiPw",
        "outputId": "d54bde4f-b494-4f75-f754-435cab40aaec"
      },
      "execution_count": 17,
      "outputs": [
        {
          "output_type": "stream",
          "name": "stdout",
          "text": [
            "<class 'dict'>\n",
            "fawn  :  34701\n",
            "tsukino  :  52006\n",
            "nunnery  :  52007\n",
            "sonja  :  16816\n",
            "vani  :  63951\n",
            "woods  :  1408\n",
            "spiders  :  16115\n",
            "hanging  :  2345\n",
            "woody  :  2289\n",
            "trawling  :  52008\n"
          ]
        }
      ]
    },
    {
      "cell_type": "code",
      "source": [
        "# 단어 : 인덱스 조합 -> 인덱스 : 단어 조합으로 변경\n",
        "idx_word_map = { idx : word for (word, idx) in word_idx_map.items() }"
      ],
      "metadata": {
        "id": "OwGsHnBmGWkQ"
      },
      "execution_count": 19,
      "outputs": []
    },
    {
      "cell_type": "code",
      "source": [
        "for i, (k, v) in enumerate(idx_word_map.items()):\n",
        "  if i == 10:\n",
        "    break\n",
        "\n",
        "  print(k, \" : \", v)"
      ],
      "metadata": {
        "colab": {
          "base_uri": "https://localhost:8080/"
        },
        "id": "mbPunyLHG1qq",
        "outputId": "a372e7bb-c3e8-408a-efab-ea73160dfc80"
      },
      "execution_count": 20,
      "outputs": [
        {
          "output_type": "stream",
          "name": "stdout",
          "text": [
            "34701  :  fawn\n",
            "52006  :  tsukino\n",
            "52007  :  nunnery\n",
            "16816  :  sonja\n",
            "63951  :  vani\n",
            "1408  :  woods\n",
            "16115  :  spiders\n",
            "2345  :  hanging\n",
            "2289  :  woody\n",
            "52008  :  trawling\n"
          ]
        }
      ]
    },
    {
      "cell_type": "code",
      "source": [
        "# print( idx_word_map[1000000] )\n",
        "# print( idx_word_map.get(1000000, '?') )\n",
        "\n",
        "for i in range(10):\n",
        "  print( idx_word_map.get(i, '?') )"
      ],
      "metadata": {
        "colab": {
          "base_uri": "https://localhost:8080/"
        },
        "id": "tl_bbzg0HA23",
        "outputId": "3a7a36be-9cb2-4619-bcc0-7eeea4f76164"
      },
      "execution_count": 26,
      "outputs": [
        {
          "output_type": "stream",
          "name": "stdout",
          "text": [
            "?\n",
            "the\n",
            "and\n",
            "a\n",
            "of\n",
            "to\n",
            "is\n",
            "br\n",
            "in\n",
            "it\n"
          ]
        }
      ]
    },
    {
      "cell_type": "code",
      "source": [
        "# 단어 사전을 사용해서 문장 복원\n",
        "[ idx_word_map.get(idx-3, '?') for idx in X_train[0][:10] ] # 문장의 단어 번호는 3번부터 시작"
      ],
      "metadata": {
        "colab": {
          "base_uri": "https://localhost:8080/"
        },
        "id": "Lo0TZ2_OHwLA",
        "outputId": "ccf73978-b5fa-4892-8a44-0ed0a9043243"
      },
      "execution_count": 31,
      "outputs": [
        {
          "output_type": "execute_result",
          "data": {
            "text/plain": [
              "['?',\n",
              " 'this',\n",
              " 'film',\n",
              " 'was',\n",
              " 'just',\n",
              " 'brilliant',\n",
              " 'casting',\n",
              " 'location',\n",
              " 'scenery',\n",
              " 'story']"
            ]
          },
          "metadata": {},
          "execution_count": 31
        }
      ]
    },
    {
      "cell_type": "code",
      "source": [
        "len(X_train[0]), len(X_train[1]) # 각 입력 데이터의 크기가 다른 것 확인"
      ],
      "metadata": {
        "colab": {
          "base_uri": "https://localhost:8080/"
        },
        "id": "OIzw3BbgIrJ5",
        "outputId": "783f0211-330a-4942-e9a9-591c8d749932"
      },
      "execution_count": 32,
      "outputs": [
        {
          "output_type": "execute_result",
          "data": {
            "text/plain": [
              "(218, 189)"
            ]
          },
          "metadata": {},
          "execution_count": 32
        }
      ]
    },
    {
      "cell_type": "code",
      "source": [
        "# 입력 데이터 구성 : 각 문장을 (1, 10000) 배열로 변환\n",
        "def vectorize_setences(sentences, dimension=10000, bow=True):\n",
        "  result = np.zeros(shape=(len(sentences), dimension)) # 0으로 초기화한 (문장갯수, 단어갯수)의 2차원 배열 구성\n",
        "  for i, sentence in enumerate(sentences):\n",
        "    for word_idx in sentence:\n",
        "      if bow:\n",
        "        result[i, word_idx] += 1 # 단어 빈도\n",
        "      else:\n",
        "        result[i, word_idx] = 1 # 단어 발생\n",
        "\n",
        "  return result\n"
      ],
      "metadata": {
        "id": "zSPeqFYIOD5u"
      },
      "execution_count": 39,
      "outputs": []
    },
    {
      "cell_type": "code",
      "source": [
        "# 입력 데이터 변환\n",
        "# vectorize_setences(X_train[:2])\n",
        "X_train2 = vectorize_setences(X_train, bow=False)\n",
        "X_test2 = vectorize_setences(X_test, bow=False)"
      ],
      "metadata": {
        "id": "rcc1bGcsQuX8"
      },
      "execution_count": 41,
      "outputs": []
    },
    {
      "cell_type": "code",
      "source": [],
      "metadata": {
        "id": "5zlWMu3CRaAO"
      },
      "execution_count": null,
      "outputs": []
    },
    {
      "cell_type": "code",
      "source": [
        "# 모델 만들기\n",
        "model = tf_keras.Sequential()\n",
        "# model.add(tf_keras.layers.Input(shape=(10000, )))\n",
        "# model.add(tf_keras.layers.Dense(units=256, activation='relu'))\n",
        "model.add(tf_keras.layers.Dense(input_shape=(10000, ), units=256, activation='relu'))\n",
        "model.add(tf_keras.layers.Dense(units=128, activation='relu'))\n",
        "model.add(tf_keras.layers.Dense(units=64, activation='relu'))\n",
        "model.add(tf_keras.layers.Dense(units=1, activation=\"sigmoid\"))\n",
        "\n",
        "model.summary()"
      ],
      "metadata": {
        "colab": {
          "base_uri": "https://localhost:8080/"
        },
        "id": "4qwAuNUSRsKt",
        "outputId": "d215457c-a3c3-4e0e-d9cd-0007213a760b"
      },
      "execution_count": 45,
      "outputs": [
        {
          "output_type": "stream",
          "name": "stdout",
          "text": [
            "Model: \"sequential_3\"\n",
            "_________________________________________________________________\n",
            " Layer (type)                Output Shape              Param #   \n",
            "=================================================================\n",
            " dense_12 (Dense)            (None, 256)               2560256   \n",
            "                                                                 \n",
            " dense_13 (Dense)            (None, 128)               32896     \n",
            "                                                                 \n",
            " dense_14 (Dense)            (None, 64)                8256      \n",
            "                                                                 \n",
            " dense_15 (Dense)            (None, 1)                 65        \n",
            "                                                                 \n",
            "=================================================================\n",
            "Total params: 2601473 (9.92 MB)\n",
            "Trainable params: 2601473 (9.92 MB)\n",
            "Non-trainable params: 0 (0.00 Byte)\n",
            "_________________________________________________________________\n"
          ]
        }
      ]
    },
    {
      "cell_type": "code",
      "source": [
        "model.compile(optimizer=\"adam\",\n",
        "              loss=\"binary_crossentropy\",\n",
        "              metrics=['accuracy'])"
      ],
      "metadata": {
        "id": "j5gGb0IdTYgU"
      },
      "execution_count": 46,
      "outputs": []
    },
    {
      "cell_type": "code",
      "source": [
        "history = model.fit(X_train2, y_train, batch_size=256, epochs=10, validation_split=0.2)"
      ],
      "metadata": {
        "colab": {
          "base_uri": "https://localhost:8080/"
        },
        "id": "UigZOPPET-3E",
        "outputId": "348c8a7b-a237-48a6-9403-d44042c4cc46"
      },
      "execution_count": 48,
      "outputs": [
        {
          "output_type": "stream",
          "name": "stdout",
          "text": [
            "Epoch 1/10\n",
            "79/79 [==============================] - 12s 138ms/step - loss: 0.3472 - accuracy: 0.8546 - val_loss: 0.2785 - val_accuracy: 0.8882\n",
            "Epoch 2/10\n",
            "79/79 [==============================] - 8s 95ms/step - loss: 0.1502 - accuracy: 0.9456 - val_loss: 0.3210 - val_accuracy: 0.8812\n",
            "Epoch 3/10\n",
            "79/79 [==============================] - 6s 79ms/step - loss: 0.0580 - accuracy: 0.9817 - val_loss: 0.5077 - val_accuracy: 0.8648\n",
            "Epoch 4/10\n",
            "79/79 [==============================] - 7s 92ms/step - loss: 0.0221 - accuracy: 0.9931 - val_loss: 0.5455 - val_accuracy: 0.8742\n",
            "Epoch 5/10\n",
            "79/79 [==============================] - 6s 82ms/step - loss: 0.0053 - accuracy: 0.9988 - val_loss: 0.6697 - val_accuracy: 0.8716\n",
            "Epoch 6/10\n",
            "79/79 [==============================] - 7s 92ms/step - loss: 8.3693e-04 - accuracy: 1.0000 - val_loss: 0.7418 - val_accuracy: 0.8734\n",
            "Epoch 7/10\n",
            "79/79 [==============================] - 6s 80ms/step - loss: 1.5743e-04 - accuracy: 1.0000 - val_loss: 0.7864 - val_accuracy: 0.8752\n",
            "Epoch 8/10\n",
            "79/79 [==============================] - 7s 92ms/step - loss: 8.6721e-05 - accuracy: 1.0000 - val_loss: 0.8200 - val_accuracy: 0.8752\n",
            "Epoch 9/10\n",
            "79/79 [==============================] - 6s 81ms/step - loss: 6.1805e-05 - accuracy: 1.0000 - val_loss: 0.8463 - val_accuracy: 0.8756\n",
            "Epoch 10/10\n",
            "79/79 [==============================] - 7s 91ms/step - loss: 4.7164e-05 - accuracy: 1.0000 - val_loss: 0.8682 - val_accuracy: 0.8758\n"
          ]
        }
      ]
    },
    {
      "cell_type": "code",
      "source": [
        "history.history.keys()"
      ],
      "metadata": {
        "colab": {
          "base_uri": "https://localhost:8080/"
        },
        "id": "YrbAsVIIVSzM",
        "outputId": "e1fa07e7-1ccc-4969-8eb8-6f3b06a8c5d7"
      },
      "execution_count": 50,
      "outputs": [
        {
          "output_type": "execute_result",
          "data": {
            "text/plain": [
              "dict_keys(['loss', 'accuracy', 'val_loss', 'val_accuracy'])"
            ]
          },
          "metadata": {},
          "execution_count": 50
        }
      ]
    },
    {
      "cell_type": "code",
      "source": [
        "plt.figure(figsize=(8, 3))\n",
        "plt.plot(history.epoch, history.history['accuracy'], label='accuracy')\n",
        "plt.plot(history.epoch, history.history['val_accuracy'], label='val_accuracy')\n",
        "plt.legend()\n",
        "plt.show()"
      ],
      "metadata": {
        "colab": {
          "base_uri": "https://localhost:8080/",
          "height": 291
        },
        "id": "0VjsL2uDVbE1",
        "outputId": "74213525-1f54-4426-cfb4-0c247d2d84ef"
      },
      "execution_count": 56,
      "outputs": [
        {
          "output_type": "display_data",
          "data": {
            "text/plain": [
              "<Figure size 800x300 with 1 Axes>"
            ],
            "image/png": "[encoded data removed]"
          },
          "metadata": {}
        }
      ]
    },
    {
      "cell_type": "code",
      "source": [
        "plt.figure(figsize=(8, 3))\n",
        "plt.plot(history.epoch, history.history['loss'], label='loss')\n",
        "plt.plot(history.epoch, history.history['val_loss'], label='val_loss')\n",
        "plt.legend()\n",
        "plt.show()"
      ],
      "metadata": {
        "colab": {
          "base_uri": "https://localhost:8080/",
          "height": 291
        },
        "id": "gwE1rjSfWCem",
        "outputId": "fdab2162-3daf-4420-b94d-7879dc9ddd5c"
      },
      "execution_count": 57,
      "outputs": [
        {
          "output_type": "display_data",
          "data": {
            "text/plain": [
              "<Figure size 800x300 with 1 Axes>"
            ],
            "image/png": "[encoded data removed]"
          },
          "metadata": {}
        }
      ]
    }
  ]
}