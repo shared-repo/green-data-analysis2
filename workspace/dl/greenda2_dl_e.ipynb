{
  "nbformat": 4,
  "nbformat_minor": 0,
  "metadata": {
    "colab": {
      "provenance": []
    },
    "kernelspec": {
      "name": "python3",
      "display_name": "Python 3"
    },
    "language_info": {
      "name": "python"
    }
  },
  "cells": [
    {
      "cell_type": "code",
      "execution_count": 1,
      "metadata": {
        "id": "kmy0KI93BUkY"
      },
      "outputs": [],
      "source": [
        "import numpy as np\n",
        "import pandas as pd\n",
        "import matplotlib.pyplot as plt\n",
        "\n",
        "import tensorflow as tf\n",
        "import tensorflow.keras as tf_keras"
      ]
    },
    {
      "cell_type": "code",
      "source": [
        "# 데이터 준비\n",
        "(X_train, y_train), (X_test, y_test) = tf_keras.datasets.imdb.load_data(num_words=10000)"
      ],
      "metadata": {
        "colab": {
          "base_uri": "https://localhost:8080/"
        },
        "id": "w5maH6NTB8tx",
        "outputId": "d1cf34ba-cc2b-4afa-8547-17e765f3b988"
      },
      "execution_count": 3,
      "outputs": [
        {
          "output_type": "stream",
          "name": "stdout",
          "text": [
            "Downloading data from https://storage.googleapis.com/tensorflow/tf-keras-datasets/imdb.npz\n",
            "17464789/17464789 [==============================] - 1s 0us/step\n"
          ]
        }
      ]
    },
    {
      "cell_type": "code",
      "source": [
        "print( type(X_train) )\n",
        "print( X_train.shape )\n",
        "len( X_train[0] ),len( X_train[1] )\n",
        "print( y_train.shape )\n",
        "print( np.unique(y_train, return_counts=True) )"
      ],
      "metadata": {
        "colab": {
          "base_uri": "https://localhost:8080/"
        },
        "id": "wE0sw8dDDiei",
        "outputId": "a95968ba-dff5-40d9-b77b-d8586070234a"
      },
      "execution_count": 13,
      "outputs": [
        {
          "output_type": "stream",
          "name": "stdout",
          "text": [
            "<class 'numpy.ndarray'>\n",
            "(25000,)\n",
            "(25000,)\n",
            "(array([0, 1]), array([12500, 12500]))\n"
          ]
        }
      ]
    },
    {
      "cell_type": "code",
      "source": [
        "# imdb 단어 사전 조회\n",
        "word_idx_map = tf_keras.datasets.imdb.get_word_index()"
      ],
      "metadata": {
        "colab": {
          "base_uri": "https://localhost:8080/"
        },
        "id": "mAyB8-DpFQDB",
        "outputId": "21e8617f-2e42-4888-aef2-7aca3b4fa34a"
      },
      "execution_count": 14,
      "outputs": [
        {
          "output_type": "stream",
          "name": "stdout",
          "text": [
            "Downloading data from https://storage.googleapis.com/tensorflow/tf-keras-datasets/imdb_word_index.json\n",
            "1641221/1641221 [==============================] - 1s 0us/step\n"
          ]
        }
      ]
    },
    {
      "cell_type": "code",
      "source": [
        "print( type(word_idx_map) )\n",
        "for i, (k, v) in enumerate(word_idx_map.items()):\n",
        "  if i == 10:\n",
        "    break\n",
        "\n",
        "  print(k, \" : \", v)"
      ],
      "metadata": {
        "colab": {
          "base_uri": "https://localhost:8080/"
        },
        "id": "rT1XUMy_FiPw",
        "outputId": "d54bde4f-b494-4f75-f754-435cab40aaec"
      },
      "execution_count": 17,
      "outputs": [
        {
          "output_type": "stream",
          "name": "stdout",
          "text": [
            "<class 'dict'>\n",
            "fawn  :  34701\n",
            "tsukino  :  52006\n",
            "nunnery  :  52007\n",
            "sonja  :  16816\n",
            "vani  :  63951\n",
            "woods  :  1408\n",
            "spiders  :  16115\n",
            "hanging  :  2345\n",
            "woody  :  2289\n",
            "trawling  :  52008\n"
          ]
        }
      ]
    },
    {
      "cell_type": "code",
      "source": [
        "# 단어 : 인덱스 조합 -> 인덱스 : 단어 조합으로 변경\n",
        "idx_word_map = { idx : word for (word, idx) in word_idx_map.items() }"
      ],
      "metadata": {
        "id": "OwGsHnBmGWkQ"
      },
      "execution_count": 19,
      "outputs": []
    },
    {
      "cell_type": "code",
      "source": [
        "for i, (k, v) in enumerate(idx_word_map.items()):\n",
        "  if i == 10:\n",
        "    break\n",
        "\n",
        "  print(k, \" : \", v)"
      ],
      "metadata": {
        "colab": {
          "base_uri": "https://localhost:8080/"
        },
        "id": "mbPunyLHG1qq",
        "outputId": "a372e7bb-c3e8-408a-efab-ea73160dfc80"
      },
      "execution_count": 20,
      "outputs": [
        {
          "output_type": "stream",
          "name": "stdout",
          "text": [
            "34701  :  fawn\n",
            "52006  :  tsukino\n",
            "52007  :  nunnery\n",
            "16816  :  sonja\n",
            "63951  :  vani\n",
            "1408  :  woods\n",
            "16115  :  spiders\n",
            "2345  :  hanging\n",
            "2289  :  woody\n",
            "52008  :  trawling\n"
          ]
        }
      ]
    },
    {
      "cell_type": "code",
      "source": [
        "# print( idx_word_map[1000000] )\n",
        "# print( idx_word_map.get(1000000, '?') )\n",
        "\n",
        "for i in range(10):\n",
        "  print( idx_word_map.get(i, '?') )"
      ],
      "metadata": {
        "colab": {
          "base_uri": "https://localhost:8080/"
        },
        "id": "tl_bbzg0HA23",
        "outputId": "3a7a36be-9cb2-4619-bcc0-7eeea4f76164"
      },
      "execution_count": 26,
      "outputs": [
        {
          "output_type": "stream",
          "name": "stdout",
          "text": [
            "?\n",
            "the\n",
            "and\n",
            "a\n",
            "of\n",
            "to\n",
            "is\n",
            "br\n",
            "in\n",
            "it\n"
          ]
        }
      ]
    },
    {
      "cell_type": "code",
      "source": [
        "# 단어 사전을 사용해서 문장 복원\n",
        "[ idx_word_map.get(idx-3, '?') for idx in X_train[0][:10] ] # 문장의 단어 번호는 3번부터 시작"
      ],
      "metadata": {
        "colab": {
          "base_uri": "https://localhost:8080/"
        },
        "id": "Lo0TZ2_OHwLA",
        "outputId": "ccf73978-b5fa-4892-8a44-0ed0a9043243"
      },
      "execution_count": 31,
      "outputs": [
        {
          "output_type": "execute_result",
          "data": {
            "text/plain": [
              "['?',\n",
              " 'this',\n",
              " 'film',\n",
              " 'was',\n",
              " 'just',\n",
              " 'brilliant',\n",
              " 'casting',\n",
              " 'location',\n",
              " 'scenery',\n",
              " 'story']"
            ]
          },
          "metadata": {},
          "execution_count": 31
        }
      ]
    },
    {
      "cell_type": "code",
      "source": [
        "len(X_train[0]), len(X_train[1])"
      ],
      "metadata": {
        "colab": {
          "base_uri": "https://localhost:8080/"
        },
        "id": "OIzw3BbgIrJ5",
        "outputId": "783f0211-330a-4942-e9a9-591c8d749932"
      },
      "execution_count": 32,
      "outputs": [
        {
          "output_type": "execute_result",
          "data": {
            "text/plain": [
              "(218, 189)"
            ]
          },
          "metadata": {},
          "execution_count": 32
        }
      ]
    }
  ]
}