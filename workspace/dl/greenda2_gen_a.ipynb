{
 "cells": [
  {
   "cell_type": "code",
   "execution_count": 2,
   "metadata": {},
   "outputs": [],
   "source": [
    "import numpy as np\n",
    "import pandas as pd\n",
    "import matplotlib.pyplot as plt\n",
    "\n",
    "import tensorflow as tf\n",
    "import tensorflow.keras as tf_keras"
   ]
  },
  {
   "cell_type": "code",
   "execution_count": 3,
   "metadata": {},
   "outputs": [],
   "source": [
    "# 데이터 준비\n",
    "with open('data-files/nietzsche.txt', 'rt') as f:\n",
    "    nietzsche_text = f.read()"
   ]
  },
  {
   "cell_type": "code",
   "execution_count": 6,
   "metadata": {},
   "outputs": [
    {
     "name": "stdout",
     "output_type": "stream",
     "text": [
      "<class 'str'> 600893\n"
     ]
    },
    {
     "data": {
      "text/plain": [
       "'PREFACE\\n\\n\\nSUPPOSING that Truth'"
      ]
     },
     "execution_count": 6,
     "metadata": {},
     "output_type": "execute_result"
    }
   ],
   "source": [
    "print( type(nietzsche_text), len(nietzsche_text) )\n",
    "nietzsche_text[:30]"
   ]
  },
  {
   "cell_type": "code",
   "execution_count": 7,
   "metadata": {},
   "outputs": [
    {
     "name": "stdout",
     "output_type": "stream",
     "text": [
      "preface\n",
      "\n",
      "\n",
      "supposing that truth\n"
     ]
    }
   ],
   "source": [
    "# 대소문자 -> 소문자\n",
    "nietzsche_lower_text = nietzsche_text.lower()\n",
    "print(nietzsche_lower_text[:30])"
   ]
  },
  {
   "cell_type": "code",
   "execution_count": 13,
   "metadata": {},
   "outputs": [
    {
     "name": "stdout",
     "output_type": "stream",
     "text": [
      "(57,)\n",
      "57\n"
     ]
    }
   ],
   "source": [
    "# 문자 사전의 갯수 확인\n",
    "print( np.unique(list(nietzsche_lower_text)).shape )\n",
    "print( len(set(nietzsche_lower_text)) )"
   ]
  },
  {
   "cell_type": "code",
   "execution_count": 25,
   "metadata": {},
   "outputs": [],
   "source": [
    "# 단어(또는 문자) 사전 만들기 : 여기서는 문자 사전\n",
    "\n",
    "set(nietzsche_lower_text)\n",
    "sorted_chars = sorted(set(nietzsche_lower_text))\n",
    "# print( sorted_chars )\n",
    "\n",
    "char_to_idx = { ch:idx for idx, ch in enumerate(sorted_chars) }\n",
    "# char_to_idx"
   ]
  },
  {
   "cell_type": "code",
   "execution_count": 41,
   "metadata": {},
   "outputs": [],
   "source": [
    "# 순환신경망에 적용할 입력 데이터 구성\n",
    "\n",
    "sequence_length = 50 # 한 단위 입력 문자 갯수\n",
    "step = 3 # 3문자씩 이동하면서 데이터 추출\n",
    "\n",
    "sequences = []  # (-1, 입력 문자갯수, 단어사전의단어갯수)\n",
    "next_chars = [] # (-1, 단어사전의단어갯수)\n",
    "\n",
    "for idx in range(0, len(nietzsche_lower_text) - sequence_length, step):\n",
    "    sequences.append(nietzsche_lower_text[idx:idx+sequence_length])\n",
    "    next_chars.append(nietzsche_lower_text[idx+sequence_length])\n",
    "\n",
    "# print( len(sequences), len(next_chars) )\n",
    "# print(sequences[2])\n",
    "    \n",
    "X = np.zeros(shape=(len(sequences), sequence_length, len(sorted_chars))) # (-1, 입력 문자갯수, 단어사전의단어갯수)\n",
    "y = np.zeros(shape=(len(sequences), len(sorted_chars))) # (-1, 단어사전의단어갯수)\n",
    "\n",
    "for sidx, sequence in enumerate(sequences):\n",
    "    for cidx, ch in enumerate(sequence):\n",
    "        X[sidx, cidx, char_to_idx[ch]] = 1\n",
    "    y[sidx, char_to_idx[ch]] = 1"
   ]
  },
  {
   "cell_type": "code",
   "execution_count": 44,
   "metadata": {},
   "outputs": [
    {
     "name": "stdout",
     "output_type": "stream",
     "text": [
      "(200281, 50, 57) (200281, 57)\n",
      "[[0. 0. 0. ... 0. 0. 0.]\n",
      " [0. 0. 0. ... 0. 0. 0.]\n",
      " [0. 0. 0. ... 0. 0. 0.]\n",
      " ...\n",
      " [0. 1. 0. ... 0. 0. 0.]\n",
      " [0. 0. 0. ... 0. 0. 0.]\n",
      " [0. 0. 0. ... 0. 0. 0.]]\n"
     ]
    }
   ],
   "source": [
    "print( X.shape, y.shape )\n",
    "print( X[0] )"
   ]
  },
  {
   "cell_type": "code",
   "execution_count": null,
   "metadata": {},
   "outputs": [],
   "source": [
    "# sequences[0] # 50개의 문자로 구성된 1차원 리스트\n",
    "# np.array(list(sequences[0])).reshape(-1, 1) # 50개의 문자각 각 행으로 구성된 2차원 배열\n",
    "# onehot = np.zeros(57)\n",
    "# char_idx = char_to_idx[np.array(list(sequences[0]))[0]]\n",
    "# onehot[char_idx] = 1\n",
    "# onehot"
   ]
  },
  {
   "cell_type": "code",
   "execution_count": 46,
   "metadata": {},
   "outputs": [],
   "source": [
    "# 모델 구성\n",
    "\n",
    "input = tf_keras.layers.Input(shape=(sequence_length, len(char_to_idx))) # (50, 57)\n",
    "x = tf_keras.layers.LSTM(units=128)(input)\n",
    "output = tf_keras.layers.Dense(units=len(char_to_idx), activation=\"softmax\")(x)\n",
    "\n",
    "model = tf_keras.models.Model(input, output)"
   ]
  },
  {
   "cell_type": "code",
   "execution_count": null,
   "metadata": {},
   "outputs": [],
   "source": [
    "model.compile(optimizer=\"adam\",\n",
    "              loss=\"categorical_crossentropy\", # y값이 onehot-vector이므로 categorical_crossentropy\n",
    "              metrics=['accuracy'])"
   ]
  }
 ],
 "metadata": {
  "kernelspec": {
   "display_name": "study-env2",
   "language": "python",
   "name": "python3"
  },
  "language_info": {
   "codemirror_mode": {
    "name": "ipython",
    "version": 3
   },
   "file_extension": ".py",
   "mimetype": "text/x-python",
   "name": "python",
   "nbconvert_exporter": "python",
   "pygments_lexer": "ipython3",
   "version": "3.9.18"
  }
 },
 "nbformat": 4,
 "nbformat_minor": 2
}
