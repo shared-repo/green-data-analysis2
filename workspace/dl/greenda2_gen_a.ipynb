{
 "cells": [
  {
   "cell_type": "code",
   "execution_count": 2,
   "metadata": {},
   "outputs": [],
   "source": [
    "import numpy as np\n",
    "import pandas as pd\n",
    "import matplotlib.pyplot as plt\n",
    "\n",
    "import tensorflow as tf\n",
    "import tensorflow.keras as tf_keras"
   ]
  },
  {
   "cell_type": "code",
   "execution_count": 3,
   "metadata": {},
   "outputs": [],
   "source": [
    "# 데이터 준비\n",
    "with open('data-files/nietzsche.txt', 'rt') as f:\n",
    "    nietzsche_text = f.read()"
   ]
  },
  {
   "cell_type": "code",
   "execution_count": 6,
   "metadata": {},
   "outputs": [
    {
     "name": "stdout",
     "output_type": "stream",
     "text": [
      "<class 'str'> 600893\n"
     ]
    },
    {
     "data": {
      "text/plain": [
       "'PREFACE\\n\\n\\nSUPPOSING that Truth'"
      ]
     },
     "execution_count": 6,
     "metadata": {},
     "output_type": "execute_result"
    }
   ],
   "source": [
    "print( type(nietzsche_text), len(nietzsche_text) )\n",
    "nietzsche_text[:30]"
   ]
  },
  {
   "cell_type": "code",
   "execution_count": 7,
   "metadata": {},
   "outputs": [
    {
     "name": "stdout",
     "output_type": "stream",
     "text": [
      "preface\n",
      "\n",
      "\n",
      "supposing that truth\n"
     ]
    }
   ],
   "source": [
    "# 대소문자 -> 소문자\n",
    "nietzsche_lower_text = nietzsche_text.lower()\n",
    "print(nietzsche_lower_text[:30])"
   ]
  },
  {
   "cell_type": "code",
   "execution_count": 13,
   "metadata": {},
   "outputs": [
    {
     "name": "stdout",
     "output_type": "stream",
     "text": [
      "(57,)\n",
      "57\n"
     ]
    }
   ],
   "source": [
    "# 문자 사전의 갯수 확인\n",
    "print( np.unique(list(nietzsche_lower_text)).shape )\n",
    "print( len(set(nietzsche_lower_text)) )"
   ]
  },
  {
   "cell_type": "code",
   "execution_count": 25,
   "metadata": {},
   "outputs": [],
   "source": [
    "# 단어(또는 문자) 사전 만들기 : 여기서는 문자 사전\n",
    "\n",
    "set(nietzsche_lower_text)\n",
    "sorted_chars = sorted(set(nietzsche_lower_text))\n",
    "# print( sorted_chars )\n",
    "\n",
    "char_to_idx = { ch:idx for idx, ch in enumerate(sorted_chars) }\n",
    "# char_to_idx"
   ]
  },
  {
   "cell_type": "code",
   "execution_count": 41,
   "metadata": {},
   "outputs": [],
   "source": [
    "# 순환신경망에 적용할 입력 데이터 구성\n",
    "\n",
    "sequence_length = 50 # 한 단위 입력 문자 갯수\n",
    "step = 3 # 3문자씩 이동하면서 데이터 추출\n",
    "\n",
    "sequences = []  # (-1, 입력 문자갯수, 단어사전의단어갯수)\n",
    "next_chars = [] # (-1, 단어사전의단어갯수)\n",
    "\n",
    "for idx in range(0, len(nietzsche_lower_text) - sequence_length, step):\n",
    "    sequences.append(nietzsche_lower_text[idx:idx+sequence_length])\n",
    "    next_chars.append(nietzsche_lower_text[idx+sequence_length])\n",
    "\n",
    "# print( len(sequences), len(next_chars) )\n",
    "# print(sequences[2])\n",
    "    \n",
    "X = np.zeros(shape=(len(sequences), sequence_length, len(sorted_chars))) # (-1, 입력 문자갯수, 단어사전의단어갯수)\n",
    "y = np.zeros(shape=(len(sequences), len(sorted_chars))) # (-1, 단어사전의단어갯수)\n",
    "\n",
    "for sidx, sequence in enumerate(sequences):\n",
    "    for cidx, ch in enumerate(sequence):\n",
    "        X[sidx, cidx, char_to_idx[ch]] = 1\n",
    "    y[sidx, char_to_idx[ch]] = 1"
   ]
  },
  {
   "cell_type": "code",
   "execution_count": 44,
   "metadata": {},
   "outputs": [
    {
     "name": "stdout",
     "output_type": "stream",
     "text": [
      "(200281, 50, 57) (200281, 57)\n",
      "[[0. 0. 0. ... 0. 0. 0.]\n",
      " [0. 0. 0. ... 0. 0. 0.]\n",
      " [0. 0. 0. ... 0. 0. 0.]\n",
      " ...\n",
      " [0. 1. 0. ... 0. 0. 0.]\n",
      " [0. 0. 0. ... 0. 0. 0.]\n",
      " [0. 0. 0. ... 0. 0. 0.]]\n"
     ]
    }
   ],
   "source": [
    "print( X.shape, y.shape )\n",
    "print( X[0] )"
   ]
  },
  {
   "cell_type": "code",
   "execution_count": null,
   "metadata": {},
   "outputs": [],
   "source": [
    "# sequences[0] # 50개의 문자로 구성된 1차원 리스트\n",
    "# np.array(list(sequences[0])).reshape(-1, 1) # 50개의 문자각 각 행으로 구성된 2차원 배열\n",
    "# onehot = np.zeros(57)\n",
    "# char_idx = char_to_idx[np.array(list(sequences[0]))[0]]\n",
    "# onehot[char_idx] = 1\n",
    "# onehot"
   ]
  },
  {
   "cell_type": "code",
   "execution_count": 46,
   "metadata": {},
   "outputs": [],
   "source": [
    "# 모델 구성\n",
    "\n",
    "input = tf_keras.layers.Input(shape=(sequence_length, len(char_to_idx))) # (50, 57)\n",
    "x = tf_keras.layers.LSTM(units=128)(input)\n",
    "output = tf_keras.layers.Dense(units=len(char_to_idx), activation=\"softmax\")(x)\n",
    "\n",
    "model = tf_keras.models.Model(input, output)"
   ]
  },
  {
   "cell_type": "code",
   "execution_count": null,
   "metadata": {},
   "outputs": [],
   "source": [
    "model.compile(optimizer=\"adam\",\n",
    "              loss=\"categorical_crossentropy\", # y값이 onehot-vector이므로 categorical_crossentropy\n",
    "              metrics=['accuracy'])"
   ]
  },
  {
   "cell_type": "code",
   "execution_count": 52,
   "metadata": {},
   "outputs": [],
   "source": [
    "def select_character(preds, temperature=1.0): # temperature 값이 작을 수록 낮은 확률의 값이 선택 가능성이 낮짐\n",
    "    preds = np.asarray(preds).astype('float64')\n",
    "    preds = np.log(preds) / temperature\n",
    "    exp_preds = np.exp(preds)\n",
    "    preds = exp_preds / np.sum(exp_preds)    \n",
    "    probas = np.random.multinomial(1, preds, 1) # 주어진 확률에 따라 다음 값 랜덤 선택\n",
    "    return np.argmax(probas)"
   ]
  },
  {
   "cell_type": "code",
   "execution_count": 51,
   "metadata": {},
   "outputs": [
    {
     "name": "stdout",
     "output_type": "stream",
     "text": [
      "[0.1929928  0.33427333 0.47273387]\n",
      "[0.05337501 0.25641283 0.69021216]\n",
      "[0.02173913 0.19565217 0.7826087 ]\n",
      "[1.65220366e-08 9.75609740e-04 9.99024374e-01]\n"
     ]
    }
   ],
   "source": [
    "def temperature_test(preds, temperature=1.0): # temperature 값이 작을 수록 낮은 확률의 값이 선택 가능성이 낮짐\n",
    "    preds = np.asarray(preds).astype('float64')\n",
    "    preds = np.log(preds) / temperature\n",
    "    exp_preds = np.exp(preds)\n",
    "    preds = exp_preds / np.sum(exp_preds)    \n",
    "    return preds\n",
    "\n",
    "print( temperature_test([0.1, 0.3, 0.6], 2.0) )\n",
    "print( temperature_test([0.1, 0.3, 0.6], 0.7) )\n",
    "print( temperature_test([0.1, 0.3, 0.6], 0.5) )\n",
    "print( temperature_test([0.1, 0.3, 0.6], 0.1) )"
   ]
  },
  {
   "cell_type": "code",
   "execution_count": null,
   "metadata": {},
   "outputs": [],
   "source": [
    "from tabnanny import verbose\n",
    "\n",
    "\n",
    "start_idx = np.random.randint(0, len(nietzsche_lower_text) - sequence_length)\n",
    "\n",
    "for epoch in range(1, 50):\n",
    "    print(f'epoch : {epoch}')\n",
    "\n",
    "    model.fit(X, y, batch_size=128, epochs=1)\n",
    "\n",
    "    seed_text = nietzsche_lower_text[start_idx: start_idx + sequence_length]\n",
    "\n",
    "    # 다음 문자 선택 확률 옵션 조정하는 반복문 추가\n",
    "    \n",
    "    for idx in range(100): # 다음 문자 예측 반복 횟수\n",
    "        sample = np.zeros(shape=(1, sequence_length, len(char_to_idx))) # [1, 50, 57]\n",
    "        for cidx, c in enumerate(seed_text):\n",
    "            sample[0, cidx, char_to_idx[c]] = 1\n",
    "        \n",
    "        predicteced_values = model.predict(sample, verbose=0) # 예측 값은 (1, 57)  확률 vector\n",
    "        selected_char_idx = select_character(predicteced_values)\n",
    "        seed_text += char_to_idx[selected_char_idx]\n",
    "        seed_text = seed_text[idx+1:]\n",
    "    "
   ]
  },
  {
   "cell_type": "code",
   "execution_count": 55,
   "metadata": {},
   "outputs": [
    {
     "ename": "NameError",
     "evalue": "name 'seed_text' is not defined",
     "output_type": "error",
     "traceback": [
      "\u001b[1;31m---------------------------------------------------------------------------\u001b[0m",
      "\u001b[1;31mNameError\u001b[0m                                 Traceback (most recent call last)",
      "Cell \u001b[1;32mIn[55], line 1\u001b[0m\n\u001b[1;32m----> 1\u001b[0m \u001b[43mseed_text\u001b[49m\n",
      "\u001b[1;31mNameError\u001b[0m: name 'seed_text' is not defined"
     ]
    }
   ],
   "source": [
    "seed_text"
   ]
  }
 ],
 "metadata": {
  "kernelspec": {
   "display_name": "study-env2",
   "language": "python",
   "name": "python3"
  },
  "language_info": {
   "codemirror_mode": {
    "name": "ipython",
    "version": 3
   },
   "file_extension": ".py",
   "mimetype": "text/x-python",
   "name": "python",
   "nbconvert_exporter": "python",
   "pygments_lexer": "ipython3",
   "version": "3.9.18"
  }
 },
 "nbformat": 4,
 "nbformat_minor": 2
}
