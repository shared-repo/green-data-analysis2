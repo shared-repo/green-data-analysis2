{
  "nbformat": 4,
  "nbformat_minor": 0,
  "metadata": {
    "colab": {
      "provenance": []
    },
    "kernelspec": {
      "name": "python3",
      "display_name": "Python 3"
    },
    "language_info": {
      "name": "python"
    }
  },
  "cells": [
    {
      "cell_type": "code",
      "execution_count": 1,
      "metadata": {
        "id": "P4QWNlE53jaU"
      },
      "outputs": [],
      "source": [
        "import numpy as np\n",
        "import pandas as pd\n",
        "import matplotlib.pyplot as plt\n",
        "\n",
        "import tensorflow as tf\n",
        "import tensorflow.keras as tf_keras"
      ]
    },
    {
      "cell_type": "code",
      "source": [
        "!ls drive/MyDrive/Colab\\ Notebooks/data-files\n",
        "!mv drive/MyDrive/Colab\\ Notebooks/data-files/dogs-vs-cats.zip sample_data/"
      ],
      "metadata": {
        "colab": {
          "base_uri": "https://localhost:8080/"
        },
        "id": "YesccHhf4e9e",
        "outputId": "e2e959b6-754f-475b-cec1-5e2a271848c1"
      },
      "execution_count": 3,
      "outputs": [
        {
          "output_type": "stream",
          "name": "stdout",
          "text": [
            "dogs-vs-cats.zip\n"
          ]
        }
      ]
    },
    {
      "cell_type": "code",
      "source": [
        "!unzip sample_data/dogs-vs-cats.zip"
      ],
      "metadata": {
        "colab": {
          "base_uri": "https://localhost:8080/"
        },
        "id": "YONWgN0j5L8K",
        "outputId": "34e12f92-1c93-41eb-e45d-b92a7859f31c"
      },
      "execution_count": 5,
      "outputs": [
        {
          "output_type": "stream",
          "name": "stdout",
          "text": [
            "Archive:  sample_data/dogs-vs-cats.zip\n",
            "   creating: dogs-vs-cats/\n",
            "  inflating: __MACOSX/._dogs-vs-cats  \n",
            "  inflating: dogs-vs-cats/.DS_Store  \n",
            "  inflating: __MACOSX/dogs-vs-cats/._.DS_Store  \n",
            "  inflating: dogs-vs-cats/test1.zip  \n",
            "  inflating: __MACOSX/dogs-vs-cats/._test1.zip  \n",
            "  inflating: dogs-vs-cats/train.zip  \n",
            "  inflating: __MACOSX/dogs-vs-cats/._train.zip  \n"
          ]
        }
      ]
    },
    {
      "cell_type": "code",
      "source": [
        "# !unzip sample_data/dogs-vs-cats/train.zip -d sample_data/dogs-vs-cats\n",
        "# !unzip sample_data/dogs-vs-cats/test1.zip -d sample_data/dogs-vs-cats\n",
        "# !mv sample_data/dogs-vs-cats/test1 sample_data/dogs-vs-cats/test\n",
        "!rm -rf __MACOSX"
      ],
      "metadata": {
        "id": "S_rUIDqk6Rw1"
      },
      "execution_count": 9,
      "outputs": []
    },
    {
      "cell_type": "code",
      "source": [
        "# 위 작업을 일괄 실행 (데이터 파일 압축해제)\n",
        "!mv drive/MyDrive/Colab\\ Notebooks/data-files/dogs-vs-cats.zip sample_data/\n",
        "!unzip sample_data/dogs-vs-cats.zip -d sample_data\n",
        "!unzip sample_data/dogs-vs-cats/train.zip -d sample_data/dogs-vs-cats\n",
        "!unzip sample_data/dogs-vs-cats/test1.zip -d sample_data/dogs-vs-cats\n",
        "!mv sample_data/dogs-vs-cats/test1 sample_data/dogs-vs-cats/test\n",
        "!rm -rf sample_data/__MACOSX"
      ],
      "metadata": {
        "id": "-QknhZm57zkx"
      },
      "execution_count": null,
      "outputs": []
    },
    {
      "cell_type": "code",
      "source": [
        "# 데이터 디렉터리 구성\n",
        "# train_dir, test_dir, validation_dir\n",
        "# train_dir - dogs, cats\n",
        "# test_dir - dogs, cats\n",
        "# validation_dir - dogs, cats\n",
        "\n",
        "import os\n",
        "import shutil\n",
        "\n",
        "src_base = 'sample_data/dogs-vs-cats'\n",
        "dest_base = 'sample_data/dogs-vs-cats2'\n",
        "\n",
        "if os.path.exists(dest_base):\n",
        "  shutil.rmtree(dest_base) # train 경로 및 하위 경로 삭제\n",
        "os.mkdir(dest_base)\n",
        "\n",
        "for start, stop, path in zip([0, 1000, 1500], [1000, 1500, 2000], ['train', 'validation', 'test']):\n",
        "  os.mkdir(os.path.join(dest_base, path))\n",
        "  for sub_path in ['cat', 'dog']:\n",
        "    os.mkdir(os.path.join(dest_base, path, sub_path))\n",
        "    for idx in np.arange(start, stop):\n",
        "      fname = f'{sub_path}.{idx}.jpg'\n",
        "      shutil.copy(os.path.join(src_base, 'train', fname), os.path.join(dest_base, path, sub_path, fname))\n",
        "\n",
        "# for path in ['train', 'test', 'validation']:\n",
        "#   os.mkdir(os.path.join(dest_base, path))\n",
        "#   for sub_path in ['dog', 'cat']:\n",
        "#     os.mkdir(os.path.join(dest_base, path, sub_path))\n",
        "\n",
        "# for start, stop, path in zip([0, 1000, 1500], [1000, 1500, 2000], ['train', 'validation', 'test']):\n",
        "#   for idx in np.arange(start, stop):\n",
        "#     for sub_path in ['cat', 'dog']:\n",
        "#       fname = f'{sub_path}.{idx}.jpg'\n",
        "#       shutil.copy(os.path.join(src_base, 'train', fname), os.path.join(dest_base, path, sub_path, fname))\n",
        "\n",
        "# for idx in np.arange(1000):\n",
        "#   for sub_path in ['cat', 'dog']:\n",
        "#     fname = f'{sub_path}.{idx}.jpg'\n",
        "#     shutil.copy(os.path.join(src_base, 'train', fname), os.path.join(dest_base, 'train', sub_path, fname))\n",
        "\n",
        "# for idx in np.arange(1000, 1500):\n",
        "#   for sub_path in ['cat', 'dog']:\n",
        "#     fname = f'{sub_path}.{idx}.jpg'\n",
        "#     shutil.copy(os.path.join(src_base, 'train', fname), os.path.join(dest_base, 'validation', sub_path, fname))\n",
        "\n",
        "# for idx in np.arange(1500, 2000):\n",
        "#   for sub_path in ['cat', 'dog']:\n",
        "#     fname = f'{sub_path}.{idx}.jpg'\n",
        "#     shutil.copy(os.path.join(src_base, 'train', fname), os.path.join(dest_base, 'test', sub_path, fname))\n",
        "\n",
        "\n",
        "\n",
        "\n"
      ],
      "metadata": {
        "id": "ZX8kSSc0NT0Q"
      },
      "execution_count": 25,
      "outputs": []
    },
    {
      "cell_type": "code",
      "source": [
        "for path in ['train', 'test', 'validation']:\n",
        "  for sub_path in ['cat', 'dog']:\n",
        "    print ( path, sub_path, ':', len(os.listdir(f'sample_data/dogs-vs-cats2/{path}/{sub_path}')) )"
      ],
      "metadata": {
        "colab": {
          "base_uri": "https://localhost:8080/"
        },
        "id": "en22IhyI4SA0",
        "outputId": "9c0ebf6a-2480-4c21-c2eb-9def95d540e5"
      },
      "execution_count": 24,
      "outputs": [
        {
          "output_type": "stream",
          "name": "stdout",
          "text": [
            "train cat : 1000\n",
            "train dog : 1000\n",
            "test cat : 500\n",
            "test dog : 500\n",
            "validation cat : 500\n",
            "validation dog : 500\n"
          ]
        }
      ]
    }
  ]
}