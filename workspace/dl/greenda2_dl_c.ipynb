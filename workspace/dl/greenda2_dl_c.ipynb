{
  "nbformat": 4,
  "nbformat_minor": 0,
  "metadata": {
    "colab": {
      "provenance": []
    },
    "kernelspec": {
      "name": "python3",
      "display_name": "Python 3"
    },
    "language_info": {
      "name": "python"
    }
  },
  "cells": [
    {
      "cell_type": "code",
      "execution_count": null,
      "metadata": {
        "id": "3nd7I7q7IdaI"
      },
      "outputs": [],
      "source": [
        "import numpy  as np\n",
        "import pandas as pd\n",
        "import matplotlib.pyplot as plt\n",
        "\n",
        "import tensorflow as tf\n",
        "from tensorflow import keras as tf_keras"
      ]
    },
    {
      "cell_type": "code",
      "source": [
        "# tf_keras.datasets.fashion_mnist 데이터셋 사용해서 분류 모델 개발"
      ],
      "metadata": {
        "id": "EJnrlMg-IkMX"
      },
      "execution_count": null,
      "outputs": []
    },
    {
      "cell_type": "code",
      "source": [
        "# 데이터 준비 : keras 제공 mnist 기본 데이터\n",
        "(X_train, y_train), (X_test, y_test) = tf_keras.datasets.fashion_mnist.load_data()\n",
        "X_train.shape"
      ],
      "metadata": {
        "colab": {
          "base_uri": "https://localhost:8080/"
        },
        "id": "7QBVHNXdYSkK",
        "outputId": "4065ae1b-9ffd-4270-a49b-e92cbfc1c583"
      },
      "execution_count": 2,
      "outputs": [
        {
          "output_type": "stream",
          "name": "stdout",
          "text": [
            "Downloading data from https://storage.googleapis.com/tensorflow/tf-keras-datasets/train-labels-idx1-ubyte.gz\n",
            "29515/29515 [==============================] - 0s 0us/step\n",
            "Downloading data from https://storage.googleapis.com/tensorflow/tf-keras-datasets/train-images-idx3-ubyte.gz\n",
            "26421880/26421880 [==============================] - 0s 0us/step\n",
            "Downloading data from https://storage.googleapis.com/tensorflow/tf-keras-datasets/t10k-labels-idx1-ubyte.gz\n",
            "5148/5148 [==============================] - 0s 0us/step\n",
            "Downloading data from https://storage.googleapis.com/tensorflow/tf-keras-datasets/t10k-images-idx3-ubyte.gz\n",
            "4422102/4422102 [==============================] - 0s 0us/step\n"
          ]
        },
        {
          "output_type": "execute_result",
          "data": {
            "text/plain": [
              "(60000, 28, 28)"
            ]
          },
          "metadata": {},
          "execution_count": 2
        }
      ]
    },
    {
      "cell_type": "code",
      "source": [
        "# 입력 데이터 구조 변경 : 28 X 28 -> 784 (2차원 -> 1차원)\n",
        "flatten_X_train = X_train.reshape(-1, 28*28)\n",
        "flatten_X_train = flatten_X_train.astype('float32') / 255 # flatten_X_train.max() # 0 ~ 1사이의 데이터로 변환\n",
        "flatten_X_test = X_test.reshape(-1, 28*28)\n",
        "flatten_X_test = flatten_X_test.astype('float32') / 255 # flatten_X_test.max() # 0 ~ 1사이의 데이터로 변환"
      ],
      "metadata": {
        "id": "Xr1U48_kYVNy"
      },
      "execution_count": 3,
      "outputs": []
    },
    {
      "cell_type": "code",
      "source": [
        "model = tf_keras.Sequential([\n",
        "    tf_keras.layers.Input(shape=(784, )),\n",
        "    tf_keras.layers.Dense(512, activation='relu'),\n",
        "    tf_keras.layers.Dense(256, activation='relu'),\n",
        "    tf_keras.layers.Dense(10, activation='softmax') # 마지막 레이어의 노드 갯수는 타겟 값 종류의 갯수와 일치하도록 설정\n",
        "])\n",
        "\n",
        "model2 = tf_keras.Sequential([\n",
        "    # tf_keras.layers.Input(shape=(28,28)),\n",
        "    # tf_keras.layers.Flatten(),\n",
        "    tf_keras.layers.Flatten(input_shape=(28,28)),\n",
        "    tf_keras.layers.Dense(512, activation='relu'),\n",
        "    tf_keras.layers.Dense(256, activation='relu'),\n",
        "    tf_keras.layers.Dense(10, activation='softmax') # 마지막 레이어의 노드 갯수는 타겟 값 종류의 갯수와 일치하도록 설정\n",
        "])"
      ],
      "metadata": {
        "id": "u61gvcmLYpnZ"
      },
      "execution_count": 28,
      "outputs": []
    },
    {
      "cell_type": "code",
      "source": [
        "model.summary()"
      ],
      "metadata": {
        "colab": {
          "base_uri": "https://localhost:8080/"
        },
        "id": "0HAvgS4wYuAw",
        "outputId": "4bde0080-0889-4583-82ff-b4fb4ea11b27"
      },
      "execution_count": 5,
      "outputs": [
        {
          "output_type": "stream",
          "name": "stdout",
          "text": [
            "Model: \"sequential\"\n",
            "_________________________________________________________________\n",
            " Layer (type)                Output Shape              Param #   \n",
            "=================================================================\n",
            " dense (Dense)               (None, 512)               401920    \n",
            "                                                                 \n",
            " dense_1 (Dense)             (None, 256)               131328    \n",
            "                                                                 \n",
            " dense_2 (Dense)             (None, 10)                2570      \n",
            "                                                                 \n",
            "=================================================================\n",
            "Total params: 535818 (2.04 MB)\n",
            "Trainable params: 535818 (2.04 MB)\n",
            "Non-trainable params: 0 (0.00 Byte)\n",
            "_________________________________________________________________\n"
          ]
        }
      ]
    },
    {
      "cell_type": "code",
      "source": [
        "model.compile(optimizer='rmsprop',\n",
        "              loss='sparse_categorical_crossentropy', #  categorical_crossentropy\n",
        "              metrics=['accuracy']) # 학습 방법 설정 ( 최적화 )\n",
        "\n",
        "model2.compile(optimizer=tf_keras.optimizers.RMSprop(learning_rate=0.001),\n",
        "               loss=tf_keras.losses.SparseCategoricalCrossentropy(),\n",
        "               metrics=['accuracy']) # 학습 방법 설정 ( 최적화 )"
      ],
      "metadata": {
        "id": "5DeJrtCaYzeY"
      },
      "execution_count": 29,
      "outputs": []
    },
    {
      "cell_type": "code",
      "source": [
        "# model.fit(flatten_X_train, y_train, batch_size=256, epochs=10)\n",
        "# fit_history = model2.fit(X_train/255, y_train, batch_size=256, epochs=20)\n",
        "fit_history = model2.fit(X_train/255, y_train, batch_size=256, epochs=20, validation_split=0.2)"
      ],
      "metadata": {
        "colab": {
          "base_uri": "https://localhost:8080/"
        },
        "id": "SI9DYxdCY3lI",
        "outputId": "c77887d9-9c1f-46ee-f108-6dc7028f48a7"
      },
      "execution_count": 30,
      "outputs": [
        {
          "output_type": "stream",
          "name": "stdout",
          "text": [
            "Epoch 1/20\n",
            "188/188 [==============================] - 5s 23ms/step - loss: 0.6588 - accuracy: 0.7630 - val_loss: 0.4724 - val_accuracy: 0.8250\n",
            "Epoch 2/20\n",
            "188/188 [==============================] - 3s 17ms/step - loss: 0.4275 - accuracy: 0.8424 - val_loss: 0.5151 - val_accuracy: 0.8077\n",
            "Epoch 3/20\n",
            "188/188 [==============================] - 3s 17ms/step - loss: 0.3716 - accuracy: 0.8633 - val_loss: 0.3925 - val_accuracy: 0.8588\n",
            "Epoch 4/20\n",
            "188/188 [==============================] - 4s 19ms/step - loss: 0.3370 - accuracy: 0.8745 - val_loss: 0.3441 - val_accuracy: 0.8748\n",
            "Epoch 5/20\n",
            "188/188 [==============================] - 5s 25ms/step - loss: 0.3147 - accuracy: 0.8821 - val_loss: 0.3388 - val_accuracy: 0.8787\n",
            "Epoch 6/20\n",
            "188/188 [==============================] - 3s 17ms/step - loss: 0.2953 - accuracy: 0.8890 - val_loss: 0.3665 - val_accuracy: 0.8709\n",
            "Epoch 7/20\n",
            "188/188 [==============================] - 3s 17ms/step - loss: 0.2779 - accuracy: 0.8950 - val_loss: 0.3511 - val_accuracy: 0.8788\n",
            "Epoch 8/20\n",
            "188/188 [==============================] - 4s 22ms/step - loss: 0.2626 - accuracy: 0.9012 - val_loss: 0.3318 - val_accuracy: 0.8791\n",
            "Epoch 9/20\n",
            "188/188 [==============================] - 3s 17ms/step - loss: 0.2521 - accuracy: 0.9043 - val_loss: 0.3698 - val_accuracy: 0.8717\n",
            "Epoch 10/20\n",
            "188/188 [==============================] - 3s 17ms/step - loss: 0.2403 - accuracy: 0.9080 - val_loss: 0.3335 - val_accuracy: 0.8798\n",
            "Epoch 11/20\n",
            "188/188 [==============================] - 4s 20ms/step - loss: 0.2300 - accuracy: 0.9130 - val_loss: 0.3421 - val_accuracy: 0.8785\n",
            "Epoch 12/20\n",
            "188/188 [==============================] - 4s 19ms/step - loss: 0.2193 - accuracy: 0.9174 - val_loss: 0.4326 - val_accuracy: 0.8557\n",
            "Epoch 13/20\n",
            "188/188 [==============================] - 3s 17ms/step - loss: 0.2128 - accuracy: 0.9189 - val_loss: 0.3256 - val_accuracy: 0.8880\n",
            "Epoch 14/20\n",
            "188/188 [==============================] - 3s 17ms/step - loss: 0.2031 - accuracy: 0.9228 - val_loss: 0.3601 - val_accuracy: 0.8861\n",
            "Epoch 15/20\n",
            "188/188 [==============================] - 4s 22ms/step - loss: 0.1962 - accuracy: 0.9261 - val_loss: 0.3123 - val_accuracy: 0.8922\n",
            "Epoch 16/20\n",
            "188/188 [==============================] - 3s 17ms/step - loss: 0.1880 - accuracy: 0.9284 - val_loss: 0.3441 - val_accuracy: 0.8869\n",
            "Epoch 17/20\n",
            "188/188 [==============================] - 3s 17ms/step - loss: 0.1805 - accuracy: 0.9300 - val_loss: 0.3658 - val_accuracy: 0.8786\n",
            "Epoch 18/20\n",
            "188/188 [==============================] - 4s 19ms/step - loss: 0.1749 - accuracy: 0.9338 - val_loss: 0.3607 - val_accuracy: 0.8907\n",
            "Epoch 19/20\n",
            "188/188 [==============================] - 4s 20ms/step - loss: 0.1689 - accuracy: 0.9357 - val_loss: 0.3356 - val_accuracy: 0.8936\n",
            "Epoch 20/20\n",
            "188/188 [==============================] - 3s 17ms/step - loss: 0.1613 - accuracy: 0.9381 - val_loss: 0.3550 - val_accuracy: 0.8899\n"
          ]
        }
      ]
    },
    {
      "cell_type": "code",
      "source": [
        "# model.evaluate(x=flatten_X_train, y=y_train), model.evaluate(x=flatten_X_test, y=y_test)\n",
        "model2.evaluate(x=X_train/255, y=y_train), model2.evaluate(x=X_test/255, y=y_test)"
      ],
      "metadata": {
        "colab": {
          "base_uri": "https://localhost:8080/"
        },
        "id": "7ZoSBJuPY9IZ",
        "outputId": "16273462-10c9-44ff-d9f1-15c9bbece4c3"
      },
      "execution_count": 20,
      "outputs": [
        {
          "output_type": "stream",
          "name": "stdout",
          "text": [
            "1875/1875 [==============================] - 6s 3ms/step - loss: 0.1704 - accuracy: 0.9323\n",
            "313/313 [==============================] - 1s 3ms/step - loss: 0.3771 - accuracy: 0.8819\n"
          ]
        },
        {
          "output_type": "execute_result",
          "data": {
            "text/plain": [
              "([0.17044669389724731, 0.9322666525840759],\n",
              " [0.3771214187145233, 0.8819000124931335])"
            ]
          },
          "metadata": {},
          "execution_count": 20
        }
      ]
    },
    {
      "cell_type": "code",
      "source": [
        "print( fit_history.epoch )\n",
        "print( fit_history.params )\n",
        "fit_history.history.keys()"
      ],
      "metadata": {
        "colab": {
          "base_uri": "https://localhost:8080/"
        },
        "id": "39X-JEnNccyR",
        "outputId": "3c2839a9-4ab5-4f4e-8fe0-dc3dc8c0a17d"
      },
      "execution_count": 31,
      "outputs": [
        {
          "output_type": "stream",
          "name": "stdout",
          "text": [
            "[0, 1, 2, 3, 4, 5, 6, 7, 8, 9, 10, 11, 12, 13, 14, 15, 16, 17, 18, 19]\n",
            "{'verbose': 1, 'epochs': 20, 'steps': 188}\n"
          ]
        },
        {
          "output_type": "execute_result",
          "data": {
            "text/plain": [
              "dict_keys(['loss', 'accuracy', 'val_loss', 'val_accuracy'])"
            ]
          },
          "metadata": {},
          "execution_count": 31
        }
      ]
    },
    {
      "cell_type": "code",
      "source": [
        "plt.plot(fit_history.epoch, fit_history.history['loss'], label='loss')\n",
        "plt.plot(fit_history.epoch, fit_history.history['accuracy'], label='accuracy')\n",
        "plt.plot(fit_history.epoch, fit_history.history['val_loss'], \"o\", label='val_loss')\n",
        "plt.plot(fit_history.epoch, fit_history.history['val_accuracy'], \"o\", label='val_accuracy')\n",
        "plt.legend()\n",
        "plt.show()"
      ],
      "metadata": {
        "colab": {
          "base_uri": "https://localhost:8080/",
          "height": 430
        },
        "id": "kVeGNq1Qc_Jp",
        "outputId": "626587f0-4ff0-4e82-9f5f-0bd38a4a0abe"
      },
      "execution_count": 32,
      "outputs": [
        {
          "output_type": "display_data",
          "data": {
            "text/plain": [
              "<Figure size 640x480 with 1 Axes>"
            ],
            "image/png": "[encoded data removed]"
          },
          "metadata": {}
        }
      ]
    }
  ]
}