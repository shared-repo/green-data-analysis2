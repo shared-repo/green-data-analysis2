{
  "nbformat": 4,
  "nbformat_minor": 0,
  "metadata": {
    "colab": {
      "provenance": []
    },
    "kernelspec": {
      "name": "python3",
      "display_name": "Python 3"
    },
    "language_info": {
      "name": "python"
    }
  },
  "cells": [
    {
      "cell_type": "code",
      "source": [
        "# 파일 복사\n",
        "!rm sample_data/jena_climate_2009_2016.csv\n",
        "!cp drive/MyDrive/Colab\\ Notebooks/data-files/jena_climate_2009_2016.csv sample_data/"
      ],
      "metadata": {
        "id": "czedJHEQFJsC"
      },
      "execution_count": null,
      "outputs": []
    },
    {
      "cell_type": "code",
      "execution_count": null,
      "metadata": {
        "id": "skcL2-CVijhm",
        "colab": {
          "base_uri": "https://localhost:8080/"
        },
        "outputId": "b03fbe6e-884e-4cc8-f43b-44359289c87c"
      },
      "outputs": [
        {
          "output_type": "stream",
          "name": "stdout",
          "text": [
            "Archive:  sample_data/jena_climate_2009_2016.zip\n",
            "  inflating: sample_data/jena_climate_2009_2016.csv  \n"
          ]
        }
      ],
      "source": [
        "# 파일 복사 + 압축 해제\n",
        "!rm -f sample_data/jena_climate_2009_2016.zip\n",
        "!rm -f sample_data/jena_climate_2009_2016.csv\n",
        "!cp drive/MyDrive/Colab\\ Notebooks/data-files/jena_climate_2009_2016.zip sample_data\n",
        "!unzip sample_data/jena_climate_2009_2016.zip -d sample_data\n",
        "!rm -f sample_data/jena_climate_2009_2016.zip"
      ]
    },
    {
      "cell_type": "code",
      "source": [
        "# 파일 복사 + 압축 해제\n",
        "%%bash\n",
        "\n",
        "rm -f sample_data/jena_climate_2009_2016.zip\n",
        "rm -f sample_data/jena_climate_2009_2016.csv\n",
        "cp drive/MyDrive/Colab\\ Notebooks/data-files/jena_climate_2009_2016.zip sample_data\n",
        "unzip sample_data/jena_climate_2009_2016.zip -d sample_data\n",
        "rm -f sample_data/jena_climate_2009_2016.zip"
      ],
      "metadata": {
        "colab": {
          "base_uri": "https://localhost:8080/"
        },
        "id": "a1M0kx47FnK6",
        "outputId": "1bd27ca5-9524-43b8-973a-76105324030c"
      },
      "execution_count": null,
      "outputs": [
        {
          "output_type": "stream",
          "name": "stdout",
          "text": [
            "Archive:  sample_data/jena_climate_2009_2016.zip\n",
            "  inflating: sample_data/jena_climate_2009_2016.csv  \n"
          ]
        }
      ]
    },
    {
      "cell_type": "code",
      "source": [
        "import numpy as np\n",
        "import pandas as pd\n",
        "import matplotlib.pyplot as plt"
      ],
      "metadata": {
        "id": "pMT8WF1bH-KZ"
      },
      "execution_count": null,
      "outputs": []
    },
    {
      "cell_type": "code",
      "source": [
        "# 데이터 준비\n",
        "jena_climate = pd.read_csv('sample_data/jena_climate_2009_2016.csv')"
      ],
      "metadata": {
        "id": "SaolEAyRH6vK"
      },
      "execution_count": null,
      "outputs": []
    },
    {
      "cell_type": "code",
      "source": [
        "jena_climate.info()"
      ],
      "metadata": {
        "colab": {
          "base_uri": "https://localhost:8080/"
        },
        "id": "IVbGAeO_IL-g",
        "outputId": "971563d7-9c84-47bc-c8a6-f28179bce4e2"
      },
      "execution_count": null,
      "outputs": [
        {
          "output_type": "stream",
          "name": "stdout",
          "text": [
            "<class 'pandas.core.frame.DataFrame'>\n",
            "RangeIndex: 420551 entries, 0 to 420550\n",
            "Data columns (total 15 columns):\n",
            " #   Column           Non-Null Count   Dtype  \n",
            "---  ------           --------------   -----  \n",
            " 0   Date Time        420551 non-null  object \n",
            " 1   p (mbar)         420551 non-null  float64\n",
            " 2   T (degC)         420551 non-null  float64\n",
            " 3   Tpot (K)         420551 non-null  float64\n",
            " 4   Tdew (degC)      420551 non-null  float64\n",
            " 5   rh (%)           420551 non-null  float64\n",
            " 6   VPmax (mbar)     420551 non-null  float64\n",
            " 7   VPact (mbar)     420551 non-null  float64\n",
            " 8   VPdef (mbar)     420551 non-null  float64\n",
            " 9   sh (g/kg)        420551 non-null  float64\n",
            " 10  H2OC (mmol/mol)  420551 non-null  float64\n",
            " 11  rho (g/m**3)     420551 non-null  float64\n",
            " 12  wv (m/s)         420551 non-null  float64\n",
            " 13  max. wv (m/s)    420551 non-null  float64\n",
            " 14  wd (deg)         420551 non-null  float64\n",
            "dtypes: float64(14), object(1)\n",
            "memory usage: 48.1+ MB\n"
          ]
        }
      ]
    },
    {
      "cell_type": "code",
      "source": [
        "jena_climate.iloc[142:146, :]"
      ],
      "metadata": {
        "colab": {
          "base_uri": "https://localhost:8080/",
          "height": 299
        },
        "id": "jjHlFwFiIfv6",
        "outputId": "ea73352a-5daa-48f8-967c-7dc7a0db06fe"
      },
      "execution_count": null,
      "outputs": [
        {
          "output_type": "execute_result",
          "data": {
            "text/plain": [
              "               Date Time  p (mbar)  T (degC)  Tpot (K)  Tdew (degC)  rh (%)  \\\n",
              "142  01.01.2009 23:50:00    999.67     -4.58    268.61        -5.62    92.4   \n",
              "143  02.01.2009 00:00:00    999.59     -4.54    268.65        -5.46    93.2   \n",
              "144  02.01.2009 00:10:00    999.55     -4.60    268.60        -5.52    93.2   \n",
              "145  02.01.2009 00:20:00    999.56     -4.67    268.53        -5.52    93.7   \n",
              "\n",
              "     VPmax (mbar)  VPact (mbar)  VPdef (mbar)  sh (g/kg)  H2OC (mmol/mol)  \\\n",
              "142          4.34          4.01          0.33       2.50             4.02   \n",
              "143          4.36          4.06          0.30       2.53             4.06   \n",
              "144          4.34          4.04          0.29       2.52             4.04   \n",
              "145          4.32          4.04          0.27       2.52             4.05   \n",
              "\n",
              "     rho (g/m**3)  wv (m/s)  max. wv (m/s)  wd (deg)  \n",
              "142       1294.65      0.69           1.25     213.9  \n",
              "143       1294.33      0.41           0.88     155.0  \n",
              "144       1294.58      0.85           1.38     151.2  \n",
              "145       1294.91      0.83           1.50     148.8  "
            ],
            "text/html": [
              "\n",
              "  <div id=\"df-5e5a9d5c-9c58-4057-abfc-5a8886653fd2\" class=\"colab-df-container\">\n",
              "    <div>\n",
              "<style scoped>\n",
              "    .dataframe tbody tr th:only-of-type {\n",
              "        vertical-align: middle;\n",
              "    }\n",
              "\n",
              "    .dataframe tbody tr th {\n",
              "        vertical-align: top;\n",
              "    }\n",
              "\n",
              "    .dataframe thead th {\n",
              "        text-align: right;\n",
              "    }\n",
              "</style>\n",
              "<table border=\"1\" class=\"dataframe\">\n",
              "  <thead>\n",
              "    <tr style=\"text-align: right;\">\n",
              "      <th></th>\n",
              "      <th>Date Time</th>\n",
              "      <th>p (mbar)</th>\n",
              "      <th>T (degC)</th>\n",
              "      <th>Tpot (K)</th>\n",
              "      <th>Tdew (degC)</th>\n",
              "      <th>rh (%)</th>\n",
              "      <th>VPmax (mbar)</th>\n",
              "      <th>VPact (mbar)</th>\n",
              "      <th>VPdef (mbar)</th>\n",
              "      <th>sh (g/kg)</th>\n",
              "      <th>H2OC (mmol/mol)</th>\n",
              "      <th>rho (g/m**3)</th>\n",
              "      <th>wv (m/s)</th>\n",
              "      <th>max. wv (m/s)</th>\n",
              "      <th>wd (deg)</th>\n",
              "    </tr>\n",
              "  </thead>\n",
              "  <tbody>\n",
              "    <tr>\n",
              "      <th>142</th>\n",
              "      <td>01.01.2009 23:50:00</td>\n",
              "      <td>999.67</td>\n",
              "      <td>-4.58</td>\n",
              "      <td>268.61</td>\n",
              "      <td>-5.62</td>\n",
              "      <td>92.4</td>\n",
              "      <td>4.34</td>\n",
              "      <td>4.01</td>\n",
              "      <td>0.33</td>\n",
              "      <td>2.50</td>\n",
              "      <td>4.02</td>\n",
              "      <td>1294.65</td>\n",
              "      <td>0.69</td>\n",
              "      <td>1.25</td>\n",
              "      <td>213.9</td>\n",
              "    </tr>\n",
              "    <tr>\n",
              "      <th>143</th>\n",
              "      <td>02.01.2009 00:00:00</td>\n",
              "      <td>999.59</td>\n",
              "      <td>-4.54</td>\n",
              "      <td>268.65</td>\n",
              "      <td>-5.46</td>\n",
              "      <td>93.2</td>\n",
              "      <td>4.36</td>\n",
              "      <td>4.06</td>\n",
              "      <td>0.30</td>\n",
              "      <td>2.53</td>\n",
              "      <td>4.06</td>\n",
              "      <td>1294.33</td>\n",
              "      <td>0.41</td>\n",
              "      <td>0.88</td>\n",
              "      <td>155.0</td>\n",
              "    </tr>\n",
              "    <tr>\n",
              "      <th>144</th>\n",
              "      <td>02.01.2009 00:10:00</td>\n",
              "      <td>999.55</td>\n",
              "      <td>-4.60</td>\n",
              "      <td>268.60</td>\n",
              "      <td>-5.52</td>\n",
              "      <td>93.2</td>\n",
              "      <td>4.34</td>\n",
              "      <td>4.04</td>\n",
              "      <td>0.29</td>\n",
              "      <td>2.52</td>\n",
              "      <td>4.04</td>\n",
              "      <td>1294.58</td>\n",
              "      <td>0.85</td>\n",
              "      <td>1.38</td>\n",
              "      <td>151.2</td>\n",
              "    </tr>\n",
              "    <tr>\n",
              "      <th>145</th>\n",
              "      <td>02.01.2009 00:20:00</td>\n",
              "      <td>999.56</td>\n",
              "      <td>-4.67</td>\n",
              "      <td>268.53</td>\n",
              "      <td>-5.52</td>\n",
              "      <td>93.7</td>\n",
              "      <td>4.32</td>\n",
              "      <td>4.04</td>\n",
              "      <td>0.27</td>\n",
              "      <td>2.52</td>\n",
              "      <td>4.05</td>\n",
              "      <td>1294.91</td>\n",
              "      <td>0.83</td>\n",
              "      <td>1.50</td>\n",
              "      <td>148.8</td>\n",
              "    </tr>\n",
              "  </tbody>\n",
              "</table>\n",
              "</div>\n",
              "    <div class=\"colab-df-buttons\">\n",
              "\n",
              "  <div class=\"colab-df-container\">\n",
              "    <button class=\"colab-df-convert\" onclick=\"convertToInteractive('df-5e5a9d5c-9c58-4057-abfc-5a8886653fd2')\"\n",
              "            title=\"Convert this dataframe to an interactive table.\"\n",
              "            style=\"display:none;\">\n",
              "\n",
              "  <svg xmlns=\"http://www.w3.org/2000/svg\" height=\"24px\" viewBox=\"0 -960 960 960\">\n",
              "    <path d=\"M120-120v-720h720v720H120Zm60-500h600v-160H180v160Zm220 220h160v-160H400v160Zm0 220h160v-160H400v160ZM180-400h160v-160H180v160Zm440 0h160v-160H620v160ZM180-180h160v-160H180v160Zm440 0h160v-160H620v160Z\"/>\n",
              "  </svg>\n",
              "    </button>\n",
              "\n",
              "  <style>\n",
              "    .colab-df-container {\n",
              "      display:flex;\n",
              "      gap: 12px;\n",
              "    }\n",
              "\n",
              "    .colab-df-convert {\n",
              "      background-color: #E8F0FE;\n",
              "      border: none;\n",
              "      border-radius: 50%;\n",
              "      cursor: pointer;\n",
              "      display: none;\n",
              "      fill: #1967D2;\n",
              "      height: 32px;\n",
              "      padding: 0 0 0 0;\n",
              "      width: 32px;\n",
              "    }\n",
              "\n",
              "    .colab-df-convert:hover {\n",
              "      background-color: #E2EBFA;\n",
              "      box-shadow: 0px 1px 2px rgba(60, 64, 67, 0.3), 0px 1px 3px 1px rgba(60, 64, 67, 0.15);\n",
              "      fill: #174EA6;\n",
              "    }\n",
              "\n",
              "    .colab-df-buttons div {\n",
              "      margin-bottom: 4px;\n",
              "    }\n",
              "\n",
              "    [theme=dark] .colab-df-convert {\n",
              "      background-color: #3B4455;\n",
              "      fill: #D2E3FC;\n",
              "    }\n",
              "\n",
              "    [theme=dark] .colab-df-convert:hover {\n",
              "      background-color: #434B5C;\n",
              "      box-shadow: 0px 1px 3px 1px rgba(0, 0, 0, 0.15);\n",
              "      filter: drop-shadow(0px 1px 2px rgba(0, 0, 0, 0.3));\n",
              "      fill: #FFFFFF;\n",
              "    }\n",
              "  </style>\n",
              "\n",
              "    <script>\n",
              "      const buttonEl =\n",
              "        document.querySelector('#df-5e5a9d5c-9c58-4057-abfc-5a8886653fd2 button.colab-df-convert');\n",
              "      buttonEl.style.display =\n",
              "        google.colab.kernel.accessAllowed ? 'block' : 'none';\n",
              "\n",
              "      async function convertToInteractive(key) {\n",
              "        const element = document.querySelector('#df-5e5a9d5c-9c58-4057-abfc-5a8886653fd2');\n",
              "        const dataTable =\n",
              "          await google.colab.kernel.invokeFunction('convertToInteractive',\n",
              "                                                    [key], {});\n",
              "        if (!dataTable) return;\n",
              "\n",
              "        const docLinkHtml = 'Like what you see? Visit the ' +\n",
              "          '<a target=\"_blank\" href=https://colab.research.google.com/notebooks/data_table.ipynb>data table notebook</a>'\n",
              "          + ' to learn more about interactive tables.';\n",
              "        element.innerHTML = '';\n",
              "        dataTable['output_type'] = 'display_data';\n",
              "        await google.colab.output.renderOutput(dataTable, element);\n",
              "        const docLink = document.createElement('div');\n",
              "        docLink.innerHTML = docLinkHtml;\n",
              "        element.appendChild(docLink);\n",
              "      }\n",
              "    </script>\n",
              "  </div>\n",
              "\n",
              "\n",
              "<div id=\"df-195acc60-f8d8-422d-8a43-4507f08262dd\">\n",
              "  <button class=\"colab-df-quickchart\" onclick=\"quickchart('df-195acc60-f8d8-422d-8a43-4507f08262dd')\"\n",
              "            title=\"Suggest charts\"\n",
              "            style=\"display:none;\">\n",
              "\n",
              "<svg xmlns=\"http://www.w3.org/2000/svg\" height=\"24px\"viewBox=\"0 0 24 24\"\n",
              "     width=\"24px\">\n",
              "    <g>\n",
              "        <path d=\"M19 3H5c-1.1 0-2 .9-2 2v14c0 1.1.9 2 2 2h14c1.1 0 2-.9 2-2V5c0-1.1-.9-2-2-2zM9 17H7v-7h2v7zm4 0h-2V7h2v10zm4 0h-2v-4h2v4z\"/>\n",
              "    </g>\n",
              "</svg>\n",
              "  </button>\n",
              "\n",
              "<style>\n",
              "  .colab-df-quickchart {\n",
              "      --bg-color: #E8F0FE;\n",
              "      --fill-color: #1967D2;\n",
              "      --hover-bg-color: #E2EBFA;\n",
              "      --hover-fill-color: #174EA6;\n",
              "      --disabled-fill-color: #AAA;\n",
              "      --disabled-bg-color: #DDD;\n",
              "  }\n",
              "\n",
              "  [theme=dark] .colab-df-quickchart {\n",
              "      --bg-color: #3B4455;\n",
              "      --fill-color: #D2E3FC;\n",
              "      --hover-bg-color: #434B5C;\n",
              "      --hover-fill-color: #FFFFFF;\n",
              "      --disabled-bg-color: #3B4455;\n",
              "      --disabled-fill-color: #666;\n",
              "  }\n",
              "\n",
              "  .colab-df-quickchart {\n",
              "    background-color: var(--bg-color);\n",
              "    border: none;\n",
              "    border-radius: 50%;\n",
              "    cursor: pointer;\n",
              "    display: none;\n",
              "    fill: var(--fill-color);\n",
              "    height: 32px;\n",
              "    padding: 0;\n",
              "    width: 32px;\n",
              "  }\n",
              "\n",
              "  .colab-df-quickchart:hover {\n",
              "    background-color: var(--hover-bg-color);\n",
              "    box-shadow: 0 1px 2px rgba(60, 64, 67, 0.3), 0 1px 3px 1px rgba(60, 64, 67, 0.15);\n",
              "    fill: var(--button-hover-fill-color);\n",
              "  }\n",
              "\n",
              "  .colab-df-quickchart-complete:disabled,\n",
              "  .colab-df-quickchart-complete:disabled:hover {\n",
              "    background-color: var(--disabled-bg-color);\n",
              "    fill: var(--disabled-fill-color);\n",
              "    box-shadow: none;\n",
              "  }\n",
              "\n",
              "  .colab-df-spinner {\n",
              "    border: 2px solid var(--fill-color);\n",
              "    border-color: transparent;\n",
              "    border-bottom-color: var(--fill-color);\n",
              "    animation:\n",
              "      spin 1s steps(1) infinite;\n",
              "  }\n",
              "\n",
              "  @keyframes spin {\n",
              "    0% {\n",
              "      border-color: transparent;\n",
              "      border-bottom-color: var(--fill-color);\n",
              "      border-left-color: var(--fill-color);\n",
              "    }\n",
              "    20% {\n",
              "      border-color: transparent;\n",
              "      border-left-color: var(--fill-color);\n",
              "      border-top-color: var(--fill-color);\n",
              "    }\n",
              "    30% {\n",
              "      border-color: transparent;\n",
              "      border-left-color: var(--fill-color);\n",
              "      border-top-color: var(--fill-color);\n",
              "      border-right-color: var(--fill-color);\n",
              "    }\n",
              "    40% {\n",
              "      border-color: transparent;\n",
              "      border-right-color: var(--fill-color);\n",
              "      border-top-color: var(--fill-color);\n",
              "    }\n",
              "    60% {\n",
              "      border-color: transparent;\n",
              "      border-right-color: var(--fill-color);\n",
              "    }\n",
              "    80% {\n",
              "      border-color: transparent;\n",
              "      border-right-color: var(--fill-color);\n",
              "      border-bottom-color: var(--fill-color);\n",
              "    }\n",
              "    90% {\n",
              "      border-color: transparent;\n",
              "      border-bottom-color: var(--fill-color);\n",
              "    }\n",
              "  }\n",
              "</style>\n",
              "\n",
              "  <script>\n",
              "    async function quickchart(key) {\n",
              "      const quickchartButtonEl =\n",
              "        document.querySelector('#' + key + ' button');\n",
              "      quickchartButtonEl.disabled = true;  // To prevent multiple clicks.\n",
              "      quickchartButtonEl.classList.add('colab-df-spinner');\n",
              "      try {\n",
              "        const charts = await google.colab.kernel.invokeFunction(\n",
              "            'suggestCharts', [key], {});\n",
              "      } catch (error) {\n",
              "        console.error('Error during call to suggestCharts:', error);\n",
              "      }\n",
              "      quickchartButtonEl.classList.remove('colab-df-spinner');\n",
              "      quickchartButtonEl.classList.add('colab-df-quickchart-complete');\n",
              "    }\n",
              "    (() => {\n",
              "      let quickchartButtonEl =\n",
              "        document.querySelector('#df-195acc60-f8d8-422d-8a43-4507f08262dd button');\n",
              "      quickchartButtonEl.style.display =\n",
              "        google.colab.kernel.accessAllowed ? 'block' : 'none';\n",
              "    })();\n",
              "  </script>\n",
              "</div>\n",
              "\n",
              "    </div>\n",
              "  </div>\n"
            ],
            "application/vnd.google.colaboratory.intrinsic+json": {
              "type": "dataframe",
              "repr_error": "0"
            }
          },
          "metadata": {},
          "execution_count": 30
        }
      ]
    },
    {
      "cell_type": "code",
      "source": [
        "# features = jena_climate.drop(['Date Time', 'T (degC)'], axis=1)\n",
        "features = jena_climate.drop(jena_climate.columns[[0, 2]], axis=1)\n",
        "# temperature = jena_climate['T (degC)']\n",
        "temperature = jena_climate[jena_climate.columns[2]]"
      ],
      "metadata": {
        "id": "bnzPW1kpJa3i"
      },
      "execution_count": null,
      "outputs": []
    },
    {
      "cell_type": "code",
      "source": [
        "features.shape, temperature.shape"
      ],
      "metadata": {
        "colab": {
          "base_uri": "https://localhost:8080/"
        },
        "id": "FFo_RVEQKMNi",
        "outputId": "4b22ac90-4c6e-4d5f-ffa8-32be049f32e9"
      },
      "execution_count": null,
      "outputs": [
        {
          "output_type": "execute_result",
          "data": {
            "text/plain": [
              "((420551, 13), (420551,))"
            ]
          },
          "metadata": {},
          "execution_count": 34
        }
      ]
    },
    {
      "cell_type": "code",
      "source": [
        "plt.figure(figsize=(6, 3))\n",
        "plt.plot(range(len(temperature)), temperature)\n",
        "plt.show()"
      ],
      "metadata": {
        "colab": {
          "base_uri": "https://localhost:8080/",
          "height": 296
        },
        "id": "n9zSVSOfKYs5",
        "outputId": "3286ffcd-0bd5-45c4-8d20-46bff04c7b2c"
      },
      "execution_count": null,
      "outputs": [
        {
          "output_type": "display_data",
          "data": {
            "text/plain": [
              "<Figure size 600x300 with 1 Axes>"
            ],
            "image/png": "[encoded data removed]"
          },
          "metadata": {}
        }
      ]
    },
    {
      "cell_type": "code",
      "source": [
        "plt.figure(figsize=(6, 3))\n",
        "plt.plot(range(6*24*10), temperature[:6*24*10])\n",
        "plt.show()"
      ],
      "metadata": {
        "colab": {
          "base_uri": "https://localhost:8080/",
          "height": 292
        },
        "id": "YmP51TFCK9Cy",
        "outputId": "95a5ee7b-4694-49eb-b9ab-1dc682d9a4c2"
      },
      "execution_count": null,
      "outputs": [
        {
          "output_type": "display_data",
          "data": {
            "text/plain": [
              "<Figure size 600x300 with 1 Axes>"
            ],
            "image/png": "[encoded data removed]"
          },
          "metadata": {}
        }
      ]
    },
    {
      "cell_type": "code",
      "source": [],
      "metadata": {
        "id": "OyTkFWBOLvrK"
      },
      "execution_count": null,
      "outputs": []
    },
    {
      "cell_type": "code",
      "source": [
        "import tensorflow as tf\n",
        "import tensorflow.keras as tf_keras"
      ],
      "metadata": {
        "id": "hP2Zk0oILxEZ"
      },
      "execution_count": null,
      "outputs": []
    },
    {
      "cell_type": "code",
      "source": [
        "model1 = tf_keras.Sequential([\n",
        "    tf_keras.layers.Input(shape=(13, )),\n",
        "    tf_keras.layers.Dense(units=128, activation='relu'),\n",
        "    tf_keras.layers.Dense(units=64, activation='relu'),\n",
        "    tf_keras.layers.Dense(units=1) # 회귀 모델의 출력층은 units=1, activation=None\n",
        "])"
      ],
      "metadata": {
        "id": "P1xe_CNQL-aB"
      },
      "execution_count": null,
      "outputs": []
    },
    {
      "cell_type": "code",
      "source": [
        "model1.compile(optimizer=\"adam\",\n",
        "               loss=\"mse\",\n",
        "               metrics=['mae'])"
      ],
      "metadata": {
        "id": "Uw-QHx98MpQh"
      },
      "execution_count": null,
      "outputs": []
    },
    {
      "cell_type": "code",
      "source": [
        "# 당일 데이터로 당일 기온 예측\n",
        "# history1 = model1.fit(features.values[::144], temperature.values[::144],\n",
        "#                       batch_size=32, epochs=10,\n",
        "#                       validation_split=0.2)\n",
        "\n",
        "# 당일 데이터로 다음날 기온 예측\n",
        "history1 = model1.fit(features.values[:-144:144], temperature.values[144::144],\n",
        "                      batch_size=32, epochs=10,\n",
        "                      validation_split=0.2)"
      ],
      "metadata": {
        "colab": {
          "base_uri": "https://localhost:8080/"
        },
        "id": "EPrG2apiNAgK",
        "outputId": "f4856eeb-c99f-4a2e-bf62-a0d1e0de562a"
      },
      "execution_count": null,
      "outputs": [
        {
          "output_type": "stream",
          "name": "stdout",
          "text": [
            "Epoch 1/10\n",
            "73/73 [==============================] - 1s 5ms/step - loss: 2081.4885 - mae: 25.1441 - val_loss: 2238.0515 - val_mae: 7.9251\n",
            "Epoch 2/10\n",
            "73/73 [==============================] - 0s 3ms/step - loss: 42.4917 - mae: 5.2554 - val_loss: 2216.9443 - val_mae: 7.4754\n",
            "Epoch 3/10\n",
            "73/73 [==============================] - 0s 2ms/step - loss: 33.5594 - mae: 4.6916 - val_loss: 2177.1191 - val_mae: 7.0524\n",
            "Epoch 4/10\n",
            "73/73 [==============================] - 0s 2ms/step - loss: 25.3032 - mae: 4.0512 - val_loss: 2052.1992 - val_mae: 6.1296\n",
            "Epoch 5/10\n",
            "73/73 [==============================] - 0s 2ms/step - loss: 19.1082 - mae: 3.4838 - val_loss: 1916.0923 - val_mae: 5.5593\n",
            "Epoch 6/10\n",
            "73/73 [==============================] - 0s 3ms/step - loss: 14.9304 - mae: 3.0489 - val_loss: 1755.1471 - val_mae: 4.8072\n",
            "Epoch 7/10\n",
            "73/73 [==============================] - 0s 3ms/step - loss: 12.6893 - mae: 2.8293 - val_loss: 1560.9612 - val_mae: 4.6505\n",
            "Epoch 8/10\n",
            "73/73 [==============================] - 0s 2ms/step - loss: 11.7663 - mae: 2.7191 - val_loss: 1384.4098 - val_mae: 5.0006\n",
            "Epoch 9/10\n",
            "73/73 [==============================] - 0s 2ms/step - loss: 11.6703 - mae: 2.7052 - val_loss: 1218.0427 - val_mae: 4.8452\n",
            "Epoch 10/10\n",
            "73/73 [==============================] - 0s 2ms/step - loss: 11.2002 - mae: 2.6421 - val_loss: 1035.9510 - val_mae: 4.1975\n"
          ]
        }
      ]
    },
    {
      "cell_type": "code",
      "source": [
        "# 1시간 단위의 이전 10일의 데이터를 사용해서 다음날 기온 예측"
      ],
      "metadata": {
        "id": "n5y59CWhTGfx"
      },
      "execution_count": null,
      "outputs": []
    },
    {
      "cell_type": "code",
      "source": [
        "jena_climate_per_hour = jena_climate.iloc[::6, :]\n",
        "\n",
        "jena_climate_per_hour.iloc[:240:240, :].head()\n",
        "# jena_climate_per_hour.iloc[1:241, :]\n",
        "# jena_climate_per_hour.iloc[2:242, :]"
      ],
      "metadata": {
        "colab": {
          "base_uri": "https://localhost:8080/",
          "height": 153
        },
        "id": "LvPeTTO-T0qK",
        "outputId": "c86b0cc0-0b2b-44ca-c8cc-4da7a6b162e3"
      },
      "execution_count": null,
      "outputs": [
        {
          "output_type": "execute_result",
          "data": {
            "text/plain": [
              "             Date Time  p (mbar)  T (degC)  Tpot (K)  Tdew (degC)  rh (%)  \\\n",
              "0  01.01.2009 00:10:00    996.52     -8.02     265.4         -8.9    93.3   \n",
              "\n",
              "   VPmax (mbar)  VPact (mbar)  VPdef (mbar)  sh (g/kg)  H2OC (mmol/mol)  \\\n",
              "0          3.33          3.11          0.22       1.94             3.12   \n",
              "\n",
              "   rho (g/m**3)  wv (m/s)  max. wv (m/s)  wd (deg)  \n",
              "0       1307.75      1.03           1.75     152.3  "
            ],
            "text/html": [
              "\n",
              "  <div id=\"df-18dc7937-ca0c-4f88-8d6a-16dcbd7ae794\" class=\"colab-df-container\">\n",
              "    <div>\n",
              "<style scoped>\n",
              "    .dataframe tbody tr th:only-of-type {\n",
              "        vertical-align: middle;\n",
              "    }\n",
              "\n",
              "    .dataframe tbody tr th {\n",
              "        vertical-align: top;\n",
              "    }\n",
              "\n",
              "    .dataframe thead th {\n",
              "        text-align: right;\n",
              "    }\n",
              "</style>\n",
              "<table border=\"1\" class=\"dataframe\">\n",
              "  <thead>\n",
              "    <tr style=\"text-align: right;\">\n",
              "      <th></th>\n",
              "      <th>Date Time</th>\n",
              "      <th>p (mbar)</th>\n",
              "      <th>T (degC)</th>\n",
              "      <th>Tpot (K)</th>\n",
              "      <th>Tdew (degC)</th>\n",
              "      <th>rh (%)</th>\n",
              "      <th>VPmax (mbar)</th>\n",
              "      <th>VPact (mbar)</th>\n",
              "      <th>VPdef (mbar)</th>\n",
              "      <th>sh (g/kg)</th>\n",
              "      <th>H2OC (mmol/mol)</th>\n",
              "      <th>rho (g/m**3)</th>\n",
              "      <th>wv (m/s)</th>\n",
              "      <th>max. wv (m/s)</th>\n",
              "      <th>wd (deg)</th>\n",
              "    </tr>\n",
              "  </thead>\n",
              "  <tbody>\n",
              "    <tr>\n",
              "      <th>0</th>\n",
              "      <td>01.01.2009 00:10:00</td>\n",
              "      <td>996.52</td>\n",
              "      <td>-8.02</td>\n",
              "      <td>265.4</td>\n",
              "      <td>-8.9</td>\n",
              "      <td>93.3</td>\n",
              "      <td>3.33</td>\n",
              "      <td>3.11</td>\n",
              "      <td>0.22</td>\n",
              "      <td>1.94</td>\n",
              "      <td>3.12</td>\n",
              "      <td>1307.75</td>\n",
              "      <td>1.03</td>\n",
              "      <td>1.75</td>\n",
              "      <td>152.3</td>\n",
              "    </tr>\n",
              "  </tbody>\n",
              "</table>\n",
              "</div>\n",
              "    <div class=\"colab-df-buttons\">\n",
              "\n",
              "  <div class=\"colab-df-container\">\n",
              "    <button class=\"colab-df-convert\" onclick=\"convertToInteractive('df-18dc7937-ca0c-4f88-8d6a-16dcbd7ae794')\"\n",
              "            title=\"Convert this dataframe to an interactive table.\"\n",
              "            style=\"display:none;\">\n",
              "\n",
              "  <svg xmlns=\"http://www.w3.org/2000/svg\" height=\"24px\" viewBox=\"0 -960 960 960\">\n",
              "    <path d=\"M120-120v-720h720v720H120Zm60-500h600v-160H180v160Zm220 220h160v-160H400v160Zm0 220h160v-160H400v160ZM180-400h160v-160H180v160Zm440 0h160v-160H620v160ZM180-180h160v-160H180v160Zm440 0h160v-160H620v160Z\"/>\n",
              "  </svg>\n",
              "    </button>\n",
              "\n",
              "  <style>\n",
              "    .colab-df-container {\n",
              "      display:flex;\n",
              "      gap: 12px;\n",
              "    }\n",
              "\n",
              "    .colab-df-convert {\n",
              "      background-color: #E8F0FE;\n",
              "      border: none;\n",
              "      border-radius: 50%;\n",
              "      cursor: pointer;\n",
              "      display: none;\n",
              "      fill: #1967D2;\n",
              "      height: 32px;\n",
              "      padding: 0 0 0 0;\n",
              "      width: 32px;\n",
              "    }\n",
              "\n",
              "    .colab-df-convert:hover {\n",
              "      background-color: #E2EBFA;\n",
              "      box-shadow: 0px 1px 2px rgba(60, 64, 67, 0.3), 0px 1px 3px 1px rgba(60, 64, 67, 0.15);\n",
              "      fill: #174EA6;\n",
              "    }\n",
              "\n",
              "    .colab-df-buttons div {\n",
              "      margin-bottom: 4px;\n",
              "    }\n",
              "\n",
              "    [theme=dark] .colab-df-convert {\n",
              "      background-color: #3B4455;\n",
              "      fill: #D2E3FC;\n",
              "    }\n",
              "\n",
              "    [theme=dark] .colab-df-convert:hover {\n",
              "      background-color: #434B5C;\n",
              "      box-shadow: 0px 1px 3px 1px rgba(0, 0, 0, 0.15);\n",
              "      filter: drop-shadow(0px 1px 2px rgba(0, 0, 0, 0.3));\n",
              "      fill: #FFFFFF;\n",
              "    }\n",
              "  </style>\n",
              "\n",
              "    <script>\n",
              "      const buttonEl =\n",
              "        document.querySelector('#df-18dc7937-ca0c-4f88-8d6a-16dcbd7ae794 button.colab-df-convert');\n",
              "      buttonEl.style.display =\n",
              "        google.colab.kernel.accessAllowed ? 'block' : 'none';\n",
              "\n",
              "      async function convertToInteractive(key) {\n",
              "        const element = document.querySelector('#df-18dc7937-ca0c-4f88-8d6a-16dcbd7ae794');\n",
              "        const dataTable =\n",
              "          await google.colab.kernel.invokeFunction('convertToInteractive',\n",
              "                                                    [key], {});\n",
              "        if (!dataTable) return;\n",
              "\n",
              "        const docLinkHtml = 'Like what you see? Visit the ' +\n",
              "          '<a target=\"_blank\" href=https://colab.research.google.com/notebooks/data_table.ipynb>data table notebook</a>'\n",
              "          + ' to learn more about interactive tables.';\n",
              "        element.innerHTML = '';\n",
              "        dataTable['output_type'] = 'display_data';\n",
              "        await google.colab.output.renderOutput(dataTable, element);\n",
              "        const docLink = document.createElement('div');\n",
              "        docLink.innerHTML = docLinkHtml;\n",
              "        element.appendChild(docLink);\n",
              "      }\n",
              "    </script>\n",
              "  </div>\n",
              "\n",
              "\n",
              "    </div>\n",
              "  </div>\n"
            ],
            "application/vnd.google.colaboratory.intrinsic+json": {
              "type": "dataframe",
              "summary": "{\n  \"name\": \"# jena_climate_per_hour\",\n  \"rows\": 1,\n  \"fields\": [\n    {\n      \"column\": \"Date Time\",\n      \"properties\": {\n        \"dtype\": \"object\",\n        \"min\": \"01.01.2009 00:10:00\",\n        \"max\": \"01.01.2009 00:10:00\",\n        \"samples\": [\n          \"01.01.2009 00:10:00\"\n        ],\n        \"num_unique_values\": 1,\n        \"semantic_type\": \"\",\n        \"description\": \"\"\n      }\n    },\n    {\n      \"column\": \"p (mbar)\",\n      \"properties\": {\n        \"dtype\": \"number\",\n        \"std\": NaN,\n        \"min\": 996.52,\n        \"max\": 996.52,\n        \"samples\": [\n          996.52\n        ],\n        \"num_unique_values\": 1,\n        \"semantic_type\": \"\",\n        \"description\": \"\"\n      }\n    },\n    {\n      \"column\": \"T (degC)\",\n      \"properties\": {\n        \"dtype\": \"number\",\n        \"std\": NaN,\n        \"min\": -8.02,\n        \"max\": -8.02,\n        \"samples\": [\n          -8.02\n        ],\n        \"num_unique_values\": 1,\n        \"semantic_type\": \"\",\n        \"description\": \"\"\n      }\n    },\n    {\n      \"column\": \"Tpot (K)\",\n      \"properties\": {\n        \"dtype\": \"number\",\n        \"std\": NaN,\n        \"min\": 265.4,\n        \"max\": 265.4,\n        \"samples\": [\n          265.4\n        ],\n        \"num_unique_values\": 1,\n        \"semantic_type\": \"\",\n        \"description\": \"\"\n      }\n    },\n    {\n      \"column\": \"Tdew (degC)\",\n      \"properties\": {\n        \"dtype\": \"number\",\n        \"std\": NaN,\n        \"min\": -8.9,\n        \"max\": -8.9,\n        \"samples\": [\n          -8.9\n        ],\n        \"num_unique_values\": 1,\n        \"semantic_type\": \"\",\n        \"description\": \"\"\n      }\n    },\n    {\n      \"column\": \"rh (%)\",\n      \"properties\": {\n        \"dtype\": \"number\",\n        \"std\": NaN,\n        \"min\": 93.3,\n        \"max\": 93.3,\n        \"samples\": [\n          93.3\n        ],\n        \"num_unique_values\": 1,\n        \"semantic_type\": \"\",\n        \"description\": \"\"\n      }\n    },\n    {\n      \"column\": \"VPmax (mbar)\",\n      \"properties\": {\n        \"dtype\": \"number\",\n        \"std\": NaN,\n        \"min\": 3.33,\n        \"max\": 3.33,\n        \"samples\": [\n          3.33\n        ],\n        \"num_unique_values\": 1,\n        \"semantic_type\": \"\",\n        \"description\": \"\"\n      }\n    },\n    {\n      \"column\": \"VPact (mbar)\",\n      \"properties\": {\n        \"dtype\": \"number\",\n        \"std\": NaN,\n        \"min\": 3.11,\n        \"max\": 3.11,\n        \"samples\": [\n          3.11\n        ],\n        \"num_unique_values\": 1,\n        \"semantic_type\": \"\",\n        \"description\": \"\"\n      }\n    },\n    {\n      \"column\": \"VPdef (mbar)\",\n      \"properties\": {\n        \"dtype\": \"number\",\n        \"std\": NaN,\n        \"min\": 0.22,\n        \"max\": 0.22,\n        \"samples\": [\n          0.22\n        ],\n        \"num_unique_values\": 1,\n        \"semantic_type\": \"\",\n        \"description\": \"\"\n      }\n    },\n    {\n      \"column\": \"sh (g/kg)\",\n      \"properties\": {\n        \"dtype\": \"number\",\n        \"std\": NaN,\n        \"min\": 1.94,\n        \"max\": 1.94,\n        \"samples\": [\n          1.94\n        ],\n        \"num_unique_values\": 1,\n        \"semantic_type\": \"\",\n        \"description\": \"\"\n      }\n    },\n    {\n      \"column\": \"H2OC (mmol/mol)\",\n      \"properties\": {\n        \"dtype\": \"number\",\n        \"std\": NaN,\n        \"min\": 3.12,\n        \"max\": 3.12,\n        \"samples\": [\n          3.12\n        ],\n        \"num_unique_values\": 1,\n        \"semantic_type\": \"\",\n        \"description\": \"\"\n      }\n    },\n    {\n      \"column\": \"rho (g/m**3)\",\n      \"properties\": {\n        \"dtype\": \"number\",\n        \"std\": NaN,\n        \"min\": 1307.75,\n        \"max\": 1307.75,\n        \"samples\": [\n          1307.75\n        ],\n        \"num_unique_values\": 1,\n        \"semantic_type\": \"\",\n        \"description\": \"\"\n      }\n    },\n    {\n      \"column\": \"wv (m/s)\",\n      \"properties\": {\n        \"dtype\": \"number\",\n        \"std\": NaN,\n        \"min\": 1.03,\n        \"max\": 1.03,\n        \"samples\": [\n          1.03\n        ],\n        \"num_unique_values\": 1,\n        \"semantic_type\": \"\",\n        \"description\": \"\"\n      }\n    },\n    {\n      \"column\": \"max. wv (m/s)\",\n      \"properties\": {\n        \"dtype\": \"number\",\n        \"std\": NaN,\n        \"min\": 1.75,\n        \"max\": 1.75,\n        \"samples\": [\n          1.75\n        ],\n        \"num_unique_values\": 1,\n        \"semantic_type\": \"\",\n        \"description\": \"\"\n      }\n    },\n    {\n      \"column\": \"wd (deg)\",\n      \"properties\": {\n        \"dtype\": \"number\",\n        \"std\": NaN,\n        \"min\": 152.3,\n        \"max\": 152.3,\n        \"samples\": [\n          152.3\n        ],\n        \"num_unique_values\": 1,\n        \"semantic_type\": \"\",\n        \"description\": \"\"\n      }\n    }\n  ]\n}"
            }
          },
          "metadata": {},
          "execution_count": 64
        }
      ]
    },
    {
      "cell_type": "code",
      "source": [
        "days = 10   # 10일\n",
        "stride = 6  # 한 시간 단위\n",
        "delay = (days + 0) * stride * 24 # 11일치 데이터"
      ],
      "metadata": {
        "id": "Ro9MqtmzWYJ6"
      },
      "execution_count": null,
      "outputs": []
    },
    {
      "cell_type": "code",
      "source": [
        "# 훈련, 검증, 테스트 데이터 범위\n",
        "print( features.shape[0] * 0.8 ) # 훈련세트 + 검증세트 vs 테스트세트 경계\n",
        "print( features.shape[0] * 0.8 * 0.8 ) # 훈련세트 vs 검증세트 경계\n",
        "# train : 0 ~ 270000\n",
        "# validation : 270000 ~ 330000\n",
        "# test : 330000 ~"
      ],
      "metadata": {
        "colab": {
          "base_uri": "https://localhost:8080/"
        },
        "id": "pf52FXf6goZq",
        "outputId": "27840c1b-e0c4-4ac4-d203-9b1d0ff0cc7b"
      },
      "execution_count": null,
      "outputs": [
        {
          "output_type": "stream",
          "name": "stdout",
          "text": [
            "336440.80000000005\n",
            "269152.6400000001\n"
          ]
        }
      ]
    },
    {
      "cell_type": "code",
      "source": [
        "train_dataset = tf_keras.utils.timeseries_dataset_from_array(\n",
        "    data=features[:-delay],\n",
        "    targets=temperature[delay:],\n",
        "    sequence_length=24 * days,    # 한 번에 24  * 10개 뽑기 ( 10일 단위 )\n",
        "    sampling_rate=stride,         # 6개 마다 한 개씩 뽑기 ( 1시간 단위 )\n",
        "    shuffle=True,\n",
        "    batch_size=32,\n",
        "    start_index=0,\n",
        "    end_index=270000\n",
        ")\n",
        "validation_dataset = tf_keras.utils.timeseries_dataset_from_array(\n",
        "    data=features[:-delay],\n",
        "    targets=temperature[delay:],\n",
        "    sequence_length=24 * days,    # 한 번에 24  * 10개 뽑기 ( 10일 단위 )\n",
        "    sampling_rate=stride,         # 6개 마다 한 개씩 뽑기 ( 1시간 단위 )\n",
        "    shuffle=True,\n",
        "    batch_size=32,\n",
        "    start_index=270000,\n",
        "    end_index=330000\n",
        ")\n",
        "test_dataset = tf_keras.utils.timeseries_dataset_from_array(\n",
        "    data=features[:-delay],\n",
        "    targets=temperature[delay:],\n",
        "    sequence_length=24 * days,    # 한 번에 24  * 10개 뽑기 ( 10일 단위 )\n",
        "    sampling_rate=stride,         # 6개 마다 한 개씩 뽑기 ( 1시간 단위 )\n",
        "    shuffle=True,\n",
        "    batch_size=32,\n",
        "    start_index=330000\n",
        ")"
      ],
      "metadata": {
        "id": "E8cewJaVW3gZ"
      },
      "execution_count": null,
      "outputs": []
    },
    {
      "cell_type": "code",
      "source": [
        "print( type(test_dataset) )\n",
        "for X, y in test_dataset:\n",
        "  print(X.shape, y.shape)\n",
        "  break"
      ],
      "metadata": {
        "colab": {
          "base_uri": "https://localhost:8080/"
        },
        "id": "U5LjvD24jgTJ",
        "outputId": "6d5f44d9-31ce-4049-fd7a-c00bdcb19e06"
      },
      "execution_count": null,
      "outputs": [
        {
          "output_type": "stream",
          "name": "stdout",
          "text": [
            "<class 'tensorflow.python.data.ops.batch_op._BatchDataset'>\n",
            "(32, 240, 13) (32,)\n"
          ]
        }
      ]
    },
    {
      "cell_type": "code",
      "source": [
        "model2 = tf_keras.models.Sequential([\n",
        "    tf_keras.layers.Input(shape=(240, 13)),\n",
        "    tf_keras.layers.Flatten(),\n",
        "    # tf_keras.layers.Dense(units=128, activation='relu'),\n",
        "    # tf_keras.layers.Dense(units=64, activation='relu'),\n",
        "    tf_keras.layers.Dense(units=1)\n",
        "])\n",
        "model2.summary()"
      ],
      "metadata": {
        "colab": {
          "base_uri": "https://localhost:8080/"
        },
        "id": "FoqhxqqYkdQi",
        "outputId": "9b0f649b-0c6e-4aef-9519-95d15c538e66"
      },
      "execution_count": null,
      "outputs": [
        {
          "output_type": "stream",
          "name": "stdout",
          "text": [
            "Model: \"sequential_6\"\n",
            "_________________________________________________________________\n",
            " Layer (type)                Output Shape              Param #   \n",
            "=================================================================\n",
            " flatten_1 (Flatten)         (None, 3120)              0         \n",
            "                                                                 \n",
            " dense_18 (Dense)            (None, 1)                 3121      \n",
            "                                                                 \n",
            "=================================================================\n",
            "Total params: 3121 (12.19 KB)\n",
            "Trainable params: 3121 (12.19 KB)\n",
            "Non-trainable params: 0 (0.00 Byte)\n",
            "_________________________________________________________________\n"
          ]
        }
      ]
    },
    {
      "cell_type": "code",
      "source": [
        "model2.compile(optimizer=\"adam\",\n",
        "               loss=\"mse\",\n",
        "               metrics=[\"mae\"])"
      ],
      "metadata": {
        "id": "DNCTc3H3lCkh"
      },
      "execution_count": null,
      "outputs": []
    },
    {
      "cell_type": "code",
      "source": [
        "history = model2.fit(train_dataset, epochs=10, validation_data=validation_dataset)"
      ],
      "metadata": {
        "colab": {
          "base_uri": "https://localhost:8080/"
        },
        "id": "AemlhJcRleHa",
        "outputId": "b0a20037-0f76-4ded-f0d0-be1580e33095"
      },
      "execution_count": null,
      "outputs": [
        {
          "output_type": "stream",
          "name": "stdout",
          "text": [
            "Epoch 1/10\n",
            "8393/8393 [==============================] - 113s 13ms/step - loss: 416.2007 - mae: 5.5613 - val_loss: 19.7766 - val_mae: 3.4839\n",
            "Epoch 2/10\n",
            "8393/8393 [==============================] - 108s 13ms/step - loss: 25.4009 - mae: 2.7225 - val_loss: 60.1541 - val_mae: 6.4544\n",
            "Epoch 3/10\n",
            "8393/8393 [==============================] - 124s 15ms/step - loss: 21.5707 - mae: 3.3260 - val_loss: 4.8027 - val_mae: 1.7063\n",
            "Epoch 4/10\n",
            "8393/8393 [==============================] - 116s 14ms/step - loss: 5.0088 - mae: 1.7249 - val_loss: 9.4277 - val_mae: 2.7213\n",
            "Epoch 5/10\n",
            "8393/8393 [==============================] - 118s 14ms/step - loss: 5.0991 - mae: 1.6877 - val_loss: 2.2064 - val_mae: 1.1331\n",
            "Epoch 6/10\n",
            "8393/8393 [==============================] - 115s 14ms/step - loss: 5.7196 - mae: 1.6855 - val_loss: 8.6409 - val_mae: 2.4443\n",
            "Epoch 7/10\n",
            "8393/8393 [==============================] - 122s 15ms/step - loss: 5.5284 - mae: 1.6519 - val_loss: 2.0608 - val_mae: 1.0910\n",
            "Epoch 8/10\n",
            "8393/8393 [==============================] - 116s 14ms/step - loss: 5.9204 - mae: 1.5998 - val_loss: 1.8642 - val_mae: 1.0470\n",
            "Epoch 9/10\n",
            "8393/8393 [==============================] - 111s 13ms/step - loss: 6.1683 - mae: 1.6023 - val_loss: 2.5938 - val_mae: 1.2706\n",
            "Epoch 10/10\n",
            "8393/8393 [==============================] - 119s 14ms/step - loss: 13.1085 - mae: 1.9840 - val_loss: 58.8994 - val_mae: 6.3075\n"
          ]
        }
      ]
    },
    {
      "cell_type": "code",
      "source": [
        "history = model2.fit(train_dataset, epochs=10, validation_data=validation_dataset)"
      ],
      "metadata": {
        "colab": {
          "base_uri": "https://localhost:8080/"
        },
        "id": "PAtHqlWyrjIB",
        "outputId": "fa93d9b6-7b87-4bb3-a249-8dd2fd86a986"
      },
      "execution_count": null,
      "outputs": [
        {
          "output_type": "stream",
          "name": "stdout",
          "text": [
            "Epoch 1/10\n",
            "8393/8393 [==============================] - 67s 8ms/step - loss: 567.7574 - mae: 16.1361 - val_loss: 801.4894 - val_mae: 28.0567\n",
            "Epoch 2/10\n",
            "8393/8393 [==============================] - 80s 10ms/step - loss: 331.9514 - mae: 14.4217 - val_loss: 84.8849 - val_mae: 8.7557\n",
            "Epoch 3/10\n",
            "8393/8393 [==============================] - 77s 9ms/step - loss: 333.6013 - mae: 14.0853 - val_loss: 10.4596 - val_mae: 2.5921\n",
            "Epoch 4/10\n",
            "8393/8393 [==============================] - 69s 8ms/step - loss: 329.7928 - mae: 14.4307 - val_loss: 485.2404 - val_mae: 21.8633\n",
            "Epoch 5/10\n",
            "8393/8393 [==============================] - 67s 8ms/step - loss: 332.8054 - mae: 14.3399 - val_loss: 82.7100 - val_mae: 8.6757\n",
            "Epoch 6/10\n",
            "8393/8393 [==============================] - 70s 8ms/step - loss: 327.7992 - mae: 14.2405 - val_loss: 9.2247 - val_mae: 2.4115\n",
            "Epoch 7/10\n",
            "8393/8393 [==============================] - 67s 8ms/step - loss: 328.8720 - mae: 14.1060 - val_loss: 1749.4775 - val_mae: 41.6879\n",
            "Epoch 8/10\n",
            "8393/8393 [==============================] - 68s 8ms/step - loss: 329.0466 - mae: 14.2051 - val_loss: 1375.6892 - val_mae: 36.9842\n",
            "Epoch 9/10\n",
            "8393/8393 [==============================] - 67s 8ms/step - loss: 329.3560 - mae: 14.1794 - val_loss: 6.4514 - val_mae: 1.9818\n",
            "Epoch 10/10\n",
            "8393/8393 [==============================] - 79s 9ms/step - loss: 330.5787 - mae: 13.9789 - val_loss: 5.6233 - val_mae: 1.8797\n"
          ]
        }
      ]
    },
    {
      "cell_type": "code",
      "source": [],
      "metadata": {
        "id": "X3ma0Q08wP8B"
      },
      "execution_count": null,
      "outputs": []
    },
    {
      "cell_type": "code",
      "source": [
        "# 순환 신경망 모델\n",
        "\n",
        "input = tf_keras.layers.Input(shape=(240, 13)) # 입력\n",
        "x = tf_keras.layers.SimpleRNN(units=16)(input)\n",
        "output = tf_keras.layers.Dense(units=1)(x) # 출력\n",
        "\n",
        "model3 = tf_keras.models.Model(input, output)\n",
        "\n",
        "model3.summary()"
      ],
      "metadata": {
        "colab": {
          "base_uri": "https://localhost:8080/"
        },
        "id": "dhxy4-dOwQrC",
        "outputId": "39bb7ca8-545f-4148-a556-98ce4054a70a"
      },
      "execution_count": null,
      "outputs": [
        {
          "output_type": "stream",
          "name": "stdout",
          "text": [
            "Model: \"model\"\n",
            "_________________________________________________________________\n",
            " Layer (type)                Output Shape              Param #   \n",
            "=================================================================\n",
            " input_8 (InputLayer)        [(None, 240, 13)]         0         \n",
            "                                                                 \n",
            " simple_rnn (SimpleRNN)      (None, 16)                480       \n",
            "                                                                 \n",
            " dense_19 (Dense)            (None, 1)                 17        \n",
            "                                                                 \n",
            "=================================================================\n",
            "Total params: 497 (1.94 KB)\n",
            "Trainable params: 497 (1.94 KB)\n",
            "Non-trainable params: 0 (0.00 Byte)\n",
            "_________________________________________________________________\n"
          ]
        }
      ]
    },
    {
      "cell_type": "code",
      "source": [
        "model3.compile(optimizer=\"adam\",\n",
        "               loss=\"mse\",\n",
        "               metrics=['mae'])"
      ],
      "metadata": {
        "id": "MA7OmPpnxh1j"
      },
      "execution_count": null,
      "outputs": []
    },
    {
      "cell_type": "code",
      "source": [
        "history3 = model3.fit(train_dataset, epochs=10, validation_data=validation_dataset)"
      ],
      "metadata": {
        "colab": {
          "base_uri": "https://localhost:8080/"
        },
        "id": "Tl36LSz0xsIR",
        "outputId": "c22b66cf-87f2-4242-c2cf-163ce45350a8"
      },
      "execution_count": null,
      "outputs": [
        {
          "output_type": "stream",
          "name": "stdout",
          "text": [
            "Epoch 1/10\n",
            "8393/8393 [==============================] - 392s 47ms/step - loss: 43.7646 - mae: 4.9504 - val_loss: 17.4159 - val_mae: 3.2768\n",
            "Epoch 2/10\n",
            "8393/8393 [==============================] - 381s 45ms/step - loss: 23.8230 - mae: 3.8923 - val_loss: 19.3241 - val_mae: 3.5045\n",
            "Epoch 3/10\n",
            "8393/8393 [==============================] - 397s 47ms/step - loss: 22.8585 - mae: 3.8145 - val_loss: 16.5158 - val_mae: 3.2318\n",
            "Epoch 4/10\n",
            "8393/8393 [==============================] - 381s 45ms/step - loss: 10.8534 - mae: 2.3240 - val_loss: 5.9220 - val_mae: 1.9182\n",
            "Epoch 5/10\n",
            "8393/8393 [==============================] - 398s 47ms/step - loss: 6.1231 - mae: 1.8038 - val_loss: 3.8574 - val_mae: 1.4305\n",
            "Epoch 6/10\n",
            "8393/8393 [==============================] - 386s 46ms/step - loss: 5.7217 - mae: 1.7534 - val_loss: 4.2489 - val_mae: 1.5125\n",
            "Epoch 7/10\n",
            "8393/8393 [==============================] - 389s 46ms/step - loss: 5.5524 - mae: 1.7311 - val_loss: 4.6689 - val_mae: 1.6049\n",
            "Epoch 8/10\n",
            "8393/8393 [==============================] - 397s 47ms/step - loss: 5.5246 - mae: 1.7277 - val_loss: 3.6499 - val_mae: 1.3716\n",
            "Epoch 9/10\n",
            "8393/8393 [==============================] - 384s 46ms/step - loss: 5.2950 - mae: 1.6907 - val_loss: 3.9001 - val_mae: 1.4385\n",
            "Epoch 10/10\n",
            "8393/8393 [==============================] - 395s 47ms/step - loss: 5.3074 - mae: 1.6984 - val_loss: 4.3075 - val_mae: 1.5520\n"
          ]
        }
      ]
    },
    {
      "cell_type": "code",
      "source": [],
      "metadata": {
        "id": "9_N2LlphMXvE"
      },
      "execution_count": null,
      "outputs": []
    },
    {
      "cell_type": "code",
      "source": [
        "# 순환 신경망 모델 2\n",
        "\n",
        "input = tf_keras.layers.Input(shape=(240, 13)) # 입력\n",
        "x = tf_keras.layers.LSTM(units=16)(input)\n",
        "output = tf_keras.layers.Dense(units=1)(x) # 출력\n",
        "\n",
        "model4 = tf_keras.models.Model(input, output)\n",
        "\n",
        "model4.summary()"
      ],
      "metadata": {
        "colab": {
          "base_uri": "https://localhost:8080/"
        },
        "id": "Q8-OdZTIMbih",
        "outputId": "d42c2dc8-582f-41a0-acaa-ad4c4b75c45c"
      },
      "execution_count": null,
      "outputs": [
        {
          "output_type": "stream",
          "name": "stdout",
          "text": [
            "Model: \"model_1\"\n",
            "_________________________________________________________________\n",
            " Layer (type)                Output Shape              Param #   \n",
            "=================================================================\n",
            " input_9 (InputLayer)        [(None, 240, 13)]         0         \n",
            "                                                                 \n",
            " lstm (LSTM)                 (None, 16)                1920      \n",
            "                                                                 \n",
            " dense_20 (Dense)            (None, 1)                 17        \n",
            "                                                                 \n",
            "=================================================================\n",
            "Total params: 1937 (7.57 KB)\n",
            "Trainable params: 1937 (7.57 KB)\n",
            "Non-trainable params: 0 (0.00 Byte)\n",
            "_________________________________________________________________\n"
          ]
        }
      ]
    },
    {
      "cell_type": "code",
      "source": [
        "model4.compile(optimizer=\"adam\",\n",
        "               loss=\"mse\",\n",
        "               metrics=['mae'])"
      ],
      "metadata": {
        "id": "81gJOVwHM4YY"
      },
      "execution_count": null,
      "outputs": []
    },
    {
      "cell_type": "code",
      "source": [
        "history4 = model4.fit(train_dataset, epochs=10, validation_data=validation_dataset)"
      ],
      "metadata": {
        "colab": {
          "base_uri": "https://localhost:8080/",
          "height": 481
        },
        "id": "b5FVl5xoM8cx",
        "outputId": "69e44164-ab32-4c98-e8a6-d494d8e6ca46"
      },
      "execution_count": null,
      "outputs": [
        {
          "output_type": "stream",
          "name": "stdout",
          "text": [
            "Epoch 1/10\n",
            "8393/8393 [==============================] - 765s 91ms/step - loss: 63.6999 - mae: 6.0378 - val_loss: 24.1563 - val_mae: 3.6362\n",
            "Epoch 2/10\n",
            "8393/8393 [==============================] - 691s 82ms/step - loss: 26.4100 - mae: 3.5589 - val_loss: 9.4222 - val_mae: 2.0341\n",
            "Epoch 3/10\n",
            "8393/8393 [==============================] - 691s 82ms/step - loss: 12.6800 - mae: 2.3315 - val_loss: 5.0777 - val_mae: 1.5714\n",
            "Epoch 4/10\n",
            "3815/8393 [============>.................] - ETA: 6:02 - loss: 8.2300 - mae: 1.8924"
          ]
        },
        {
          "output_type": "error",
          "ename": "KeyboardInterrupt",
          "evalue": "",
          "traceback": [
            "\u001b[0;31m---------------------------------------------------------------------------\u001b[0m",
            "\u001b[0;31mKeyboardInterrupt\u001b[0m                         Traceback (most recent call last)",
            "\u001b[0;32m<ipython-input-112-978c01172f22>\u001b[0m in \u001b[0;36m<cell line: 1>\u001b[0;34m()\u001b[0m\n\u001b[0;32m----> 1\u001b[0;31m \u001b[0mhistory4\u001b[0m \u001b[0;34m=\u001b[0m \u001b[0mmodel4\u001b[0m\u001b[0;34m.\u001b[0m\u001b[0mfit\u001b[0m\u001b[0;34m(\u001b[0m\u001b[0mtrain_dataset\u001b[0m\u001b[0;34m,\u001b[0m \u001b[0mepochs\u001b[0m\u001b[0;34m=\u001b[0m\u001b[0;36m10\u001b[0m\u001b[0;34m,\u001b[0m \u001b[0mvalidation_data\u001b[0m\u001b[0;34m=\u001b[0m\u001b[0mvalidation_dataset\u001b[0m\u001b[0;34m)\u001b[0m\u001b[0;34m\u001b[0m\u001b[0;34m\u001b[0m\u001b[0m\n\u001b[0m",
            "\u001b[0;32m/usr/local/lib/python3.10/dist-packages/keras/src/utils/traceback_utils.py\u001b[0m in \u001b[0;36merror_handler\u001b[0;34m(*args, **kwargs)\u001b[0m\n\u001b[1;32m     63\u001b[0m         \u001b[0mfiltered_tb\u001b[0m \u001b[0;34m=\u001b[0m \u001b[0;32mNone\u001b[0m\u001b[0;34m\u001b[0m\u001b[0;34m\u001b[0m\u001b[0m\n\u001b[1;32m     64\u001b[0m         \u001b[0;32mtry\u001b[0m\u001b[0;34m:\u001b[0m\u001b[0;34m\u001b[0m\u001b[0;34m\u001b[0m\u001b[0m\n\u001b[0;32m---> 65\u001b[0;31m             \u001b[0;32mreturn\u001b[0m \u001b[0mfn\u001b[0m\u001b[0;34m(\u001b[0m\u001b[0;34m*\u001b[0m\u001b[0margs\u001b[0m\u001b[0;34m,\u001b[0m \u001b[0;34m**\u001b[0m\u001b[0mkwargs\u001b[0m\u001b[0;34m)\u001b[0m\u001b[0;34m\u001b[0m\u001b[0;34m\u001b[0m\u001b[0m\n\u001b[0m\u001b[1;32m     66\u001b[0m         \u001b[0;32mexcept\u001b[0m \u001b[0mException\u001b[0m \u001b[0;32mas\u001b[0m \u001b[0me\u001b[0m\u001b[0;34m:\u001b[0m\u001b[0;34m\u001b[0m\u001b[0;34m\u001b[0m\u001b[0m\n\u001b[1;32m     67\u001b[0m             \u001b[0mfiltered_tb\u001b[0m \u001b[0;34m=\u001b[0m \u001b[0m_process_traceback_frames\u001b[0m\u001b[0;34m(\u001b[0m\u001b[0me\u001b[0m\u001b[0;34m.\u001b[0m\u001b[0m__traceback__\u001b[0m\u001b[0;34m)\u001b[0m\u001b[0;34m\u001b[0m\u001b[0;34m\u001b[0m\u001b[0m\n",
            "\u001b[0;32m/usr/local/lib/python3.10/dist-packages/keras/src/engine/training.py\u001b[0m in \u001b[0;36mfit\u001b[0;34m(self, x, y, batch_size, epochs, verbose, callbacks, validation_split, validation_data, shuffle, class_weight, sample_weight, initial_epoch, steps_per_epoch, validation_steps, validation_batch_size, validation_freq, max_queue_size, workers, use_multiprocessing)\u001b[0m\n\u001b[1;32m   1805\u001b[0m                         ):\n\u001b[1;32m   1806\u001b[0m                             \u001b[0mcallbacks\u001b[0m\u001b[0;34m.\u001b[0m\u001b[0mon_train_batch_begin\u001b[0m\u001b[0;34m(\u001b[0m\u001b[0mstep\u001b[0m\u001b[0;34m)\u001b[0m\u001b[0;34m\u001b[0m\u001b[0;34m\u001b[0m\u001b[0m\n\u001b[0;32m-> 1807\u001b[0;31m                             \u001b[0mtmp_logs\u001b[0m \u001b[0;34m=\u001b[0m \u001b[0mself\u001b[0m\u001b[0;34m.\u001b[0m\u001b[0mtrain_function\u001b[0m\u001b[0;34m(\u001b[0m\u001b[0miterator\u001b[0m\u001b[0;34m)\u001b[0m\u001b[0;34m\u001b[0m\u001b[0;34m\u001b[0m\u001b[0m\n\u001b[0m\u001b[1;32m   1808\u001b[0m                             \u001b[0;32mif\u001b[0m \u001b[0mdata_handler\u001b[0m\u001b[0;34m.\u001b[0m\u001b[0mshould_sync\u001b[0m\u001b[0;34m:\u001b[0m\u001b[0;34m\u001b[0m\u001b[0;34m\u001b[0m\u001b[0m\n\u001b[1;32m   1809\u001b[0m                                 \u001b[0mcontext\u001b[0m\u001b[0;34m.\u001b[0m\u001b[0masync_wait\u001b[0m\u001b[0;34m(\u001b[0m\u001b[0;34m)\u001b[0m\u001b[0;34m\u001b[0m\u001b[0;34m\u001b[0m\u001b[0m\n",
            "\u001b[0;32m/usr/local/lib/python3.10/dist-packages/tensorflow/python/util/traceback_utils.py\u001b[0m in \u001b[0;36merror_handler\u001b[0;34m(*args, **kwargs)\u001b[0m\n\u001b[1;32m    148\u001b[0m     \u001b[0mfiltered_tb\u001b[0m \u001b[0;34m=\u001b[0m \u001b[0;32mNone\u001b[0m\u001b[0;34m\u001b[0m\u001b[0;34m\u001b[0m\u001b[0m\n\u001b[1;32m    149\u001b[0m     \u001b[0;32mtry\u001b[0m\u001b[0;34m:\u001b[0m\u001b[0;34m\u001b[0m\u001b[0;34m\u001b[0m\u001b[0m\n\u001b[0;32m--> 150\u001b[0;31m       \u001b[0;32mreturn\u001b[0m \u001b[0mfn\u001b[0m\u001b[0;34m(\u001b[0m\u001b[0;34m*\u001b[0m\u001b[0margs\u001b[0m\u001b[0;34m,\u001b[0m \u001b[0;34m**\u001b[0m\u001b[0mkwargs\u001b[0m\u001b[0;34m)\u001b[0m\u001b[0;34m\u001b[0m\u001b[0;34m\u001b[0m\u001b[0m\n\u001b[0m\u001b[1;32m    151\u001b[0m     \u001b[0;32mexcept\u001b[0m \u001b[0mException\u001b[0m \u001b[0;32mas\u001b[0m \u001b[0me\u001b[0m\u001b[0;34m:\u001b[0m\u001b[0;34m\u001b[0m\u001b[0;34m\u001b[0m\u001b[0m\n\u001b[1;32m    152\u001b[0m       \u001b[0mfiltered_tb\u001b[0m \u001b[0;34m=\u001b[0m \u001b[0m_process_traceback_frames\u001b[0m\u001b[0;34m(\u001b[0m\u001b[0me\u001b[0m\u001b[0;34m.\u001b[0m\u001b[0m__traceback__\u001b[0m\u001b[0;34m)\u001b[0m\u001b[0;34m\u001b[0m\u001b[0;34m\u001b[0m\u001b[0m\n",
            "\u001b[0;32m/usr/local/lib/python3.10/dist-packages/tensorflow/python/eager/polymorphic_function/polymorphic_function.py\u001b[0m in \u001b[0;36m__call__\u001b[0;34m(self, *args, **kwds)\u001b[0m\n\u001b[1;32m    830\u001b[0m \u001b[0;34m\u001b[0m\u001b[0m\n\u001b[1;32m    831\u001b[0m       \u001b[0;32mwith\u001b[0m \u001b[0mOptionalXlaContext\u001b[0m\u001b[0;34m(\u001b[0m\u001b[0mself\u001b[0m\u001b[0;34m.\u001b[0m\u001b[0m_jit_compile\u001b[0m\u001b[0;34m)\u001b[0m\u001b[0;34m:\u001b[0m\u001b[0;34m\u001b[0m\u001b[0;34m\u001b[0m\u001b[0m\n\u001b[0;32m--> 832\u001b[0;31m         \u001b[0mresult\u001b[0m \u001b[0;34m=\u001b[0m \u001b[0mself\u001b[0m\u001b[0;34m.\u001b[0m\u001b[0m_call\u001b[0m\u001b[0;34m(\u001b[0m\u001b[0;34m*\u001b[0m\u001b[0margs\u001b[0m\u001b[0;34m,\u001b[0m \u001b[0;34m**\u001b[0m\u001b[0mkwds\u001b[0m\u001b[0;34m)\u001b[0m\u001b[0;34m\u001b[0m\u001b[0;34m\u001b[0m\u001b[0m\n\u001b[0m\u001b[1;32m    833\u001b[0m \u001b[0;34m\u001b[0m\u001b[0m\n\u001b[1;32m    834\u001b[0m       \u001b[0mnew_tracing_count\u001b[0m \u001b[0;34m=\u001b[0m \u001b[0mself\u001b[0m\u001b[0;34m.\u001b[0m\u001b[0mexperimental_get_tracing_count\u001b[0m\u001b[0;34m(\u001b[0m\u001b[0;34m)\u001b[0m\u001b[0;34m\u001b[0m\u001b[0;34m\u001b[0m\u001b[0m\n",
            "\u001b[0;32m/usr/local/lib/python3.10/dist-packages/tensorflow/python/eager/polymorphic_function/polymorphic_function.py\u001b[0m in \u001b[0;36m_call\u001b[0;34m(self, *args, **kwds)\u001b[0m\n\u001b[1;32m    866\u001b[0m       \u001b[0;31m# In this case we have created variables on the first call, so we run the\u001b[0m\u001b[0;34m\u001b[0m\u001b[0;34m\u001b[0m\u001b[0m\n\u001b[1;32m    867\u001b[0m       \u001b[0;31m# defunned version which is guaranteed to never create variables.\u001b[0m\u001b[0;34m\u001b[0m\u001b[0;34m\u001b[0m\u001b[0m\n\u001b[0;32m--> 868\u001b[0;31m       return tracing_compilation.call_function(\n\u001b[0m\u001b[1;32m    869\u001b[0m           \u001b[0margs\u001b[0m\u001b[0;34m,\u001b[0m \u001b[0mkwds\u001b[0m\u001b[0;34m,\u001b[0m \u001b[0mself\u001b[0m\u001b[0;34m.\u001b[0m\u001b[0m_no_variable_creation_config\u001b[0m\u001b[0;34m\u001b[0m\u001b[0;34m\u001b[0m\u001b[0m\n\u001b[1;32m    870\u001b[0m       )\n",
            "\u001b[0;32m/usr/local/lib/python3.10/dist-packages/tensorflow/python/eager/polymorphic_function/tracing_compilation.py\u001b[0m in \u001b[0;36mcall_function\u001b[0;34m(args, kwargs, tracing_options)\u001b[0m\n\u001b[1;32m    137\u001b[0m   \u001b[0mbound_args\u001b[0m \u001b[0;34m=\u001b[0m \u001b[0mfunction\u001b[0m\u001b[0;34m.\u001b[0m\u001b[0mfunction_type\u001b[0m\u001b[0;34m.\u001b[0m\u001b[0mbind\u001b[0m\u001b[0;34m(\u001b[0m\u001b[0;34m*\u001b[0m\u001b[0margs\u001b[0m\u001b[0;34m,\u001b[0m \u001b[0;34m**\u001b[0m\u001b[0mkwargs\u001b[0m\u001b[0;34m)\u001b[0m\u001b[0;34m\u001b[0m\u001b[0;34m\u001b[0m\u001b[0m\n\u001b[1;32m    138\u001b[0m   \u001b[0mflat_inputs\u001b[0m \u001b[0;34m=\u001b[0m \u001b[0mfunction\u001b[0m\u001b[0;34m.\u001b[0m\u001b[0mfunction_type\u001b[0m\u001b[0;34m.\u001b[0m\u001b[0munpack_inputs\u001b[0m\u001b[0;34m(\u001b[0m\u001b[0mbound_args\u001b[0m\u001b[0;34m)\u001b[0m\u001b[0;34m\u001b[0m\u001b[0;34m\u001b[0m\u001b[0m\n\u001b[0;32m--> 139\u001b[0;31m   return function._call_flat(  # pylint: disable=protected-access\n\u001b[0m\u001b[1;32m    140\u001b[0m       \u001b[0mflat_inputs\u001b[0m\u001b[0;34m,\u001b[0m \u001b[0mcaptured_inputs\u001b[0m\u001b[0;34m=\u001b[0m\u001b[0mfunction\u001b[0m\u001b[0;34m.\u001b[0m\u001b[0mcaptured_inputs\u001b[0m\u001b[0;34m\u001b[0m\u001b[0;34m\u001b[0m\u001b[0m\n\u001b[1;32m    141\u001b[0m   )\n",
            "\u001b[0;32m/usr/local/lib/python3.10/dist-packages/tensorflow/python/eager/polymorphic_function/concrete_function.py\u001b[0m in \u001b[0;36m_call_flat\u001b[0;34m(self, tensor_inputs, captured_inputs)\u001b[0m\n\u001b[1;32m   1321\u001b[0m         and executing_eagerly):\n\u001b[1;32m   1322\u001b[0m       \u001b[0;31m# No tape is watching; skip to running the function.\u001b[0m\u001b[0;34m\u001b[0m\u001b[0;34m\u001b[0m\u001b[0m\n\u001b[0;32m-> 1323\u001b[0;31m       \u001b[0;32mreturn\u001b[0m \u001b[0mself\u001b[0m\u001b[0;34m.\u001b[0m\u001b[0m_inference_function\u001b[0m\u001b[0;34m.\u001b[0m\u001b[0mcall_preflattened\u001b[0m\u001b[0;34m(\u001b[0m\u001b[0margs\u001b[0m\u001b[0;34m)\u001b[0m\u001b[0;34m\u001b[0m\u001b[0;34m\u001b[0m\u001b[0m\n\u001b[0m\u001b[1;32m   1324\u001b[0m     forward_backward = self._select_forward_and_backward_functions(\n\u001b[1;32m   1325\u001b[0m         \u001b[0margs\u001b[0m\u001b[0;34m,\u001b[0m\u001b[0;34m\u001b[0m\u001b[0;34m\u001b[0m\u001b[0m\n",
            "\u001b[0;32m/usr/local/lib/python3.10/dist-packages/tensorflow/python/eager/polymorphic_function/atomic_function.py\u001b[0m in \u001b[0;36mcall_preflattened\u001b[0;34m(self, args)\u001b[0m\n\u001b[1;32m    214\u001b[0m   \u001b[0;32mdef\u001b[0m \u001b[0mcall_preflattened\u001b[0m\u001b[0;34m(\u001b[0m\u001b[0mself\u001b[0m\u001b[0;34m,\u001b[0m \u001b[0margs\u001b[0m\u001b[0;34m:\u001b[0m \u001b[0mSequence\u001b[0m\u001b[0;34m[\u001b[0m\u001b[0mcore\u001b[0m\u001b[0;34m.\u001b[0m\u001b[0mTensor\u001b[0m\u001b[0;34m]\u001b[0m\u001b[0;34m)\u001b[0m \u001b[0;34m->\u001b[0m \u001b[0mAny\u001b[0m\u001b[0;34m:\u001b[0m\u001b[0;34m\u001b[0m\u001b[0;34m\u001b[0m\u001b[0m\n\u001b[1;32m    215\u001b[0m     \u001b[0;34m\"\"\"Calls with flattened tensor inputs and returns the structured output.\"\"\"\u001b[0m\u001b[0;34m\u001b[0m\u001b[0;34m\u001b[0m\u001b[0m\n\u001b[0;32m--> 216\u001b[0;31m     \u001b[0mflat_outputs\u001b[0m \u001b[0;34m=\u001b[0m \u001b[0mself\u001b[0m\u001b[0;34m.\u001b[0m\u001b[0mcall_flat\u001b[0m\u001b[0;34m(\u001b[0m\u001b[0;34m*\u001b[0m\u001b[0margs\u001b[0m\u001b[0;34m)\u001b[0m\u001b[0;34m\u001b[0m\u001b[0;34m\u001b[0m\u001b[0m\n\u001b[0m\u001b[1;32m    217\u001b[0m     \u001b[0;32mreturn\u001b[0m \u001b[0mself\u001b[0m\u001b[0;34m.\u001b[0m\u001b[0mfunction_type\u001b[0m\u001b[0;34m.\u001b[0m\u001b[0mpack_output\u001b[0m\u001b[0;34m(\u001b[0m\u001b[0mflat_outputs\u001b[0m\u001b[0;34m)\u001b[0m\u001b[0;34m\u001b[0m\u001b[0;34m\u001b[0m\u001b[0m\n\u001b[1;32m    218\u001b[0m \u001b[0;34m\u001b[0m\u001b[0m\n",
            "\u001b[0;32m/usr/local/lib/python3.10/dist-packages/tensorflow/python/eager/polymorphic_function/atomic_function.py\u001b[0m in \u001b[0;36mcall_flat\u001b[0;34m(self, *args)\u001b[0m\n\u001b[1;32m    249\u001b[0m         \u001b[0;32mwith\u001b[0m \u001b[0mrecord\u001b[0m\u001b[0;34m.\u001b[0m\u001b[0mstop_recording\u001b[0m\u001b[0;34m(\u001b[0m\u001b[0;34m)\u001b[0m\u001b[0;34m:\u001b[0m\u001b[0;34m\u001b[0m\u001b[0;34m\u001b[0m\u001b[0m\n\u001b[1;32m    250\u001b[0m           \u001b[0;32mif\u001b[0m \u001b[0mself\u001b[0m\u001b[0;34m.\u001b[0m\u001b[0m_bound_context\u001b[0m\u001b[0;34m.\u001b[0m\u001b[0mexecuting_eagerly\u001b[0m\u001b[0;34m(\u001b[0m\u001b[0;34m)\u001b[0m\u001b[0;34m:\u001b[0m\u001b[0;34m\u001b[0m\u001b[0;34m\u001b[0m\u001b[0m\n\u001b[0;32m--> 251\u001b[0;31m             outputs = self._bound_context.call_function(\n\u001b[0m\u001b[1;32m    252\u001b[0m                 \u001b[0mself\u001b[0m\u001b[0;34m.\u001b[0m\u001b[0mname\u001b[0m\u001b[0;34m,\u001b[0m\u001b[0;34m\u001b[0m\u001b[0;34m\u001b[0m\u001b[0m\n\u001b[1;32m    253\u001b[0m                 \u001b[0mlist\u001b[0m\u001b[0;34m(\u001b[0m\u001b[0margs\u001b[0m\u001b[0;34m)\u001b[0m\u001b[0;34m,\u001b[0m\u001b[0;34m\u001b[0m\u001b[0;34m\u001b[0m\u001b[0m\n",
            "\u001b[0;32m/usr/local/lib/python3.10/dist-packages/tensorflow/python/eager/context.py\u001b[0m in \u001b[0;36mcall_function\u001b[0;34m(self, name, tensor_inputs, num_outputs)\u001b[0m\n\u001b[1;32m   1484\u001b[0m     \u001b[0mcancellation_context\u001b[0m \u001b[0;34m=\u001b[0m \u001b[0mcancellation\u001b[0m\u001b[0;34m.\u001b[0m\u001b[0mcontext\u001b[0m\u001b[0;34m(\u001b[0m\u001b[0;34m)\u001b[0m\u001b[0;34m\u001b[0m\u001b[0;34m\u001b[0m\u001b[0m\n\u001b[1;32m   1485\u001b[0m     \u001b[0;32mif\u001b[0m \u001b[0mcancellation_context\u001b[0m \u001b[0;32mis\u001b[0m \u001b[0;32mNone\u001b[0m\u001b[0;34m:\u001b[0m\u001b[0;34m\u001b[0m\u001b[0;34m\u001b[0m\u001b[0m\n\u001b[0;32m-> 1486\u001b[0;31m       outputs = execute.execute(\n\u001b[0m\u001b[1;32m   1487\u001b[0m           \u001b[0mname\u001b[0m\u001b[0;34m.\u001b[0m\u001b[0mdecode\u001b[0m\u001b[0;34m(\u001b[0m\u001b[0;34m\"utf-8\"\u001b[0m\u001b[0;34m)\u001b[0m\u001b[0;34m,\u001b[0m\u001b[0;34m\u001b[0m\u001b[0;34m\u001b[0m\u001b[0m\n\u001b[1;32m   1488\u001b[0m           \u001b[0mnum_outputs\u001b[0m\u001b[0;34m=\u001b[0m\u001b[0mnum_outputs\u001b[0m\u001b[0;34m,\u001b[0m\u001b[0;34m\u001b[0m\u001b[0;34m\u001b[0m\u001b[0m\n",
            "\u001b[0;32m/usr/local/lib/python3.10/dist-packages/tensorflow/python/eager/execute.py\u001b[0m in \u001b[0;36mquick_execute\u001b[0;34m(op_name, num_outputs, inputs, attrs, ctx, name)\u001b[0m\n\u001b[1;32m     51\u001b[0m   \u001b[0;32mtry\u001b[0m\u001b[0;34m:\u001b[0m\u001b[0;34m\u001b[0m\u001b[0;34m\u001b[0m\u001b[0m\n\u001b[1;32m     52\u001b[0m     \u001b[0mctx\u001b[0m\u001b[0;34m.\u001b[0m\u001b[0mensure_initialized\u001b[0m\u001b[0;34m(\u001b[0m\u001b[0;34m)\u001b[0m\u001b[0;34m\u001b[0m\u001b[0;34m\u001b[0m\u001b[0m\n\u001b[0;32m---> 53\u001b[0;31m     tensors = pywrap_tfe.TFE_Py_Execute(ctx._handle, device_name, op_name,\n\u001b[0m\u001b[1;32m     54\u001b[0m                                         inputs, attrs, num_outputs)\n\u001b[1;32m     55\u001b[0m   \u001b[0;32mexcept\u001b[0m \u001b[0mcore\u001b[0m\u001b[0;34m.\u001b[0m\u001b[0m_NotOkStatusException\u001b[0m \u001b[0;32mas\u001b[0m \u001b[0me\u001b[0m\u001b[0;34m:\u001b[0m\u001b[0;34m\u001b[0m\u001b[0;34m\u001b[0m\u001b[0m\n",
            "\u001b[0;31mKeyboardInterrupt\u001b[0m: "
          ]
        }
      ]
    },
    {
      "cell_type": "code",
      "source": [],
      "metadata": {
        "id": "Clt-nZPvNPVS"
      },
      "execution_count": null,
      "outputs": []
    },
    {
      "cell_type": "code",
      "source": [
        "# 순환 신경망 모델 3 : 심층 순환 신경망\n",
        "\n",
        "input = tf_keras.layers.Input(shape=(240, 13)) # 입력\n",
        "x = tf_keras.layers.LSTM(units=16, return_sequences=True)(input) # return_sequences=True : 각 스텝의 출력을 보존\n",
        "x = tf_keras.layers.LSTM(units=16, return_sequences=False)(x)\n",
        "output = tf_keras.layers.Dense(units=1)(x) # 출력\n",
        "\n",
        "model5 = tf_keras.models.Model(input, output)\n",
        "\n",
        "model5.summary()"
      ],
      "metadata": {
        "colab": {
          "base_uri": "https://localhost:8080/"
        },
        "id": "p2xE2445NTt5",
        "outputId": "96a210d2-04e4-430f-d583-a576013fa259"
      },
      "execution_count": null,
      "outputs": [
        {
          "output_type": "stream",
          "name": "stdout",
          "text": [
            "Model: \"model_2\"\n",
            "_________________________________________________________________\n",
            " Layer (type)                Output Shape              Param #   \n",
            "=================================================================\n",
            " input_10 (InputLayer)       [(None, 240, 13)]         0         \n",
            "                                                                 \n",
            " lstm_1 (LSTM)               (None, 240, 16)           1920      \n",
            "                                                                 \n",
            " lstm_2 (LSTM)               (None, 16)                2112      \n",
            "                                                                 \n",
            " dense_21 (Dense)            (None, 1)                 17        \n",
            "                                                                 \n",
            "=================================================================\n",
            "Total params: 4049 (15.82 KB)\n",
            "Trainable params: 4049 (15.82 KB)\n",
            "Non-trainable params: 0 (0.00 Byte)\n",
            "_________________________________________________________________\n"
          ]
        }
      ]
    },
    {
      "cell_type": "code",
      "source": [
        "model5.compile(optimizer=\"adam\",\n",
        "               loss=\"mse\",\n",
        "               metrics=['mae'])"
      ],
      "metadata": {
        "id": "LZB7WbdjOfmF"
      },
      "execution_count": null,
      "outputs": []
    },
    {
      "cell_type": "code",
      "source": [
        "history5 = model5.fit(train_dataset, epochs=10, validation_data=validation_dataset)"
      ],
      "metadata": {
        "id": "ps6LU4K9OiBB"
      },
      "execution_count": null,
      "outputs": []
    },
    {
      "cell_type": "code",
      "source": [],
      "metadata": {
        "id": "RPxx_svTPxsB"
      },
      "execution_count": null,
      "outputs": []
    },
    {
      "cell_type": "code",
      "source": [
        "# CNN을 사용해서 순환 신경망 모방 모델 만들기\n",
        "\n",
        "input = tf_keras.layers.Input(shape=(240, 13))\n",
        "x = tf_keras.layers.Conv1D(filters=16, kernel_size=24, activation=\"relu\", padding=\"same\")(input)\n",
        "x = tf_keras.layers.MaxPool1D(pool_size=2)(x)\n",
        "x = tf_keras.layers.Conv1D(filters=16, kernel_size=12, activation=\"relu\", padding=\"same\")(x)\n",
        "x = tf_keras.layers.MaxPool1D(pool_size=2)(x)\n",
        "x = tf_keras.layers.Conv1D(filters=16, kernel_size=6, activation=\"relu\", padding=\"same\")(x)\n",
        "x = tf_keras.layers.MaxPool1D(pool_size=2)(x)\n",
        "x = tf_keras.layers.GlobalAvgPool1D()(x)\n",
        "output = tf_keras.layers.Dense(1)(x)\n",
        "\n",
        "model6 = tf_keras.models.Model(input, output)\n",
        "\n",
        "model6.summary()"
      ],
      "metadata": {
        "colab": {
          "base_uri": "https://localhost:8080/"
        },
        "id": "h1CH5FD1XJWy",
        "outputId": "3d0e9909-0924-4d46-ed2c-e750ea48991d"
      },
      "execution_count": null,
      "outputs": [
        {
          "output_type": "stream",
          "name": "stdout",
          "text": [
            "Model: \"model_4\"\n",
            "_________________________________________________________________\n",
            " Layer (type)                Output Shape              Param #   \n",
            "=================================================================\n",
            " input_12 (InputLayer)       [(None, 240, 13)]         0         \n",
            "                                                                 \n",
            " conv1d_3 (Conv1D)           (None, 240, 16)           5008      \n",
            "                                                                 \n",
            " max_pooling1d_3 (MaxPoolin  (None, 120, 16)           0         \n",
            " g1D)                                                            \n",
            "                                                                 \n",
            " conv1d_4 (Conv1D)           (None, 120, 16)           3088      \n",
            "                                                                 \n",
            " max_pooling1d_4 (MaxPoolin  (None, 60, 16)            0         \n",
            " g1D)                                                            \n",
            "                                                                 \n",
            " conv1d_5 (Conv1D)           (None, 60, 16)            1552      \n",
            "                                                                 \n",
            " max_pooling1d_5 (MaxPoolin  (None, 30, 16)            0         \n",
            " g1D)                                                            \n",
            "                                                                 \n",
            " global_average_pooling1d_1  (None, 16)                0         \n",
            "  (GlobalAveragePooling1D)                                       \n",
            "                                                                 \n",
            " dense_23 (Dense)            (None, 1)                 17        \n",
            "                                                                 \n",
            "=================================================================\n",
            "Total params: 9665 (37.75 KB)\n",
            "Trainable params: 9665 (37.75 KB)\n",
            "Non-trainable params: 0 (0.00 Byte)\n",
            "_________________________________________________________________\n"
          ]
        }
      ]
    },
    {
      "cell_type": "code",
      "source": [
        "model6.compile(optimizer=\"adam\",\n",
        "               loss=\"mse\",\n",
        "               metrics=['mae'])"
      ],
      "metadata": {
        "id": "B_gAnMNpZHLb"
      },
      "execution_count": null,
      "outputs": []
    },
    {
      "cell_type": "code",
      "source": [
        "history6 = model6.fit(train_dataset, epochs=10, validation_data=validation_dataset)"
      ],
      "metadata": {
        "id": "xcRqwJDaZK6b"
      },
      "execution_count": null,
      "outputs": []
    }
  ]
}