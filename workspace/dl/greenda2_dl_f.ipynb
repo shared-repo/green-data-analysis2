{
  "cells": [
    {
      "cell_type": "code",
      "execution_count": null,
      "metadata": {
        "id": "kmy0KI93BUkY"
      },
      "outputs": [],
      "source": [
        "import numpy as np\n",
        "import pandas as pd\n",
        "import matplotlib.pyplot as plt\n",
        "\n",
        "import tensorflow as tf\n",
        "import tensorflow.keras as tf_keras"
      ]
    },
    {
      "cell_type": "code",
      "source": [
        "# 데이터 준비\n",
        "(X_train, y_train), (X_test, y_test) = tf_keras.datasets.reuters.load_data(num_words=10000)"
      ],
      "metadata": {
        "id": "tlbGItBCtgb_"
      },
      "execution_count": null,
      "outputs": []
    },
    {
      "cell_type": "code",
      "source": [
        "# imdb 단어 사전 조회\n",
        "word_idx_map = tf_keras.datasets.imdb.get_word_index()"
      ],
      "metadata": {
        "id": "_hR_pjbGtza9"
      },
      "execution_count": null,
      "outputs": []
    },
    {
      "cell_type": "code",
      "source": [
        "# 단어 : 인덱스 조합 -> 인덱스 : 단어 조합으로 변경\n",
        "idx_word_map = { idx : word for (word, idx) in word_idx_map.items() }"
      ],
      "metadata": {
        "id": "Z3NKrUM3t2jd"
      },
      "execution_count": null,
      "outputs": []
    },
    {
      "cell_type": "code",
      "source": [
        "# 입력 데이터 구성 : 각 문장을 (1, 10000) 배열로 변환\n",
        "def vectorize_setences(sentences, dimension=10000, bow=True):\n",
        "  result = np.zeros(shape=(len(sentences), dimension)) # 0으로 초기화한 (문장갯수, 단어갯수)의 2차원 배열 구성\n",
        "  for i, sentence in enumerate(sentences):\n",
        "    for word_idx in sentence:\n",
        "      if bow:\n",
        "        result[i, word_idx] += 1 # 단어 빈도\n",
        "      else:\n",
        "        result[i, word_idx] = 1 # 단어 발생\n",
        "\n",
        "  return result"
      ],
      "metadata": {
        "id": "wjNB1EQXt9XF"
      },
      "execution_count": null,
      "outputs": []
    },
    {
      "cell_type": "code",
      "source": [
        "# 입력 데이터 변환\n",
        "X_train2 = vectorize_setences(X_train, bow=False)\n",
        "X_test2 = vectorize_setences(X_test, bow=False)"
      ],
      "metadata": {
        "id": "DQqyQ2IsuBn1"
      },
      "execution_count": null,
      "outputs": []
    },
    {
      "cell_type": "code",
      "source": [
        "np.unique(y_train).shape"
      ],
      "metadata": {
        "colab": {
          "base_uri": "https://localhost:8080/"
        },
        "id": "fq-wS3HbuJ9N",
        "outputId": "50b996cb-5408-43ba-e490-ed8936e2537e"
      },
      "execution_count": null,
      "outputs": [
        {
          "output_type": "execute_result",
          "data": {
            "text/plain": [
              "(46,)"
            ]
          },
          "metadata": {},
          "execution_count": 10
        }
      ]
    },
    {
      "cell_type": "code",
      "source": [
        "# 모델 만들기 1\n",
        "model = tf_keras.Sequential()\n",
        "model.add(tf_keras.layers.Input(shape=(10000, )))\n",
        "model.add(tf_keras.layers.Dense(units=512, activation='relu', kernel_regularizer=tf_keras.regularizers.L2(l2=0.001)))\n",
        "model.add(tf_keras.layers.Dense(units=256, activation='relu', kernel_regularizer=tf_keras.regularizers.L2(l2=0.001)))\n",
        "model.add(tf_keras.layers.Dense(units=128, activation='relu', kernel_regularizer=tf_keras.regularizers.L2(l2=0.001)))\n",
        "model.add(tf_keras.layers.Dense(units=46, activation=\"softmax\"))"
      ],
      "metadata": {
        "id": "PAl8L_PdFETY"
      },
      "execution_count": null,
      "outputs": []
    },
    {
      "cell_type": "code",
      "source": [
        "# 모델 만들기 2\n",
        "model2 = tf_keras.Sequential()\n",
        "model2.add(tf_keras.layers.Input(shape=(10000, )))\n",
        "model2.add(tf_keras.layers.Dense(units=512, activation='relu'))\n",
        "model2.add(tf_keras.layers.Dropout(rate=0.5, seed=42))\n",
        "model2.add(tf_keras.layers.Dense(units=256, activation='relu'))\n",
        "model2.add(tf_keras.layers.Dropout(rate=0.5, seed=42))\n",
        "model2.add(tf_keras.layers.Dense(units=128, activation='relu'))\n",
        "model2.add(tf_keras.layers.Dropout(rate=0.5, seed=42))\n",
        "model2.add(tf_keras.layers.Dense(units=46, activation=\"softmax\"))\n",
        "\n",
        "model.summary()"
      ],
      "metadata": {
        "colab": {
          "base_uri": "https://localhost:8080/"
        },
        "id": "q32rfqC4uFtd",
        "outputId": "c5a06c75-b3a5-4453-cdbd-c77cb9932c90"
      },
      "execution_count": null,
      "outputs": [
        {
          "output_type": "stream",
          "name": "stdout",
          "text": [
            "Model: \"sequential_2\"\n",
            "_________________________________________________________________\n",
            " Layer (type)                Output Shape              Param #   \n",
            "=================================================================\n",
            " dense_8 (Dense)             (None, 512)               5120512   \n",
            "                                                                 \n",
            " dense_9 (Dense)             (None, 256)               131328    \n",
            "                                                                 \n",
            " dense_10 (Dense)            (None, 128)               32896     \n",
            "                                                                 \n",
            " dense_11 (Dense)            (None, 46)                5934      \n",
            "                                                                 \n",
            "=================================================================\n",
            "Total params: 5290670 (20.18 MB)\n",
            "Trainable params: 5290670 (20.18 MB)\n",
            "Non-trainable params: 0 (0.00 Byte)\n",
            "_________________________________________________________________\n"
          ]
        }
      ]
    },
    {
      "cell_type": "code",
      "source": [
        "# 모델 만들기 3\n",
        "model3 = tf_keras.Sequential()\n",
        "model3.add(tf_keras.layers.Input(shape=(10000, )))\n",
        "model3.add(tf_keras.layers.Dense(units=512, activation='relu', kernel_initializer='he_uniform'))\n",
        "# model3.add(tf_keras.layers.Dense(units=256, activation='relu', kernel_initializer='he_normal'))\n",
        "model3.add(tf_keras.layers.Dense(units=256, activation='relu', kernel_initializer=tf_keras.initializers.HeNormal(seed=24)))\n",
        "model3.add(tf_keras.layers.Dense(units=128, activation='relu', kernel_initializer='he_uniform'))\n",
        "model3.add(tf_keras.layers.Dense(units=46, activation=\"softmax\"))"
      ],
      "metadata": {
        "id": "mGolD679Jhag"
      },
      "execution_count": null,
      "outputs": []
    },
    {
      "cell_type": "code",
      "source": [
        "# 모델 만들기 4\n",
        "model4 = tf_keras.Sequential()\n",
        "model4.add(tf_keras.layers.Input(shape=(10000, )))\n",
        "\n",
        "model4.add(tf_keras.layers.Dense(units=512))\n",
        "model4.add(tf_keras.layers.BatchNormalization())\n",
        "model4.add(tf_keras.layers.Activation('relu'))\n",
        "\n",
        "model4.add(tf_keras.layers.Dense(units=256))\n",
        "model4.add(tf_keras.layers.BatchNormalization())\n",
        "model4.add(tf_keras.layers.Activation('relu'))\n",
        "\n",
        "model4.add(tf_keras.layers.Dense(units=128))\n",
        "model4.add(tf_keras.layers.BatchNormalization())\n",
        "model4.add(tf_keras.layers.Activation('relu'))\n",
        "\n",
        "model4.add(tf_keras.layers.Dense(units=46, activation=\"softmax\"))"
      ],
      "metadata": {
        "id": "pfY8V8knNPrG"
      },
      "execution_count": null,
      "outputs": []
    },
    {
      "cell_type": "code",
      "source": [
        "model4.compile(optimizer=\"adam\",\n",
        "              loss=\"sparse_categorical_crossentropy\",\n",
        "              metrics=['accuracy'])"
      ],
      "metadata": {
        "id": "_hHuVBo-ufSG"
      },
      "execution_count": null,
      "outputs": []
    },
    {
      "cell_type": "code",
      "source": [
        "history = model4.fit(X_train2, y_train, batch_size=256, epochs=10, validation_split=0.2)"
      ],
      "metadata": {
        "colab": {
          "base_uri": "https://localhost:8080/"
        },
        "id": "GFmTlIAxuqWW",
        "outputId": "188b5878-a6ba-4af0-fa9d-a7424dbea75e"
      },
      "execution_count": null,
      "outputs": [
        {
          "output_type": "stream",
          "name": "stdout",
          "text": [
            "Epoch 1/10\n",
            "29/29 [==============================] - 8s 210ms/step - loss: 1.7224 - accuracy: 0.6430 - val_loss: 2.8975 - val_accuracy: 0.7435\n",
            "Epoch 2/10\n",
            "29/29 [==============================] - 6s 222ms/step - loss: 0.5330 - accuracy: 0.8955 - val_loss: 2.3083 - val_accuracy: 0.7095\n",
            "Epoch 3/10\n",
            "29/29 [==============================] - 5s 189ms/step - loss: 0.2486 - accuracy: 0.9520 - val_loss: 1.8285 - val_accuracy: 0.6461\n",
            "Epoch 4/10\n",
            "29/29 [==============================] - 6s 223ms/step - loss: 0.1626 - accuracy: 0.9609 - val_loss: 1.5094 - val_accuracy: 0.6544\n",
            "Epoch 5/10\n",
            "29/29 [==============================] - 6s 189ms/step - loss: 0.1251 - accuracy: 0.9624 - val_loss: 1.2842 - val_accuracy: 0.6845\n",
            "Epoch 6/10\n",
            "29/29 [==============================] - 5s 175ms/step - loss: 0.1072 - accuracy: 0.9627 - val_loss: 1.0909 - val_accuracy: 0.7446\n",
            "Epoch 7/10\n",
            "29/29 [==============================] - 6s 206ms/step - loss: 0.0998 - accuracy: 0.9617 - val_loss: 1.0451 - val_accuracy: 0.7457\n",
            "Epoch 8/10\n",
            "29/29 [==============================] - 5s 177ms/step - loss: 0.0928 - accuracy: 0.9633 - val_loss: 0.9555 - val_accuracy: 0.7763\n",
            "Epoch 9/10\n",
            "29/29 [==============================] - 7s 231ms/step - loss: 0.0890 - accuracy: 0.9606 - val_loss: 0.9593 - val_accuracy: 0.7730\n",
            "Epoch 10/10\n",
            "29/29 [==============================] - 5s 177ms/step - loss: 0.0883 - accuracy: 0.9642 - val_loss: 0.9265 - val_accuracy: 0.7852\n"
          ]
        }
      ]
    }
  ],
  "metadata": {
    "colab": {
      "provenance": []
    },
    "kernelspec": {
      "display_name": "Python 3",
      "name": "python3"
    },
    "language_info": {
      "name": "python"
    }
  },
  "nbformat": 4,
  "nbformat_minor": 0
}